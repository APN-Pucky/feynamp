{
 "cells": [
  {
   "cell_type": "code",
   "execution_count": 1,
   "id": "996d26aa-8cf1-4f24-8f8a-106ae1b43711",
   "metadata": {},
   "outputs": [
    {
     "name": "stdout",
     "output_type": "stream",
     "text": [
      "\n",
      "\tPlease cite the following papers if you use this code:\n",
      "\n",
      "      [1] Automatic Feynman graph generation J. Comput. Phys. 105 (1993) 279--289 https://doi.org/10.1006/jcph.1993.1074\n",
      "\n",
      "      [2] Abusing Qgraf Nucl. Instrum. Methods Phys. Res. A 559 (2006) 220--223 https://doi.org/10.1016/j.nima.2005.11.151\n",
      "\n",
      "      [3] Feynman graph generation and propagator mixing, I Comput. Phys. Commun. 269 (2021) 108103 https://doi.org/10.1016/j.cpc.2021.108103\n",
      "\n",
      "\t\n"
     ]
    }
   ],
   "source": [
    "from pyqgraf import qgraf, model\n",
    "from feynml.interface.qgraf import style\n",
    "from feynmodel.interface.ufo import load_ufo_model\n",
    "from feynmodel.interface.qgraf import feynmodel_to_qgraf\n",
    "from xsdata.formats.dataclass.parsers import XmlParser\n",
    "from pyfeyn2.feynmandiagram import FeynML\n",
    "from feynamp.amplitude import square, multiply, feynman_diagram_to_string\n",
    "import feynamp.amplitude as famp\n",
    "import feynamp.vertex as fvert\n",
    "import feynamp\n",
    "\n",
    "import feynamp.form.momentum as m\n",
    "from feynamp.form.color import apply_color, get_color\n",
    "from feynamp.form.lorentz import apply_gammas, get_gammas\n",
    "from feynamp.form.momentum import get_kinematics, get_onshell,get_mandelstamm_2_to_2, apply\n",
    "import logging\n",
    "logger = logging.getLogger(\"feynamp\")\n",
    "logger.setLevel(logging.DEBUG)"
   ]
  },
  {
   "cell_type": "code",
   "execution_count": null,
   "id": "5f1efb04-b2a1-44b0-b386-831be9dc57af",
   "metadata": {},
   "outputs": [],
   "source": []
  },
  {
   "cell_type": "code",
   "execution_count": 11,
   "id": "0c8b3160-0d2e-4274-8e95-f1ee305339c7",
   "metadata": {},
   "outputs": [
    {
     "data": {
      "image/png": "[encoded data removed]",
      "text/plain": [
       "<wand.image.Image: 019da0d 'PDF' (394x394)>"
      ]
     },
     "metadata": {},
     "output_type": "display_data"
    }
   ],
   "source": [
    "fm = load_ufo_model(\"ufo_sm\")\n",
    "fm.remove_object(fm.get_particle(\"G0\"))\n",
    "fm.remove_object(fm.get_particle(\"Z\"))\n",
    "fm.remove_object(fm.get_particle(\"H\"))\n",
    "qfm = feynmodel_to_qgraf(fm, True, False)\n",
    "qgraf.install(\"3.6.5\")\n",
    "xml_string = qgraf.run(\"e_minus[p1], mu_minus[p2]\", \"e_minus[p3], mu_minus[p4]\",loops=0,loop_momentum=\"l\",model = qfm, style=style)\n",
    "\n",
    "parser = XmlParser()\n",
    "fml = parser.from_string(xml_string, FeynML)\n",
    "fds = fml.diagrams\n",
    "for fd in fds:\n",
    "    fd.render()"
   ]
  },
  {
   "cell_type": "code",
   "execution_count": 3,
   "id": "dca9c177-8e27-4999-b676-a50c5a5cbb3f",
   "metadata": {},
   "outputs": [
    {
     "name": "stderr",
     "output_type": "stream",
     "text": [
      "DEBUG:feynamp:ret='((-(ee*complex(0,1)))*(1)*(Gamma(MuIn2,SpinOutProp1,SpinIn1))) * ((-(ee*complex(0,1)))*(1)*(Gamma(MuOut2,SpinOut1,SpinInProp1))) * (u(SpinIn1,Mom_p1)) * (eps(MuIn2,PolIn2,Mom_p2)) * (u_bar(SpinOut1,Mom_p3)) * (eps_star(MuOut2,PolOut2,Mom_p4)) * ((P(Mu12,Mom_p1+Mom_p2)*Gamma(Mu12,SpinInProp1,SpinOutProp1) + Mass_Me*GammaId(SpinInProp1,SpinOutProp1))*Denom(Mom_p1+Mom_p2,Mass_Me)) * '\n",
      "DEBUG:feynamp:ret='((-(ee*complex(0,1)))*(1)*(Gamma(MuOut2,SpinOutProp1,SpinIn1))) * ((-(ee*complex(0,1)))*(1)*(Gamma(MuIn2,SpinOut1,SpinInProp1))) * (u(SpinIn1,Mom_p1)) * (eps(MuIn2,PolIn2,Mom_p2)) * (u_bar(SpinOut1,Mom_p3)) * (eps_star(MuOut2,PolOut2,Mom_p4)) * ((P(Mu17,Mom_p1-Mom_p4)*Gamma(Mu17,SpinInProp1,SpinOutProp1) + Mass_Me*GammaId(SpinInProp1,SpinOutProp1))*Denom(Mom_p1-Mom_p4,Mass_Me)) * '\n",
      "DEBUG:feynamp:ret='((-(ee*complex(0,1)))*(1)*(Gamma(MuLeg21,SpinLeg20,SpinInPropagator24))) * ((-(ee*complex(0,1)))*(1)*(Gamma(MuLeg23,SpinOutPropagator24,SpinLeg22))) * (u_bar(SpinLeg20,Mom_p1)) * (eps_star(MuLeg21,PolLeg21,Mom_p2)) * (u(SpinLeg22,Mom_p3)) * (eps(MuLeg23,PolLeg23,Mom_p4)) * ((P(Mu29,Mom_p1+Mom_p2)*Gamma(Mu29,SpinInPropagator24,SpinOutPropagator24) + Mass_Me*GammaId(SpinInPropagator24,SpinOutPropagator24))*Denom(Mom_p1+Mom_p2,Mass_Me)) * '\n",
      "DEBUG:feynamp:ret='((-(ee*complex(0,1)))*(1)*(Gamma(MuLeg35,SpinLeg32,SpinInPropagator36))) * ((-(ee*complex(0,1)))*(1)*(Gamma(MuLeg33,SpinOutPropagator36,SpinLeg34))) * (u_bar(SpinLeg32,Mom_p1)) * (eps_star(MuLeg33,PolLeg33,Mom_p2)) * (u(SpinLeg34,Mom_p3)) * (eps(MuLeg35,PolLeg35,Mom_p4)) * ((P(Mu41,Mom_p1-Mom_p4)*Gamma(Mu41,SpinInPropagator36,SpinOutPropagator36) + Mass_Me*GammaId(SpinInPropagator36,SpinOutPropagator36))*Denom(Mom_p1-Mom_p4,Mass_Me)) * '\n",
      "DEBUG:feynamp:s2='(((-(ee*complex(0,1)))*(1)*(Gamma(MuIn2,SpinOutProp1,SpinIn1))) * ((-(ee*complex(0,1)))*(1)*(Gamma(MuOut2,SpinOut1,SpinInProp1))) * (u(SpinIn1,Mom_p1)) * (eps(MuIn2,PolIn2,Mom_p2)) * (u_bar(SpinOut1,Mom_p3)) * (eps_star(MuOut2,PolOut2,Mom_p4)) * ((P(Mu12,Mom_p1+Mom_p2)*Gamma(Mu12,SpinInProp1,SpinOutProp1) + Mass_Me*GammaId(SpinInProp1,SpinOutProp1))*Denom(Mom_p1+Mom_p2,Mass_Me)))*(((-(ee*complex(0,1)))*(1)*(Gamma(MuLeg21,SpinLeg20,SpinInPropagator24))) * ((-(ee*complex(0,1)))*(1)*(Gamma(MuLeg23,SpinOutPropagator24,SpinLeg22))) * (u_bar(SpinLeg20,Mom_p1)) * (eps_star(MuLeg21,PolLeg21,Mom_p2)) * (u(SpinLeg22,Mom_p3)) * (eps(MuLeg23,PolLeg23,Mom_p4)) * ((P(Mu29,Mom_p1+Mom_p2)*Gamma(Mu29,SpinInPropagator24,SpinOutPropagator24) + Mass_Me*GammaId(SpinInPropagator24,SpinOutPropagator24))*Denom(Mom_p1+Mom_p2,Mass_Me))) + 2*(+((-(ee*complex(0,1)))*(1)*(Gamma(MuIn2,SpinOutProp1,SpinIn1))) * ((-(ee*complex(0,1)))*(1)*(Gamma(MuOut2,SpinOut1,SpinInProp1))) * (u(SpinIn1,Mom_p1)) * (eps(MuIn2,PolIn2,Mom_p2)) * (u_bar(SpinOut1,Mom_p3)) * (eps_star(MuOut2,PolOut2,Mom_p4)) * ((P(Mu12,Mom_p1+Mom_p2)*Gamma(Mu12,SpinInProp1,SpinOutProp1) + Mass_Me*GammaId(SpinInProp1,SpinOutProp1))*Denom(Mom_p1+Mom_p2,Mass_Me)))*(((-(ee*complex(0,1)))*(1)*(Gamma(MuLeg35,SpinLeg32,SpinInPropagator36))) * ((-(ee*complex(0,1)))*(1)*(Gamma(MuLeg33,SpinOutPropagator36,SpinLeg34))) * (u_bar(SpinLeg32,Mom_p1)) * (eps_star(MuLeg33,PolLeg33,Mom_p2)) * (u(SpinLeg34,Mom_p3)) * (eps(MuLeg35,PolLeg35,Mom_p4)) * ((P(Mu41,Mom_p1-Mom_p4)*Gamma(Mu41,SpinInPropagator36,SpinOutPropagator36) + Mass_Me*GammaId(SpinInPropagator36,SpinOutPropagator36))*Denom(Mom_p1-Mom_p4,Mass_Me)))*1 + (((-(ee*complex(0,1)))*(1)*(Gamma(MuOut2,SpinOutProp1,SpinIn1))) * ((-(ee*complex(0,1)))*(1)*(Gamma(MuIn2,SpinOut1,SpinInProp1))) * (u(SpinIn1,Mom_p1)) * (eps(MuIn2,PolIn2,Mom_p2)) * (u_bar(SpinOut1,Mom_p3)) * (eps_star(MuOut2,PolOut2,Mom_p4)) * ((P(Mu17,Mom_p1-Mom_p4)*Gamma(Mu17,SpinInProp1,SpinOutProp1) + Mass_Me*GammaId(SpinInProp1,SpinOutProp1))*Denom(Mom_p1-Mom_p4,Mass_Me)))*(((-(ee*complex(0,1)))*(1)*(Gamma(MuLeg35,SpinLeg32,SpinInPropagator36))) * ((-(ee*complex(0,1)))*(1)*(Gamma(MuLeg33,SpinOutPropagator36,SpinLeg34))) * (u_bar(SpinLeg32,Mom_p1)) * (eps_star(MuLeg33,PolLeg33,Mom_p2)) * (u(SpinLeg34,Mom_p3)) * (eps(MuLeg35,PolLeg35,Mom_p4)) * ((P(Mu41,Mom_p1-Mom_p4)*Gamma(Mu41,SpinInPropagator36,SpinOutPropagator36) + Mass_Me*GammaId(SpinInPropagator36,SpinOutPropagator36))*Denom(Mom_p1-Mom_p4,Mass_Me)))'\n",
      "DEBUG:feynamp:rs='-8*Den(-Mass_Me^2+Mom_p1.Mom_p1+2*Mom_p1.Mom_p2+Mom_p2.Mom_p2)^2*ee^4*mss*msu-8*Den(-Mass_Me^2+Mom_p1.Mom_p1+2*Mom_p1.Mom_p2+Mom_p2.Mom_p2)^2*ee^4*Mass_Me^2*msu-16*Den(-Mass_Me^2+Mom_p1.Mom_p1+2*Mom_p1.Mom_p2+Mom_p2.Mom_p2)^2*ee^4*Mass_Me^2*mst+8*Den(-Mass_Me^2+Mom_p1.Mom_p1+2*Mom_p1.Mom_p2+Mom_p2.Mom_p2)^2*ee^4*Mass_Me^2*mss-8*Den(-Mass_Me^2+Mom_p1.Mom_p1+2*Mom_p1.Mom_p2+Mom_p2.Mom_p2)^2*ee^4*Mass_Me^3*msu-8*Den(-Mass_Me^2+Mom_p1.Mom_p1+2*Mom_p1.Mom_p2+Mom_p2.Mom_p2)^2*ee^4*Mass_Me^3*mst+8*Den(-Mass_Me^2+Mom_p1.Mom_p1+2*Mom_p1.Mom_p2+Mom_p2.Mom_p2)^2*ee^4*Mass_Me^3*mss+40*Den(-Mass_Me^2+Mom_p1.Mom_p1+2*Mom_p1.Mom_p2+Mom_p2.Mom_p2)^2*ee^4*Mass_Me^4+4*Den(-Mass_Me^2+Mom_p1.Mom_p1+2*Mom_p1.Mom_p2+Mom_p2.Mom_p2)^2*ee^4*Mass_Me^4*mss+32*Den(-Mass_Me^2+Mom_p1.Mom_p1+2*Mom_p1.Mom_p2+Mom_p2.Mom_p2)^2*ee^4*Mass_Me^5+4*Den(-Mass_Me^2+Mom_p1.Mom_p1+2*Mom_p1.Mom_p2+Mom_p2.Mom_p2)^2*ee^4*Mass_Me^6+16*Den(-Mass_Me^2+Mom_p1.Mom_p1+2*Mom_p1.Mom_p2+Mom_p2.Mom_p2)*Den(-Mass_Me^2+Mom_p1.Mom_p1-2*Mom_p1.Mom_p4+Mom_p4.Mom_p4)*ee^4*mst*msu+16*Den(-Mass_Me^2+Mom_p1.Mom_p1+2*Mom_p1.Mom_p2+Mom_p2.Mom_p2)*Den(-Mass_Me^2+Mom_p1.Mom_p1-2*Mom_p1.Mom_p4+Mom_p4.Mom_p4)*ee^4*mst^2+16*Den(-Mass_Me^2+Mom_p1.Mom_p1+2*Mom_p1.Mom_p2+Mom_p2.Mom_p2)*Den(-Mass_Me^2+Mom_p1.Mom_p1-2*Mom_p1.Mom_p4+Mom_p4.Mom_p4)*ee^4*mss*mst-32*Den(-Mass_Me^2+Mom_p1.Mom_p1+2*Mom_p1.Mom_p2+Mom_p2.Mom_p2)*Den(-Mass_Me^2+Mom_p1.Mom_p1-2*Mom_p1.Mom_p4+Mom_p4.Mom_p4)*ee^4*Mass_Me^2*msu-48*Den(-Mass_Me^2+Mom_p1.Mom_p1+2*Mom_p1.Mom_p2+Mom_p2.Mom_p2)*Den(-Mass_Me^2+Mom_p1.Mom_p1-2*Mom_p1.Mom_p4+Mom_p4.Mom_p4)*ee^4*Mass_Me^2*mst-32*Den(-Mass_Me^2+Mom_p1.Mom_p1+2*Mom_p1.Mom_p2+Mom_p2.Mom_p2)*Den(-Mass_Me^2+Mom_p1.Mom_p1-2*Mom_p1.Mom_p4+Mom_p4.Mom_p4)*ee^4*Mass_Me^2*mss-32*Den(-Mass_Me^2+Mom_p1.Mom_p1+2*Mom_p1.Mom_p2+Mom_p2.Mom_p2)*Den(-Mass_Me^2+Mom_p1.Mom_p1-2*Mom_p1.Mom_p4+Mom_p4.Mom_p4)*ee^4*Mass_Me^3*mst+32*Den(-Mass_Me^2+Mom_p1.Mom_p1+2*Mom_p1.Mom_p2+Mom_p2.Mom_p2)*Den(-Mass_Me^2+Mom_p1.Mom_p1-2*Mom_p1.Mom_p4+Mom_p4.Mom_p4)*ee^4*Mass_Me^4+16*Den(-Mass_Me^2+Mom_p1.Mom_p1+2*Mom_p1.Mom_p2+Mom_p2.Mom_p2)*Den(-Mass_Me^2+Mom_p1.Mom_p1-2*Mom_p1.Mom_p4+Mom_p4.Mom_p4)*ee^4*Mass_Me^4*msu+16*Den(-Mass_Me^2+Mom_p1.Mom_p1+2*Mom_p1.Mom_p2+Mom_p2.Mom_p2)*Den(-Mass_Me^2+Mom_p1.Mom_p1-2*Mom_p1.Mom_p4+Mom_p4.Mom_p4)*ee^4*Mass_Me^4*mst+16*Den(-Mass_Me^2+Mom_p1.Mom_p1+2*Mom_p1.Mom_p2+Mom_p2.Mom_p2)*Den(-Mass_Me^2+Mom_p1.Mom_p1-2*Mom_p1.Mom_p4+Mom_p4.Mom_p4)*ee^4*Mass_Me^4*mss+128*Den(-Mass_Me^2+Mom_p1.Mom_p1+2*Mom_p1.Mom_p2+Mom_p2.Mom_p2)*Den(-Mass_Me^2+Mom_p1.Mom_p1-2*Mom_p1.Mom_p4+Mom_p4.Mom_p4)*ee^4*Mass_Me^5-64*Den(-Mass_Me^2+Mom_p1.Mom_p1+2*Mom_p1.Mom_p2+Mom_p2.Mom_p2)*Den(-Mass_Me^2+Mom_p1.Mom_p1-2*Mom_p1.Mom_p4+Mom_p4.Mom_p4)*ee^4*Mass_Me^6-8*Den(-Mass_Me^2+Mom_p1.Mom_p1-2*Mom_p1.Mom_p4+Mom_p4.Mom_p4)^2*ee^4*mss*msu+8*Den(-Mass_Me^2+Mom_p1.Mom_p1-2*Mom_p1.Mom_p4+Mom_p4.Mom_p4)^2*ee^4*Mass_Me^2*msu-16*Den(-Mass_Me^2+Mom_p1.Mom_p1-2*Mom_p1.Mom_p4+Mom_p4.Mom_p4)^2*ee^4*Mass_Me^2*mst-8*Den(-Mass_Me^2+Mom_p1.Mom_p1-2*Mom_p1.Mom_p4+Mom_p4.Mom_p4)^2*ee^4*Mass_Me^2*mss+8*Den(-Mass_Me^2+Mom_p1.Mom_p1-2*Mom_p1.Mom_p4+Mom_p4.Mom_p4)^2*ee^4*Mass_Me^3*msu-8*Den(-Mass_Me^2+Mom_p1.Mom_p1-2*Mom_p1.Mom_p4+Mom_p4.Mom_p4)^2*ee^4*Mass_Me^3*mst-8*Den(-Mass_Me^2+Mom_p1.Mom_p1-2*Mom_p1.Mom_p4+Mom_p4.Mom_p4)^2*ee^4*Mass_Me^3*mss+40*Den(-Mass_Me^2+Mom_p1.Mom_p1-2*Mom_p1.Mom_p4+Mom_p4.Mom_p4)^2*ee^4*Mass_Me^4+4*Den(-Mass_Me^2+Mom_p1.Mom_p1-2*Mom_p1.Mom_p4+Mom_p4.Mom_p4)^2*ee^4*Mass_Me^4*msu+32*Den(-Mass_Me^2+Mom_p1.Mom_p1-2*Mom_p1.Mom_p4+Mom_p4.Mom_p4)^2*ee^4*Mass_Me^5+4*Den(-Mass_Me^2+Mom_p1.Mom_p1-2*Mom_p1.Mom_p4+Mom_p4.Mom_p4)^2*ee^4*Mass_Me^6'\n",
      "DEBUG:feynamp:rr='-8*1/(mss-Mass_Me^2)^2*ee^4*mss*msu-8*1/(mss-Mass_Me^2)^2*ee^4*Mass_Me^2*msu-16*1/(mss-Mass_Me^2)^2*ee^4*Mass_Me^2*mst+8*1/(mss-Mass_Me^2)^2*ee^4*Mass_Me^2*mss-8*1/(mss-Mass_Me^2)^2*ee^4*Mass_Me^3*msu-8*1/(mss-Mass_Me^2)^2*ee^4*Mass_Me^3*mst+8*1/(mss-Mass_Me^2)^2*ee^4*Mass_Me^3*mss+40*1/(mss-Mass_Me^2)^2*ee^4*Mass_Me^4+4*1/(mss-Mass_Me^2)^2*ee^4*Mass_Me^4*mss+32*1/(mss-Mass_Me^2)^2*ee^4*Mass_Me^5+4*1/(mss-Mass_Me^2)^2*ee^4*Mass_Me^6+16*1/(mss-Mass_Me^2)*1/(msu-Mass_Me^2)*ee^4*mst*msu+16*1/(mss-Mass_Me^2)*1/(msu-Mass_Me^2)*ee^4*mst^2+16*1/(mss-Mass_Me^2)*1/(msu-Mass_Me^2)*ee^4*mss*mst-32*1/(mss-Mass_Me^2)*1/(msu-Mass_Me^2)*ee^4*Mass_Me^2*msu-48*1/(mss-Mass_Me^2)*1/(msu-Mass_Me^2)*ee^4*Mass_Me^2*mst-32*1/(mss-Mass_Me^2)*1/(msu-Mass_Me^2)*ee^4*Mass_Me^2*mss-32*1/(mss-Mass_Me^2)*1/(msu-Mass_Me^2)*ee^4*Mass_Me^3*mst+32*1/(mss-Mass_Me^2)*1/(msu-Mass_Me^2)*ee^4*Mass_Me^4+16*1/(mss-Mass_Me^2)*1/(msu-Mass_Me^2)*ee^4*Mass_Me^4*msu+16*1/(mss-Mass_Me^2)*1/(msu-Mass_Me^2)*ee^4*Mass_Me^4*mst+16*1/(mss-Mass_Me^2)*1/(msu-Mass_Me^2)*ee^4*Mass_Me^4*mss+128*1/(mss-Mass_Me^2)*1/(msu-Mass_Me^2)*ee^4*Mass_Me^5-64*1/(mss-Mass_Me^2)*1/(msu-Mass_Me^2)*ee^4*Mass_Me^6-8*1/(msu-Mass_Me^2)^2*ee^4*mss*msu+8*1/(msu-Mass_Me^2)^2*ee^4*Mass_Me^2*msu-16*1/(msu-Mass_Me^2)^2*ee^4*Mass_Me^2*mst-8*1/(msu-Mass_Me^2)^2*ee^4*Mass_Me^2*mss+8*1/(msu-Mass_Me^2)^2*ee^4*Mass_Me^3*msu-8*1/(msu-Mass_Me^2)^2*ee^4*Mass_Me^3*mst-8*1/(msu-Mass_Me^2)^2*ee^4*Mass_Me^3*mss+40*1/(msu-Mass_Me^2)^2*ee^4*Mass_Me^4+4*1/(msu-Mass_Me^2)^2*ee^4*Mass_Me^4*msu+32*1/(msu-Mass_Me^2)^2*ee^4*Mass_Me^5+4*1/(msu-Mass_Me^2)^2*ee^4*Mass_Me^6'\n",
      "DEBUG:feynamp:get_color_average():['1', '1']\n",
      "DEBUG:feynamp:get_spin_average():['1/2', '1/2']\n"
     ]
    },
    {
     "data": {
      "text/latex": [
       "$\\displaystyle \\frac{\\left(Mass_{Me}^{2} - s\\right)^{2} \\left(Mass_{Me}^{6} + 8 Mass_{Me}^{5} + Mass_{Me}^{4} u + 10 Mass_{Me}^{4} - 2 Mass_{Me}^{3} s - 2 Mass_{Me}^{3} t + 2 Mass_{Me}^{3} u - 2 Mass_{Me}^{2} s - 4 Mass_{Me}^{2} t + 2 Mass_{Me}^{2} u - 2 s u\\right) + 4 \\left(Mass_{Me}^{2} - s\\right) \\left(Mass_{Me}^{2} - u\\right) \\left(- 4 Mass_{Me}^{6} + 8 Mass_{Me}^{5} + Mass_{Me}^{4} s + Mass_{Me}^{4} t + Mass_{Me}^{4} u + 2 Mass_{Me}^{4} - 2 Mass_{Me}^{3} t - 2 Mass_{Me}^{2} s - 3 Mass_{Me}^{2} t - 2 Mass_{Me}^{2} u + s t + t^{2} + t u\\right) + \\left(Mass_{Me}^{2} - u\\right)^{2} \\left(Mass_{Me}^{6} + 8 Mass_{Me}^{5} + Mass_{Me}^{4} s + 10 Mass_{Me}^{4} + 2 Mass_{Me}^{3} s - 2 Mass_{Me}^{3} t - 2 Mass_{Me}^{3} u + 2 Mass_{Me}^{2} s - 4 Mass_{Me}^{2} t - 2 Mass_{Me}^{2} u - 2 s u\\right)}{\\left(Mass_{Me}^{2} - s\\right)^{2} \\left(Mass_{Me}^{2} - u\\right)^{2}}$"
      ],
      "text/plain": [
       "((Mass_Me**2 - s)**2*(Mass_Me**6 + 8*Mass_Me**5 + Mass_Me**4*u + 10*Mass_Me**4 - 2*Mass_Me**3*s - 2*Mass_Me**3*t + 2*Mass_Me**3*u - 2*Mass_Me**2*s - 4*Mass_Me**2*t + 2*Mass_Me**2*u - 2*s*u) + 4*(Mass_Me**2 - s)*(Mass_Me**2 - u)*(-4*Mass_Me**6 + 8*Mass_Me**5 + Mass_Me**4*s + Mass_Me**4*t + Mass_Me**4*u + 2*Mass_Me**4 - 2*Mass_Me**3*t - 2*Mass_Me**2*s - 3*Mass_Me**2*t - 2*Mass_Me**2*u + s*t + t**2 + t*u) + (Mass_Me**2 - u)**2*(Mass_Me**6 + 8*Mass_Me**5 + Mass_Me**4*s + 10*Mass_Me**4 + 2*Mass_Me**3*s - 2*Mass_Me**3*t - 2*Mass_Me**3*u + 2*Mass_Me**2*s - 4*Mass_Me**2*t - 2*Mass_Me**2*u - 2*s*u))/((Mass_Me**2 - s)**2*(Mass_Me**2 - u)**2)"
      ]
     },
     "execution_count": 3,
     "metadata": {},
     "output_type": "execute_result"
    }
   ],
   "source": [
    "import sympy\n",
    "g = sympy.Symbol(\"ee\")\n",
    "ret = feynamp.form.compute_squared(fds,fm)  / g**4\n",
    "#sympy.simplify(ret.subs(\"t\",\"-u-s\"))\n",
    "ret"
   ]
  },
  {
   "cell_type": "code",
   "execution_count": 4,
   "id": "7f73f15e-abb3-47c3-8bad-a76f0fe8ba45",
   "metadata": {},
   "outputs": [
    {
     "data": {
      "text/latex": [
       "$\\displaystyle - \\frac{2 s}{u} - \\frac{2 u}{s}$"
      ],
      "text/plain": [
       "-2*s/u - 2*u/s"
      ]
     },
     "execution_count": 4,
     "metadata": {},
     "output_type": "execute_result"
    }
   ],
   "source": [
    "sympy.simplify(ret.subs({\"Mass_Me\":0, \"t\": \"-u-s\"}))"
   ]
  },
  {
   "cell_type": "code",
   "execution_count": 5,
   "id": "ea3df099-257a-4bd7-a710-bbb5da4e1a47",
   "metadata": {},
   "outputs": [
    {
     "data": {
      "text/latex": [
       "$\\displaystyle \\frac{\\frac{32 t^{2}}{27} + \\frac{32 \\left(- s - t\\right)^{2}}{27}}{t \\left(- s - t\\right)} - \\frac{\\frac{8 t^{2}}{3} + \\frac{8 \\left(- s - t\\right)^{2}}{3}}{s^{2}}$"
      ],
      "text/plain": [
       "(32*t**2/27 + 32*(-s - t)**2/27)/(t*(-s - t)) - (8*t**2/3 + 8*(-s - t)**2/3)/s**2"
      ]
     },
     "execution_count": 5,
     "metadata": {},
     "output_type": "execute_result"
    }
   ],
   "source": [
    "import equation_database.isbn_9780511628788 as ref\n",
    "ref.table_7_1_qqb_gg.subs(\"u\",\"-t-s\")"
   ]
  },
  {
   "cell_type": "code",
   "execution_count": 6,
   "id": "bfb1c1d1-a1b8-4fc8-be7b-071c9a626102",
   "metadata": {},
   "outputs": [
    {
     "data": {
      "text/plain": [
       "False"
      ]
     },
     "execution_count": 6,
     "metadata": {},
     "output_type": "execute_result"
    }
   ],
   "source": [
    "\n",
    "ret.equals(ref.table_7_1_qqb_gg * sympy.Symbol(\"G\")**4 )"
   ]
  },
  {
   "cell_type": "code",
   "execution_count": 7,
   "id": "75e508a7-60a0-4da2-a6e5-7628122dc5cf",
   "metadata": {},
   "outputs": [
    {
     "data": {
      "text/latex": [
       "$\\displaystyle \\frac{27 s^{2} t \\left(s + t\\right) \\left(\\left(Mass_{Me}^{2} - s\\right)^{2} \\left(- Mass_{Me}^{6} - 8 Mass_{Me}^{5} + Mass_{Me}^{4} \\left(s + t\\right) - 10 Mass_{Me}^{4} + 2 Mass_{Me}^{3} s + 2 Mass_{Me}^{3} t + 2 Mass_{Me}^{3} \\left(s + t\\right) + 2 Mass_{Me}^{2} s + 4 Mass_{Me}^{2} t + 2 Mass_{Me}^{2} \\left(s + t\\right) - 2 s \\left(s + t\\right)\\right) - 4 \\left(Mass_{Me}^{2} - s\\right) \\left(Mass_{Me}^{2} + s + t\\right) \\left(- 4 Mass_{Me}^{6} + 8 Mass_{Me}^{5} + Mass_{Me}^{4} s + Mass_{Me}^{4} t - Mass_{Me}^{4} \\left(s + t\\right) + 2 Mass_{Me}^{4} - 2 Mass_{Me}^{3} t - 2 Mass_{Me}^{2} s - 3 Mass_{Me}^{2} t + 2 Mass_{Me}^{2} \\left(s + t\\right) + s t + t^{2} - t \\left(s + t\\right)\\right) + \\left(Mass_{Me}^{2} + s + t\\right)^{2} \\left(- Mass_{Me}^{6} - 8 Mass_{Me}^{5} - Mass_{Me}^{4} s - 10 Mass_{Me}^{4} - 2 Mass_{Me}^{3} s + 2 Mass_{Me}^{3} t - 2 Mass_{Me}^{3} \\left(s + t\\right) - 2 Mass_{Me}^{2} s + 4 Mass_{Me}^{2} t - 2 Mass_{Me}^{2} \\left(s + t\\right) - 2 s \\left(s + t\\right)\\right)\\right) - 32 s^{2} \\left(Mass_{Me}^{2} - s\\right)^{2} \\left(t^{2} + \\left(s + t\\right)^{2}\\right) \\left(Mass_{Me}^{2} + s + t\\right)^{2} - 72 t \\left(Mass_{Me}^{2} - s\\right)^{2} \\left(s + t\\right) \\left(t^{2} + \\left(s + t\\right)^{2}\\right) \\left(Mass_{Me}^{2} + s + t\\right)^{2}}{27 s^{2} t \\left(Mass_{Me}^{2} - s\\right)^{2} \\left(s + t\\right) \\left(Mass_{Me}^{2} + s + t\\right)^{2}}$"
      ],
      "text/plain": [
       "(27*s**2*t*(s + t)*((Mass_Me**2 - s)**2*(-Mass_Me**6 - 8*Mass_Me**5 + Mass_Me**4*(s + t) - 10*Mass_Me**4 + 2*Mass_Me**3*s + 2*Mass_Me**3*t + 2*Mass_Me**3*(s + t) + 2*Mass_Me**2*s + 4*Mass_Me**2*t + 2*Mass_Me**2*(s + t) - 2*s*(s + t)) - 4*(Mass_Me**2 - s)*(Mass_Me**2 + s + t)*(-4*Mass_Me**6 + 8*Mass_Me**5 + Mass_Me**4*s + Mass_Me**4*t - Mass_Me**4*(s + t) + 2*Mass_Me**4 - 2*Mass_Me**3*t - 2*Mass_Me**2*s - 3*Mass_Me**2*t + 2*Mass_Me**2*(s + t) + s*t + t**2 - t*(s + t)) + (Mass_Me**2 + s + t)**2*(-Mass_Me**6 - 8*Mass_Me**5 - Mass_Me**4*s - 10*Mass_Me**4 - 2*Mass_Me**3*s + 2*Mass_Me**3*t - 2*Mass_Me**3*(s + t) - 2*Mass_Me**2*s + 4*Mass_Me**2*t - 2*Mass_Me**2*(s + t) - 2*s*(s + t))) - 32*s**2*(Mass_Me**2 - s)**2*(t**2 + (s + t)**2)*(Mass_Me**2 + s + t)**2 - 72*t*(Mass_Me**2 - s)**2*(s + t)*(t**2 + (s + t)**2)*(Mass_Me**2 + s + t)**2)/(27*s**2*t*(Mass_Me**2 - s)**2*(s + t)*(Mass_Me**2 + s + t)**2)"
      ]
     },
     "execution_count": 7,
     "metadata": {},
     "output_type": "execute_result"
    }
   ],
   "source": [
    "sympy.simplify(ref.table_7_1_qqb_gg.subs(\"u\",\"-t-s\")-ret.subs(\"u\",\"-t-s\"))"
   ]
  },
  {
   "cell_type": "code",
   "execution_count": null,
   "id": "7f721312-6053-41ba-8e96-5f6ba218ad68",
   "metadata": {},
   "outputs": [],
   "source": []
  }
 ],
 "metadata": {
  "kernelspec": {
   "display_name": "Python 3 (ipykernel)",
   "language": "python",
   "name": "python3"
  },
  "language_info": {
   "codemirror_mode": {
    "name": "ipython",
    "version": 3
   },
   "file_extension": ".py",
   "mimetype": "text/x-python",
   "name": "python",
   "nbconvert_exporter": "python",
   "pygments_lexer": "ipython3",
   "version": "3.11.8"
  }
 },
 "nbformat": 4,
 "nbformat_minor": 5
}
