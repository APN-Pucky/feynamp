{
 "cells": [
  {
   "cell_type": "code",
   "execution_count": 1,
   "id": "a1073042-22f3-4f64-96cb-1ea4cb4af9e8",
   "metadata": {},
   "outputs": [
    {
     "data": {
      "text/latex": [
       "$\\displaystyle \\operatorname{TensorHead}\\left(metric, \\left( \\operatorname{TensorIndexType}\\left(Lorentz, L, dim_{L}, dim_{L}, 1, metric\\right), \\  \\operatorname{TensorIndexType}\\left(Lorentz, L, dim_{L}, dim_{L}, 1, metric\\right)\\right), \\operatorname{TensorSymmetry}\\left(\\left( 0,\\right), \\left( \\left( 0\\; 1\\right)\\left( 3\\right),\\right)\\right)\\right)$"
      ],
      "text/plain": [
       "metric(Lorentz,Lorentz)"
      ]
     },
     "execution_count": 1,
     "metadata": {},
     "output_type": "execute_result"
    }
   ],
   "source": [
    "from sympy.tensor.tensor import TensorIndexType\n",
    "Lorentz = TensorIndexType('Lorentz', dummy_name='L')\n",
    "Lorentz.metric"
   ]
  },
  {
   "cell_type": "code",
   "execution_count": 2,
   "id": "f4978b1c-6702-4a4d-a4d1-6227b6708a7d",
   "metadata": {},
   "outputs": [
    {
     "data": {
      "text/latex": [
       "$\\displaystyle GammaMatrix{}^{i}$"
      ],
      "text/plain": [
       "GammaMatrix(i)"
      ]
     },
     "execution_count": 2,
     "metadata": {},
     "output_type": "execute_result"
    }
   ],
   "source": [
    "from sympy.physics.hep.gamma_matrices import GammaMatrix as G, LorentzIndex\n",
    "from sympy.tensor.tensor import tensor_indices\n",
    "i = tensor_indices('i', LorentzIndex)\n",
    "G(i)"
   ]
  },
  {
   "cell_type": "code",
   "execution_count": 3,
   "id": "4cf64180-b32f-44de-af36-317185e8d8ff",
   "metadata": {},
   "outputs": [],
   "source": [
    "Lorentz = TensorIndexType('Lorentz', dummy_name='L')\n",
    "SpinIndex = TensorIndexType('Spin', dummy_name='S')\n",
    "Color = TensorIndexType('Color', dummy_name='C')\n",
    "Gluon = TensorIndexType('Gluon', dummy_name='G')"
   ]
  },
  {
   "cell_type": "code",
   "execution_count": 4,
   "id": "b01c9e33-413a-4d91-bed7-453258be2f8c",
   "metadata": {},
   "outputs": [
    {
     "data": {
      "text/latex": [
       "$\\displaystyle GammaMatrix{}_{L_{0}}p{}^{L_{0}}q{}^{L_{1}}q{}_{L_{1}}$"
      ],
      "text/plain": [
       "GammaMatrix(-L_0)*p(L_0)*q(L_1)*q(-L_1)"
      ]
     },
     "execution_count": 4,
     "metadata": {},
     "output_type": "execute_result"
    }
   ],
   "source": [
    "from sympy.physics.hep.gamma_matrices import GammaMatrix as G,         LorentzIndex, simplify_gpgp\n",
    "from sympy.tensor.tensor import tensor_indices, tensor_heads\n",
    "p, q = tensor_heads('p, q', [LorentzIndex])\n",
    "i0,i1,i2,i3,i4,i5 = tensor_indices('i0:6', LorentzIndex)\n",
    "ps = p(i0)*G(-i0)\n",
    "qs = q(i0)*G(-i0)\n",
    "simplify_gpgp(ps*qs*qs)"
   ]
  },
  {
   "cell_type": "code",
   "execution_count": 5,
   "id": "cdb4e84b-3acb-473c-a5cc-e8141bf0fefc",
   "metadata": {},
   "outputs": [],
   "source": [
    "\n",
    "from sympy.tensor.tensor import TensorIndexType, TensorIndex,\\\n",
    "    TensMul, TensAdd, tensor_mul, Tensor, TensorHead, TensorSymmetry\n",
    "GammaMatrix = TensorHead(\"gamma\", [LorentzIndex,SpinIndex,SpinIndex], comm=None)"
   ]
  },
  {
   "cell_type": "code",
   "execution_count": 6,
   "id": "b4828186-c5e2-489b-847b-555cd0dc2c0b",
   "metadata": {},
   "outputs": [
    {
     "data": {
      "text/latex": [
       "$\\displaystyle \\gamma{}^{i}{}_{s_{1}s_{2}}$"
      ],
      "text/plain": [
       "gamma(i, -s1, -s2)"
      ]
     },
     "execution_count": 6,
     "metadata": {},
     "output_type": "execute_result"
    }
   ],
   "source": [
    "GammaMatrix(tensor_indices('i', LorentzIndex),-tensor_indices('s1', SpinIndex),-tensor_indices('s2', SpinIndex))"
   ]
  },
  {
   "cell_type": "code",
   "execution_count": 7,
   "id": "e49a3f14-5752-48d0-9224-841c6a55ca4e",
   "metadata": {},
   "outputs": [],
   "source": [
    "from feynpy.color import *\n",
    "from sympy import *"
   ]
  },
  {
   "cell_type": "code",
   "execution_count": 8,
   "id": "d21b8e43-bee8-4d8e-bcbb-5868e02efad9",
   "metadata": {},
   "outputs": [
    {
     "ename": "NameError",
     "evalue": "name 'GluonIndex' is not defined",
     "output_type": "error",
     "traceback": [
      "\u001b[0;31m---------------------------------------------------------------------------\u001b[0m",
      "\u001b[0;31mNameError\u001b[0m                                 Traceback (most recent call last)",
      "Cell \u001b[0;32mIn[8], line 1\u001b[0m\n\u001b[0;32m----> 1\u001b[0m g,g1,g2,g3 \u001b[38;5;241m=\u001b[39m tensor_indices(\u001b[38;5;124m'\u001b[39m\u001b[38;5;124mg g1 g2 g3\u001b[39m\u001b[38;5;124m'\u001b[39m, \u001b[43mGluonIndex\u001b[49m)\n\u001b[1;32m      2\u001b[0m a,b,c,d,e \u001b[38;5;241m=\u001b[39m tensor_indices(\u001b[38;5;124m'\u001b[39m\u001b[38;5;124ma b c d e \u001b[39m\u001b[38;5;124m'\u001b[39m, ColorIndex)\n",
      "\u001b[0;31mNameError\u001b[0m: name 'GluonIndex' is not defined"
     ]
    }
   ],
   "source": [
    "\n",
    "g,g1,g2,g3 = tensor_indices('g g1 g2 g3', GluonIndex)\n",
    "a,b,c,d,e = tensor_indices('a b c d e ', ColorIndex)"
   ]
  },
  {
   "cell_type": "code",
   "execution_count": null,
   "id": "bad830a7-6423-4de2-a5fa-ac7f18232e08",
   "metadata": {},
   "outputs": [],
   "source": [
    "(-a).match(Wild('a'))\n"
   ]
  },
  {
   "cell_type": "code",
   "execution_count": null,
   "id": "c80adb32-8244-4630-af10-3a54dc4bd8ba",
   "metadata": {},
   "outputs": [],
   "source": []
  },
  {
   "cell_type": "code",
   "execution_count": null,
   "id": "2f177323-8969-4567-91f0-9f6c4731073c",
   "metadata": {},
   "outputs": [],
   "source": [
    "from sympy.tensor.tensor import WildTensorHead, TensorIndex, TensorHead, TensorIndexType\n",
    "e = WildTensorIndex('e',ColorIndex,ignore_updown=True)\n",
    "h = WildTensorIndex('h',ColorIndex,ignore_updown=True)\n",
    "k = WildTensorIndex('k',ColorIndex,ignore_updown=True)\n",
    "l = WildTensorIndex('l',ColorIndex,ignore_updown=True)\n",
    "t = WildTensorIndex('t',GluonIndex,ignore_updown=True)\n",
    "r = Wild('r')\n",
    "tt = T(g,a,b)*5\n",
    "#print(tt.match(Wild('r')*T(t,i,j)))\n"
   ]
  },
  {
   "cell_type": "code",
   "execution_count": null,
   "id": "141c63ef-b3f0-4a82-b124-a3d44b04b41e",
   "metadata": {},
   "outputs": [],
   "source": []
  },
  {
   "cell_type": "code",
   "execution_count": null,
   "id": "68a4d7c1-c9d2-402d-96b7-3451401bcf22",
   "metadata": {},
   "outputs": [],
   "source": [
    "w,q,r = symbols('zw,q,r')\n",
    "w*q*r.replace(Wild('a'),Wild('a')**2)"
   ]
  },
  {
   "cell_type": "code",
   "execution_count": null,
   "id": "a83c2594-ac52-47d1-9889-50aad5058452",
   "metadata": {},
   "outputs": [],
   "source": [
    "\n",
    "\n",
    "\n",
    "m = T(g2,a,-a) * T(-g2,c,d)*T(g,e,h)\n",
    "m"
   ]
  },
  {
   "cell_type": "code",
   "execution_count": null,
   "id": "704cb06d-4b7f-4567-b1b8-79498f9b2e20",
   "metadata": {},
   "outputs": [],
   "source": [
    "    i = WildTensorIndex('i',ColorIndex,ignore_updown=True)\n",
    "    j = WildTensorIndex('j',ColorIndex,ignore_updown=True)\n",
    "    k = WildTensorIndex('k',ColorIndex,ignore_updown=True)\n",
    "    l = WildTensorIndex('l',ColorIndex,ignore_updown=True)\n",
    "    t = WildTensorIndex('t',GluonIndex,ignore_updown=True)\n",
    "    r = Wild('r')\n",
    "    m.replace(r*T(t,i,j)* T(-t,l,k),  r*(ColorIndex.delta(i,l)*ColorIndex.delta(k,j)/2\n",
    "                   - 1/N_c/2*ColorIndex.delta(i,j)*ColorIndex.delta(k,l)))"
   ]
  },
  {
   "cell_type": "code",
   "execution_count": null,
   "id": "11722760-7609-4b90-9d67-542e9d607ef9",
   "metadata": {},
   "outputs": [],
   "source": [
    "apply_TT(m)"
   ]
  },
  {
   "cell_type": "code",
   "execution_count": null,
   "id": "af9b53f3-756c-40bd-a7e6-87ce93e447d5",
   "metadata": {},
   "outputs": [],
   "source": [
    "m.get_free_indices()"
   ]
  },
  {
   "cell_type": "code",
   "execution_count": null,
   "id": "02ab4270-38f4-4747-8391-de253ffbaacd",
   "metadata": {},
   "outputs": [],
   "source": [
    "i = Wild('i')\n",
    "j = Wild('j')\n",
    "k = Wild('k')\n",
    "l = Wild('l')\n",
    "x = Wild('x')\n"
   ]
  },
  {
   "cell_type": "code",
   "execution_count": null,
   "id": "8090d0d5-1e78-49be-bc68-3356fa625f89",
   "metadata": {},
   "outputs": [],
   "source": [
    "m"
   ]
  },
  {
   "cell_type": "code",
   "execution_count": null,
   "id": "20217437-130b-4f6c-9493-890d4f7765b5",
   "metadata": {},
   "outputs": [],
   "source": [
    "i = WildTensorIndex('i',ColorIndex,ignore_updown=True)\n",
    "j = WildTensorIndex('j',ColorIndex,ignore_updown=True)\n",
    "k = WildTensorIndex('k',ColorIndex,ignore_updown=True)\n",
    "l = WildTensorIndex('l',ColorIndex,ignore_updown=True)\n",
    "t = WildTensorIndex('t',GluonIndex,ignore_updown=True)\n",
    "\n",
    "#t= tensor_indices('t', GluonIndex)\n",
    "r = Wild('r')\n",
    "m.replace(\n",
    "            r*T(t,-i,j)* T(-t,l,-k), \n",
    "             (ColorIndex.delta(-i,l)*ColorIndex.delta(-k,j)/2\n",
    "                   - 1/N_c/2*ColorIndex.delta(-i,j)*ColorIndex.delta(-k,l))\n",
    "        ) "
   ]
  },
  {
   "cell_type": "code",
   "execution_count": null,
   "id": "79353cf5-99b1-46c0-8291-319d8f7df4ce",
   "metadata": {},
   "outputs": [],
   "source": [
    " T(t,i,j)* T(-t,l,k)"
   ]
  },
  {
   "cell_type": "code",
   "execution_count": null,
   "id": "2d3f99e0-2ab6-41ee-a5b2-ac2766614416",
   "metadata": {},
   "outputs": [],
   "source": [
    "TT = Eq(T(g,a,b)*T(-g,c,d),ColorIndex.delta(a,d)*ColorIndex.delta(b,c)/2\n",
    "                   - 1/N_c/2*ColorIndex.delta(a,b)*ColorIndex.delta(c,d) ).doit().expand()\n",
    "TT"
   ]
  },
  {
   "cell_type": "code",
   "execution_count": null,
   "id": "fa46bd09-6e54-4c63-be14-4d41e2bbb328",
   "metadata": {},
   "outputs": [],
   "source": [
    "m.canon_bp()"
   ]
  },
  {
   "cell_type": "code",
   "execution_count": null,
   "id": "6f0c60bd-53a1-49ba-80c5-96a226947746",
   "metadata": {},
   "outputs": [],
   "source": [
    "m.subs(TT.lhs,TT.rhs)"
   ]
  },
  {
   "cell_type": "code",
   "execution_count": null,
   "id": "7164e154-e026-4d17-bd86-61fea2a1a37a",
   "metadata": {},
   "outputs": [],
   "source": [
    "\n",
    "rem = Wild('rem')\n",
    "i = Wild('i')\n",
    "j = Wild('j')\n",
    "k = Wild('k')\n",
    "l = Wild('l')\n",
    "ll = Wild('ll')\n",
    "si = Wild('si')\n",
    "sj = Wild('sj')\n",
    "sk = Wild('sk')\n",
    "sl = Wild('sl')\n",
    "x = Wild('x')\n",
    "t = tensor_indices('t', GluonIndex)\n",
    "r= T(t,-a,-j)* T(-t,-l,-k)"
   ]
  },
  {
   "cell_type": "code",
   "execution_count": null,
   "id": "27292b83-52b5-4f59-8bf7-899d76a663d8",
   "metadata": {},
   "outputs": [],
   "source": [
    "r.subs(i,ll)"
   ]
  },
  {
   "cell_type": "code",
   "execution_count": null,
   "id": "ea84f788-7938-4553-b231-cade1acdbc33",
   "metadata": {},
   "outputs": [],
   "source": [
    "type(m)"
   ]
  },
  {
   "cell_type": "code",
   "execution_count": null,
   "id": "3ad61573-32fd-4929-9760-885313e60fbd",
   "metadata": {},
   "outputs": [],
   "source": [
    "m.xreplace({\n",
    "    T(t,i,j)* T(-t,l,k):  (ColorIndex.delta(i,l)*ColorIndex.delta(k,j)- 1/N_c/2*ColorIndex.delta(i,j)*ColorIndex.delta(k,l))\n",
    "})"
   ]
  },
  {
   "cell_type": "code",
   "execution_count": null,
   "id": "38e5806f-b367-48f1-9d31-b3696e269c94",
   "metadata": {},
   "outputs": [],
   "source": [
    "m.canon_bp()"
   ]
  },
  {
   "cell_type": "code",
   "execution_count": null,
   "id": "7016981c-59b4-437a-8719-6bfddec088f6",
   "metadata": {},
   "outputs": [],
   "source": [
    "apply_id(apply_TT(m))"
   ]
  },
  {
   "cell_type": "code",
   "execution_count": null,
   "id": "affb4346-aca7-460b-856b-9c31a7f17ba6",
   "metadata": {},
   "outputs": [],
   "source": [
    "i = WildTensorIndex('i',ColorIndex,ignore_updown=True)\n",
    "\n",
    "tm = apply_TT(m)"
   ]
  },
  {
   "cell_type": "code",
   "execution_count": null,
   "id": "7f1f7fe6-463d-4d0c-ade3-40436dc1d20c",
   "metadata": {},
   "outputs": [],
   "source": [
    "i = WildTensorIndex('i',ColorIndex,ignore_updown=True)\n",
    "w = WildTensorHead(\"W\")\n",
    "i = tensor_indices('i',ColorIndex)\n",
    "r = Wild('r')\n",
    "tm.subs(ColorIndex.delta(-i,i),ColorIndex.dim)"
   ]
  },
  {
   "cell_type": "code",
   "execution_count": null,
   "id": "1ed3013a-2e89-452c-8947-e5d8feeb1620",
   "metadata": {},
   "outputs": [],
   "source": [
    "tm"
   ]
  },
  {
   "cell_type": "code",
   "execution_count": null,
   "id": "e68ff482-7848-485a-950c-c67608d075fa",
   "metadata": {},
   "outputs": [],
   "source": [
    "apply_TT(m)"
   ]
  },
  {
   "cell_type": "code",
   "execution_count": null,
   "id": "e28f1122-c475-4168-a498-7abcb2f74375",
   "metadata": {},
   "outputs": [],
   "source": [
    "m.replace(lambda expr: isinstance(expr,TensMul),lambda _:7)"
   ]
  },
  {
   "cell_type": "code",
   "execution_count": null,
   "id": "9118f813-464c-47fb-8b59-2439ec51315c",
   "metadata": {},
   "outputs": [],
   "source": [
    "T(g,a,b)*T(-g,c,d) "
   ]
  },
  {
   "cell_type": "code",
   "execution_count": null,
   "id": "7c2a4774-39c4-46f8-8080-1ebc7c86c596",
   "metadata": {},
   "outputs": [],
   "source": [
    "ColorIndex.metric(a,b)"
   ]
  },
  {
   "cell_type": "code",
   "execution_count": null,
   "id": "3af6e9fe-dcb3-456b-b291-9d7fb29efe32",
   "metadata": {},
   "outputs": [],
   "source": [
    "ColorIndex.delta(a,b)"
   ]
  },
  {
   "cell_type": "code",
   "execution_count": null,
   "id": "64bb195c-6a80-4a19-b503-ee218a63ce9d",
   "metadata": {},
   "outputs": [],
   "source": [
    " ColorIndex.delta(a,d)*ColorIndex.delta(c,b)/2- 1/N_c/2*ColorIndex.delta(a,b)*ColorIndex.delta(c,d)"
   ]
  },
  {
   "cell_type": "code",
   "execution_count": null,
   "id": "43416fa8-970f-475e-bc41-92531ab2f031",
   "metadata": {},
   "outputs": [],
   "source": []
  }
 ],
 "metadata": {
  "kernelspec": {
   "display_name": "Python 3 (ipykernel)",
   "language": "python",
   "name": "python3"
  },
  "language_info": {
   "codemirror_mode": {
    "name": "ipython",
    "version": 3
   },
   "file_extension": ".py",
   "mimetype": "text/x-python",
   "name": "python",
   "nbconvert_exporter": "python",
   "pygments_lexer": "ipython3",
   "version": "3.11.4"
  }
 },
 "nbformat": 4,
 "nbformat_minor": 5
}
