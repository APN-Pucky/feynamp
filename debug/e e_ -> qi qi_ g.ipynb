{
 "cells": [
  {
   "cell_type": "code",
   "execution_count": 1,
   "id": "4c0e4893",
   "metadata": {},
   "outputs": [
    {
     "name": "stdout",
     "output_type": "stream",
     "text": [
      "\n",
      "\tPlease cite the following papers if you use this code:\n",
      "\n",
      "      [1] Automatic Feynman graph generation J. Comput. Phys. 105 (1993) 279--289 https://doi.org/10.1006/jcph.1993.1074\n",
      "\n",
      "      [2] Abusing Qgraf Nucl. Instrum. Methods Phys. Res. A 559 (2006) 220--223 https://doi.org/10.1016/j.nima.2005.11.151\n",
      "\n",
      "      [3] Feynman graph generation and propagator mixing, I Comput. Phys. Commun. 269 (2021) 108103 https://doi.org/10.1016/j.cpc.2021.108103\n",
      "\n",
      "\t\n"
     ]
    }
   ],
   "source": [
    "import numpy as np\n",
    "from pyqgraf import qgraf, model\n",
    "from feynml.interface.qgraf import style"
   ]
  },
  {
   "cell_type": "code",
   "execution_count": 2,
   "id": "6c9e9d6c",
   "metadata": {},
   "outputs": [],
   "source": [
    "from feynmodel.interface.ufo import load_ufo_model\n",
    "from feynmodel.interface.qgraf import feynmodel_to_qgraf\n",
    "fm = load_ufo_model(\"ufo_sm\")\n",
    "qfm = feynmodel_to_qgraf(fm, True, False)"
   ]
  },
  {
   "cell_type": "code",
   "execution_count": 3,
   "id": "19273b74",
   "metadata": {},
   "outputs": [],
   "source": [
    "qgraf.install(\"3.6.5\")\n",
    "xml_string = qgraf.run(\"e_minus[p1], e_plus[p2]\", \"u[p3], u_bar[p4], g[p5]\",\n",
    "                       loops=0,\n",
    "                       loop_momentum=\"l\",\n",
    "                       model = qfm, \n",
    "                       style=style,\n",
    "                       debug=False)\n",
    "#print(xml_string)"
   ]
  },
  {
   "cell_type": "code",
   "execution_count": 4,
   "id": "1a89869b",
   "metadata": {},
   "outputs": [
    {
     "data": {
      "text/plain": [
       "4"
      ]
     },
     "execution_count": 4,
     "metadata": {},
     "output_type": "execute_result"
    }
   ],
   "source": [
    "from xsdata.formats.dataclass.parsers import XmlParser\n",
    "from pyfeyn2.feynmandiagram import FeynML\n",
    "\n",
    "parser = XmlParser()\n",
    "fml = parser.from_string(xml_string, FeynML)\n",
    "len(fml.diagrams)"
   ]
  },
  {
   "cell_type": "code",
   "execution_count": 5,
   "id": "278415dd",
   "metadata": {},
   "outputs": [],
   "source": [
    "fd1,fd2 = np.array(fml.diagrams)[[f.has_pdgid(22) for f in fml.diagrams]]\n",
    "#fd1.legs = [fd1.legs[0],fd1.legs[1],fd1.legs[3],fd1.legs[2],fd1.legs[4]]\n",
    "#fd2.legs = [fd2.legs[0],fd2.legs[1],fd2.legs[3],fd2.legs[2],fd2.legs[4]]"
   ]
  },
  {
   "cell_type": "code",
   "execution_count": 6,
   "id": "a4a5fbcc-d7fe-40cc-8e4e-b72db8f6409d",
   "metadata": {},
   "outputs": [
    {
     "data": {
      "image/png": "[encoded data removed]",
      "text/plain": [
       "<wand.image.Image: b1dbcc5 'PDF' (406x394)>"
      ]
     },
     "metadata": {},
     "output_type": "display_data"
    }
   ],
   "source": [
    "fd1.conjugated()"
   ]
  },
  {
   "cell_type": "code",
   "execution_count": 7,
   "id": "af260f0a-83f4-4827-adee-e3949413a270",
   "metadata": {},
   "outputs": [
    {
     "data": {
      "image/png": "[encoded data removed]",
      "text/plain": [
       "<wand.image.Image: 0653878 'PDF' (396x394)>"
      ]
     },
     "metadata": {},
     "output_type": "display_data"
    }
   ],
   "source": [
    "fd2.conjugated()"
   ]
  },
  {
   "cell_type": "code",
   "execution_count": 8,
   "id": "3cd78db8-82ac-49e8-9bd8-446cda11bf25",
   "metadata": {},
   "outputs": [
    {
     "data": {
      "image/png": "[encoded data removed]",
      "text/plain": [
       "<wand.image.Image: 076b3c7 'PDF' (396x394)>"
      ]
     },
     "metadata": {},
     "output_type": "display_data"
    }
   ],
   "source": [
    "fd2"
   ]
  },
  {
   "cell_type": "code",
   "execution_count": 9,
   "id": "64508979",
   "metadata": {},
   "outputs": [
    {
     "data": {
      "text/plain": [
       "'(-(ee*complex(0,1))*1*Gamma(MuInProp1,SpinIn2,SpinIn1) * complex(0,1)*G*T(GluOut3,ColOut1,ColInProp2)*Gamma(MuOut3,SpinOut1,SpinInProp2) * (2*ee*complex(0,1))/3.*Identity(ColOut2,ColOutProp2)*Gamma(MuOutProp1,SpinOutProp2,SpinOut2) * u(SpinIn1,Mom_p1) * v(SpinIn2,Mom_p2) * VC(ColOut1,Mom_p3)*u_bar(SpinOut1,Mom_p3) * VC(ColOut2,Mom_p4)*v_bar(SpinOut2,Mom_p4) * VA(GluOut3,Mom_p5)*eps_star(MuOut3,PolOut3,Mom_p5) * Metric(MuInProp1,MuOutProp1)*Denom(-Mom_p1-Mom_p2,0) * df(ColInProp2,ColOutProp2)*(P(Mu34,Mom_p3+Mom_p5)*Gamma(Mu34,SpinInProp2,SpinOutProp2) + 0*GammaId(SpinInProp2,SpinInProp2))*Denom(Mom_p3+Mom_p5,0))*1'"
      ]
     },
     "execution_count": 9,
     "metadata": {},
     "output_type": "execute_result"
    }
   ],
   "source": [
    "from feynamp import amplitude as amp\n",
    "am = amp.add([fd1],fm)\n",
    "am"
   ]
  },
  {
   "cell_type": "code",
   "execution_count": 10,
   "id": "fd34f68a",
   "metadata": {},
   "outputs": [
    {
     "data": {
      "text/latex": [
       "$\\displaystyle 0.666666666666667 i G ee^{2} \\operatorname{Denom}{\\left(- Mom_{p1} - Mom_{p2},0 \\right)} \\operatorname{Denom}{\\left(Mom_{p3} + Mom_{p5},0 \\right)} \\operatorname{Identity}{\\left(ColOut_{2},ColOutProp_{2} \\right)} P{\\left(\\mathrm{M}_{41},Mom_{p3} + Mom_{p5} \\right)} T{\\left(GluOut_{3},ColOut_{1},ColInProp_{2} \\right)} \\operatorname{VA}{\\left(GluOut_{3},Mom_{p5} \\right)} \\operatorname{VC}{\\left(ColOut_{1},Mom_{p3} \\right)} \\operatorname{VC}{\\left(ColOut_{2},Mom_{p4} \\right)} \\operatorname{df}{\\left(ColInProp_{2},ColOutProp_{2} \\right)} \\operatorname{eps}_{star}{\\left(MuOut_{3},PolOut_{3},Mom_{p5} \\right)} \\gamma{\\left(\\mathrm{M}_{41},SpinInProp_{2},SpinOutProp_{2} \\right)} \\gamma{\\left(MuInProp_{1},SpinIn_{2},SpinIn_{1} \\right)} \\gamma{\\left(MuOut_{3},SpinOut_{1},SpinInProp_{2} \\right)} \\gamma{\\left(MuOutProp_{1},SpinOutProp_{2},SpinOut_{2} \\right)} \\operatorname{metric}{\\left(MuInProp_{1},MuOutProp_{1} \\right)} u{\\left(SpinIn_{1},Mom_{p1} \\right)} u_{bar}{\\left(SpinOut_{1},Mom_{p3} \\right)} v{\\left(SpinIn_{2},Mom_{p2} \\right)} v_{bar}{\\left(SpinOut_{2},Mom_{p4} \\right)}$"
      ],
      "text/plain": [
       "0.666666666666667*I*G*ee**2*Denom(-Mom_p1 - Mom_p2, 0)*Denom(Mom_p3 + Mom_p5, 0)*Identity(ColOut2, ColOutProp2)*P(Mu41, Mom_p3 + Mom_p5)*T(GluOut3, ColOut1, ColInProp2)*VA(GluOut3, Mom_p5)*VC(ColOut1, Mom_p3)*VC(ColOut2, Mom_p4)*df(ColInProp2, ColOutProp2)*eps_star(MuOut3, PolOut3, Mom_p5)*gamma(Mu41, SpinInProp2, SpinOutProp2)*gamma(MuInProp1, SpinIn2, SpinIn1)*gamma(MuOut3, SpinOut1, SpinInProp2)*gamma(MuOutProp1, SpinOutProp2, SpinOut2)*metric(MuInProp1, MuOutProp1)*u(SpinIn1, Mom_p1)*u_bar(SpinOut1, Mom_p3)*v(SpinIn2, Mom_p2)*v_bar(SpinOut2, Mom_p4)"
      ]
     },
     "execution_count": 10,
     "metadata": {},
     "output_type": "execute_result"
    }
   ],
   "source": [
    "from feynamp import sympy as samp\n",
    "samp.string_to_sympy(amp.feynman_diagram_to_string(fd1,fm))"
   ]
  },
  {
   "cell_type": "code",
   "execution_count": 11,
   "id": "b10e7baf",
   "metadata": {},
   "outputs": [
    {
     "data": {
      "text/plain": [
       "'(-(ee*complex(0,1))*1*Gamma(MuInProp1,SpinIn2,SpinIn1) * complex(0,1)*G*T(GluOut3,ColOut1,ColInProp2)*Gamma(MuOut3,SpinOut1,SpinInProp2) * (2*ee*complex(0,1))/3.*Identity(ColOut2,ColOutProp2)*Gamma(MuOutProp1,SpinOutProp2,SpinOut2) * u(SpinIn1,Mom_p1) * v(SpinIn2,Mom_p2) * VC(ColOut1,Mom_p3)*u_bar(SpinOut1,Mom_p3) * VC(ColOut2,Mom_p4)*v_bar(SpinOut2,Mom_p4) * VA(GluOut3,Mom_p5)*eps_star(MuOut3,PolOut3,Mom_p5) * Metric(MuInProp1,MuOutProp1)*Denom(-Mom_p1-Mom_p2,0) * df(ColInProp2,ColOutProp2)*(P(Mu48,Mom_p3+Mom_p5)*Gamma(Mu48,SpinInProp2,SpinOutProp2) + 0*GammaId(SpinInProp2,SpinInProp2))*Denom(Mom_p3+Mom_p5,0))*(-(ee*complex(0,1))*1*Gamma(MuOutPropagator64,SpinLeg59,SpinLeg60) * complex(0,1)*G*T(GluLeg63,ColOutPropagator65,ColLeg61)*Gamma(MuLeg63,SpinOutPropagator65,SpinLeg61) * (2*ee*complex(0,1))/3.*Identity(ColInPropagator65,ColLeg62)*Gamma(MuInPropagator64,SpinLeg62,SpinInPropagator65) * u_bar(SpinLeg59,Mom_p1) * v_bar(SpinLeg60,Mom_p2) * VC(ColLeg61,Mom_p3)*u(SpinLeg61,Mom_p3) * VC(ColLeg62,Mom_p4)*v(SpinLeg62,Mom_p4) * VA(GluLeg63,Mom_p5)*eps(MuLeg63,PolLeg63,Mom_p5) * Metric(MuInPropagator64,MuOutPropagator64)*Denom(-Mom_p1-Mom_p2,0) * df(ColInPropagator65,ColOutPropagator65)*(P(Mu72,Mom_p3+Mom_p5)*Gamma(Mu72,SpinInPropagator65,SpinOutPropagator65) + 0*GammaId(SpinInPropagator65,SpinInPropagator65))*Denom(Mom_p3+Mom_p5,0)) + 2*(+-(ee*complex(0,1))*1*Gamma(MuInProp1,SpinIn2,SpinIn1) * complex(0,1)*G*T(GluOut3,ColOut1,ColInProp2)*Gamma(MuOut3,SpinOut1,SpinInProp2) * (2*ee*complex(0,1))/3.*Identity(ColOut2,ColOutProp2)*Gamma(MuOutProp1,SpinOutProp2,SpinOut2) * u(SpinIn1,Mom_p1) * v(SpinIn2,Mom_p2) * VC(ColOut1,Mom_p3)*u_bar(SpinOut1,Mom_p3) * VC(ColOut2,Mom_p4)*v_bar(SpinOut2,Mom_p4) * VA(GluOut3,Mom_p5)*eps_star(MuOut3,PolOut3,Mom_p5) * Metric(MuInProp1,MuOutProp1)*Denom(-Mom_p1-Mom_p2,0) * df(ColInProp2,ColOutProp2)*(P(Mu48,Mom_p3+Mom_p5)*Gamma(Mu48,SpinInProp2,SpinOutProp2) + 0*GammaId(SpinInProp2,SpinInProp2))*Denom(Mom_p3+Mom_p5,0))*(-(ee*complex(0,1))*1*Gamma(MuOutPropagator81,SpinLeg76,SpinLeg77) * complex(0,1)*G*T(GluLeg80,ColLeg79,ColInPropagator82)*Gamma(MuLeg80,SpinLeg79,SpinInPropagator82) * (2*ee*complex(0,1))/3.*Identity(ColLeg78,ColOutPropagator82)*Gamma(MuInPropagator81,SpinOutPropagator82,SpinLeg78) * u_bar(SpinLeg76,Mom_p1) * v_bar(SpinLeg77,Mom_p2) * VC(ColLeg78,Mom_p3)*u(SpinLeg78,Mom_p3) * VC(ColLeg79,Mom_p4)*v(SpinLeg79,Mom_p4) * VA(GluLeg80,Mom_p5)*eps(MuLeg80,PolLeg80,Mom_p5) * Metric(MuInPropagator81,MuOutPropagator81)*Denom(-Mom_p1-Mom_p2,0) * df(ColInPropagator82,ColOutPropagator82)*(P(Mu89,-Mom_p4-Mom_p5)*Gamma(Mu89,SpinInPropagator82,SpinOutPropagator82) + 0*GammaId(SpinInPropagator82,SpinInPropagator82))*Denom(-Mom_p4-Mom_p5,0))*1 + (-(ee*complex(0,1))*1*Gamma(MuInProp1,SpinIn2,SpinIn1) * complex(0,1)*G*T(GluOut3,ColOutProp2,ColOut2)*Gamma(MuOut3,SpinOutProp2,SpinOut2) * (2*ee*complex(0,1))/3.*Identity(ColInProp2,ColOut1)*Gamma(MuOutProp1,SpinOut1,SpinInProp2) * u(SpinIn1,Mom_p1) * v(SpinIn2,Mom_p2) * VC(ColOut1,Mom_p3)*u_bar(SpinOut1,Mom_p3) * VC(ColOut2,Mom_p4)*v_bar(SpinOut2,Mom_p4) * VA(GluOut3,Mom_p5)*eps_star(MuOut3,PolOut3,Mom_p5) * Metric(MuInProp1,MuOutProp1)*Denom(-Mom_p1-Mom_p2,0) * df(ColInProp2,ColOutProp2)*(P(Mu55,-Mom_p4-Mom_p5)*Gamma(Mu55,SpinInProp2,SpinOutProp2) + 0*GammaId(SpinInProp2,SpinInProp2))*Denom(-Mom_p4-Mom_p5,0))*(-(ee*complex(0,1))*1*Gamma(MuOutPropagator81,SpinLeg76,SpinLeg77) * complex(0,1)*G*T(GluLeg80,ColLeg79,ColInPropagator82)*Gamma(MuLeg80,SpinLeg79,SpinInPropagator82) * (2*ee*complex(0,1))/3.*Identity(ColLeg78,ColOutPropagator82)*Gamma(MuInPropagator81,SpinOutPropagator82,SpinLeg78) * u_bar(SpinLeg76,Mom_p1) * v_bar(SpinLeg77,Mom_p2) * VC(ColLeg78,Mom_p3)*u(SpinLeg78,Mom_p3) * VC(ColLeg79,Mom_p4)*v(SpinLeg79,Mom_p4) * VA(GluLeg80,Mom_p5)*eps(MuLeg80,PolLeg80,Mom_p5) * Metric(MuInPropagator81,MuOutPropagator81)*Denom(-Mom_p1-Mom_p2,0) * df(ColInPropagator82,ColOutPropagator82)*(P(Mu89,-Mom_p4-Mom_p5)*Gamma(Mu89,SpinInPropagator82,SpinOutPropagator82) + 0*GammaId(SpinInPropagator82,SpinInPropagator82))*Denom(-Mom_p4-Mom_p5,0))'"
      ]
     },
     "execution_count": 11,
     "metadata": {},
     "output_type": "execute_result"
    }
   ],
   "source": [
    "from feynamp.amplitude import square, multiply\n",
    "\n",
    "s2 =square([fd1,fd2],fm,tag=False)\n",
    "s2"
   ]
  },
  {
   "cell_type": "code",
   "execution_count": 12,
   "id": "3925b0e9-148f-4466-8f47-42d0cd821c70",
   "metadata": {},
   "outputs": [
    {
     "data": {
      "text/plain": [
       "'-(ee*complex(0,1))*1*Gamma(MuOutPropagator98,SpinLeg93,SpinLeg94) * complex(0,1)*G*T(GluLeg97,ColOutPropagator99,ColLeg95)*Gamma(MuLeg97,SpinOutPropagator99,SpinLeg95) * (2*ee*complex(0,1))/3.*Identity(ColInPropagator99,ColLeg96)*Gamma(MuInPropagator98,SpinLeg96,SpinInPropagator99) * u_bar(SpinLeg93,Mom_p1) * v_bar(SpinLeg94,Mom_p2) * VC(ColLeg95,Mom_p3)*u(SpinLeg95,Mom_p3) * VC(ColLeg96,Mom_p4)*v(SpinLeg96,Mom_p4) * VA(GluLeg97,Mom_p5)*eps(MuLeg97,PolLeg97,Mom_p5) * Metric(MuInPropagator98,MuOutPropagator98)*Denom(-Mom_p1-Mom_p2,0) * df(ColInPropagator99,ColOutPropagator99)*(P(Mu106,Mom_p3+Mom_p5)*Gamma(Mu106,SpinInPropagator99,SpinOutPropagator99) + 0*GammaId(SpinInPropagator99,SpinInPropagator99))*Denom(Mom_p3+Mom_p5,0)'"
      ]
     },
     "execution_count": 12,
     "metadata": {},
     "output_type": "execute_result"
    }
   ],
   "source": [
    "amp.feynman_diagram_to_string(fd1.conjugated(),fm)"
   ]
  },
  {
   "cell_type": "code",
   "execution_count": 13,
   "id": "fcbe8dbc-40b9-4eae-8494-e43691624089",
   "metadata": {},
   "outputs": [],
   "source": [
    "from feynamp.form.color import *\n",
    "from feynamp.form.lorentz import *\n",
    "from feynamp.form.momentum import *\n",
    "fs = \"\"\n",
    "fs += get_gammas()\n",
    "fs += get_color()\n",
    "fs += get_kinematics()\n",
    "fs += get_onshell(fd1,fm)\n",
    "fs += get_mandelstamm_2_to_3(fd2,fm)\n",
    "rs =apply(s2,fs)"
   ]
  },
  {
   "cell_type": "code",
   "execution_count": 14,
   "id": "b4afa0d1-9f43-451e-8f1c-f5d79cd71520",
   "metadata": {},
   "outputs": [],
   "source": [
    "rr =apply_den(rs, get_mandelstamm_2_to_3(fd1,fm) + get_onshell(fd1,fm))"
   ]
  },
  {
   "cell_type": "code",
   "execution_count": 15,
   "id": "24b87599-84ef-43a3-8f34-089e5234f131",
   "metadata": {},
   "outputs": [
    {
     "data": {
      "text/plain": [
       "'-64/9*1/(mss12)^2*1/(mss35)^2*G^2*Nc*Cf*ee^4*mss35*mst15*mst24-64/9*1/(mss12)^2*1/(mss35)^2*G^2*Nc*Cf*ee^4*mss35*mst14*mst25+64/9*1/(mss12)^2*1/(mss35)^2*G^2*Nc*Cf*ee^4*Mass_Me^2*mss35*mst25+64/9*1/(mss12)^2*1/(mss35)^2*G^2*Nc*Cf*ee^4*Mass_Me^2*mss35*mst24+64/9*1/(mss12)^2*1/(mss35)^2*G^2*Nc*Cf*ee^4*Mass_Me^2*mss35*mst15+64/9*1/(mss12)^2*1/(mss35)^2*G^2*Nc*Cf*ee^4*Mass_Me^2*mss35*mst14-128/9*1/(mss12)^2*1/(mss35)^2*G^2*Nc*Cf*ee^4*Mass_Me^4*mss35-128/9*1/(mss12)^2*1/(mss35)^2*G^2*Nc*Cf*ee^4*Mass_Me^4*mss35*mss45-64/9*1/(mss12)^2*1/(mss35)*1/(mss45)*G^2*Nc*Cf*ee^4*mss45*mst14*mst23-64/9*1/(mss12)^2*1/(mss35)*1/(mss45)*G^2*Nc*Cf*ee^4*mss45*mst13*mst24+128/9*1/(mss12)^2*1/(mss35)*1/(mss45)*G^2*Nc*Cf*ee^4*mss45*mst13*mst23+128/9*1/(mss12)^2*1/(mss35)*1/(mss45)*G^2*Nc*Cf*ee^4*mss35*mst14*mst24-64/9*1/(mss12)^2*1/(mss35)*1/(mss45)*G^2*Nc*Cf*ee^4*mss35*mst14*mst23-64/9*1/(mss12)^2*1/(mss35)*1/(mss45)*G^2*Nc*Cf*ee^4*mss35*mst13*mst24-64/9*1/(mss12)^2*1/(mss35)*1/(mss45)*G^2*Nc*Cf*ee^4*mss34*mst15*mst24-64/9*1/(mss12)^2*1/(mss35)*1/(mss45)*G^2*Nc*Cf*ee^4*mss34*mst15*mst23-64/9*1/(mss12)^2*1/(mss35)*1/(mss45)*G^2*Nc*Cf*ee^4*mss34*mst14*mst25-128/9*1/(mss12)^2*1/(mss35)*1/(mss45)*G^2*Nc*Cf*ee^4*mss34*mst14*mst23-64/9*1/(mss12)^2*1/(mss35)*1/(mss45)*G^2*Nc*Cf*ee^4*mss34*mst13*mst25-128/9*1/(mss12)^2*1/(mss35)*1/(mss45)*G^2*Nc*Cf*ee^4*mss34*mst13*mst24+64/9*1/(mss12)^2*1/(mss35)*1/(mss45)*G^2*Nc*Cf*ee^4*Mass_Me^2*mss45*mst24-64/9*1/(mss12)^2*1/(mss35)*1/(mss45)*G^2*Nc*Cf*ee^4*Mass_Me^2*mss45*mst23+64/9*1/(mss12)^2*1/(mss35)*1/(mss45)*G^2*Nc*Cf*ee^4*Mass_Me^2*mss45*mst14-64/9*1/(mss12)^2*1/(mss35)*1/(mss45)*G^2*Nc*Cf*ee^4*Mass_Me^2*mss45*mst13-64/9*1/(mss12)^2*1/(mss35)*1/(mss45)*G^2*Nc*Cf*ee^4*Mass_Me^2*mss35*mst24+64/9*1/(mss12)^2*1/(mss35)*1/(mss45)*G^2*Nc*Cf*ee^4*Mass_Me^2*mss35*mst23-64/9*1/(mss12)^2*1/(mss35)*1/(mss45)*G^2*Nc*Cf*ee^4*Mass_Me^2*mss35*mst14+64/9*1/(mss12)^2*1/(mss35)*1/(mss45)*G^2*Nc*Cf*ee^4*Mass_Me^2*mss35*mst13+128/9*1/(mss12)^2*1/(mss35)*1/(mss45)*G^2*Nc*Cf*ee^4*Mass_Me^2*mss34*mst25+64/3*1/(mss12)^2*1/(mss35)*1/(mss45)*G^2*Nc*Cf*ee^4*Mass_Me^2*mss34*mst24+64/3*1/(mss12)^2*1/(mss35)*1/(mss45)*G^2*Nc*Cf*ee^4*Mass_Me^2*mss34*mst23+128/9*1/(mss12)^2*1/(mss35)*1/(mss45)*G^2*Nc*Cf*ee^4*Mass_Me^2*mss34*mst15+64/3*1/(mss12)^2*1/(mss35)*1/(mss45)*G^2*Nc*Cf*ee^4*Mass_Me^2*mss34*mst14+64/3*1/(mss12)^2*1/(mss35)*1/(mss45)*G^2*Nc*Cf*ee^4*Mass_Me^2*mss34*mst13-512/9*1/(mss12)^2*1/(mss35)*1/(mss45)*G^2*Nc*Cf*ee^4*Mass_Me^4*mss34-256/9*1/(mss12)^2*1/(mss35)*1/(mss45)*G^2*Nc*Cf*ee^4*Mass_Me^4*mss34*mss45-256/9*1/(mss12)^2*1/(mss35)*1/(mss45)*G^2*Nc*Cf*ee^4*Mass_Me^4*mss34*mss35-256/9*1/(mss12)^2*1/(mss35)*1/(mss45)*G^2*Nc*Cf*ee^4*Mass_Me^4*mss34^2-64/9*1/(mss12)^2*1/(mss45)^2*G^2*Nc*Cf*ee^4*mss45*mst15*mst23-64/9*1/(mss12)^2*1/(mss45)^2*G^2*Nc*Cf*ee^4*mss45*mst13*mst25+64/9*1/(mss12)^2*1/(mss45)^2*G^2*Nc*Cf*ee^4*Mass_Me^2*mss45*mst25+64/9*1/(mss12)^2*1/(mss45)^2*G^2*Nc*Cf*ee^4*Mass_Me^2*mss45*mst23+64/9*1/(mss12)^2*1/(mss45)^2*G^2*Nc*Cf*ee^4*Mass_Me^2*mss45*mst15+64/9*1/(mss12)^2*1/(mss45)^2*G^2*Nc*Cf*ee^4*Mass_Me^2*mss45*mst13-128/9*1/(mss12)^2*1/(mss45)^2*G^2*Nc*Cf*ee^4*Mass_Me^4*mss45-128/9*1/(mss12)^2*1/(mss45)^2*G^2*Nc*Cf*ee^4*Mass_Me^4*mss35*mss45'"
      ]
     },
     "execution_count": 15,
     "metadata": {},
     "output_type": "execute_result"
    }
   ],
   "source": [
    "rr"
   ]
  },
  {
   "cell_type": "code",
   "execution_count": 24,
   "id": "0f40d6b1-b704-43a8-a765-c4ae8a7106b5",
   "metadata": {},
   "outputs": [
    {
     "data": {
      "text/latex": [
       "$\\displaystyle \\frac{64 G^{2} ee^{4} \\left(- s_{12} s_{35} t_{24} + s_{12} s_{45} t_{24} - s_{12} t_{13} t_{23} - s_{12} t_{13} t_{24} - s_{12} t_{23}^{2} - s_{12} t_{23} t_{24} - s_{21} s_{35} t_{14} + s_{21} s_{45} t_{14} - s_{21} t_{13}^{2} - s_{21} t_{13} t_{14} - s_{21} t_{13} t_{23} - s_{21} t_{14} t_{23} + 2 s_{45} t_{13} t_{23} + 2 s_{45} t_{14} t_{24} - 2 t_{13}^{2} t_{23} - 2 t_{13} t_{14} t_{24} - 2 t_{13} t_{23}^{2} - 2 t_{14} t_{23} t_{24}\\right)}{81 s_{12}^{2} s_{35} s_{45}}$"
      ],
      "text/plain": [
       "64*G**2*ee**4*(-s12*s35*t24 + s12*s45*t24 - s12*t13*t23 - s12*t13*t24 - s12*t23**2 - s12*t23*t24 - s21*s35*t14 + s21*s45*t14 - s21*t13**2 - s21*t13*t14 - s21*t13*t23 - s21*t14*t23 + 2*s45*t13*t23 + 2*s45*t14*t24 - 2*t13**2*t23 - 2*t13*t14*t24 - 2*t13*t23**2 - 2*t14*t23*t24)/(81*s12**2*s35*s45)"
      ]
     },
     "execution_count": 24,
     "metadata": {},
     "output_type": "execute_result"
    }
   ],
   "source": [
    "from sympy.parsing.sympy_parser import parse_expr\n",
    "from sympy import *\n",
    "ret =simplify(parse_expr(rr.replace(\"Mom_\",\"\").replace(\".\",\"_\").replace(\"^\",\"**\")\n",
    "                    .replace(\"Mass_Me\",\"0\")\n",
    "                   .replace(\"mss\",\"s\")\n",
    "                   .replace(\"msu\",\"u\")\n",
    "                   .replace(\"mst\",\"t\")))\n",
    "# here we use the tags to set the right relative sign\n",
    "ret = simplify(ret.subs(\"Nc\",\"3\").subs(\"Cf\",\"4/3\")\n",
    "               .subs(\"s34\",\"-t13-t23-s35\")\n",
    "               .subs(\"t15\",\"-s12-t13-t14\")\n",
    "               .subs(\"t25\",\"-s21-t23-t24\")\n",
    "               .subs(\"fdDiagram3fdDiagram3\",\"1\").subs(\"fdDiagram6fdDiagram6\",\"1\").subs(\"fdDiagram3\",\"1\").subs(\"fdDiagram6\",\"1\").subs(\"fdDiagram3fdDiagram6\",\"-1\"))/2/2/3/3 # average spins and colors\n",
    "ret"
   ]
  },
  {
   "cell_type": "code",
   "execution_count": 25,
   "id": "63a7854e-8180-4f58-9f1f-38e09801b38e",
   "metadata": {},
   "outputs": [
    {
     "name": "stdout",
     "output_type": "stream",
     "text": [
      "64*G**2*ee**4*(-s12*s35*t24 + s12*s45*t24 - s12*t13*t23 - s12*t13*t24 - s12*t23**2 - s12*t23*t24 - s21*s35*t14 + s21*s45*t14 - s21*t13**2 - s21*t13*t14 - s21*t13*t23 - s21*t14*t23 + 2*s45*t13*t23 + 2*s45*t14*t24 - 2*t13**2*t23 - 2*t13*t14*t24 - 2*t13*t23**2 - 2*t14*t23*t24)/(81*s12**2*s35*s45)\n"
     ]
    }
   ],
   "source": [
    "print(ret)"
   ]
  },
  {
   "cell_type": "code",
   "execution_count": 26,
   "id": "02d73f3f-80ce-4bff-8f65-ef9c0cd33187",
   "metadata": {},
   "outputs": [
    {
     "name": "stdout",
     "output_type": "stream",
     "text": [
      "64*G**2*ee**4*(-s12*s35*t24 + s12*s45*t24 - s12*t13*t23 - s12*t13*t24 - s12*t23**2 - s12*t23*t24 - s21*s35*t14 + s21*s45*t14 - s21*t13**2 - s21*t13*t14 - s21*t13*t23 - s21*t14*t23 + 2*s45*t13*t23 + 2*s45*t14*t24 - 2*t13**2*t23 - 2*t13*t14*t24 - 2*t13*t23**2 - 2*t14*t23*t24)/(81*s12**2*s35*s45)\n"
     ]
    }
   ],
   "source": [
    "print(ret)"
   ]
  },
  {
   "cell_type": "code",
   "execution_count": null,
   "id": "a0c997aa-7335-419e-8562-a83dfce8a3fe",
   "metadata": {},
   "outputs": [],
   "source": []
  }
 ],
 "metadata": {
  "kernelspec": {
   "display_name": "Python 3 (ipykernel)",
   "language": "python",
   "name": "python3"
  },
  "language_info": {
   "codemirror_mode": {
    "name": "ipython",
    "version": 3
   },
   "file_extension": ".py",
   "mimetype": "text/x-python",
   "name": "python",
   "nbconvert_exporter": "python",
   "pygments_lexer": "ipython3",
   "version": "3.11.5"
  }
 },
 "nbformat": 4,
 "nbformat_minor": 5
}
