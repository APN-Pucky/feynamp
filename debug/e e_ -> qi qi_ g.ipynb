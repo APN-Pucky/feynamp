{
 "cells": [
  {
   "cell_type": "code",
   "execution_count": 1,
   "id": "4c0e4893",
   "metadata": {},
   "outputs": [
    {
     "name": "stdout",
     "output_type": "stream",
     "text": [
      "\n",
      "\tPlease cite the following papers if you use this code:\n",
      "\n",
      "      [1] Automatic Feynman graph generation J. Comput. Phys. 105 (1993) 279--289 https://doi.org/10.1006/jcph.1993.1074\n",
      "\n",
      "      [2] Abusing Qgraf Nucl. Instrum. Methods Phys. Res. A 559 (2006) 220--223 https://doi.org/10.1016/j.nima.2005.11.151\n",
      "\n",
      "      [3] Feynman graph generation and propagator mixing, I Comput. Phys. Commun. 269 (2021) 108103 https://doi.org/10.1016/j.cpc.2021.108103\n",
      "\n",
      "\t\n"
     ]
    }
   ],
   "source": [
    "import numpy as np\n",
    "from pyqgraf import qgraf, model\n",
    "from feynml.interface.qgraf import style\n",
    "import logging\n",
    "logger = logging.getLogger(\"feynamp\")\n",
    "logger.setLevel(logging.DEBUG)"
   ]
  },
  {
   "cell_type": "code",
   "execution_count": 2,
   "id": "6c9e9d6c",
   "metadata": {},
   "outputs": [],
   "source": [
    "from feynmodel.interface.ufo import load_ufo_model\n",
    "from feynmodel.interface.qgraf import feynmodel_to_qgraf\n",
    "fm = load_ufo_model(\"ufo_sm\")\n",
    "qfm = feynmodel_to_qgraf(fm, True, False)"
   ]
  },
  {
   "cell_type": "code",
   "execution_count": 3,
   "id": "19273b74",
   "metadata": {},
   "outputs": [],
   "source": [
    "qgraf.install(\"3.6.5\")\n",
    "xml_string = qgraf.run(\"e_minus[p1], e_plus[p2]\", \"u[p3], u_bar[p4], g[p5]\",\n",
    "                       loops=0,\n",
    "                       loop_momentum=\"l\",\n",
    "                       model = qfm, \n",
    "                       style=style,\n",
    "                       debug=False)\n",
    "#print(xml_string)"
   ]
  },
  {
   "cell_type": "code",
   "execution_count": 4,
   "id": "1a89869b",
   "metadata": {},
   "outputs": [
    {
     "data": {
      "text/plain": [
       "4"
      ]
     },
     "execution_count": 4,
     "metadata": {},
     "output_type": "execute_result"
    }
   ],
   "source": [
    "from xsdata.formats.dataclass.parsers import XmlParser\n",
    "from pyfeyn2.feynmandiagram import FeynML\n",
    "\n",
    "parser = XmlParser()\n",
    "fml = parser.from_string(xml_string, FeynML)\n",
    "len(fml.diagrams)"
   ]
  },
  {
   "cell_type": "code",
   "execution_count": 5,
   "id": "278415dd",
   "metadata": {},
   "outputs": [],
   "source": [
    "fd1,fd2 = np.array(fml.diagrams)[[f.has_pdgid(22) for f in fml.diagrams]]\n",
    "fds = [fd1,fd2]\n",
    "#fd1.legs = [fd1.legs[0],fd1.legs[1],fd1.legs[3],fd1.legs[2],fd1.legs[4]]\n",
    "#fd2.legs = [fd2.legs[0],fd2.legs[1],fd2.legs[3],fd2.legs[2],fd2.legs[4]]"
   ]
  },
  {
   "cell_type": "code",
   "execution_count": 6,
   "id": "70f01e81-dfe4-452f-9fb3-892d8a0c228c",
   "metadata": {},
   "outputs": [],
   "source": [
    "#fd2.with_rule(\"* {momentum-arrow: true}\")"
   ]
  },
  {
   "cell_type": "code",
   "execution_count": 7,
   "id": "8d1d42bf-9760-462c-a149-8ed9732a2144",
   "metadata": {},
   "outputs": [],
   "source": [
    "#fd2.conjugated().with_rule(\"* {momentum-arrow: true}\")"
   ]
  },
  {
   "cell_type": "code",
   "execution_count": 8,
   "id": "64508979",
   "metadata": {},
   "outputs": [
    {
     "data": {
      "text/plain": [
       "'(((-(ee*complex(0,1)))*(1)*(Gamma(MuInProp1,SpinIn2,SpinIn1))) * ((complex(0,1)*G)*(T(GluOut3,ColOut1,ColInProp2))*(Gamma(MuOut3,SpinOut1,SpinInProp2))) * (((2*ee*complex(0,1))/3.)*(Identity(ColOut2,ColOutProp2))*(Gamma(MuOutProp1,SpinOutProp2,SpinOut2))) * (u(SpinIn1,Mom_p1)) * (v(SpinIn2,Mom_p2)) * (VC(ColOut1,Mom_p3)*u_bar(SpinOut1,Mom_p3)) * (VC(ColOut2,Mom_p4)*v_bar(SpinOut2,Mom_p4)) * (VA(GluOut3,Mom_p5)*eps_star(MuOut3,PolOut3,Mom_p5)) * ((-1)*complex(0,1)*Metric(MuInProp1,MuOutProp1)*Denom(-Mom_p1-Mom_p2,0)) * (df(ColInProp2,ColOutProp2)*complex(0,1)*(P(Mu14,Mom_p3+Mom_p5)*Gamma(Mu14,SpinInProp2,SpinOutProp2) + 0*GammaId(SpinInProp2,SpinOutProp2))*Denom(Mom_p3+Mom_p5,0)))*1'"
      ]
     },
     "execution_count": 8,
     "metadata": {},
     "output_type": "execute_result"
    }
   ],
   "source": [
    "from feynamp import amplitude as amp\n",
    "am = amp.add([fd1],fm)\n",
    "am"
   ]
  },
  {
   "cell_type": "code",
   "execution_count": 9,
   "id": "fd34f68a",
   "metadata": {},
   "outputs": [
    {
     "data": {
      "text/latex": [
       "$\\displaystyle 0.666666666666667 i G ee^{2} \\operatorname{Denom}{\\left(- Mom_{p1} - Mom_{p2},0 \\right)} \\operatorname{Denom}{\\left(Mom_{p3} + Mom_{p5},0 \\right)} \\operatorname{Identity}{\\left(ColOut_{2},ColOutProp_{2} \\right)} P{\\left(\\mathrm{M}_{21},Mom_{p3} + Mom_{p5} \\right)} T{\\left(GluOut_{3},ColOut_{1},ColInProp_{2} \\right)} \\operatorname{VA}{\\left(GluOut_{3},Mom_{p5} \\right)} \\operatorname{VC}{\\left(ColOut_{1},Mom_{p3} \\right)} \\operatorname{VC}{\\left(ColOut_{2},Mom_{p4} \\right)} \\operatorname{df}{\\left(ColInProp_{2},ColOutProp_{2} \\right)} \\operatorname{eps}_{star}{\\left(MuOut_{3},PolOut_{3},Mom_{p5} \\right)} \\gamma{\\left(\\mathrm{M}_{21},SpinInProp_{2},SpinOutProp_{2} \\right)} \\gamma{\\left(MuInProp_{1},SpinIn_{2},SpinIn_{1} \\right)} \\gamma{\\left(MuOut_{3},SpinOut_{1},SpinInProp_{2} \\right)} \\gamma{\\left(MuOutProp_{1},SpinOutProp_{2},SpinOut_{2} \\right)} \\operatorname{metric}{\\left(MuInProp_{1},MuOutProp_{1} \\right)} u{\\left(SpinIn_{1},Mom_{p1} \\right)} u_{bar}{\\left(SpinOut_{1},Mom_{p3} \\right)} v{\\left(SpinIn_{2},Mom_{p2} \\right)} v_{bar}{\\left(SpinOut_{2},Mom_{p4} \\right)}$"
      ],
      "text/plain": [
       "0.666666666666667*I*G*ee**2*Denom(-Mom_p1 - Mom_p2, 0)*Denom(Mom_p3 + Mom_p5, 0)*Identity(ColOut2, ColOutProp2)*P(Mu21, Mom_p3 + Mom_p5)*T(GluOut3, ColOut1, ColInProp2)*VA(GluOut3, Mom_p5)*VC(ColOut1, Mom_p3)*VC(ColOut2, Mom_p4)*df(ColInProp2, ColOutProp2)*eps_star(MuOut3, PolOut3, Mom_p5)*gamma(Mu21, SpinInProp2, SpinOutProp2)*gamma(MuInProp1, SpinIn2, SpinIn1)*gamma(MuOut3, SpinOut1, SpinInProp2)*gamma(MuOutProp1, SpinOutProp2, SpinOut2)*metric(MuInProp1, MuOutProp1)*u(SpinIn1, Mom_p1)*u_bar(SpinOut1, Mom_p3)*v(SpinIn2, Mom_p2)*v_bar(SpinOut2, Mom_p4)"
      ]
     },
     "execution_count": 9,
     "metadata": {},
     "output_type": "execute_result"
    }
   ],
   "source": [
    "from feynamp import sympy as samp\n",
    "samp.string_to_sympy(amp.feynman_diagram_to_string(fd1,fm))"
   ]
  },
  {
   "cell_type": "code",
   "execution_count": 10,
   "id": "b10e7baf",
   "metadata": {},
   "outputs": [
    {
     "data": {
      "text/plain": [
       "['(((-(ee*complex(0,1)))*(1)*(Gamma(MuInProp1,SpinIn2,SpinIn1))) * ((complex(0,1)*G)*(T(GluOut3,ColOut1,ColInProp2))*(Gamma(MuOut3,SpinOut1,SpinInProp2))) * (((2*ee*complex(0,1))/3.)*(Identity(ColOut2,ColOutProp2))*(Gamma(MuOutProp1,SpinOutProp2,SpinOut2))) * (u(SpinIn1,Mom_p1)) * (v(SpinIn2,Mom_p2)) * (VC(ColOut1,Mom_p3)*u_bar(SpinOut1,Mom_p3)) * (VC(ColOut2,Mom_p4)*v_bar(SpinOut2,Mom_p4)) * (VA(GluOut3,Mom_p5)*eps_star(MuOut3,PolOut3,Mom_p5)) * ((-1)*complex(0,1)*Metric(MuInProp1,MuOutProp1)*Denom(-Mom_p1-Mom_p2,0)) * (df(ColInProp2,ColOutProp2)*complex(0,1)*(P(Mu28,Mom_p3+Mom_p5)*Gamma(Mu28,SpinInProp2,SpinOutProp2) + 0*GammaId(SpinInProp2,SpinOutProp2))*Denom(Mom_p3+Mom_p5,0)))*(((-(ee*complex(0,1)))*(1)*(Gamma(MuOutPropagator44,SpinLeg39,SpinLeg40))) * ((complex(0,1)*G)*(T(GluLeg43,ColOutPropagator45,ColLeg41))*(Gamma(MuLeg43,SpinOutPropagator45,SpinLeg41))) * (((2*ee*complex(0,1))/3.)*(Identity(ColInPropagator45,ColLeg42))*(Gamma(MuInPropagator44,SpinLeg42,SpinInPropagator45))) * (u_bar(SpinLeg39,Mom_p1)) * (v_bar(SpinLeg40,Mom_p2)) * (VC(ColLeg41,Mom_p3)*u(SpinLeg41,Mom_p3)) * (VC(ColLeg42,Mom_p4)*v(SpinLeg42,Mom_p4)) * (VA(GluLeg43,Mom_p5)*eps(MuLeg43,PolLeg43,Mom_p5)) * ((-1)*complex(0,1)*Metric(MuInPropagator44,MuOutPropagator44)*Denom(-Mom_p1-Mom_p2,0)) * (df(ColInPropagator45,ColOutPropagator45)*complex(0,1)*(P(Mu52,Mom_p3+Mom_p5)*Gamma(Mu52,SpinInPropagator45,SpinOutPropagator45) + 0*GammaId(SpinInPropagator45,SpinOutPropagator45))*Denom(Mom_p3+Mom_p5,0)))*1',\n",
       " '((((-(ee*complex(0,1)))*(1)*(Gamma(MuInProp1,SpinIn2,SpinIn1))) * ((complex(0,1)*G)*(T(GluOut3,ColOut1,ColInProp2))*(Gamma(MuOut3,SpinOut1,SpinInProp2))) * (((2*ee*complex(0,1))/3.)*(Identity(ColOut2,ColOutProp2))*(Gamma(MuOutProp1,SpinOutProp2,SpinOut2))) * (u(SpinIn1,Mom_p1)) * (v(SpinIn2,Mom_p2)) * (VC(ColOut1,Mom_p3)*u_bar(SpinOut1,Mom_p3)) * (VC(ColOut2,Mom_p4)*v_bar(SpinOut2,Mom_p4)) * (VA(GluOut3,Mom_p5)*eps_star(MuOut3,PolOut3,Mom_p5)) * ((-1)*complex(0,1)*Metric(MuInProp1,MuOutProp1)*Denom(-Mom_p1-Mom_p2,0)) * (df(ColInProp2,ColOutProp2)*complex(0,1)*(P(Mu28,Mom_p3+Mom_p5)*Gamma(Mu28,SpinInProp2,SpinOutProp2) + 0*GammaId(SpinInProp2,SpinOutProp2))*Denom(Mom_p3+Mom_p5,0)))*(((-(ee*complex(0,1)))*(1)*(Gamma(MuOutPropagator61,SpinLeg56,SpinLeg57))) * ((complex(0,1)*G)*(T(GluLeg60,ColLeg59,ColInPropagator62))*(Gamma(MuLeg60,SpinLeg59,SpinInPropagator62))) * (((2*ee*complex(0,1))/3.)*(Identity(ColLeg58,ColOutPropagator62))*(Gamma(MuInPropagator61,SpinOutPropagator62,SpinLeg58))) * (u_bar(SpinLeg56,Mom_p1)) * (v_bar(SpinLeg57,Mom_p2)) * (VC(ColLeg58,Mom_p3)*u(SpinLeg58,Mom_p3)) * (VC(ColLeg59,Mom_p4)*v(SpinLeg59,Mom_p4)) * (VA(GluLeg60,Mom_p5)*eps(MuLeg60,PolLeg60,Mom_p5)) * ((-1)*complex(0,1)*Metric(MuInPropagator61,MuOutPropagator61)*Denom(-Mom_p1-Mom_p2,0)) * (df(ColInPropagator62,ColOutPropagator62)*complex(0,1)*(P(Mu69,-Mom_p4-Mom_p5)*Gamma(Mu69,SpinInPropagator62,SpinOutPropagator62) + 0*GammaId(SpinInPropagator62,SpinOutPropagator62))*Denom(-Mom_p4-Mom_p5,0)))*1)',\n",
       " '(((-(ee*complex(0,1)))*(1)*(Gamma(MuInProp1,SpinIn2,SpinIn1))) * ((complex(0,1)*G)*(T(GluOut3,ColOutProp2,ColOut2))*(Gamma(MuOut3,SpinOutProp2,SpinOut2))) * (((2*ee*complex(0,1))/3.)*(Identity(ColInProp2,ColOut1))*(Gamma(MuOutProp1,SpinOut1,SpinInProp2))) * (u(SpinIn1,Mom_p1)) * (v(SpinIn2,Mom_p2)) * (VC(ColOut1,Mom_p3)*u_bar(SpinOut1,Mom_p3)) * (VC(ColOut2,Mom_p4)*v_bar(SpinOut2,Mom_p4)) * (VA(GluOut3,Mom_p5)*eps_star(MuOut3,PolOut3,Mom_p5)) * ((-1)*complex(0,1)*Metric(MuInProp1,MuOutProp1)*Denom(-Mom_p1-Mom_p2,0)) * (df(ColInProp2,ColOutProp2)*complex(0,1)*(P(Mu35,-Mom_p4-Mom_p5)*Gamma(Mu35,SpinInProp2,SpinOutProp2) + 0*GammaId(SpinInProp2,SpinOutProp2))*Denom(-Mom_p4-Mom_p5,0)))*(((-(ee*complex(0,1)))*(1)*(Gamma(MuOutPropagator44,SpinLeg39,SpinLeg40))) * ((complex(0,1)*G)*(T(GluLeg43,ColOutPropagator45,ColLeg41))*(Gamma(MuLeg43,SpinOutPropagator45,SpinLeg41))) * (((2*ee*complex(0,1))/3.)*(Identity(ColInPropagator45,ColLeg42))*(Gamma(MuInPropagator44,SpinLeg42,SpinInPropagator45))) * (u_bar(SpinLeg39,Mom_p1)) * (v_bar(SpinLeg40,Mom_p2)) * (VC(ColLeg41,Mom_p3)*u(SpinLeg41,Mom_p3)) * (VC(ColLeg42,Mom_p4)*v(SpinLeg42,Mom_p4)) * (VA(GluLeg43,Mom_p5)*eps(MuLeg43,PolLeg43,Mom_p5)) * ((-1)*complex(0,1)*Metric(MuInPropagator44,MuOutPropagator44)*Denom(-Mom_p1-Mom_p2,0)) * (df(ColInPropagator45,ColOutPropagator45)*complex(0,1)*(P(Mu52,Mom_p3+Mom_p5)*Gamma(Mu52,SpinInPropagator45,SpinOutPropagator45) + 0*GammaId(SpinInPropagator45,SpinOutPropagator45))*Denom(Mom_p3+Mom_p5,0)))*1',\n",
       " '((((-(ee*complex(0,1)))*(1)*(Gamma(MuInProp1,SpinIn2,SpinIn1))) * ((complex(0,1)*G)*(T(GluOut3,ColOutProp2,ColOut2))*(Gamma(MuOut3,SpinOutProp2,SpinOut2))) * (((2*ee*complex(0,1))/3.)*(Identity(ColInProp2,ColOut1))*(Gamma(MuOutProp1,SpinOut1,SpinInProp2))) * (u(SpinIn1,Mom_p1)) * (v(SpinIn2,Mom_p2)) * (VC(ColOut1,Mom_p3)*u_bar(SpinOut1,Mom_p3)) * (VC(ColOut2,Mom_p4)*v_bar(SpinOut2,Mom_p4)) * (VA(GluOut3,Mom_p5)*eps_star(MuOut3,PolOut3,Mom_p5)) * ((-1)*complex(0,1)*Metric(MuInProp1,MuOutProp1)*Denom(-Mom_p1-Mom_p2,0)) * (df(ColInProp2,ColOutProp2)*complex(0,1)*(P(Mu35,-Mom_p4-Mom_p5)*Gamma(Mu35,SpinInProp2,SpinOutProp2) + 0*GammaId(SpinInProp2,SpinOutProp2))*Denom(-Mom_p4-Mom_p5,0)))*(((-(ee*complex(0,1)))*(1)*(Gamma(MuOutPropagator61,SpinLeg56,SpinLeg57))) * ((complex(0,1)*G)*(T(GluLeg60,ColLeg59,ColInPropagator62))*(Gamma(MuLeg60,SpinLeg59,SpinInPropagator62))) * (((2*ee*complex(0,1))/3.)*(Identity(ColLeg58,ColOutPropagator62))*(Gamma(MuInPropagator61,SpinOutPropagator62,SpinLeg58))) * (u_bar(SpinLeg56,Mom_p1)) * (v_bar(SpinLeg57,Mom_p2)) * (VC(ColLeg58,Mom_p3)*u(SpinLeg58,Mom_p3)) * (VC(ColLeg59,Mom_p4)*v(SpinLeg59,Mom_p4)) * (VA(GluLeg60,Mom_p5)*eps(MuLeg60,PolLeg60,Mom_p5)) * ((-1)*complex(0,1)*Metric(MuInPropagator61,MuOutPropagator61)*Denom(-Mom_p1-Mom_p2,0)) * (df(ColInPropagator62,ColOutPropagator62)*complex(0,1)*(P(Mu69,-Mom_p4-Mom_p5)*Gamma(Mu69,SpinInPropagator62,SpinOutPropagator62) + 0*GammaId(SpinInPropagator62,SpinOutPropagator62))*Denom(-Mom_p4-Mom_p5,0)))*1)']"
      ]
     },
     "execution_count": 10,
     "metadata": {},
     "output_type": "execute_result"
    }
   ],
   "source": [
    "from feynamp.amplitude import square_parallel, multiply\n",
    "\n",
    "s2 =square_parallel([fd1,fd2],fm,tag=False)\n",
    "s2[1] = f\"({s2[1]})\"\n",
    "s2[3] = f\"({s2[3]})\"\n",
    "s2"
   ]
  },
  {
   "cell_type": "code",
   "execution_count": 11,
   "id": "3925b0e9-148f-4466-8f47-42d0cd821c70",
   "metadata": {},
   "outputs": [
    {
     "data": {
      "text/plain": [
       "'((-(ee*complex(0,1)))*(1)*(Gamma(MuOutPropagator78,SpinLeg73,SpinLeg74))) * ((complex(0,1)*G)*(T(GluLeg77,ColOutPropagator79,ColLeg75))*(Gamma(MuLeg77,SpinOutPropagator79,SpinLeg75))) * (((2*ee*complex(0,1))/3.)*(Identity(ColInPropagator79,ColLeg76))*(Gamma(MuInPropagator78,SpinLeg76,SpinInPropagator79))) * (u_bar(SpinLeg73,Mom_p1)) * (v_bar(SpinLeg74,Mom_p2)) * (VC(ColLeg75,Mom_p3)*u(SpinLeg75,Mom_p3)) * (VC(ColLeg76,Mom_p4)*v(SpinLeg76,Mom_p4)) * (VA(GluLeg77,Mom_p5)*eps(MuLeg77,PolLeg77,Mom_p5)) * ((-1)*complex(0,1)*Metric(MuInPropagator78,MuOutPropagator78)*Denom(-Mom_p1-Mom_p2,0)) * (df(ColInPropagator79,ColOutPropagator79)*complex(0,1)*(P(Mu86,Mom_p3+Mom_p5)*Gamma(Mu86,SpinInPropagator79,SpinOutPropagator79) + 0*GammaId(SpinInPropagator79,SpinOutPropagator79))*Denom(Mom_p3+Mom_p5,0))'"
      ]
     },
     "execution_count": 11,
     "metadata": {},
     "output_type": "execute_result"
    }
   ],
   "source": [
    "amp.feynman_diagram_to_string(fd1.conjugated(),fm)"
   ]
  },
  {
   "cell_type": "code",
   "execution_count": 12,
   "id": "fcbe8dbc-40b9-4eae-8494-e43691624089",
   "metadata": {},
   "outputs": [
    {
     "name": "stdout",
     "output_type": "stream",
     "text": [
      "(32/9*Den(Mom_p1.Mom_p1+2*Mom_p1.Mom_p2+Mom_p2.Mom_p2)^2*Den(Mom_p3.Mom_p3+2*Mom_p3.Mom_p5+Mom_p5.Mom_p5)^2*G^2*ee^4*mss35*mst15*mst24+32/9*Den(Mom_p1.Mom_p1+2*Mom_p1.Mom_p2+Mom_p2.Mom_p2)^2*Den(Mom_p3.Mom_p3+2*Mom_p3.Mom_p5+Mom_p5.Mom_p5)^2*G^2*ee^4*mss35*mst14*mst25-32/9*Den(Mom_p1.Mom_p1+2*Mom_p1.Mom_p2+Mom_p2.Mom_p2)^2*Den(Mom_p3.Mom_p3+2*Mom_p3.Mom_p5+Mom_p5.Mom_p5)^2*G^2*ee^4*Mass_Me^2*mss35*mst25-32/9*Den(Mom_p1.Mom_p1+2*Mom_p1.Mom_p2+Mom_p2.Mom_p2)^2*Den(Mom_p3.Mom_p3+2*Mom_p3.Mom_p5+Mom_p5.Mom_p5)^2*G^2*ee^4*Mass_Me^2*mss35*mst24-32/9*Den(Mom_p1.Mom_p1+2*Mom_p1.Mom_p2+Mom_p2.Mom_p2)^2*Den(Mom_p3.Mom_p3+2*Mom_p3.Mom_p5+Mom_p5.Mom_p5)^2*G^2*ee^4*Mass_Me^2*mss35*mst15-32/9*Den(Mom_p1.Mom_p1+2*Mom_p1.Mom_p2+Mom_p2.Mom_p2)^2*Den(Mom_p3.Mom_p3+2*Mom_p3.Mom_p5+Mom_p5.Mom_p5)^2*G^2*ee^4*Mass_Me^2*mss35*mst14+64/9*Den(Mom_p1.Mom_p1+2*Mom_p1.Mom_p2+Mom_p2.Mom_p2)^2*Den(Mom_p3.Mom_p3+2*Mom_p3.Mom_p5+Mom_p5.Mom_p5)^2*G^2*ee^4*Mass_Me^4*mss35+64/9*Den(Mom_p1.Mom_p1+2*Mom_p1.Mom_p2+Mom_p2.Mom_p2)^2*Den(Mom_p3.Mom_p3+2*Mom_p3.Mom_p5+Mom_p5.Mom_p5)^2*G^2*ee^4*Mass_Me^4*mss35*mss45-32/9*Den(Mom_p1.Mom_p1+2*Mom_p1.Mom_p2+Mom_p2.Mom_p2)^2*Den(Mom_p3.Mom_p3+2*Mom_p3.Mom_p5+Mom_p5.Mom_p5)^2*G^2*Nc^2*ee^4*mss35*mst15*mst24-32/9*Den(Mom_p1.Mom_p1+2*Mom_p1.Mom_p2+Mom_p2.Mom_p2)^2*Den(Mom_p3.Mom_p3+2*Mom_p3.Mom_p5+Mom_p5.Mom_p5)^2*G^2*Nc^2*ee^4*mss35*mst14*mst25+32/9*Den(Mom_p1.Mom_p1+2*Mom_p1.Mom_p2+Mom_p2.Mom_p2)^2*Den(Mom_p3.Mom_p3+2*Mom_p3.Mom_p5+Mom_p5.Mom_p5)^2*G^2*Nc^2*ee^4*Mass_Me^2*mss35*mst25+32/9*Den(Mom_p1.Mom_p1+2*Mom_p1.Mom_p2+Mom_p2.Mom_p2)^2*Den(Mom_p3.Mom_p3+2*Mom_p3.Mom_p5+Mom_p5.Mom_p5)^2*G^2*Nc^2*ee^4*Mass_Me^2*mss35*mst24+32/9*Den(Mom_p1.Mom_p1+2*Mom_p1.Mom_p2+Mom_p2.Mom_p2)^2*Den(Mom_p3.Mom_p3+2*Mom_p3.Mom_p5+Mom_p5.Mom_p5)^2*G^2*Nc^2*ee^4*Mass_Me^2*mss35*mst15+32/9*Den(Mom_p1.Mom_p1+2*Mom_p1.Mom_p2+Mom_p2.Mom_p2)^2*Den(Mom_p3.Mom_p3+2*Mom_p3.Mom_p5+Mom_p5.Mom_p5)^2*G^2*Nc^2*ee^4*Mass_Me^2*mss35*mst14-64/9*Den(Mom_p1.Mom_p1+2*Mom_p1.Mom_p2+Mom_p2.Mom_p2)^2*Den(Mom_p3.Mom_p3+2*Mom_p3.Mom_p5+Mom_p5.Mom_p5)^2*G^2*Nc^2*ee^4*Mass_Me^4*mss35-64/9*Den(Mom_p1.Mom_p1+2*Mom_p1.Mom_p2+Mom_p2.Mom_p2)^2*Den(Mom_p3.Mom_p3+2*Mom_p3.Mom_p5+Mom_p5.Mom_p5)^2*G^2*Nc^2*ee^4*Mass_Me^4*mss35*mss45) + (16/9*Den(Mom_p1.Mom_p1+2*Mom_p1.Mom_p2+Mom_p2.Mom_p2)^2*Den(Mom_p3.Mom_p3+2*Mom_p3.Mom_p5+Mom_p5.Mom_p5)*Den(Mom_p4.Mom_p4+2*Mom_p4.Mom_p5+Mom_p5.Mom_p5)*G^2*ee^4*mss45*mst14*mst23+16/9*Den(Mom_p1.Mom_p1+2*Mom_p1.Mom_p2+Mom_p2.Mom_p2)^2*Den(Mom_p3.Mom_p3+2*Mom_p3.Mom_p5+Mom_p5.Mom_p5)*Den(Mom_p4.Mom_p4+2*Mom_p4.Mom_p5+Mom_p5.Mom_p5)*G^2*ee^4*mss45*mst13*mst24-32/9*Den(Mom_p1.Mom_p1+2*Mom_p1.Mom_p2+Mom_p2.Mom_p2)^2*Den(Mom_p3.Mom_p3+2*Mom_p3.Mom_p5+Mom_p5.Mom_p5)*Den(Mom_p4.Mom_p4+2*Mom_p4.Mom_p5+Mom_p5.Mom_p5)*G^2*ee^4*mss45*mst13*mst23-32/9*Den(Mom_p1.Mom_p1+2*Mom_p1.Mom_p2+Mom_p2.Mom_p2)^2*Den(Mom_p3.Mom_p3+2*Mom_p3.Mom_p5+Mom_p5.Mom_p5)*Den(Mom_p4.Mom_p4+2*Mom_p4.Mom_p5+Mom_p5.Mom_p5)*G^2*ee^4*mss35*mst14*mst24+16/9*Den(Mom_p1.Mom_p1+2*Mom_p1.Mom_p2+Mom_p2.Mom_p2)^2*Den(Mom_p3.Mom_p3+2*Mom_p3.Mom_p5+Mom_p5.Mom_p5)*Den(Mom_p4.Mom_p4+2*Mom_p4.Mom_p5+Mom_p5.Mom_p5)*G^2*ee^4*mss35*mst14*mst23+16/9*Den(Mom_p1.Mom_p1+2*Mom_p1.Mom_p2+Mom_p2.Mom_p2)^2*Den(Mom_p3.Mom_p3+2*Mom_p3.Mom_p5+Mom_p5.Mom_p5)*Den(Mom_p4.Mom_p4+2*Mom_p4.Mom_p5+Mom_p5.Mom_p5)*G^2*ee^4*mss35*mst13*mst24+16/9*Den(Mom_p1.Mom_p1+2*Mom_p1.Mom_p2+Mom_p2.Mom_p2)^2*Den(Mom_p3.Mom_p3+2*Mom_p3.Mom_p5+Mom_p5.Mom_p5)*Den(Mom_p4.Mom_p4+2*Mom_p4.Mom_p5+Mom_p5.Mom_p5)*G^2*ee^4*mss34*mst15*mst24+16/9*Den(Mom_p1.Mom_p1+2*Mom_p1.Mom_p2+Mom_p2.Mom_p2)^2*Den(Mom_p3.Mom_p3+2*Mom_p3.Mom_p5+Mom_p5.Mom_p5)*Den(Mom_p4.Mom_p4+2*Mom_p4.Mom_p5+Mom_p5.Mom_p5)*G^2*ee^4*mss34*mst15*mst23+16/9*Den(Mom_p1.Mom_p1+2*Mom_p1.Mom_p2+Mom_p2.Mom_p2)^2*Den(Mom_p3.Mom_p3+2*Mom_p3.Mom_p5+Mom_p5.Mom_p5)*Den(Mom_p4.Mom_p4+2*Mom_p4.Mom_p5+Mom_p5.Mom_p5)*G^2*ee^4*mss34*mst14*mst25+32/9*Den(Mom_p1.Mom_p1+2*Mom_p1.Mom_p2+Mom_p2.Mom_p2)^2*Den(Mom_p3.Mom_p3+2*Mom_p3.Mom_p5+Mom_p5.Mom_p5)*Den(Mom_p4.Mom_p4+2*Mom_p4.Mom_p5+Mom_p5.Mom_p5)*G^2*ee^4*mss34*mst14*mst23+16/9*Den(Mom_p1.Mom_p1+2*Mom_p1.Mom_p2+Mom_p2.Mom_p2)^2*Den(Mom_p3.Mom_p3+2*Mom_p3.Mom_p5+Mom_p5.Mom_p5)*Den(Mom_p4.Mom_p4+2*Mom_p4.Mom_p5+Mom_p5.Mom_p5)*G^2*ee^4*mss34*mst13*mst25+32/9*Den(Mom_p1.Mom_p1+2*Mom_p1.Mom_p2+Mom_p2.Mom_p2)^2*Den(Mom_p3.Mom_p3+2*Mom_p3.Mom_p5+Mom_p5.Mom_p5)*Den(Mom_p4.Mom_p4+2*Mom_p4.Mom_p5+Mom_p5.Mom_p5)*G^2*ee^4*mss34*mst13*mst24-16/9*Den(Mom_p1.Mom_p1+2*Mom_p1.Mom_p2+Mom_p2.Mom_p2)^2*Den(Mom_p3.Mom_p3+2*Mom_p3.Mom_p5+Mom_p5.Mom_p5)*Den(Mom_p4.Mom_p4+2*Mom_p4.Mom_p5+Mom_p5.Mom_p5)*G^2*ee^4*Mass_Me^2*mss45*mst24+16/9*Den(Mom_p1.Mom_p1+2*Mom_p1.Mom_p2+Mom_p2.Mom_p2)^2*Den(Mom_p3.Mom_p3+2*Mom_p3.Mom_p5+Mom_p5.Mom_p5)*Den(Mom_p4.Mom_p4+2*Mom_p4.Mom_p5+Mom_p5.Mom_p5)*G^2*ee^4*Mass_Me^2*mss45*mst23-16/9*Den(Mom_p1.Mom_p1+2*Mom_p1.Mom_p2+Mom_p2.Mom_p2)^2*Den(Mom_p3.Mom_p3+2*Mom_p3.Mom_p5+Mom_p5.Mom_p5)*Den(Mom_p4.Mom_p4+2*Mom_p4.Mom_p5+Mom_p5.Mom_p5)*G^2*ee^4*Mass_Me^2*mss45*mst14+16/9*Den(Mom_p1.Mom_p1+2*Mom_p1.Mom_p2+Mom_p2.Mom_p2)^2*Den(Mom_p3.Mom_p3+2*Mom_p3.Mom_p5+Mom_p5.Mom_p5)*Den(Mom_p4.Mom_p4+2*Mom_p4.Mom_p5+Mom_p5.Mom_p5)*G^2*ee^4*Mass_Me^2*mss45*mst13+16/9*Den(Mom_p1.Mom_p1+2*Mom_p1.Mom_p2+Mom_p2.Mom_p2)^2*Den(Mom_p3.Mom_p3+2*Mom_p3.Mom_p5+Mom_p5.Mom_p5)*Den(Mom_p4.Mom_p4+2*Mom_p4.Mom_p5+Mom_p5.Mom_p5)*G^2*ee^4*Mass_Me^2*mss35*mst24-16/9*Den(Mom_p1.Mom_p1+2*Mom_p1.Mom_p2+Mom_p2.Mom_p2)^2*Den(Mom_p3.Mom_p3+2*Mom_p3.Mom_p5+Mom_p5.Mom_p5)*Den(Mom_p4.Mom_p4+2*Mom_p4.Mom_p5+Mom_p5.Mom_p5)*G^2*ee^4*Mass_Me^2*mss35*mst23+16/9*Den(Mom_p1.Mom_p1+2*Mom_p1.Mom_p2+Mom_p2.Mom_p2)^2*Den(Mom_p3.Mom_p3+2*Mom_p3.Mom_p5+Mom_p5.Mom_p5)*Den(Mom_p4.Mom_p4+2*Mom_p4.Mom_p5+Mom_p5.Mom_p5)*G^2*ee^4*Mass_Me^2*mss35*mst14-16/9*Den(Mom_p1.Mom_p1+2*Mom_p1.Mom_p2+Mom_p2.Mom_p2)^2*Den(Mom_p3.Mom_p3+2*Mom_p3.Mom_p5+Mom_p5.Mom_p5)*Den(Mom_p4.Mom_p4+2*Mom_p4.Mom_p5+Mom_p5.Mom_p5)*G^2*ee^4*Mass_Me^2*mss35*mst13-32/9*Den(Mom_p1.Mom_p1+2*Mom_p1.Mom_p2+Mom_p2.Mom_p2)^2*Den(Mom_p3.Mom_p3+2*Mom_p3.Mom_p5+Mom_p5.Mom_p5)*Den(Mom_p4.Mom_p4+2*Mom_p4.Mom_p5+Mom_p5.Mom_p5)*G^2*ee^4*Mass_Me^2*mss34*mst25-16/3*Den(Mom_p1.Mom_p1+2*Mom_p1.Mom_p2+Mom_p2.Mom_p2)^2*Den(Mom_p3.Mom_p3+2*Mom_p3.Mom_p5+Mom_p5.Mom_p5)*Den(Mom_p4.Mom_p4+2*Mom_p4.Mom_p5+Mom_p5.Mom_p5)*G^2*ee^4*Mass_Me^2*mss34*mst24-16/3*Den(Mom_p1.Mom_p1+2*Mom_p1.Mom_p2+Mom_p2.Mom_p2)^2*Den(Mom_p3.Mom_p3+2*Mom_p3.Mom_p5+Mom_p5.Mom_p5)*Den(Mom_p4.Mom_p4+2*Mom_p4.Mom_p5+Mom_p5.Mom_p5)*G^2*ee^4*Mass_Me^2*mss34*mst23-32/9*Den(Mom_p1.Mom_p1+2*Mom_p1.Mom_p2+Mom_p2.Mom_p2)^2*Den(Mom_p3.Mom_p3+2*Mom_p3.Mom_p5+Mom_p5.Mom_p5)*Den(Mom_p4.Mom_p4+2*Mom_p4.Mom_p5+Mom_p5.Mom_p5)*G^2*ee^4*Mass_Me^2*mss34*mst15-16/3*Den(Mom_p1.Mom_p1+2*Mom_p1.Mom_p2+Mom_p2.Mom_p2)^2*Den(Mom_p3.Mom_p3+2*Mom_p3.Mom_p5+Mom_p5.Mom_p5)*Den(Mom_p4.Mom_p4+2*Mom_p4.Mom_p5+Mom_p5.Mom_p5)*G^2*ee^4*Mass_Me^2*mss34*mst14-16/3*Den(Mom_p1.Mom_p1+2*Mom_p1.Mom_p2+Mom_p2.Mom_p2)^2*Den(Mom_p3.Mom_p3+2*Mom_p3.Mom_p5+Mom_p5.Mom_p5)*Den(Mom_p4.Mom_p4+2*Mom_p4.Mom_p5+Mom_p5.Mom_p5)*G^2*ee^4*Mass_Me^2*mss34*mst13+128/9*Den(Mom_p1.Mom_p1+2*Mom_p1.Mom_p2+Mom_p2.Mom_p2)^2*Den(Mom_p3.Mom_p3+2*Mom_p3.Mom_p5+Mom_p5.Mom_p5)*Den(Mom_p4.Mom_p4+2*Mom_p4.Mom_p5+Mom_p5.Mom_p5)*G^2*ee^4*Mass_Me^4*mss34+64/9*Den(Mom_p1.Mom_p1+2*Mom_p1.Mom_p2+Mom_p2.Mom_p2)^2*Den(Mom_p3.Mom_p3+2*Mom_p3.Mom_p5+Mom_p5.Mom_p5)*Den(Mom_p4.Mom_p4+2*Mom_p4.Mom_p5+Mom_p5.Mom_p5)*G^2*ee^4*Mass_Me^4*mss34*mss45+64/9*Den(Mom_p1.Mom_p1+2*Mom_p1.Mom_p2+Mom_p2.Mom_p2)^2*Den(Mom_p3.Mom_p3+2*Mom_p3.Mom_p5+Mom_p5.Mom_p5)*Den(Mom_p4.Mom_p4+2*Mom_p4.Mom_p5+Mom_p5.Mom_p5)*G^2*ee^4*Mass_Me^4*mss34*mss35+64/9*Den(Mom_p1.Mom_p1+2*Mom_p1.Mom_p2+Mom_p2.Mom_p2)^2*Den(Mom_p3.Mom_p3+2*Mom_p3.Mom_p5+Mom_p5.Mom_p5)*Den(Mom_p4.Mom_p4+2*Mom_p4.Mom_p5+Mom_p5.Mom_p5)*G^2*ee^4*Mass_Me^4*mss34^2-16/9*Den(Mom_p1.Mom_p1+2*Mom_p1.Mom_p2+Mom_p2.Mom_p2)^2*Den(Mom_p3.Mom_p3+2*Mom_p3.Mom_p5+Mom_p5.Mom_p5)*Den(Mom_p4.Mom_p4+2*Mom_p4.Mom_p5+Mom_p5.Mom_p5)*G^2*Nc^2*ee^4*mss45*mst14*mst23-16/9*Den(Mom_p1.Mom_p1+2*Mom_p1.Mom_p2+Mom_p2.Mom_p2)^2*Den(Mom_p3.Mom_p3+2*Mom_p3.Mom_p5+Mom_p5.Mom_p5)*Den(Mom_p4.Mom_p4+2*Mom_p4.Mom_p5+Mom_p5.Mom_p5)*G^2*Nc^2*ee^4*mss45*mst13*mst24+32/9*Den(Mom_p1.Mom_p1+2*Mom_p1.Mom_p2+Mom_p2.Mom_p2)^2*Den(Mom_p3.Mom_p3+2*Mom_p3.Mom_p5+Mom_p5.Mom_p5)*Den(Mom_p4.Mom_p4+2*Mom_p4.Mom_p5+Mom_p5.Mom_p5)*G^2*Nc^2*ee^4*mss45*mst13*mst23+32/9*Den(Mom_p1.Mom_p1+2*Mom_p1.Mom_p2+Mom_p2.Mom_p2)^2*Den(Mom_p3.Mom_p3+2*Mom_p3.Mom_p5+Mom_p5.Mom_p5)*Den(Mom_p4.Mom_p4+2*Mom_p4.Mom_p5+Mom_p5.Mom_p5)*G^2*Nc^2*ee^4*mss35*mst14*mst24-16/9*Den(Mom_p1.Mom_p1+2*Mom_p1.Mom_p2+Mom_p2.Mom_p2)^2*Den(Mom_p3.Mom_p3+2*Mom_p3.Mom_p5+Mom_p5.Mom_p5)*Den(Mom_p4.Mom_p4+2*Mom_p4.Mom_p5+Mom_p5.Mom_p5)*G^2*Nc^2*ee^4*mss35*mst14*mst23-16/9*Den(Mom_p1.Mom_p1+2*Mom_p1.Mom_p2+Mom_p2.Mom_p2)^2*Den(Mom_p3.Mom_p3+2*Mom_p3.Mom_p5+Mom_p5.Mom_p5)*Den(Mom_p4.Mom_p4+2*Mom_p4.Mom_p5+Mom_p5.Mom_p5)*G^2*Nc^2*ee^4*mss35*mst13*mst24-16/9*Den(Mom_p1.Mom_p1+2*Mom_p1.Mom_p2+Mom_p2.Mom_p2)^2*Den(Mom_p3.Mom_p3+2*Mom_p3.Mom_p5+Mom_p5.Mom_p5)*Den(Mom_p4.Mom_p4+2*Mom_p4.Mom_p5+Mom_p5.Mom_p5)*G^2*Nc^2*ee^4*mss34*mst15*mst24-16/9*Den(Mom_p1.Mom_p1+2*Mom_p1.Mom_p2+Mom_p2.Mom_p2)^2*Den(Mom_p3.Mom_p3+2*Mom_p3.Mom_p5+Mom_p5.Mom_p5)*Den(Mom_p4.Mom_p4+2*Mom_p4.Mom_p5+Mom_p5.Mom_p5)*G^2*Nc^2*ee^4*mss34*mst15*mst23-16/9*Den(Mom_p1.Mom_p1+2*Mom_p1.Mom_p2+Mom_p2.Mom_p2)^2*Den(Mom_p3.Mom_p3+2*Mom_p3.Mom_p5+Mom_p5.Mom_p5)*Den(Mom_p4.Mom_p4+2*Mom_p4.Mom_p5+Mom_p5.Mom_p5)*G^2*Nc^2*ee^4*mss34*mst14*mst25-32/9*Den(Mom_p1.Mom_p1+2*Mom_p1.Mom_p2+Mom_p2.Mom_p2)^2*Den(Mom_p3.Mom_p3+2*Mom_p3.Mom_p5+Mom_p5.Mom_p5)*Den(Mom_p4.Mom_p4+2*Mom_p4.Mom_p5+Mom_p5.Mom_p5)*G^2*Nc^2*ee^4*mss34*mst14*mst23-16/9*Den(Mom_p1.Mom_p1+2*Mom_p1.Mom_p2+Mom_p2.Mom_p2)^2*Den(Mom_p3.Mom_p3+2*Mom_p3.Mom_p5+Mom_p5.Mom_p5)*Den(Mom_p4.Mom_p4+2*Mom_p4.Mom_p5+Mom_p5.Mom_p5)*G^2*Nc^2*ee^4*mss34*mst13*mst25-32/9*Den(Mom_p1.Mom_p1+2*Mom_p1.Mom_p2+Mom_p2.Mom_p2)^2*Den(Mom_p3.Mom_p3+2*Mom_p3.Mom_p5+Mom_p5.Mom_p5)*Den(Mom_p4.Mom_p4+2*Mom_p4.Mom_p5+Mom_p5.Mom_p5)*G^2*Nc^2*ee^4*mss34*mst13*mst24+16/9*Den(Mom_p1.Mom_p1+2*Mom_p1.Mom_p2+Mom_p2.Mom_p2)^2*Den(Mom_p3.Mom_p3+2*Mom_p3.Mom_p5+Mom_p5.Mom_p5)*Den(Mom_p4.Mom_p4+2*Mom_p4.Mom_p5+Mom_p5.Mom_p5)*G^2*Nc^2*ee^4*Mass_Me^2*mss45*mst24-16/9*Den(Mom_p1.Mom_p1+2*Mom_p1.Mom_p2+Mom_p2.Mom_p2)^2*Den(Mom_p3.Mom_p3+2*Mom_p3.Mom_p5+Mom_p5.Mom_p5)*Den(Mom_p4.Mom_p4+2*Mom_p4.Mom_p5+Mom_p5.Mom_p5)*G^2*Nc^2*ee^4*Mass_Me^2*mss45*mst23+16/9*Den(Mom_p1.Mom_p1+2*Mom_p1.Mom_p2+Mom_p2.Mom_p2)^2*Den(Mom_p3.Mom_p3+2*Mom_p3.Mom_p5+Mom_p5.Mom_p5)*Den(Mom_p4.Mom_p4+2*Mom_p4.Mom_p5+Mom_p5.Mom_p5)*G^2*Nc^2*ee^4*Mass_Me^2*mss45*mst14-16/9*Den(Mom_p1.Mom_p1+2*Mom_p1.Mom_p2+Mom_p2.Mom_p2)^2*Den(Mom_p3.Mom_p3+2*Mom_p3.Mom_p5+Mom_p5.Mom_p5)*Den(Mom_p4.Mom_p4+2*Mom_p4.Mom_p5+Mom_p5.Mom_p5)*G^2*Nc^2*ee^4*Mass_Me^2*mss45*mst13-16/9*Den(Mom_p1.Mom_p1+2*Mom_p1.Mom_p2+Mom_p2.Mom_p2)^2*Den(Mom_p3.Mom_p3+2*Mom_p3.Mom_p5+Mom_p5.Mom_p5)*Den(Mom_p4.Mom_p4+2*Mom_p4.Mom_p5+Mom_p5.Mom_p5)*G^2*Nc^2*ee^4*Mass_Me^2*mss35*mst24+16/9*Den(Mom_p1.Mom_p1+2*Mom_p1.Mom_p2+Mom_p2.Mom_p2)^2*Den(Mom_p3.Mom_p3+2*Mom_p3.Mom_p5+Mom_p5.Mom_p5)*Den(Mom_p4.Mom_p4+2*Mom_p4.Mom_p5+Mom_p5.Mom_p5)*G^2*Nc^2*ee^4*Mass_Me^2*mss35*mst23-16/9*Den(Mom_p1.Mom_p1+2*Mom_p1.Mom_p2+Mom_p2.Mom_p2)^2*Den(Mom_p3.Mom_p3+2*Mom_p3.Mom_p5+Mom_p5.Mom_p5)*Den(Mom_p4.Mom_p4+2*Mom_p4.Mom_p5+Mom_p5.Mom_p5)*G^2*Nc^2*ee^4*Mass_Me^2*mss35*mst14+16/9*Den(Mom_p1.Mom_p1+2*Mom_p1.Mom_p2+Mom_p2.Mom_p2)^2*Den(Mom_p3.Mom_p3+2*Mom_p3.Mom_p5+Mom_p5.Mom_p5)*Den(Mom_p4.Mom_p4+2*Mom_p4.Mom_p5+Mom_p5.Mom_p5)*G^2*Nc^2*ee^4*Mass_Me^2*mss35*mst13+32/9*Den(Mom_p1.Mom_p1+2*Mom_p1.Mom_p2+Mom_p2.Mom_p2)^2*Den(Mom_p3.Mom_p3+2*Mom_p3.Mom_p5+Mom_p5.Mom_p5)*Den(Mom_p4.Mom_p4+2*Mom_p4.Mom_p5+Mom_p5.Mom_p5)*G^2*Nc^2*ee^4*Mass_Me^2*mss34*mst25+16/3*Den(Mom_p1.Mom_p1+2*Mom_p1.Mom_p2+Mom_p2.Mom_p2)^2*Den(Mom_p3.Mom_p3+2*Mom_p3.Mom_p5+Mom_p5.Mom_p5)*Den(Mom_p4.Mom_p4+2*Mom_p4.Mom_p5+Mom_p5.Mom_p5)*G^2*Nc^2*ee^4*Mass_Me^2*mss34*mst24+16/3*Den(Mom_p1.Mom_p1+2*Mom_p1.Mom_p2+Mom_p2.Mom_p2)^2*Den(Mom_p3.Mom_p3+2*Mom_p3.Mom_p5+Mom_p5.Mom_p5)*Den(Mom_p4.Mom_p4+2*Mom_p4.Mom_p5+Mom_p5.Mom_p5)*G^2*Nc^2*ee^4*Mass_Me^2*mss34*mst23+32/9*Den(Mom_p1.Mom_p1+2*Mom_p1.Mom_p2+Mom_p2.Mom_p2)^2*Den(Mom_p3.Mom_p3+2*Mom_p3.Mom_p5+Mom_p5.Mom_p5)*Den(Mom_p4.Mom_p4+2*Mom_p4.Mom_p5+Mom_p5.Mom_p5)*G^2*Nc^2*ee^4*Mass_Me^2*mss34*mst15+16/3*Den(Mom_p1.Mom_p1+2*Mom_p1.Mom_p2+Mom_p2.Mom_p2)^2*Den(Mom_p3.Mom_p3+2*Mom_p3.Mom_p5+Mom_p5.Mom_p5)*Den(Mom_p4.Mom_p4+2*Mom_p4.Mom_p5+Mom_p5.Mom_p5)*G^2*Nc^2*ee^4*Mass_Me^2*mss34*mst14+16/3*Den(Mom_p1.Mom_p1+2*Mom_p1.Mom_p2+Mom_p2.Mom_p2)^2*Den(Mom_p3.Mom_p3+2*Mom_p3.Mom_p5+Mom_p5.Mom_p5)*Den(Mom_p4.Mom_p4+2*Mom_p4.Mom_p5+Mom_p5.Mom_p5)*G^2*Nc^2*ee^4*Mass_Me^2*mss34*mst13-128/9*Den(Mom_p1.Mom_p1+2*Mom_p1.Mom_p2+Mom_p2.Mom_p2)^2*Den(Mom_p3.Mom_p3+2*Mom_p3.Mom_p5+Mom_p5.Mom_p5)*Den(Mom_p4.Mom_p4+2*Mom_p4.Mom_p5+Mom_p5.Mom_p5)*G^2*Nc^2*ee^4*Mass_Me^4*mss34-64/9*Den(Mom_p1.Mom_p1+2*Mom_p1.Mom_p2+Mom_p2.Mom_p2)^2*Den(Mom_p3.Mom_p3+2*Mom_p3.Mom_p5+Mom_p5.Mom_p5)*Den(Mom_p4.Mom_p4+2*Mom_p4.Mom_p5+Mom_p5.Mom_p5)*G^2*Nc^2*ee^4*Mass_Me^4*mss34*mss45-64/9*Den(Mom_p1.Mom_p1+2*Mom_p1.Mom_p2+Mom_p2.Mom_p2)^2*Den(Mom_p3.Mom_p3+2*Mom_p3.Mom_p5+Mom_p5.Mom_p5)*Den(Mom_p4.Mom_p4+2*Mom_p4.Mom_p5+Mom_p5.Mom_p5)*G^2*Nc^2*ee^4*Mass_Me^4*mss34*mss35-64/9*Den(Mom_p1.Mom_p1+2*Mom_p1.Mom_p2+Mom_p2.Mom_p2)^2*Den(Mom_p3.Mom_p3+2*Mom_p3.Mom_p5+Mom_p5.Mom_p5)*Den(Mom_p4.Mom_p4+2*Mom_p4.Mom_p5+Mom_p5.Mom_p5)*G^2*Nc^2*ee^4*Mass_Me^4*mss34^2+16/9*Den(Mom_p3.Mom_p5)*Den(Mom_p1.Mom_p1+2*Mom_p1.Mom_p2+Mom_p2.Mom_p2)^2*Den(Mom_p3.Mom_p3+2*Mom_p3.Mom_p5+Mom_p5.Mom_p5)*Den(Mom_p4.Mom_p4+2*Mom_p4.Mom_p5+Mom_p5.Mom_p5)*G^2*ee^4*mss35*mss45*mst13*mst23-8/9*Den(Mom_p3.Mom_p5)*Den(Mom_p1.Mom_p1+2*Mom_p1.Mom_p2+Mom_p2.Mom_p2)^2*Den(Mom_p3.Mom_p3+2*Mom_p3.Mom_p5+Mom_p5.Mom_p5)*Den(Mom_p4.Mom_p4+2*Mom_p4.Mom_p5+Mom_p5.Mom_p5)*G^2*ee^4*mss35^2*mst14*mst23-8/9*Den(Mom_p3.Mom_p5)*Den(Mom_p1.Mom_p1+2*Mom_p1.Mom_p2+Mom_p2.Mom_p2)^2*Den(Mom_p3.Mom_p3+2*Mom_p3.Mom_p5+Mom_p5.Mom_p5)*Den(Mom_p4.Mom_p4+2*Mom_p4.Mom_p5+Mom_p5.Mom_p5)*G^2*ee^4*mss35^2*mst13*mst24-8/9*Den(Mom_p3.Mom_p5)*Den(Mom_p1.Mom_p1+2*Mom_p1.Mom_p2+Mom_p2.Mom_p2)^2*Den(Mom_p3.Mom_p3+2*Mom_p3.Mom_p5+Mom_p5.Mom_p5)*Den(Mom_p4.Mom_p4+2*Mom_p4.Mom_p5+Mom_p5.Mom_p5)*G^2*ee^4*mss34*mss35*mst15*mst23-16/9*Den(Mom_p3.Mom_p5)*Den(Mom_p1.Mom_p1+2*Mom_p1.Mom_p2+Mom_p2.Mom_p2)^2*Den(Mom_p3.Mom_p3+2*Mom_p3.Mom_p5+Mom_p5.Mom_p5)*Den(Mom_p4.Mom_p4+2*Mom_p4.Mom_p5+Mom_p5.Mom_p5)*G^2*ee^4*mss34*mss35*mst14*mst23-8/9*Den(Mom_p3.Mom_p5)*Den(Mom_p1.Mom_p1+2*Mom_p1.Mom_p2+Mom_p2.Mom_p2)^2*Den(Mom_p3.Mom_p3+2*Mom_p3.Mom_p5+Mom_p5.Mom_p5)*Den(Mom_p4.Mom_p4+2*Mom_p4.Mom_p5+Mom_p5.Mom_p5)*G^2*ee^4*mss34*mss35*mst13*mst25-16/9*Den(Mom_p3.Mom_p5)*Den(Mom_p1.Mom_p1+2*Mom_p1.Mom_p2+Mom_p2.Mom_p2)^2*Den(Mom_p3.Mom_p3+2*Mom_p3.Mom_p5+Mom_p5.Mom_p5)*Den(Mom_p4.Mom_p4+2*Mom_p4.Mom_p5+Mom_p5.Mom_p5)*G^2*ee^4*mss34*mss35*mst13*mst24-16/9*Den(Mom_p3.Mom_p5)*Den(Mom_p1.Mom_p1+2*Mom_p1.Mom_p2+Mom_p2.Mom_p2)^2*Den(Mom_p3.Mom_p3+2*Mom_p3.Mom_p5+Mom_p5.Mom_p5)*Den(Mom_p4.Mom_p4+2*Mom_p4.Mom_p5+Mom_p5.Mom_p5)*G^2*ee^4*Mass_Me^2*mss35*mss45*mst23-16/9*Den(Mom_p3.Mom_p5)*Den(Mom_p1.Mom_p1+2*Mom_p1.Mom_p2+Mom_p2.Mom_p2)^2*Den(Mom_p3.Mom_p3+2*Mom_p3.Mom_p5+Mom_p5.Mom_p5)*Den(Mom_p4.Mom_p4+2*Mom_p4.Mom_p5+Mom_p5.Mom_p5)*G^2*ee^4*Mass_Me^2*mss35*mss45*mst13+8/9*Den(Mom_p3.Mom_p5)*Den(Mom_p1.Mom_p1+2*Mom_p1.Mom_p2+Mom_p2.Mom_p2)^2*Den(Mom_p3.Mom_p3+2*Mom_p3.Mom_p5+Mom_p5.Mom_p5)*Den(Mom_p4.Mom_p4+2*Mom_p4.Mom_p5+Mom_p5.Mom_p5)*G^2*ee^4*Mass_Me^2*mss35^2*mst24+8/9*Den(Mom_p3.Mom_p5)*Den(Mom_p1.Mom_p1+2*Mom_p1.Mom_p2+Mom_p2.Mom_p2)^2*Den(Mom_p3.Mom_p3+2*Mom_p3.Mom_p5+Mom_p5.Mom_p5)*Den(Mom_p4.Mom_p4+2*Mom_p4.Mom_p5+Mom_p5.Mom_p5)*G^2*ee^4*Mass_Me^2*mss35^2*mst23+8/9*Den(Mom_p3.Mom_p5)*Den(Mom_p1.Mom_p1+2*Mom_p1.Mom_p2+Mom_p2.Mom_p2)^2*Den(Mom_p3.Mom_p3+2*Mom_p3.Mom_p5+Mom_p5.Mom_p5)*Den(Mom_p4.Mom_p4+2*Mom_p4.Mom_p5+Mom_p5.Mom_p5)*G^2*ee^4*Mass_Me^2*mss35^2*mst14+8/9*Den(Mom_p3.Mom_p5)*Den(Mom_p1.Mom_p1+2*Mom_p1.Mom_p2+Mom_p2.Mom_p2)^2*Den(Mom_p3.Mom_p3+2*Mom_p3.Mom_p5+Mom_p5.Mom_p5)*Den(Mom_p4.Mom_p4+2*Mom_p4.Mom_p5+Mom_p5.Mom_p5)*G^2*ee^4*Mass_Me^2*mss35^2*mst13+8/9*Den(Mom_p3.Mom_p5)*Den(Mom_p1.Mom_p1+2*Mom_p1.Mom_p2+Mom_p2.Mom_p2)^2*Den(Mom_p3.Mom_p3+2*Mom_p3.Mom_p5+Mom_p5.Mom_p5)*Den(Mom_p4.Mom_p4+2*Mom_p4.Mom_p5+Mom_p5.Mom_p5)*G^2*ee^4*Mass_Me^2*mss34*mss35*mst25+16/9*Den(Mom_p3.Mom_p5)*Den(Mom_p1.Mom_p1+2*Mom_p1.Mom_p2+Mom_p2.Mom_p2)^2*Den(Mom_p3.Mom_p3+2*Mom_p3.Mom_p5+Mom_p5.Mom_p5)*Den(Mom_p4.Mom_p4+2*Mom_p4.Mom_p5+Mom_p5.Mom_p5)*G^2*ee^4*Mass_Me^2*mss34*mss35*mst24+8/3*Den(Mom_p3.Mom_p5)*Den(Mom_p1.Mom_p1+2*Mom_p1.Mom_p2+Mom_p2.Mom_p2)^2*Den(Mom_p3.Mom_p3+2*Mom_p3.Mom_p5+Mom_p5.Mom_p5)*Den(Mom_p4.Mom_p4+2*Mom_p4.Mom_p5+Mom_p5.Mom_p5)*G^2*ee^4*Mass_Me^2*mss34*mss35*mst23+8/9*Den(Mom_p3.Mom_p5)*Den(Mom_p1.Mom_p1+2*Mom_p1.Mom_p2+Mom_p2.Mom_p2)^2*Den(Mom_p3.Mom_p3+2*Mom_p3.Mom_p5+Mom_p5.Mom_p5)*Den(Mom_p4.Mom_p4+2*Mom_p4.Mom_p5+Mom_p5.Mom_p5)*G^2*ee^4*Mass_Me^2*mss34*mss35*mst15+16/9*Den(Mom_p3.Mom_p5)*Den(Mom_p1.Mom_p1+2*Mom_p1.Mom_p2+Mom_p2.Mom_p2)^2*Den(Mom_p3.Mom_p3+2*Mom_p3.Mom_p5+Mom_p5.Mom_p5)*Den(Mom_p4.Mom_p4+2*Mom_p4.Mom_p5+Mom_p5.Mom_p5)*G^2*ee^4*Mass_Me^2*mss34*mss35*mst14+8/3*Den(Mom_p3.Mom_p5)*Den(Mom_p1.Mom_p1+2*Mom_p1.Mom_p2+Mom_p2.Mom_p2)^2*Den(Mom_p3.Mom_p3+2*Mom_p3.Mom_p5+Mom_p5.Mom_p5)*Den(Mom_p4.Mom_p4+2*Mom_p4.Mom_p5+Mom_p5.Mom_p5)*G^2*ee^4*Mass_Me^2*mss34*mss35*mst13+16/9*Den(Mom_p3.Mom_p5)*Den(Mom_p1.Mom_p1+2*Mom_p1.Mom_p2+Mom_p2.Mom_p2)^2*Den(Mom_p3.Mom_p3+2*Mom_p3.Mom_p5+Mom_p5.Mom_p5)*Den(Mom_p4.Mom_p4+2*Mom_p4.Mom_p5+Mom_p5.Mom_p5)*G^2*ee^4*Mass_Me^4*mss35*mss45-16/9*Den(Mom_p3.Mom_p5)*Den(Mom_p1.Mom_p1+2*Mom_p1.Mom_p2+Mom_p2.Mom_p2)^2*Den(Mom_p3.Mom_p3+2*Mom_p3.Mom_p5+Mom_p5.Mom_p5)*Den(Mom_p4.Mom_p4+2*Mom_p4.Mom_p5+Mom_p5.Mom_p5)*G^2*ee^4*Mass_Me^4*mss35^2-16/3*Den(Mom_p3.Mom_p5)*Den(Mom_p1.Mom_p1+2*Mom_p1.Mom_p2+Mom_p2.Mom_p2)^2*Den(Mom_p3.Mom_p3+2*Mom_p3.Mom_p5+Mom_p5.Mom_p5)*Den(Mom_p4.Mom_p4+2*Mom_p4.Mom_p5+Mom_p5.Mom_p5)*G^2*ee^4*Mass_Me^4*mss34*mss35-32/9*Den(Mom_p3.Mom_p5)*Den(Mom_p1.Mom_p1+2*Mom_p1.Mom_p2+Mom_p2.Mom_p2)^2*Den(Mom_p3.Mom_p3+2*Mom_p3.Mom_p5+Mom_p5.Mom_p5)*Den(Mom_p4.Mom_p4+2*Mom_p4.Mom_p5+Mom_p5.Mom_p5)*G^2*ee^4*Mass_Me^4*mss34*mss35^2-32/9*Den(Mom_p3.Mom_p5)*Den(Mom_p1.Mom_p1+2*Mom_p1.Mom_p2+Mom_p2.Mom_p2)^2*Den(Mom_p3.Mom_p3+2*Mom_p3.Mom_p5+Mom_p5.Mom_p5)*Den(Mom_p4.Mom_p4+2*Mom_p4.Mom_p5+Mom_p5.Mom_p5)*G^2*ee^4*Mass_Me^4*mss34^2*mss35-16/9*Den(Mom_p3.Mom_p5)*Den(Mom_p1.Mom_p1+2*Mom_p1.Mom_p2+Mom_p2.Mom_p2)^2*Den(Mom_p3.Mom_p3+2*Mom_p3.Mom_p5+Mom_p5.Mom_p5)*Den(Mom_p4.Mom_p4+2*Mom_p4.Mom_p5+Mom_p5.Mom_p5)*G^2*Nc^2*ee^4*mss35*mss45*mst13*mst23+8/9*Den(Mom_p3.Mom_p5)*Den(Mom_p1.Mom_p1+2*Mom_p1.Mom_p2+Mom_p2.Mom_p2)^2*Den(Mom_p3.Mom_p3+2*Mom_p3.Mom_p5+Mom_p5.Mom_p5)*Den(Mom_p4.Mom_p4+2*Mom_p4.Mom_p5+Mom_p5.Mom_p5)*G^2*Nc^2*ee^4*mss35^2*mst14*mst23+8/9*Den(Mom_p3.Mom_p5)*Den(Mom_p1.Mom_p1+2*Mom_p1.Mom_p2+Mom_p2.Mom_p2)^2*Den(Mom_p3.Mom_p3+2*Mom_p3.Mom_p5+Mom_p5.Mom_p5)*Den(Mom_p4.Mom_p4+2*Mom_p4.Mom_p5+Mom_p5.Mom_p5)*G^2*Nc^2*ee^4*mss35^2*mst13*mst24+8/9*Den(Mom_p3.Mom_p5)*Den(Mom_p1.Mom_p1+2*Mom_p1.Mom_p2+Mom_p2.Mom_p2)^2*Den(Mom_p3.Mom_p3+2*Mom_p3.Mom_p5+Mom_p5.Mom_p5)*Den(Mom_p4.Mom_p4+2*Mom_p4.Mom_p5+Mom_p5.Mom_p5)*G^2*Nc^2*ee^4*mss34*mss35*mst15*mst23+16/9*Den(Mom_p3.Mom_p5)*Den(Mom_p1.Mom_p1+2*Mom_p1.Mom_p2+Mom_p2.Mom_p2)^2*Den(Mom_p3.Mom_p3+2*Mom_p3.Mom_p5+Mom_p5.Mom_p5)*Den(Mom_p4.Mom_p4+2*Mom_p4.Mom_p5+Mom_p5.Mom_p5)*G^2*Nc^2*ee^4*mss34*mss35*mst14*mst23+8/9*Den(Mom_p3.Mom_p5)*Den(Mom_p1.Mom_p1+2*Mom_p1.Mom_p2+Mom_p2.Mom_p2)^2*Den(Mom_p3.Mom_p3+2*Mom_p3.Mom_p5+Mom_p5.Mom_p5)*Den(Mom_p4.Mom_p4+2*Mom_p4.Mom_p5+Mom_p5.Mom_p5)*G^2*Nc^2*ee^4*mss34*mss35*mst13*mst25+16/9*Den(Mom_p3.Mom_p5)*Den(Mom_p1.Mom_p1+2*Mom_p1.Mom_p2+Mom_p2.Mom_p2)^2*Den(Mom_p3.Mom_p3+2*Mom_p3.Mom_p5+Mom_p5.Mom_p5)*Den(Mom_p4.Mom_p4+2*Mom_p4.Mom_p5+Mom_p5.Mom_p5)*G^2*Nc^2*ee^4*mss34*mss35*mst13*mst24+16/9*Den(Mom_p3.Mom_p5)*Den(Mom_p1.Mom_p1+2*Mom_p1.Mom_p2+Mom_p2.Mom_p2)^2*Den(Mom_p3.Mom_p3+2*Mom_p3.Mom_p5+Mom_p5.Mom_p5)*Den(Mom_p4.Mom_p4+2*Mom_p4.Mom_p5+Mom_p5.Mom_p5)*G^2*Nc^2*ee^4*Mass_Me^2*mss35*mss45*mst23+16/9*Den(Mom_p3.Mom_p5)*Den(Mom_p1.Mom_p1+2*Mom_p1.Mom_p2+Mom_p2.Mom_p2)^2*Den(Mom_p3.Mom_p3+2*Mom_p3.Mom_p5+Mom_p5.Mom_p5)*Den(Mom_p4.Mom_p4+2*Mom_p4.Mom_p5+Mom_p5.Mom_p5)*G^2*Nc^2*ee^4*Mass_Me^2*mss35*mss45*mst13-8/9*Den(Mom_p3.Mom_p5)*Den(Mom_p1.Mom_p1+2*Mom_p1.Mom_p2+Mom_p2.Mom_p2)^2*Den(Mom_p3.Mom_p3+2*Mom_p3.Mom_p5+Mom_p5.Mom_p5)*Den(Mom_p4.Mom_p4+2*Mom_p4.Mom_p5+Mom_p5.Mom_p5)*G^2*Nc^2*ee^4*Mass_Me^2*mss35^2*mst24-8/9*Den(Mom_p3.Mom_p5)*Den(Mom_p1.Mom_p1+2*Mom_p1.Mom_p2+Mom_p2.Mom_p2)^2*Den(Mom_p3.Mom_p3+2*Mom_p3.Mom_p5+Mom_p5.Mom_p5)*Den(Mom_p4.Mom_p4+2*Mom_p4.Mom_p5+Mom_p5.Mom_p5)*G^2*Nc^2*ee^4*Mass_Me^2*mss35^2*mst23-8/9*Den(Mom_p3.Mom_p5)*Den(Mom_p1.Mom_p1+2*Mom_p1.Mom_p2+Mom_p2.Mom_p2)^2*Den(Mom_p3.Mom_p3+2*Mom_p3.Mom_p5+Mom_p5.Mom_p5)*Den(Mom_p4.Mom_p4+2*Mom_p4.Mom_p5+Mom_p5.Mom_p5)*G^2*Nc^2*ee^4*Mass_Me^2*mss35^2*mst14-8/9*Den(Mom_p3.Mom_p5)*Den(Mom_p1.Mom_p1+2*Mom_p1.Mom_p2+Mom_p2.Mom_p2)^2*Den(Mom_p3.Mom_p3+2*Mom_p3.Mom_p5+Mom_p5.Mom_p5)*Den(Mom_p4.Mom_p4+2*Mom_p4.Mom_p5+Mom_p5.Mom_p5)*G^2*Nc^2*ee^4*Mass_Me^2*mss35^2*mst13-8/9*Den(Mom_p3.Mom_p5)*Den(Mom_p1.Mom_p1+2*Mom_p1.Mom_p2+Mom_p2.Mom_p2)^2*Den(Mom_p3.Mom_p3+2*Mom_p3.Mom_p5+Mom_p5.Mom_p5)*Den(Mom_p4.Mom_p4+2*Mom_p4.Mom_p5+Mom_p5.Mom_p5)*G^2*Nc^2*ee^4*Mass_Me^2*mss34*mss35*mst25-16/9*Den(Mom_p3.Mom_p5)*Den(Mom_p1.Mom_p1+2*Mom_p1.Mom_p2+Mom_p2.Mom_p2)^2*Den(Mom_p3.Mom_p3+2*Mom_p3.Mom_p5+Mom_p5.Mom_p5)*Den(Mom_p4.Mom_p4+2*Mom_p4.Mom_p5+Mom_p5.Mom_p5)*G^2*Nc^2*ee^4*Mass_Me^2*mss34*mss35*mst24-8/3*Den(Mom_p3.Mom_p5)*Den(Mom_p1.Mom_p1+2*Mom_p1.Mom_p2+Mom_p2.Mom_p2)^2*Den(Mom_p3.Mom_p3+2*Mom_p3.Mom_p5+Mom_p5.Mom_p5)*Den(Mom_p4.Mom_p4+2*Mom_p4.Mom_p5+Mom_p5.Mom_p5)*G^2*Nc^2*ee^4*Mass_Me^2*mss34*mss35*mst23-8/9*Den(Mom_p3.Mom_p5)*Den(Mom_p1.Mom_p1+2*Mom_p1.Mom_p2+Mom_p2.Mom_p2)^2*Den(Mom_p3.Mom_p3+2*Mom_p3.Mom_p5+Mom_p5.Mom_p5)*Den(Mom_p4.Mom_p4+2*Mom_p4.Mom_p5+Mom_p5.Mom_p5)*G^2*Nc^2*ee^4*Mass_Me^2*mss34*mss35*mst15-16/9*Den(Mom_p3.Mom_p5)*Den(Mom_p1.Mom_p1+2*Mom_p1.Mom_p2+Mom_p2.Mom_p2)^2*Den(Mom_p3.Mom_p3+2*Mom_p3.Mom_p5+Mom_p5.Mom_p5)*Den(Mom_p4.Mom_p4+2*Mom_p4.Mom_p5+Mom_p5.Mom_p5)*G^2*Nc^2*ee^4*Mass_Me^2*mss34*mss35*mst14-8/3*Den(Mom_p3.Mom_p5)*Den(Mom_p1.Mom_p1+2*Mom_p1.Mom_p2+Mom_p2.Mom_p2)^2*Den(Mom_p3.Mom_p3+2*Mom_p3.Mom_p5+Mom_p5.Mom_p5)*Den(Mom_p4.Mom_p4+2*Mom_p4.Mom_p5+Mom_p5.Mom_p5)*G^2*Nc^2*ee^4*Mass_Me^2*mss34*mss35*mst13-16/9*Den(Mom_p3.Mom_p5)*Den(Mom_p1.Mom_p1+2*Mom_p1.Mom_p2+Mom_p2.Mom_p2)^2*Den(Mom_p3.Mom_p3+2*Mom_p3.Mom_p5+Mom_p5.Mom_p5)*Den(Mom_p4.Mom_p4+2*Mom_p4.Mom_p5+Mom_p5.Mom_p5)*G^2*Nc^2*ee^4*Mass_Me^4*mss35*mss45+16/9*Den(Mom_p3.Mom_p5)*Den(Mom_p1.Mom_p1+2*Mom_p1.Mom_p2+Mom_p2.Mom_p2)^2*Den(Mom_p3.Mom_p3+2*Mom_p3.Mom_p5+Mom_p5.Mom_p5)*Den(Mom_p4.Mom_p4+2*Mom_p4.Mom_p5+Mom_p5.Mom_p5)*G^2*Nc^2*ee^4*Mass_Me^4*mss35^2+16/3*Den(Mom_p3.Mom_p5)*Den(Mom_p1.Mom_p1+2*Mom_p1.Mom_p2+Mom_p2.Mom_p2)^2*Den(Mom_p3.Mom_p3+2*Mom_p3.Mom_p5+Mom_p5.Mom_p5)*Den(Mom_p4.Mom_p4+2*Mom_p4.Mom_p5+Mom_p5.Mom_p5)*G^2*Nc^2*ee^4*Mass_Me^4*mss34*mss35+32/9*Den(Mom_p3.Mom_p5)*Den(Mom_p1.Mom_p1+2*Mom_p1.Mom_p2+Mom_p2.Mom_p2)^2*Den(Mom_p3.Mom_p3+2*Mom_p3.Mom_p5+Mom_p5.Mom_p5)*Den(Mom_p4.Mom_p4+2*Mom_p4.Mom_p5+Mom_p5.Mom_p5)*G^2*Nc^2*ee^4*Mass_Me^4*mss34*mss35^2+32/9*Den(Mom_p3.Mom_p5)*Den(Mom_p1.Mom_p1+2*Mom_p1.Mom_p2+Mom_p2.Mom_p2)^2*Den(Mom_p3.Mom_p3+2*Mom_p3.Mom_p5+Mom_p5.Mom_p5)*Den(Mom_p4.Mom_p4+2*Mom_p4.Mom_p5+Mom_p5.Mom_p5)*G^2*Nc^2*ee^4*Mass_Me^4*mss34^2*mss35) + (16/9*Den(Mom_p1.Mom_p1+2*Mom_p1.Mom_p2+Mom_p2.Mom_p2)^2*Den(Mom_p3.Mom_p3+2*Mom_p3.Mom_p5+Mom_p5.Mom_p5)*Den(Mom_p4.Mom_p4+2*Mom_p4.Mom_p5+Mom_p5.Mom_p5)*G^2*ee^4*mss45*mst14*mst23+16/9*Den(Mom_p1.Mom_p1+2*Mom_p1.Mom_p2+Mom_p2.Mom_p2)^2*Den(Mom_p3.Mom_p3+2*Mom_p3.Mom_p5+Mom_p5.Mom_p5)*Den(Mom_p4.Mom_p4+2*Mom_p4.Mom_p5+Mom_p5.Mom_p5)*G^2*ee^4*mss45*mst13*mst24-32/9*Den(Mom_p1.Mom_p1+2*Mom_p1.Mom_p2+Mom_p2.Mom_p2)^2*Den(Mom_p3.Mom_p3+2*Mom_p3.Mom_p5+Mom_p5.Mom_p5)*Den(Mom_p4.Mom_p4+2*Mom_p4.Mom_p5+Mom_p5.Mom_p5)*G^2*ee^4*mss45*mst13*mst23-32/9*Den(Mom_p1.Mom_p1+2*Mom_p1.Mom_p2+Mom_p2.Mom_p2)^2*Den(Mom_p3.Mom_p3+2*Mom_p3.Mom_p5+Mom_p5.Mom_p5)*Den(Mom_p4.Mom_p4+2*Mom_p4.Mom_p5+Mom_p5.Mom_p5)*G^2*ee^4*mss35*mst14*mst24+16/9*Den(Mom_p1.Mom_p1+2*Mom_p1.Mom_p2+Mom_p2.Mom_p2)^2*Den(Mom_p3.Mom_p3+2*Mom_p3.Mom_p5+Mom_p5.Mom_p5)*Den(Mom_p4.Mom_p4+2*Mom_p4.Mom_p5+Mom_p5.Mom_p5)*G^2*ee^4*mss35*mst14*mst23+16/9*Den(Mom_p1.Mom_p1+2*Mom_p1.Mom_p2+Mom_p2.Mom_p2)^2*Den(Mom_p3.Mom_p3+2*Mom_p3.Mom_p5+Mom_p5.Mom_p5)*Den(Mom_p4.Mom_p4+2*Mom_p4.Mom_p5+Mom_p5.Mom_p5)*G^2*ee^4*mss35*mst13*mst24+16/9*Den(Mom_p1.Mom_p1+2*Mom_p1.Mom_p2+Mom_p2.Mom_p2)^2*Den(Mom_p3.Mom_p3+2*Mom_p3.Mom_p5+Mom_p5.Mom_p5)*Den(Mom_p4.Mom_p4+2*Mom_p4.Mom_p5+Mom_p5.Mom_p5)*G^2*ee^4*mss34*mst15*mst24+16/9*Den(Mom_p1.Mom_p1+2*Mom_p1.Mom_p2+Mom_p2.Mom_p2)^2*Den(Mom_p3.Mom_p3+2*Mom_p3.Mom_p5+Mom_p5.Mom_p5)*Den(Mom_p4.Mom_p4+2*Mom_p4.Mom_p5+Mom_p5.Mom_p5)*G^2*ee^4*mss34*mst15*mst23+16/9*Den(Mom_p1.Mom_p1+2*Mom_p1.Mom_p2+Mom_p2.Mom_p2)^2*Den(Mom_p3.Mom_p3+2*Mom_p3.Mom_p5+Mom_p5.Mom_p5)*Den(Mom_p4.Mom_p4+2*Mom_p4.Mom_p5+Mom_p5.Mom_p5)*G^2*ee^4*mss34*mst14*mst25+32/9*Den(Mom_p1.Mom_p1+2*Mom_p1.Mom_p2+Mom_p2.Mom_p2)^2*Den(Mom_p3.Mom_p3+2*Mom_p3.Mom_p5+Mom_p5.Mom_p5)*Den(Mom_p4.Mom_p4+2*Mom_p4.Mom_p5+Mom_p5.Mom_p5)*G^2*ee^4*mss34*mst14*mst23+16/9*Den(Mom_p1.Mom_p1+2*Mom_p1.Mom_p2+Mom_p2.Mom_p2)^2*Den(Mom_p3.Mom_p3+2*Mom_p3.Mom_p5+Mom_p5.Mom_p5)*Den(Mom_p4.Mom_p4+2*Mom_p4.Mom_p5+Mom_p5.Mom_p5)*G^2*ee^4*mss34*mst13*mst25+32/9*Den(Mom_p1.Mom_p1+2*Mom_p1.Mom_p2+Mom_p2.Mom_p2)^2*Den(Mom_p3.Mom_p3+2*Mom_p3.Mom_p5+Mom_p5.Mom_p5)*Den(Mom_p4.Mom_p4+2*Mom_p4.Mom_p5+Mom_p5.Mom_p5)*G^2*ee^4*mss34*mst13*mst24-16/9*Den(Mom_p1.Mom_p1+2*Mom_p1.Mom_p2+Mom_p2.Mom_p2)^2*Den(Mom_p3.Mom_p3+2*Mom_p3.Mom_p5+Mom_p5.Mom_p5)*Den(Mom_p4.Mom_p4+2*Mom_p4.Mom_p5+Mom_p5.Mom_p5)*G^2*ee^4*Mass_Me^2*mss45*mst24+16/9*Den(Mom_p1.Mom_p1+2*Mom_p1.Mom_p2+Mom_p2.Mom_p2)^2*Den(Mom_p3.Mom_p3+2*Mom_p3.Mom_p5+Mom_p5.Mom_p5)*Den(Mom_p4.Mom_p4+2*Mom_p4.Mom_p5+Mom_p5.Mom_p5)*G^2*ee^4*Mass_Me^2*mss45*mst23-16/9*Den(Mom_p1.Mom_p1+2*Mom_p1.Mom_p2+Mom_p2.Mom_p2)^2*Den(Mom_p3.Mom_p3+2*Mom_p3.Mom_p5+Mom_p5.Mom_p5)*Den(Mom_p4.Mom_p4+2*Mom_p4.Mom_p5+Mom_p5.Mom_p5)*G^2*ee^4*Mass_Me^2*mss45*mst14+16/9*Den(Mom_p1.Mom_p1+2*Mom_p1.Mom_p2+Mom_p2.Mom_p2)^2*Den(Mom_p3.Mom_p3+2*Mom_p3.Mom_p5+Mom_p5.Mom_p5)*Den(Mom_p4.Mom_p4+2*Mom_p4.Mom_p5+Mom_p5.Mom_p5)*G^2*ee^4*Mass_Me^2*mss45*mst13+16/9*Den(Mom_p1.Mom_p1+2*Mom_p1.Mom_p2+Mom_p2.Mom_p2)^2*Den(Mom_p3.Mom_p3+2*Mom_p3.Mom_p5+Mom_p5.Mom_p5)*Den(Mom_p4.Mom_p4+2*Mom_p4.Mom_p5+Mom_p5.Mom_p5)*G^2*ee^4*Mass_Me^2*mss35*mst24-16/9*Den(Mom_p1.Mom_p1+2*Mom_p1.Mom_p2+Mom_p2.Mom_p2)^2*Den(Mom_p3.Mom_p3+2*Mom_p3.Mom_p5+Mom_p5.Mom_p5)*Den(Mom_p4.Mom_p4+2*Mom_p4.Mom_p5+Mom_p5.Mom_p5)*G^2*ee^4*Mass_Me^2*mss35*mst23+16/9*Den(Mom_p1.Mom_p1+2*Mom_p1.Mom_p2+Mom_p2.Mom_p2)^2*Den(Mom_p3.Mom_p3+2*Mom_p3.Mom_p5+Mom_p5.Mom_p5)*Den(Mom_p4.Mom_p4+2*Mom_p4.Mom_p5+Mom_p5.Mom_p5)*G^2*ee^4*Mass_Me^2*mss35*mst14-16/9*Den(Mom_p1.Mom_p1+2*Mom_p1.Mom_p2+Mom_p2.Mom_p2)^2*Den(Mom_p3.Mom_p3+2*Mom_p3.Mom_p5+Mom_p5.Mom_p5)*Den(Mom_p4.Mom_p4+2*Mom_p4.Mom_p5+Mom_p5.Mom_p5)*G^2*ee^4*Mass_Me^2*mss35*mst13-32/9*Den(Mom_p1.Mom_p1+2*Mom_p1.Mom_p2+Mom_p2.Mom_p2)^2*Den(Mom_p3.Mom_p3+2*Mom_p3.Mom_p5+Mom_p5.Mom_p5)*Den(Mom_p4.Mom_p4+2*Mom_p4.Mom_p5+Mom_p5.Mom_p5)*G^2*ee^4*Mass_Me^2*mss34*mst25-16/3*Den(Mom_p1.Mom_p1+2*Mom_p1.Mom_p2+Mom_p2.Mom_p2)^2*Den(Mom_p3.Mom_p3+2*Mom_p3.Mom_p5+Mom_p5.Mom_p5)*Den(Mom_p4.Mom_p4+2*Mom_p4.Mom_p5+Mom_p5.Mom_p5)*G^2*ee^4*Mass_Me^2*mss34*mst24-16/3*Den(Mom_p1.Mom_p1+2*Mom_p1.Mom_p2+Mom_p2.Mom_p2)^2*Den(Mom_p3.Mom_p3+2*Mom_p3.Mom_p5+Mom_p5.Mom_p5)*Den(Mom_p4.Mom_p4+2*Mom_p4.Mom_p5+Mom_p5.Mom_p5)*G^2*ee^4*Mass_Me^2*mss34*mst23-32/9*Den(Mom_p1.Mom_p1+2*Mom_p1.Mom_p2+Mom_p2.Mom_p2)^2*Den(Mom_p3.Mom_p3+2*Mom_p3.Mom_p5+Mom_p5.Mom_p5)*Den(Mom_p4.Mom_p4+2*Mom_p4.Mom_p5+Mom_p5.Mom_p5)*G^2*ee^4*Mass_Me^2*mss34*mst15-16/3*Den(Mom_p1.Mom_p1+2*Mom_p1.Mom_p2+Mom_p2.Mom_p2)^2*Den(Mom_p3.Mom_p3+2*Mom_p3.Mom_p5+Mom_p5.Mom_p5)*Den(Mom_p4.Mom_p4+2*Mom_p4.Mom_p5+Mom_p5.Mom_p5)*G^2*ee^4*Mass_Me^2*mss34*mst14-16/3*Den(Mom_p1.Mom_p1+2*Mom_p1.Mom_p2+Mom_p2.Mom_p2)^2*Den(Mom_p3.Mom_p3+2*Mom_p3.Mom_p5+Mom_p5.Mom_p5)*Den(Mom_p4.Mom_p4+2*Mom_p4.Mom_p5+Mom_p5.Mom_p5)*G^2*ee^4*Mass_Me^2*mss34*mst13+128/9*Den(Mom_p1.Mom_p1+2*Mom_p1.Mom_p2+Mom_p2.Mom_p2)^2*Den(Mom_p3.Mom_p3+2*Mom_p3.Mom_p5+Mom_p5.Mom_p5)*Den(Mom_p4.Mom_p4+2*Mom_p4.Mom_p5+Mom_p5.Mom_p5)*G^2*ee^4*Mass_Me^4*mss34+64/9*Den(Mom_p1.Mom_p1+2*Mom_p1.Mom_p2+Mom_p2.Mom_p2)^2*Den(Mom_p3.Mom_p3+2*Mom_p3.Mom_p5+Mom_p5.Mom_p5)*Den(Mom_p4.Mom_p4+2*Mom_p4.Mom_p5+Mom_p5.Mom_p5)*G^2*ee^4*Mass_Me^4*mss34*mss45+64/9*Den(Mom_p1.Mom_p1+2*Mom_p1.Mom_p2+Mom_p2.Mom_p2)^2*Den(Mom_p3.Mom_p3+2*Mom_p3.Mom_p5+Mom_p5.Mom_p5)*Den(Mom_p4.Mom_p4+2*Mom_p4.Mom_p5+Mom_p5.Mom_p5)*G^2*ee^4*Mass_Me^4*mss34*mss35+64/9*Den(Mom_p1.Mom_p1+2*Mom_p1.Mom_p2+Mom_p2.Mom_p2)^2*Den(Mom_p3.Mom_p3+2*Mom_p3.Mom_p5+Mom_p5.Mom_p5)*Den(Mom_p4.Mom_p4+2*Mom_p4.Mom_p5+Mom_p5.Mom_p5)*G^2*ee^4*Mass_Me^4*mss34^2-16/9*Den(Mom_p1.Mom_p1+2*Mom_p1.Mom_p2+Mom_p2.Mom_p2)^2*Den(Mom_p3.Mom_p3+2*Mom_p3.Mom_p5+Mom_p5.Mom_p5)*Den(Mom_p4.Mom_p4+2*Mom_p4.Mom_p5+Mom_p5.Mom_p5)*G^2*Nc^2*ee^4*mss45*mst14*mst23-16/9*Den(Mom_p1.Mom_p1+2*Mom_p1.Mom_p2+Mom_p2.Mom_p2)^2*Den(Mom_p3.Mom_p3+2*Mom_p3.Mom_p5+Mom_p5.Mom_p5)*Den(Mom_p4.Mom_p4+2*Mom_p4.Mom_p5+Mom_p5.Mom_p5)*G^2*Nc^2*ee^4*mss45*mst13*mst24+32/9*Den(Mom_p1.Mom_p1+2*Mom_p1.Mom_p2+Mom_p2.Mom_p2)^2*Den(Mom_p3.Mom_p3+2*Mom_p3.Mom_p5+Mom_p5.Mom_p5)*Den(Mom_p4.Mom_p4+2*Mom_p4.Mom_p5+Mom_p5.Mom_p5)*G^2*Nc^2*ee^4*mss45*mst13*mst23+32/9*Den(Mom_p1.Mom_p1+2*Mom_p1.Mom_p2+Mom_p2.Mom_p2)^2*Den(Mom_p3.Mom_p3+2*Mom_p3.Mom_p5+Mom_p5.Mom_p5)*Den(Mom_p4.Mom_p4+2*Mom_p4.Mom_p5+Mom_p5.Mom_p5)*G^2*Nc^2*ee^4*mss35*mst14*mst24-16/9*Den(Mom_p1.Mom_p1+2*Mom_p1.Mom_p2+Mom_p2.Mom_p2)^2*Den(Mom_p3.Mom_p3+2*Mom_p3.Mom_p5+Mom_p5.Mom_p5)*Den(Mom_p4.Mom_p4+2*Mom_p4.Mom_p5+Mom_p5.Mom_p5)*G^2*Nc^2*ee^4*mss35*mst14*mst23-16/9*Den(Mom_p1.Mom_p1+2*Mom_p1.Mom_p2+Mom_p2.Mom_p2)^2*Den(Mom_p3.Mom_p3+2*Mom_p3.Mom_p5+Mom_p5.Mom_p5)*Den(Mom_p4.Mom_p4+2*Mom_p4.Mom_p5+Mom_p5.Mom_p5)*G^2*Nc^2*ee^4*mss35*mst13*mst24-16/9*Den(Mom_p1.Mom_p1+2*Mom_p1.Mom_p2+Mom_p2.Mom_p2)^2*Den(Mom_p3.Mom_p3+2*Mom_p3.Mom_p5+Mom_p5.Mom_p5)*Den(Mom_p4.Mom_p4+2*Mom_p4.Mom_p5+Mom_p5.Mom_p5)*G^2*Nc^2*ee^4*mss34*mst15*mst24-16/9*Den(Mom_p1.Mom_p1+2*Mom_p1.Mom_p2+Mom_p2.Mom_p2)^2*Den(Mom_p3.Mom_p3+2*Mom_p3.Mom_p5+Mom_p5.Mom_p5)*Den(Mom_p4.Mom_p4+2*Mom_p4.Mom_p5+Mom_p5.Mom_p5)*G^2*Nc^2*ee^4*mss34*mst15*mst23-16/9*Den(Mom_p1.Mom_p1+2*Mom_p1.Mom_p2+Mom_p2.Mom_p2)^2*Den(Mom_p3.Mom_p3+2*Mom_p3.Mom_p5+Mom_p5.Mom_p5)*Den(Mom_p4.Mom_p4+2*Mom_p4.Mom_p5+Mom_p5.Mom_p5)*G^2*Nc^2*ee^4*mss34*mst14*mst25-32/9*Den(Mom_p1.Mom_p1+2*Mom_p1.Mom_p2+Mom_p2.Mom_p2)^2*Den(Mom_p3.Mom_p3+2*Mom_p3.Mom_p5+Mom_p5.Mom_p5)*Den(Mom_p4.Mom_p4+2*Mom_p4.Mom_p5+Mom_p5.Mom_p5)*G^2*Nc^2*ee^4*mss34*mst14*mst23-16/9*Den(Mom_p1.Mom_p1+2*Mom_p1.Mom_p2+Mom_p2.Mom_p2)^2*Den(Mom_p3.Mom_p3+2*Mom_p3.Mom_p5+Mom_p5.Mom_p5)*Den(Mom_p4.Mom_p4+2*Mom_p4.Mom_p5+Mom_p5.Mom_p5)*G^2*Nc^2*ee^4*mss34*mst13*mst25-32/9*Den(Mom_p1.Mom_p1+2*Mom_p1.Mom_p2+Mom_p2.Mom_p2)^2*Den(Mom_p3.Mom_p3+2*Mom_p3.Mom_p5+Mom_p5.Mom_p5)*Den(Mom_p4.Mom_p4+2*Mom_p4.Mom_p5+Mom_p5.Mom_p5)*G^2*Nc^2*ee^4*mss34*mst13*mst24+16/9*Den(Mom_p1.Mom_p1+2*Mom_p1.Mom_p2+Mom_p2.Mom_p2)^2*Den(Mom_p3.Mom_p3+2*Mom_p3.Mom_p5+Mom_p5.Mom_p5)*Den(Mom_p4.Mom_p4+2*Mom_p4.Mom_p5+Mom_p5.Mom_p5)*G^2*Nc^2*ee^4*Mass_Me^2*mss45*mst24-16/9*Den(Mom_p1.Mom_p1+2*Mom_p1.Mom_p2+Mom_p2.Mom_p2)^2*Den(Mom_p3.Mom_p3+2*Mom_p3.Mom_p5+Mom_p5.Mom_p5)*Den(Mom_p4.Mom_p4+2*Mom_p4.Mom_p5+Mom_p5.Mom_p5)*G^2*Nc^2*ee^4*Mass_Me^2*mss45*mst23+16/9*Den(Mom_p1.Mom_p1+2*Mom_p1.Mom_p2+Mom_p2.Mom_p2)^2*Den(Mom_p3.Mom_p3+2*Mom_p3.Mom_p5+Mom_p5.Mom_p5)*Den(Mom_p4.Mom_p4+2*Mom_p4.Mom_p5+Mom_p5.Mom_p5)*G^2*Nc^2*ee^4*Mass_Me^2*mss45*mst14-16/9*Den(Mom_p1.Mom_p1+2*Mom_p1.Mom_p2+Mom_p2.Mom_p2)^2*Den(Mom_p3.Mom_p3+2*Mom_p3.Mom_p5+Mom_p5.Mom_p5)*Den(Mom_p4.Mom_p4+2*Mom_p4.Mom_p5+Mom_p5.Mom_p5)*G^2*Nc^2*ee^4*Mass_Me^2*mss45*mst13-16/9*Den(Mom_p1.Mom_p1+2*Mom_p1.Mom_p2+Mom_p2.Mom_p2)^2*Den(Mom_p3.Mom_p3+2*Mom_p3.Mom_p5+Mom_p5.Mom_p5)*Den(Mom_p4.Mom_p4+2*Mom_p4.Mom_p5+Mom_p5.Mom_p5)*G^2*Nc^2*ee^4*Mass_Me^2*mss35*mst24+16/9*Den(Mom_p1.Mom_p1+2*Mom_p1.Mom_p2+Mom_p2.Mom_p2)^2*Den(Mom_p3.Mom_p3+2*Mom_p3.Mom_p5+Mom_p5.Mom_p5)*Den(Mom_p4.Mom_p4+2*Mom_p4.Mom_p5+Mom_p5.Mom_p5)*G^2*Nc^2*ee^4*Mass_Me^2*mss35*mst23-16/9*Den(Mom_p1.Mom_p1+2*Mom_p1.Mom_p2+Mom_p2.Mom_p2)^2*Den(Mom_p3.Mom_p3+2*Mom_p3.Mom_p5+Mom_p5.Mom_p5)*Den(Mom_p4.Mom_p4+2*Mom_p4.Mom_p5+Mom_p5.Mom_p5)*G^2*Nc^2*ee^4*Mass_Me^2*mss35*mst14+16/9*Den(Mom_p1.Mom_p1+2*Mom_p1.Mom_p2+Mom_p2.Mom_p2)^2*Den(Mom_p3.Mom_p3+2*Mom_p3.Mom_p5+Mom_p5.Mom_p5)*Den(Mom_p4.Mom_p4+2*Mom_p4.Mom_p5+Mom_p5.Mom_p5)*G^2*Nc^2*ee^4*Mass_Me^2*mss35*mst13+32/9*Den(Mom_p1.Mom_p1+2*Mom_p1.Mom_p2+Mom_p2.Mom_p2)^2*Den(Mom_p3.Mom_p3+2*Mom_p3.Mom_p5+Mom_p5.Mom_p5)*Den(Mom_p4.Mom_p4+2*Mom_p4.Mom_p5+Mom_p5.Mom_p5)*G^2*Nc^2*ee^4*Mass_Me^2*mss34*mst25+16/3*Den(Mom_p1.Mom_p1+2*Mom_p1.Mom_p2+Mom_p2.Mom_p2)^2*Den(Mom_p3.Mom_p3+2*Mom_p3.Mom_p5+Mom_p5.Mom_p5)*Den(Mom_p4.Mom_p4+2*Mom_p4.Mom_p5+Mom_p5.Mom_p5)*G^2*Nc^2*ee^4*Mass_Me^2*mss34*mst24+16/3*Den(Mom_p1.Mom_p1+2*Mom_p1.Mom_p2+Mom_p2.Mom_p2)^2*Den(Mom_p3.Mom_p3+2*Mom_p3.Mom_p5+Mom_p5.Mom_p5)*Den(Mom_p4.Mom_p4+2*Mom_p4.Mom_p5+Mom_p5.Mom_p5)*G^2*Nc^2*ee^4*Mass_Me^2*mss34*mst23+32/9*Den(Mom_p1.Mom_p1+2*Mom_p1.Mom_p2+Mom_p2.Mom_p2)^2*Den(Mom_p3.Mom_p3+2*Mom_p3.Mom_p5+Mom_p5.Mom_p5)*Den(Mom_p4.Mom_p4+2*Mom_p4.Mom_p5+Mom_p5.Mom_p5)*G^2*Nc^2*ee^4*Mass_Me^2*mss34*mst15+16/3*Den(Mom_p1.Mom_p1+2*Mom_p1.Mom_p2+Mom_p2.Mom_p2)^2*Den(Mom_p3.Mom_p3+2*Mom_p3.Mom_p5+Mom_p5.Mom_p5)*Den(Mom_p4.Mom_p4+2*Mom_p4.Mom_p5+Mom_p5.Mom_p5)*G^2*Nc^2*ee^4*Mass_Me^2*mss34*mst14+16/3*Den(Mom_p1.Mom_p1+2*Mom_p1.Mom_p2+Mom_p2.Mom_p2)^2*Den(Mom_p3.Mom_p3+2*Mom_p3.Mom_p5+Mom_p5.Mom_p5)*Den(Mom_p4.Mom_p4+2*Mom_p4.Mom_p5+Mom_p5.Mom_p5)*G^2*Nc^2*ee^4*Mass_Me^2*mss34*mst13-128/9*Den(Mom_p1.Mom_p1+2*Mom_p1.Mom_p2+Mom_p2.Mom_p2)^2*Den(Mom_p3.Mom_p3+2*Mom_p3.Mom_p5+Mom_p5.Mom_p5)*Den(Mom_p4.Mom_p4+2*Mom_p4.Mom_p5+Mom_p5.Mom_p5)*G^2*Nc^2*ee^4*Mass_Me^4*mss34-64/9*Den(Mom_p1.Mom_p1+2*Mom_p1.Mom_p2+Mom_p2.Mom_p2)^2*Den(Mom_p3.Mom_p3+2*Mom_p3.Mom_p5+Mom_p5.Mom_p5)*Den(Mom_p4.Mom_p4+2*Mom_p4.Mom_p5+Mom_p5.Mom_p5)*G^2*Nc^2*ee^4*Mass_Me^4*mss34*mss45-64/9*Den(Mom_p1.Mom_p1+2*Mom_p1.Mom_p2+Mom_p2.Mom_p2)^2*Den(Mom_p3.Mom_p3+2*Mom_p3.Mom_p5+Mom_p5.Mom_p5)*Den(Mom_p4.Mom_p4+2*Mom_p4.Mom_p5+Mom_p5.Mom_p5)*G^2*Nc^2*ee^4*Mass_Me^4*mss34*mss35-64/9*Den(Mom_p1.Mom_p1+2*Mom_p1.Mom_p2+Mom_p2.Mom_p2)^2*Den(Mom_p3.Mom_p3+2*Mom_p3.Mom_p5+Mom_p5.Mom_p5)*Den(Mom_p4.Mom_p4+2*Mom_p4.Mom_p5+Mom_p5.Mom_p5)*G^2*Nc^2*ee^4*Mass_Me^4*mss34^2+16/9*Den(Mom_p3.Mom_p5)*Den(Mom_p1.Mom_p1+2*Mom_p1.Mom_p2+Mom_p2.Mom_p2)^2*Den(Mom_p3.Mom_p3+2*Mom_p3.Mom_p5+Mom_p5.Mom_p5)*Den(Mom_p4.Mom_p4+2*Mom_p4.Mom_p5+Mom_p5.Mom_p5)*G^2*ee^4*mss35*mss45*mst13*mst23-8/9*Den(Mom_p3.Mom_p5)*Den(Mom_p1.Mom_p1+2*Mom_p1.Mom_p2+Mom_p2.Mom_p2)^2*Den(Mom_p3.Mom_p3+2*Mom_p3.Mom_p5+Mom_p5.Mom_p5)*Den(Mom_p4.Mom_p4+2*Mom_p4.Mom_p5+Mom_p5.Mom_p5)*G^2*ee^4*mss35^2*mst14*mst23-8/9*Den(Mom_p3.Mom_p5)*Den(Mom_p1.Mom_p1+2*Mom_p1.Mom_p2+Mom_p2.Mom_p2)^2*Den(Mom_p3.Mom_p3+2*Mom_p3.Mom_p5+Mom_p5.Mom_p5)*Den(Mom_p4.Mom_p4+2*Mom_p4.Mom_p5+Mom_p5.Mom_p5)*G^2*ee^4*mss35^2*mst13*mst24-8/9*Den(Mom_p3.Mom_p5)*Den(Mom_p1.Mom_p1+2*Mom_p1.Mom_p2+Mom_p2.Mom_p2)^2*Den(Mom_p3.Mom_p3+2*Mom_p3.Mom_p5+Mom_p5.Mom_p5)*Den(Mom_p4.Mom_p4+2*Mom_p4.Mom_p5+Mom_p5.Mom_p5)*G^2*ee^4*mss34*mss35*mst15*mst23-16/9*Den(Mom_p3.Mom_p5)*Den(Mom_p1.Mom_p1+2*Mom_p1.Mom_p2+Mom_p2.Mom_p2)^2*Den(Mom_p3.Mom_p3+2*Mom_p3.Mom_p5+Mom_p5.Mom_p5)*Den(Mom_p4.Mom_p4+2*Mom_p4.Mom_p5+Mom_p5.Mom_p5)*G^2*ee^4*mss34*mss35*mst14*mst23-8/9*Den(Mom_p3.Mom_p5)*Den(Mom_p1.Mom_p1+2*Mom_p1.Mom_p2+Mom_p2.Mom_p2)^2*Den(Mom_p3.Mom_p3+2*Mom_p3.Mom_p5+Mom_p5.Mom_p5)*Den(Mom_p4.Mom_p4+2*Mom_p4.Mom_p5+Mom_p5.Mom_p5)*G^2*ee^4*mss34*mss35*mst13*mst25-16/9*Den(Mom_p3.Mom_p5)*Den(Mom_p1.Mom_p1+2*Mom_p1.Mom_p2+Mom_p2.Mom_p2)^2*Den(Mom_p3.Mom_p3+2*Mom_p3.Mom_p5+Mom_p5.Mom_p5)*Den(Mom_p4.Mom_p4+2*Mom_p4.Mom_p5+Mom_p5.Mom_p5)*G^2*ee^4*mss34*mss35*mst13*mst24-16/9*Den(Mom_p3.Mom_p5)*Den(Mom_p1.Mom_p1+2*Mom_p1.Mom_p2+Mom_p2.Mom_p2)^2*Den(Mom_p3.Mom_p3+2*Mom_p3.Mom_p5+Mom_p5.Mom_p5)*Den(Mom_p4.Mom_p4+2*Mom_p4.Mom_p5+Mom_p5.Mom_p5)*G^2*ee^4*Mass_Me^2*mss35*mss45*mst23-16/9*Den(Mom_p3.Mom_p5)*Den(Mom_p1.Mom_p1+2*Mom_p1.Mom_p2+Mom_p2.Mom_p2)^2*Den(Mom_p3.Mom_p3+2*Mom_p3.Mom_p5+Mom_p5.Mom_p5)*Den(Mom_p4.Mom_p4+2*Mom_p4.Mom_p5+Mom_p5.Mom_p5)*G^2*ee^4*Mass_Me^2*mss35*mss45*mst13+8/9*Den(Mom_p3.Mom_p5)*Den(Mom_p1.Mom_p1+2*Mom_p1.Mom_p2+Mom_p2.Mom_p2)^2*Den(Mom_p3.Mom_p3+2*Mom_p3.Mom_p5+Mom_p5.Mom_p5)*Den(Mom_p4.Mom_p4+2*Mom_p4.Mom_p5+Mom_p5.Mom_p5)*G^2*ee^4*Mass_Me^2*mss35^2*mst24+8/9*Den(Mom_p3.Mom_p5)*Den(Mom_p1.Mom_p1+2*Mom_p1.Mom_p2+Mom_p2.Mom_p2)^2*Den(Mom_p3.Mom_p3+2*Mom_p3.Mom_p5+Mom_p5.Mom_p5)*Den(Mom_p4.Mom_p4+2*Mom_p4.Mom_p5+Mom_p5.Mom_p5)*G^2*ee^4*Mass_Me^2*mss35^2*mst23+8/9*Den(Mom_p3.Mom_p5)*Den(Mom_p1.Mom_p1+2*Mom_p1.Mom_p2+Mom_p2.Mom_p2)^2*Den(Mom_p3.Mom_p3+2*Mom_p3.Mom_p5+Mom_p5.Mom_p5)*Den(Mom_p4.Mom_p4+2*Mom_p4.Mom_p5+Mom_p5.Mom_p5)*G^2*ee^4*Mass_Me^2*mss35^2*mst14+8/9*Den(Mom_p3.Mom_p5)*Den(Mom_p1.Mom_p1+2*Mom_p1.Mom_p2+Mom_p2.Mom_p2)^2*Den(Mom_p3.Mom_p3+2*Mom_p3.Mom_p5+Mom_p5.Mom_p5)*Den(Mom_p4.Mom_p4+2*Mom_p4.Mom_p5+Mom_p5.Mom_p5)*G^2*ee^4*Mass_Me^2*mss35^2*mst13+8/9*Den(Mom_p3.Mom_p5)*Den(Mom_p1.Mom_p1+2*Mom_p1.Mom_p2+Mom_p2.Mom_p2)^2*Den(Mom_p3.Mom_p3+2*Mom_p3.Mom_p5+Mom_p5.Mom_p5)*Den(Mom_p4.Mom_p4+2*Mom_p4.Mom_p5+Mom_p5.Mom_p5)*G^2*ee^4*Mass_Me^2*mss34*mss35*mst25+16/9*Den(Mom_p3.Mom_p5)*Den(Mom_p1.Mom_p1+2*Mom_p1.Mom_p2+Mom_p2.Mom_p2)^2*Den(Mom_p3.Mom_p3+2*Mom_p3.Mom_p5+Mom_p5.Mom_p5)*Den(Mom_p4.Mom_p4+2*Mom_p4.Mom_p5+Mom_p5.Mom_p5)*G^2*ee^4*Mass_Me^2*mss34*mss35*mst24+8/3*Den(Mom_p3.Mom_p5)*Den(Mom_p1.Mom_p1+2*Mom_p1.Mom_p2+Mom_p2.Mom_p2)^2*Den(Mom_p3.Mom_p3+2*Mom_p3.Mom_p5+Mom_p5.Mom_p5)*Den(Mom_p4.Mom_p4+2*Mom_p4.Mom_p5+Mom_p5.Mom_p5)*G^2*ee^4*Mass_Me^2*mss34*mss35*mst23+8/9*Den(Mom_p3.Mom_p5)*Den(Mom_p1.Mom_p1+2*Mom_p1.Mom_p2+Mom_p2.Mom_p2)^2*Den(Mom_p3.Mom_p3+2*Mom_p3.Mom_p5+Mom_p5.Mom_p5)*Den(Mom_p4.Mom_p4+2*Mom_p4.Mom_p5+Mom_p5.Mom_p5)*G^2*ee^4*Mass_Me^2*mss34*mss35*mst15+16/9*Den(Mom_p3.Mom_p5)*Den(Mom_p1.Mom_p1+2*Mom_p1.Mom_p2+Mom_p2.Mom_p2)^2*Den(Mom_p3.Mom_p3+2*Mom_p3.Mom_p5+Mom_p5.Mom_p5)*Den(Mom_p4.Mom_p4+2*Mom_p4.Mom_p5+Mom_p5.Mom_p5)*G^2*ee^4*Mass_Me^2*mss34*mss35*mst14+8/3*Den(Mom_p3.Mom_p5)*Den(Mom_p1.Mom_p1+2*Mom_p1.Mom_p2+Mom_p2.Mom_p2)^2*Den(Mom_p3.Mom_p3+2*Mom_p3.Mom_p5+Mom_p5.Mom_p5)*Den(Mom_p4.Mom_p4+2*Mom_p4.Mom_p5+Mom_p5.Mom_p5)*G^2*ee^4*Mass_Me^2*mss34*mss35*mst13+16/9*Den(Mom_p3.Mom_p5)*Den(Mom_p1.Mom_p1+2*Mom_p1.Mom_p2+Mom_p2.Mom_p2)^2*Den(Mom_p3.Mom_p3+2*Mom_p3.Mom_p5+Mom_p5.Mom_p5)*Den(Mom_p4.Mom_p4+2*Mom_p4.Mom_p5+Mom_p5.Mom_p5)*G^2*ee^4*Mass_Me^4*mss35*mss45-16/9*Den(Mom_p3.Mom_p5)*Den(Mom_p1.Mom_p1+2*Mom_p1.Mom_p2+Mom_p2.Mom_p2)^2*Den(Mom_p3.Mom_p3+2*Mom_p3.Mom_p5+Mom_p5.Mom_p5)*Den(Mom_p4.Mom_p4+2*Mom_p4.Mom_p5+Mom_p5.Mom_p5)*G^2*ee^4*Mass_Me^4*mss35^2-16/3*Den(Mom_p3.Mom_p5)*Den(Mom_p1.Mom_p1+2*Mom_p1.Mom_p2+Mom_p2.Mom_p2)^2*Den(Mom_p3.Mom_p3+2*Mom_p3.Mom_p5+Mom_p5.Mom_p5)*Den(Mom_p4.Mom_p4+2*Mom_p4.Mom_p5+Mom_p5.Mom_p5)*G^2*ee^4*Mass_Me^4*mss34*mss35-32/9*Den(Mom_p3.Mom_p5)*Den(Mom_p1.Mom_p1+2*Mom_p1.Mom_p2+Mom_p2.Mom_p2)^2*Den(Mom_p3.Mom_p3+2*Mom_p3.Mom_p5+Mom_p5.Mom_p5)*Den(Mom_p4.Mom_p4+2*Mom_p4.Mom_p5+Mom_p5.Mom_p5)*G^2*ee^4*Mass_Me^4*mss34*mss35^2-32/9*Den(Mom_p3.Mom_p5)*Den(Mom_p1.Mom_p1+2*Mom_p1.Mom_p2+Mom_p2.Mom_p2)^2*Den(Mom_p3.Mom_p3+2*Mom_p3.Mom_p5+Mom_p5.Mom_p5)*Den(Mom_p4.Mom_p4+2*Mom_p4.Mom_p5+Mom_p5.Mom_p5)*G^2*ee^4*Mass_Me^4*mss34^2*mss35-16/9*Den(Mom_p3.Mom_p5)*Den(Mom_p1.Mom_p1+2*Mom_p1.Mom_p2+Mom_p2.Mom_p2)^2*Den(Mom_p3.Mom_p3+2*Mom_p3.Mom_p5+Mom_p5.Mom_p5)*Den(Mom_p4.Mom_p4+2*Mom_p4.Mom_p5+Mom_p5.Mom_p5)*G^2*Nc^2*ee^4*mss35*mss45*mst13*mst23+8/9*Den(Mom_p3.Mom_p5)*Den(Mom_p1.Mom_p1+2*Mom_p1.Mom_p2+Mom_p2.Mom_p2)^2*Den(Mom_p3.Mom_p3+2*Mom_p3.Mom_p5+Mom_p5.Mom_p5)*Den(Mom_p4.Mom_p4+2*Mom_p4.Mom_p5+Mom_p5.Mom_p5)*G^2*Nc^2*ee^4*mss35^2*mst14*mst23+8/9*Den(Mom_p3.Mom_p5)*Den(Mom_p1.Mom_p1+2*Mom_p1.Mom_p2+Mom_p2.Mom_p2)^2*Den(Mom_p3.Mom_p3+2*Mom_p3.Mom_p5+Mom_p5.Mom_p5)*Den(Mom_p4.Mom_p4+2*Mom_p4.Mom_p5+Mom_p5.Mom_p5)*G^2*Nc^2*ee^4*mss35^2*mst13*mst24+8/9*Den(Mom_p3.Mom_p5)*Den(Mom_p1.Mom_p1+2*Mom_p1.Mom_p2+Mom_p2.Mom_p2)^2*Den(Mom_p3.Mom_p3+2*Mom_p3.Mom_p5+Mom_p5.Mom_p5)*Den(Mom_p4.Mom_p4+2*Mom_p4.Mom_p5+Mom_p5.Mom_p5)*G^2*Nc^2*ee^4*mss34*mss35*mst15*mst23+16/9*Den(Mom_p3.Mom_p5)*Den(Mom_p1.Mom_p1+2*Mom_p1.Mom_p2+Mom_p2.Mom_p2)^2*Den(Mom_p3.Mom_p3+2*Mom_p3.Mom_p5+Mom_p5.Mom_p5)*Den(Mom_p4.Mom_p4+2*Mom_p4.Mom_p5+Mom_p5.Mom_p5)*G^2*Nc^2*ee^4*mss34*mss35*mst14*mst23+8/9*Den(Mom_p3.Mom_p5)*Den(Mom_p1.Mom_p1+2*Mom_p1.Mom_p2+Mom_p2.Mom_p2)^2*Den(Mom_p3.Mom_p3+2*Mom_p3.Mom_p5+Mom_p5.Mom_p5)*Den(Mom_p4.Mom_p4+2*Mom_p4.Mom_p5+Mom_p5.Mom_p5)*G^2*Nc^2*ee^4*mss34*mss35*mst13*mst25+16/9*Den(Mom_p3.Mom_p5)*Den(Mom_p1.Mom_p1+2*Mom_p1.Mom_p2+Mom_p2.Mom_p2)^2*Den(Mom_p3.Mom_p3+2*Mom_p3.Mom_p5+Mom_p5.Mom_p5)*Den(Mom_p4.Mom_p4+2*Mom_p4.Mom_p5+Mom_p5.Mom_p5)*G^2*Nc^2*ee^4*mss34*mss35*mst13*mst24+16/9*Den(Mom_p3.Mom_p5)*Den(Mom_p1.Mom_p1+2*Mom_p1.Mom_p2+Mom_p2.Mom_p2)^2*Den(Mom_p3.Mom_p3+2*Mom_p3.Mom_p5+Mom_p5.Mom_p5)*Den(Mom_p4.Mom_p4+2*Mom_p4.Mom_p5+Mom_p5.Mom_p5)*G^2*Nc^2*ee^4*Mass_Me^2*mss35*mss45*mst23+16/9*Den(Mom_p3.Mom_p5)*Den(Mom_p1.Mom_p1+2*Mom_p1.Mom_p2+Mom_p2.Mom_p2)^2*Den(Mom_p3.Mom_p3+2*Mom_p3.Mom_p5+Mom_p5.Mom_p5)*Den(Mom_p4.Mom_p4+2*Mom_p4.Mom_p5+Mom_p5.Mom_p5)*G^2*Nc^2*ee^4*Mass_Me^2*mss35*mss45*mst13-8/9*Den(Mom_p3.Mom_p5)*Den(Mom_p1.Mom_p1+2*Mom_p1.Mom_p2+Mom_p2.Mom_p2)^2*Den(Mom_p3.Mom_p3+2*Mom_p3.Mom_p5+Mom_p5.Mom_p5)*Den(Mom_p4.Mom_p4+2*Mom_p4.Mom_p5+Mom_p5.Mom_p5)*G^2*Nc^2*ee^4*Mass_Me^2*mss35^2*mst24-8/9*Den(Mom_p3.Mom_p5)*Den(Mom_p1.Mom_p1+2*Mom_p1.Mom_p2+Mom_p2.Mom_p2)^2*Den(Mom_p3.Mom_p3+2*Mom_p3.Mom_p5+Mom_p5.Mom_p5)*Den(Mom_p4.Mom_p4+2*Mom_p4.Mom_p5+Mom_p5.Mom_p5)*G^2*Nc^2*ee^4*Mass_Me^2*mss35^2*mst23-8/9*Den(Mom_p3.Mom_p5)*Den(Mom_p1.Mom_p1+2*Mom_p1.Mom_p2+Mom_p2.Mom_p2)^2*Den(Mom_p3.Mom_p3+2*Mom_p3.Mom_p5+Mom_p5.Mom_p5)*Den(Mom_p4.Mom_p4+2*Mom_p4.Mom_p5+Mom_p5.Mom_p5)*G^2*Nc^2*ee^4*Mass_Me^2*mss35^2*mst14-8/9*Den(Mom_p3.Mom_p5)*Den(Mom_p1.Mom_p1+2*Mom_p1.Mom_p2+Mom_p2.Mom_p2)^2*Den(Mom_p3.Mom_p3+2*Mom_p3.Mom_p5+Mom_p5.Mom_p5)*Den(Mom_p4.Mom_p4+2*Mom_p4.Mom_p5+Mom_p5.Mom_p5)*G^2*Nc^2*ee^4*Mass_Me^2*mss35^2*mst13-8/9*Den(Mom_p3.Mom_p5)*Den(Mom_p1.Mom_p1+2*Mom_p1.Mom_p2+Mom_p2.Mom_p2)^2*Den(Mom_p3.Mom_p3+2*Mom_p3.Mom_p5+Mom_p5.Mom_p5)*Den(Mom_p4.Mom_p4+2*Mom_p4.Mom_p5+Mom_p5.Mom_p5)*G^2*Nc^2*ee^4*Mass_Me^2*mss34*mss35*mst25-16/9*Den(Mom_p3.Mom_p5)*Den(Mom_p1.Mom_p1+2*Mom_p1.Mom_p2+Mom_p2.Mom_p2)^2*Den(Mom_p3.Mom_p3+2*Mom_p3.Mom_p5+Mom_p5.Mom_p5)*Den(Mom_p4.Mom_p4+2*Mom_p4.Mom_p5+Mom_p5.Mom_p5)*G^2*Nc^2*ee^4*Mass_Me^2*mss34*mss35*mst24-8/3*Den(Mom_p3.Mom_p5)*Den(Mom_p1.Mom_p1+2*Mom_p1.Mom_p2+Mom_p2.Mom_p2)^2*Den(Mom_p3.Mom_p3+2*Mom_p3.Mom_p5+Mom_p5.Mom_p5)*Den(Mom_p4.Mom_p4+2*Mom_p4.Mom_p5+Mom_p5.Mom_p5)*G^2*Nc^2*ee^4*Mass_Me^2*mss34*mss35*mst23-8/9*Den(Mom_p3.Mom_p5)*Den(Mom_p1.Mom_p1+2*Mom_p1.Mom_p2+Mom_p2.Mom_p2)^2*Den(Mom_p3.Mom_p3+2*Mom_p3.Mom_p5+Mom_p5.Mom_p5)*Den(Mom_p4.Mom_p4+2*Mom_p4.Mom_p5+Mom_p5.Mom_p5)*G^2*Nc^2*ee^4*Mass_Me^2*mss34*mss35*mst15-16/9*Den(Mom_p3.Mom_p5)*Den(Mom_p1.Mom_p1+2*Mom_p1.Mom_p2+Mom_p2.Mom_p2)^2*Den(Mom_p3.Mom_p3+2*Mom_p3.Mom_p5+Mom_p5.Mom_p5)*Den(Mom_p4.Mom_p4+2*Mom_p4.Mom_p5+Mom_p5.Mom_p5)*G^2*Nc^2*ee^4*Mass_Me^2*mss34*mss35*mst14-8/3*Den(Mom_p3.Mom_p5)*Den(Mom_p1.Mom_p1+2*Mom_p1.Mom_p2+Mom_p2.Mom_p2)^2*Den(Mom_p3.Mom_p3+2*Mom_p3.Mom_p5+Mom_p5.Mom_p5)*Den(Mom_p4.Mom_p4+2*Mom_p4.Mom_p5+Mom_p5.Mom_p5)*G^2*Nc^2*ee^4*Mass_Me^2*mss34*mss35*mst13-16/9*Den(Mom_p3.Mom_p5)*Den(Mom_p1.Mom_p1+2*Mom_p1.Mom_p2+Mom_p2.Mom_p2)^2*Den(Mom_p3.Mom_p3+2*Mom_p3.Mom_p5+Mom_p5.Mom_p5)*Den(Mom_p4.Mom_p4+2*Mom_p4.Mom_p5+Mom_p5.Mom_p5)*G^2*Nc^2*ee^4*Mass_Me^4*mss35*mss45+16/9*Den(Mom_p3.Mom_p5)*Den(Mom_p1.Mom_p1+2*Mom_p1.Mom_p2+Mom_p2.Mom_p2)^2*Den(Mom_p3.Mom_p3+2*Mom_p3.Mom_p5+Mom_p5.Mom_p5)*Den(Mom_p4.Mom_p4+2*Mom_p4.Mom_p5+Mom_p5.Mom_p5)*G^2*Nc^2*ee^4*Mass_Me^4*mss35^2+16/3*Den(Mom_p3.Mom_p5)*Den(Mom_p1.Mom_p1+2*Mom_p1.Mom_p2+Mom_p2.Mom_p2)^2*Den(Mom_p3.Mom_p3+2*Mom_p3.Mom_p5+Mom_p5.Mom_p5)*Den(Mom_p4.Mom_p4+2*Mom_p4.Mom_p5+Mom_p5.Mom_p5)*G^2*Nc^2*ee^4*Mass_Me^4*mss34*mss35+32/9*Den(Mom_p3.Mom_p5)*Den(Mom_p1.Mom_p1+2*Mom_p1.Mom_p2+Mom_p2.Mom_p2)^2*Den(Mom_p3.Mom_p3+2*Mom_p3.Mom_p5+Mom_p5.Mom_p5)*Den(Mom_p4.Mom_p4+2*Mom_p4.Mom_p5+Mom_p5.Mom_p5)*G^2*Nc^2*ee^4*Mass_Me^4*mss34*mss35^2+32/9*Den(Mom_p3.Mom_p5)*Den(Mom_p1.Mom_p1+2*Mom_p1.Mom_p2+Mom_p2.Mom_p2)^2*Den(Mom_p3.Mom_p3+2*Mom_p3.Mom_p5+Mom_p5.Mom_p5)*Den(Mom_p4.Mom_p4+2*Mom_p4.Mom_p5+Mom_p5.Mom_p5)*G^2*Nc^2*ee^4*Mass_Me^4*mss34^2*mss35) + (32/9*Den(Mom_p1.Mom_p1+2*Mom_p1.Mom_p2+Mom_p2.Mom_p2)^2*Den(Mom_p4.Mom_p4+2*Mom_p4.Mom_p5+Mom_p5.Mom_p5)^2*G^2*ee^4*mss45*mst15*mst23+32/9*Den(Mom_p1.Mom_p1+2*Mom_p1.Mom_p2+Mom_p2.Mom_p2)^2*Den(Mom_p4.Mom_p4+2*Mom_p4.Mom_p5+Mom_p5.Mom_p5)^2*G^2*ee^4*mss45*mst13*mst25-32/9*Den(Mom_p1.Mom_p1+2*Mom_p1.Mom_p2+Mom_p2.Mom_p2)^2*Den(Mom_p4.Mom_p4+2*Mom_p4.Mom_p5+Mom_p5.Mom_p5)^2*G^2*ee^4*Mass_Me^2*mss45*mst25-32/9*Den(Mom_p1.Mom_p1+2*Mom_p1.Mom_p2+Mom_p2.Mom_p2)^2*Den(Mom_p4.Mom_p4+2*Mom_p4.Mom_p5+Mom_p5.Mom_p5)^2*G^2*ee^4*Mass_Me^2*mss45*mst23-32/9*Den(Mom_p1.Mom_p1+2*Mom_p1.Mom_p2+Mom_p2.Mom_p2)^2*Den(Mom_p4.Mom_p4+2*Mom_p4.Mom_p5+Mom_p5.Mom_p5)^2*G^2*ee^4*Mass_Me^2*mss45*mst15-32/9*Den(Mom_p1.Mom_p1+2*Mom_p1.Mom_p2+Mom_p2.Mom_p2)^2*Den(Mom_p4.Mom_p4+2*Mom_p4.Mom_p5+Mom_p5.Mom_p5)^2*G^2*ee^4*Mass_Me^2*mss45*mst13+64/9*Den(Mom_p1.Mom_p1+2*Mom_p1.Mom_p2+Mom_p2.Mom_p2)^2*Den(Mom_p4.Mom_p4+2*Mom_p4.Mom_p5+Mom_p5.Mom_p5)^2*G^2*ee^4*Mass_Me^4*mss45+64/9*Den(Mom_p1.Mom_p1+2*Mom_p1.Mom_p2+Mom_p2.Mom_p2)^2*Den(Mom_p4.Mom_p4+2*Mom_p4.Mom_p5+Mom_p5.Mom_p5)^2*G^2*ee^4*Mass_Me^4*mss35*mss45-32/9*Den(Mom_p1.Mom_p1+2*Mom_p1.Mom_p2+Mom_p2.Mom_p2)^2*Den(Mom_p4.Mom_p4+2*Mom_p4.Mom_p5+Mom_p5.Mom_p5)^2*G^2*Nc^2*ee^4*mss45*mst15*mst23-32/9*Den(Mom_p1.Mom_p1+2*Mom_p1.Mom_p2+Mom_p2.Mom_p2)^2*Den(Mom_p4.Mom_p4+2*Mom_p4.Mom_p5+Mom_p5.Mom_p5)^2*G^2*Nc^2*ee^4*mss45*mst13*mst25+32/9*Den(Mom_p1.Mom_p1+2*Mom_p1.Mom_p2+Mom_p2.Mom_p2)^2*Den(Mom_p4.Mom_p4+2*Mom_p4.Mom_p5+Mom_p5.Mom_p5)^2*G^2*Nc^2*ee^4*Mass_Me^2*mss45*mst25+32/9*Den(Mom_p1.Mom_p1+2*Mom_p1.Mom_p2+Mom_p2.Mom_p2)^2*Den(Mom_p4.Mom_p4+2*Mom_p4.Mom_p5+Mom_p5.Mom_p5)^2*G^2*Nc^2*ee^4*Mass_Me^2*mss45*mst23+32/9*Den(Mom_p1.Mom_p1+2*Mom_p1.Mom_p2+Mom_p2.Mom_p2)^2*Den(Mom_p4.Mom_p4+2*Mom_p4.Mom_p5+Mom_p5.Mom_p5)^2*G^2*Nc^2*ee^4*Mass_Me^2*mss45*mst15+32/9*Den(Mom_p1.Mom_p1+2*Mom_p1.Mom_p2+Mom_p2.Mom_p2)^2*Den(Mom_p4.Mom_p4+2*Mom_p4.Mom_p5+Mom_p5.Mom_p5)^2*G^2*Nc^2*ee^4*Mass_Me^2*mss45*mst13-64/9*Den(Mom_p1.Mom_p1+2*Mom_p1.Mom_p2+Mom_p2.Mom_p2)^2*Den(Mom_p4.Mom_p4+2*Mom_p4.Mom_p5+Mom_p5.Mom_p5)^2*G^2*Nc^2*ee^4*Mass_Me^4*mss45-64/9*Den(Mom_p1.Mom_p1+2*Mom_p1.Mom_p2+Mom_p2.Mom_p2)^2*Den(Mom_p4.Mom_p4+2*Mom_p4.Mom_p5+Mom_p5.Mom_p5)^2*G^2*Nc^2*ee^4*Mass_Me^4*mss35*mss45-32/9*Den(Mom_p3.Mom_p5)*Den(Mom_p1.Mom_p1+2*Mom_p1.Mom_p2+Mom_p2.Mom_p2)^2*Den(Mom_p4.Mom_p4+2*Mom_p4.Mom_p5+Mom_p5.Mom_p5)^2*G^2*ee^4*mss45^2*mst13*mst23+16/9*Den(Mom_p3.Mom_p5)*Den(Mom_p1.Mom_p1+2*Mom_p1.Mom_p2+Mom_p2.Mom_p2)^2*Den(Mom_p4.Mom_p4+2*Mom_p4.Mom_p5+Mom_p5.Mom_p5)^2*G^2*ee^4*mss35*mss45*mst14*mst23+16/9*Den(Mom_p3.Mom_p5)*Den(Mom_p1.Mom_p1+2*Mom_p1.Mom_p2+Mom_p2.Mom_p2)^2*Den(Mom_p4.Mom_p4+2*Mom_p4.Mom_p5+Mom_p5.Mom_p5)^2*G^2*ee^4*mss35*mss45*mst13*mst24+16/9*Den(Mom_p3.Mom_p5)*Den(Mom_p1.Mom_p1+2*Mom_p1.Mom_p2+Mom_p2.Mom_p2)^2*Den(Mom_p4.Mom_p4+2*Mom_p4.Mom_p5+Mom_p5.Mom_p5)^2*G^2*ee^4*mss34*mss45*mst15*mst23+32/9*Den(Mom_p3.Mom_p5)*Den(Mom_p1.Mom_p1+2*Mom_p1.Mom_p2+Mom_p2.Mom_p2)^2*Den(Mom_p4.Mom_p4+2*Mom_p4.Mom_p5+Mom_p5.Mom_p5)^2*G^2*ee^4*mss34*mss45*mst14*mst23+16/9*Den(Mom_p3.Mom_p5)*Den(Mom_p1.Mom_p1+2*Mom_p1.Mom_p2+Mom_p2.Mom_p2)^2*Den(Mom_p4.Mom_p4+2*Mom_p4.Mom_p5+Mom_p5.Mom_p5)^2*G^2*ee^4*mss34*mss45*mst13*mst25+32/9*Den(Mom_p3.Mom_p5)*Den(Mom_p1.Mom_p1+2*Mom_p1.Mom_p2+Mom_p2.Mom_p2)^2*Den(Mom_p4.Mom_p4+2*Mom_p4.Mom_p5+Mom_p5.Mom_p5)^2*G^2*ee^4*mss34*mss45*mst13*mst24+32/9*Den(Mom_p3.Mom_p5)*Den(Mom_p1.Mom_p1+2*Mom_p1.Mom_p2+Mom_p2.Mom_p2)^2*Den(Mom_p4.Mom_p4+2*Mom_p4.Mom_p5+Mom_p5.Mom_p5)^2*G^2*ee^4*Mass_Me^2*mss45^2*mst23+32/9*Den(Mom_p3.Mom_p5)*Den(Mom_p1.Mom_p1+2*Mom_p1.Mom_p2+Mom_p2.Mom_p2)^2*Den(Mom_p4.Mom_p4+2*Mom_p4.Mom_p5+Mom_p5.Mom_p5)^2*G^2*ee^4*Mass_Me^2*mss45^2*mst13-16/9*Den(Mom_p3.Mom_p5)*Den(Mom_p1.Mom_p1+2*Mom_p1.Mom_p2+Mom_p2.Mom_p2)^2*Den(Mom_p4.Mom_p4+2*Mom_p4.Mom_p5+Mom_p5.Mom_p5)^2*G^2*ee^4*Mass_Me^2*mss35*mss45*mst24-16/9*Den(Mom_p3.Mom_p5)*Den(Mom_p1.Mom_p1+2*Mom_p1.Mom_p2+Mom_p2.Mom_p2)^2*Den(Mom_p4.Mom_p4+2*Mom_p4.Mom_p5+Mom_p5.Mom_p5)^2*G^2*ee^4*Mass_Me^2*mss35*mss45*mst23-16/9*Den(Mom_p3.Mom_p5)*Den(Mom_p1.Mom_p1+2*Mom_p1.Mom_p2+Mom_p2.Mom_p2)^2*Den(Mom_p4.Mom_p4+2*Mom_p4.Mom_p5+Mom_p5.Mom_p5)^2*G^2*ee^4*Mass_Me^2*mss35*mss45*mst14-16/9*Den(Mom_p3.Mom_p5)*Den(Mom_p1.Mom_p1+2*Mom_p1.Mom_p2+Mom_p2.Mom_p2)^2*Den(Mom_p4.Mom_p4+2*Mom_p4.Mom_p5+Mom_p5.Mom_p5)^2*G^2*ee^4*Mass_Me^2*mss35*mss45*mst13-16/9*Den(Mom_p3.Mom_p5)*Den(Mom_p1.Mom_p1+2*Mom_p1.Mom_p2+Mom_p2.Mom_p2)^2*Den(Mom_p4.Mom_p4+2*Mom_p4.Mom_p5+Mom_p5.Mom_p5)^2*G^2*ee^4*Mass_Me^2*mss34*mss45*mst25-32/9*Den(Mom_p3.Mom_p5)*Den(Mom_p1.Mom_p1+2*Mom_p1.Mom_p2+Mom_p2.Mom_p2)^2*Den(Mom_p4.Mom_p4+2*Mom_p4.Mom_p5+Mom_p5.Mom_p5)^2*G^2*ee^4*Mass_Me^2*mss34*mss45*mst24-16/3*Den(Mom_p3.Mom_p5)*Den(Mom_p1.Mom_p1+2*Mom_p1.Mom_p2+Mom_p2.Mom_p2)^2*Den(Mom_p4.Mom_p4+2*Mom_p4.Mom_p5+Mom_p5.Mom_p5)^2*G^2*ee^4*Mass_Me^2*mss34*mss45*mst23-16/9*Den(Mom_p3.Mom_p5)*Den(Mom_p1.Mom_p1+2*Mom_p1.Mom_p2+Mom_p2.Mom_p2)^2*Den(Mom_p4.Mom_p4+2*Mom_p4.Mom_p5+Mom_p5.Mom_p5)^2*G^2*ee^4*Mass_Me^2*mss34*mss45*mst15-32/9*Den(Mom_p3.Mom_p5)*Den(Mom_p1.Mom_p1+2*Mom_p1.Mom_p2+Mom_p2.Mom_p2)^2*Den(Mom_p4.Mom_p4+2*Mom_p4.Mom_p5+Mom_p5.Mom_p5)^2*G^2*ee^4*Mass_Me^2*mss34*mss45*mst14-16/3*Den(Mom_p3.Mom_p5)*Den(Mom_p1.Mom_p1+2*Mom_p1.Mom_p2+Mom_p2.Mom_p2)^2*Den(Mom_p4.Mom_p4+2*Mom_p4.Mom_p5+Mom_p5.Mom_p5)^2*G^2*ee^4*Mass_Me^2*mss34*mss45*mst13-32/9*Den(Mom_p3.Mom_p5)*Den(Mom_p1.Mom_p1+2*Mom_p1.Mom_p2+Mom_p2.Mom_p2)^2*Den(Mom_p4.Mom_p4+2*Mom_p4.Mom_p5+Mom_p5.Mom_p5)^2*G^2*ee^4*Mass_Me^4*mss45^2+32/9*Den(Mom_p3.Mom_p5)*Den(Mom_p1.Mom_p1+2*Mom_p1.Mom_p2+Mom_p2.Mom_p2)^2*Den(Mom_p4.Mom_p4+2*Mom_p4.Mom_p5+Mom_p5.Mom_p5)^2*G^2*ee^4*Mass_Me^4*mss35*mss45+32/3*Den(Mom_p3.Mom_p5)*Den(Mom_p1.Mom_p1+2*Mom_p1.Mom_p2+Mom_p2.Mom_p2)^2*Den(Mom_p4.Mom_p4+2*Mom_p4.Mom_p5+Mom_p5.Mom_p5)^2*G^2*ee^4*Mass_Me^4*mss34*mss45+64/9*Den(Mom_p3.Mom_p5)*Den(Mom_p1.Mom_p1+2*Mom_p1.Mom_p2+Mom_p2.Mom_p2)^2*Den(Mom_p4.Mom_p4+2*Mom_p4.Mom_p5+Mom_p5.Mom_p5)^2*G^2*ee^4*Mass_Me^4*mss34*mss35*mss45+64/9*Den(Mom_p3.Mom_p5)*Den(Mom_p1.Mom_p1+2*Mom_p1.Mom_p2+Mom_p2.Mom_p2)^2*Den(Mom_p4.Mom_p4+2*Mom_p4.Mom_p5+Mom_p5.Mom_p5)^2*G^2*ee^4*Mass_Me^4*mss34^2*mss45+32/9*Den(Mom_p3.Mom_p5)*Den(Mom_p1.Mom_p1+2*Mom_p1.Mom_p2+Mom_p2.Mom_p2)^2*Den(Mom_p4.Mom_p4+2*Mom_p4.Mom_p5+Mom_p5.Mom_p5)^2*G^2*Nc^2*ee^4*mss45^2*mst13*mst23-16/9*Den(Mom_p3.Mom_p5)*Den(Mom_p1.Mom_p1+2*Mom_p1.Mom_p2+Mom_p2.Mom_p2)^2*Den(Mom_p4.Mom_p4+2*Mom_p4.Mom_p5+Mom_p5.Mom_p5)^2*G^2*Nc^2*ee^4*mss35*mss45*mst14*mst23-16/9*Den(Mom_p3.Mom_p5)*Den(Mom_p1.Mom_p1+2*Mom_p1.Mom_p2+Mom_p2.Mom_p2)^2*Den(Mom_p4.Mom_p4+2*Mom_p4.Mom_p5+Mom_p5.Mom_p5)^2*G^2*Nc^2*ee^4*mss35*mss45*mst13*mst24-16/9*Den(Mom_p3.Mom_p5)*Den(Mom_p1.Mom_p1+2*Mom_p1.Mom_p2+Mom_p2.Mom_p2)^2*Den(Mom_p4.Mom_p4+2*Mom_p4.Mom_p5+Mom_p5.Mom_p5)^2*G^2*Nc^2*ee^4*mss34*mss45*mst15*mst23-32/9*Den(Mom_p3.Mom_p5)*Den(Mom_p1.Mom_p1+2*Mom_p1.Mom_p2+Mom_p2.Mom_p2)^2*Den(Mom_p4.Mom_p4+2*Mom_p4.Mom_p5+Mom_p5.Mom_p5)^2*G^2*Nc^2*ee^4*mss34*mss45*mst14*mst23-16/9*Den(Mom_p3.Mom_p5)*Den(Mom_p1.Mom_p1+2*Mom_p1.Mom_p2+Mom_p2.Mom_p2)^2*Den(Mom_p4.Mom_p4+2*Mom_p4.Mom_p5+Mom_p5.Mom_p5)^2*G^2*Nc^2*ee^4*mss34*mss45*mst13*mst25-32/9*Den(Mom_p3.Mom_p5)*Den(Mom_p1.Mom_p1+2*Mom_p1.Mom_p2+Mom_p2.Mom_p2)^2*Den(Mom_p4.Mom_p4+2*Mom_p4.Mom_p5+Mom_p5.Mom_p5)^2*G^2*Nc^2*ee^4*mss34*mss45*mst13*mst24-32/9*Den(Mom_p3.Mom_p5)*Den(Mom_p1.Mom_p1+2*Mom_p1.Mom_p2+Mom_p2.Mom_p2)^2*Den(Mom_p4.Mom_p4+2*Mom_p4.Mom_p5+Mom_p5.Mom_p5)^2*G^2*Nc^2*ee^4*Mass_Me^2*mss45^2*mst23-32/9*Den(Mom_p3.Mom_p5)*Den(Mom_p1.Mom_p1+2*Mom_p1.Mom_p2+Mom_p2.Mom_p2)^2*Den(Mom_p4.Mom_p4+2*Mom_p4.Mom_p5+Mom_p5.Mom_p5)^2*G^2*Nc^2*ee^4*Mass_Me^2*mss45^2*mst13+16/9*Den(Mom_p3.Mom_p5)*Den(Mom_p1.Mom_p1+2*Mom_p1.Mom_p2+Mom_p2.Mom_p2)^2*Den(Mom_p4.Mom_p4+2*Mom_p4.Mom_p5+Mom_p5.Mom_p5)^2*G^2*Nc^2*ee^4*Mass_Me^2*mss35*mss45*mst24+16/9*Den(Mom_p3.Mom_p5)*Den(Mom_p1.Mom_p1+2*Mom_p1.Mom_p2+Mom_p2.Mom_p2)^2*Den(Mom_p4.Mom_p4+2*Mom_p4.Mom_p5+Mom_p5.Mom_p5)^2*G^2*Nc^2*ee^4*Mass_Me^2*mss35*mss45*mst23+16/9*Den(Mom_p3.Mom_p5)*Den(Mom_p1.Mom_p1+2*Mom_p1.Mom_p2+Mom_p2.Mom_p2)^2*Den(Mom_p4.Mom_p4+2*Mom_p4.Mom_p5+Mom_p5.Mom_p5)^2*G^2*Nc^2*ee^4*Mass_Me^2*mss35*mss45*mst14+16/9*Den(Mom_p3.Mom_p5)*Den(Mom_p1.Mom_p1+2*Mom_p1.Mom_p2+Mom_p2.Mom_p2)^2*Den(Mom_p4.Mom_p4+2*Mom_p4.Mom_p5+Mom_p5.Mom_p5)^2*G^2*Nc^2*ee^4*Mass_Me^2*mss35*mss45*mst13+16/9*Den(Mom_p3.Mom_p5)*Den(Mom_p1.Mom_p1+2*Mom_p1.Mom_p2+Mom_p2.Mom_p2)^2*Den(Mom_p4.Mom_p4+2*Mom_p4.Mom_p5+Mom_p5.Mom_p5)^2*G^2*Nc^2*ee^4*Mass_Me^2*mss34*mss45*mst25+32/9*Den(Mom_p3.Mom_p5)*Den(Mom_p1.Mom_p1+2*Mom_p1.Mom_p2+Mom_p2.Mom_p2)^2*Den(Mom_p4.Mom_p4+2*Mom_p4.Mom_p5+Mom_p5.Mom_p5)^2*G^2*Nc^2*ee^4*Mass_Me^2*mss34*mss45*mst24+16/3*Den(Mom_p3.Mom_p5)*Den(Mom_p1.Mom_p1+2*Mom_p1.Mom_p2+Mom_p2.Mom_p2)^2*Den(Mom_p4.Mom_p4+2*Mom_p4.Mom_p5+Mom_p5.Mom_p5)^2*G^2*Nc^2*ee^4*Mass_Me^2*mss34*mss45*mst23+16/9*Den(Mom_p3.Mom_p5)*Den(Mom_p1.Mom_p1+2*Mom_p1.Mom_p2+Mom_p2.Mom_p2)^2*Den(Mom_p4.Mom_p4+2*Mom_p4.Mom_p5+Mom_p5.Mom_p5)^2*G^2*Nc^2*ee^4*Mass_Me^2*mss34*mss45*mst15+32/9*Den(Mom_p3.Mom_p5)*Den(Mom_p1.Mom_p1+2*Mom_p1.Mom_p2+Mom_p2.Mom_p2)^2*Den(Mom_p4.Mom_p4+2*Mom_p4.Mom_p5+Mom_p5.Mom_p5)^2*G^2*Nc^2*ee^4*Mass_Me^2*mss34*mss45*mst14+16/3*Den(Mom_p3.Mom_p5)*Den(Mom_p1.Mom_p1+2*Mom_p1.Mom_p2+Mom_p2.Mom_p2)^2*Den(Mom_p4.Mom_p4+2*Mom_p4.Mom_p5+Mom_p5.Mom_p5)^2*G^2*Nc^2*ee^4*Mass_Me^2*mss34*mss45*mst13+32/9*Den(Mom_p3.Mom_p5)*Den(Mom_p1.Mom_p1+2*Mom_p1.Mom_p2+Mom_p2.Mom_p2)^2*Den(Mom_p4.Mom_p4+2*Mom_p4.Mom_p5+Mom_p5.Mom_p5)^2*G^2*Nc^2*ee^4*Mass_Me^4*mss45^2-32/9*Den(Mom_p3.Mom_p5)*Den(Mom_p1.Mom_p1+2*Mom_p1.Mom_p2+Mom_p2.Mom_p2)^2*Den(Mom_p4.Mom_p4+2*Mom_p4.Mom_p5+Mom_p5.Mom_p5)^2*G^2*Nc^2*ee^4*Mass_Me^4*mss35*mss45-32/3*Den(Mom_p3.Mom_p5)*Den(Mom_p1.Mom_p1+2*Mom_p1.Mom_p2+Mom_p2.Mom_p2)^2*Den(Mom_p4.Mom_p4+2*Mom_p4.Mom_p5+Mom_p5.Mom_p5)^2*G^2*Nc^2*ee^4*Mass_Me^4*mss34*mss45-64/9*Den(Mom_p3.Mom_p5)*Den(Mom_p1.Mom_p1+2*Mom_p1.Mom_p2+Mom_p2.Mom_p2)^2*Den(Mom_p4.Mom_p4+2*Mom_p4.Mom_p5+Mom_p5.Mom_p5)^2*G^2*Nc^2*ee^4*Mass_Me^4*mss34*mss35*mss45-64/9*Den(Mom_p3.Mom_p5)*Den(Mom_p1.Mom_p1+2*Mom_p1.Mom_p2+Mom_p2.Mom_p2)^2*Den(Mom_p4.Mom_p4+2*Mom_p4.Mom_p5+Mom_p5.Mom_p5)^2*G^2*Nc^2*ee^4*Mass_Me^4*mss34^2*mss45)\n"
     ]
    }
   ],
   "source": [
    "from feynamp.form.color import *\n",
    "from feynamp.form.lorentz import *\n",
    "from feynamp.form.momentum import *\n",
    "fs = \"\"\n",
    "fs += get_polarisation_sums(fds,fm)\n",
    "fs += get_gammas()\n",
    "fs += get_color()\n",
    "fs += get_kinematics()\n",
    "fs += get_onshell(fds,fm)\n",
    "fs += get_mandelstamm_2_to_3(fds,fm)\n",
    "rs =apply_parallel(s2,fs)\n",
    "rs =\" + \".join([f\"({r})\" for r in rs])\n",
    "print(rs)"
   ]
  },
  {
   "cell_type": "code",
   "execution_count": 13,
   "id": "b4afa0d1-9f43-451e-8f1c-f5d79cd71520",
   "metadata": {},
   "outputs": [],
   "source": [
    "rr =apply_den(rs, get_mandelstamm_2_to_3(fds,fm) + get_onshell(fds,fm))"
   ]
  },
  {
   "cell_type": "code",
   "execution_count": 14,
   "id": "24b87599-84ef-43a3-8f34-089e5234f131",
   "metadata": {},
   "outputs": [
    {
     "data": {
      "text/plain": [
       "'(32/9*1/(mss12)^2*1/(mss35)^2*G^2*ee^4*mss35*mst15*mst24+32/9*1/(mss12)^2*1/(mss35)^2*G^2*ee^4*mss35*mst14*mst25-32/9*1/(mss12)^2*1/(mss35)^2*G^2*ee^4*Mass_Me^2*mss35*mst25-32/9*1/(mss12)^2*1/(mss35)^2*G^2*ee^4*Mass_Me^2*mss35*mst24-32/9*1/(mss12)^2*1/(mss35)^2*G^2*ee^4*Mass_Me^2*mss35*mst15-32/9*1/(mss12)^2*1/(mss35)^2*G^2*ee^4*Mass_Me^2*mss35*mst14+64/9*1/(mss12)^2*1/(mss35)^2*G^2*ee^4*Mass_Me^4*mss35+64/9*1/(mss12)^2*1/(mss35)^2*G^2*ee^4*Mass_Me^4*mss35*mss45-32/9*1/(mss12)^2*1/(mss35)^2*G^2*Nc^2*ee^4*mss35*mst15*mst24-32/9*1/(mss12)^2*1/(mss35)^2*G^2*Nc^2*ee^4*mss35*mst14*mst25+32/9*1/(mss12)^2*1/(mss35)^2*G^2*Nc^2*ee^4*Mass_Me^2*mss35*mst25+32/9*1/(mss12)^2*1/(mss35)^2*G^2*Nc^2*ee^4*Mass_Me^2*mss35*mst24+32/9*1/(mss12)^2*1/(mss35)^2*G^2*Nc^2*ee^4*Mass_Me^2*mss35*mst15+32/9*1/(mss12)^2*1/(mss35)^2*G^2*Nc^2*ee^4*Mass_Me^2*mss35*mst14-64/9*1/(mss12)^2*1/(mss35)^2*G^2*Nc^2*ee^4*Mass_Me^4*mss35-64/9*1/(mss12)^2*1/(mss35)^2*G^2*Nc^2*ee^4*Mass_Me^4*mss35*mss45) + (16/9*1/(mss12)^2*1/(mss35)*1/(mss45)*G^2*ee^4*mss45*mst14*mst23+16/9*1/(mss12)^2*1/(mss35)*1/(mss45)*G^2*ee^4*mss45*mst13*mst24-32/9*1/(mss12)^2*1/(mss35)*1/(mss45)*G^2*ee^4*mss45*mst13*mst23-32/9*1/(mss12)^2*1/(mss35)*1/(mss45)*G^2*ee^4*mss35*mst14*mst24+16/9*1/(mss12)^2*1/(mss35)*1/(mss45)*G^2*ee^4*mss35*mst14*mst23+16/9*1/(mss12)^2*1/(mss35)*1/(mss45)*G^2*ee^4*mss35*mst13*mst24+16/9*1/(mss12)^2*1/(mss35)*1/(mss45)*G^2*ee^4*mss34*mst15*mst24+16/9*1/(mss12)^2*1/(mss35)*1/(mss45)*G^2*ee^4*mss34*mst15*mst23+16/9*1/(mss12)^2*1/(mss35)*1/(mss45)*G^2*ee^4*mss34*mst14*mst25+32/9*1/(mss12)^2*1/(mss35)*1/(mss45)*G^2*ee^4*mss34*mst14*mst23+16/9*1/(mss12)^2*1/(mss35)*1/(mss45)*G^2*ee^4*mss34*mst13*mst25+32/9*1/(mss12)^2*1/(mss35)*1/(mss45)*G^2*ee^4*mss34*mst13*mst24-16/9*1/(mss12)^2*1/(mss35)*1/(mss45)*G^2*ee^4*Mass_Me^2*mss45*mst24+16/9*1/(mss12)^2*1/(mss35)*1/(mss45)*G^2*ee^4*Mass_Me^2*mss45*mst23-16/9*1/(mss12)^2*1/(mss35)*1/(mss45)*G^2*ee^4*Mass_Me^2*mss45*mst14+16/9*1/(mss12)^2*1/(mss35)*1/(mss45)*G^2*ee^4*Mass_Me^2*mss45*mst13+16/9*1/(mss12)^2*1/(mss35)*1/(mss45)*G^2*ee^4*Mass_Me^2*mss35*mst24-16/9*1/(mss12)^2*1/(mss35)*1/(mss45)*G^2*ee^4*Mass_Me^2*mss35*mst23+16/9*1/(mss12)^2*1/(mss35)*1/(mss45)*G^2*ee^4*Mass_Me^2*mss35*mst14-16/9*1/(mss12)^2*1/(mss35)*1/(mss45)*G^2*ee^4*Mass_Me^2*mss35*mst13-32/9*1/(mss12)^2*1/(mss35)*1/(mss45)*G^2*ee^4*Mass_Me^2*mss34*mst25-16/3*1/(mss12)^2*1/(mss35)*1/(mss45)*G^2*ee^4*Mass_Me^2*mss34*mst24-16/3*1/(mss12)^2*1/(mss35)*1/(mss45)*G^2*ee^4*Mass_Me^2*mss34*mst23-32/9*1/(mss12)^2*1/(mss35)*1/(mss45)*G^2*ee^4*Mass_Me^2*mss34*mst15-16/3*1/(mss12)^2*1/(mss35)*1/(mss45)*G^2*ee^4*Mass_Me^2*mss34*mst14-16/3*1/(mss12)^2*1/(mss35)*1/(mss45)*G^2*ee^4*Mass_Me^2*mss34*mst13+128/9*1/(mss12)^2*1/(mss35)*1/(mss45)*G^2*ee^4*Mass_Me^4*mss34+64/9*1/(mss12)^2*1/(mss35)*1/(mss45)*G^2*ee^4*Mass_Me^4*mss34*mss45+64/9*1/(mss12)^2*1/(mss35)*1/(mss45)*G^2*ee^4*Mass_Me^4*mss34*mss35+64/9*1/(mss12)^2*1/(mss35)*1/(mss45)*G^2*ee^4*Mass_Me^4*mss34^2-16/9*1/(mss12)^2*1/(mss35)*1/(mss45)*G^2*Nc^2*ee^4*mss45*mst14*mst23-16/9*1/(mss12)^2*1/(mss35)*1/(mss45)*G^2*Nc^2*ee^4*mss45*mst13*mst24+32/9*1/(mss12)^2*1/(mss35)*1/(mss45)*G^2*Nc^2*ee^4*mss45*mst13*mst23+32/9*1/(mss12)^2*1/(mss35)*1/(mss45)*G^2*Nc^2*ee^4*mss35*mst14*mst24-16/9*1/(mss12)^2*1/(mss35)*1/(mss45)*G^2*Nc^2*ee^4*mss35*mst14*mst23-16/9*1/(mss12)^2*1/(mss35)*1/(mss45)*G^2*Nc^2*ee^4*mss35*mst13*mst24-16/9*1/(mss12)^2*1/(mss35)*1/(mss45)*G^2*Nc^2*ee^4*mss34*mst15*mst24-16/9*1/(mss12)^2*1/(mss35)*1/(mss45)*G^2*Nc^2*ee^4*mss34*mst15*mst23-16/9*1/(mss12)^2*1/(mss35)*1/(mss45)*G^2*Nc^2*ee^4*mss34*mst14*mst25-32/9*1/(mss12)^2*1/(mss35)*1/(mss45)*G^2*Nc^2*ee^4*mss34*mst14*mst23-16/9*1/(mss12)^2*1/(mss35)*1/(mss45)*G^2*Nc^2*ee^4*mss34*mst13*mst25-32/9*1/(mss12)^2*1/(mss35)*1/(mss45)*G^2*Nc^2*ee^4*mss34*mst13*mst24+16/9*1/(mss12)^2*1/(mss35)*1/(mss45)*G^2*Nc^2*ee^4*Mass_Me^2*mss45*mst24-16/9*1/(mss12)^2*1/(mss35)*1/(mss45)*G^2*Nc^2*ee^4*Mass_Me^2*mss45*mst23+16/9*1/(mss12)^2*1/(mss35)*1/(mss45)*G^2*Nc^2*ee^4*Mass_Me^2*mss45*mst14-16/9*1/(mss12)^2*1/(mss35)*1/(mss45)*G^2*Nc^2*ee^4*Mass_Me^2*mss45*mst13-16/9*1/(mss12)^2*1/(mss35)*1/(mss45)*G^2*Nc^2*ee^4*Mass_Me^2*mss35*mst24+16/9*1/(mss12)^2*1/(mss35)*1/(mss45)*G^2*Nc^2*ee^4*Mass_Me^2*mss35*mst23-16/9*1/(mss12)^2*1/(mss35)*1/(mss45)*G^2*Nc^2*ee^4*Mass_Me^2*mss35*mst14+16/9*1/(mss12)^2*1/(mss35)*1/(mss45)*G^2*Nc^2*ee^4*Mass_Me^2*mss35*mst13+32/9*1/(mss12)^2*1/(mss35)*1/(mss45)*G^2*Nc^2*ee^4*Mass_Me^2*mss34*mst25+16/3*1/(mss12)^2*1/(mss35)*1/(mss45)*G^2*Nc^2*ee^4*Mass_Me^2*mss34*mst24+16/3*1/(mss12)^2*1/(mss35)*1/(mss45)*G^2*Nc^2*ee^4*Mass_Me^2*mss34*mst23+32/9*1/(mss12)^2*1/(mss35)*1/(mss45)*G^2*Nc^2*ee^4*Mass_Me^2*mss34*mst15+16/3*1/(mss12)^2*1/(mss35)*1/(mss45)*G^2*Nc^2*ee^4*Mass_Me^2*mss34*mst14+16/3*1/(mss12)^2*1/(mss35)*1/(mss45)*G^2*Nc^2*ee^4*Mass_Me^2*mss34*mst13-128/9*1/(mss12)^2*1/(mss35)*1/(mss45)*G^2*Nc^2*ee^4*Mass_Me^4*mss34-64/9*1/(mss12)^2*1/(mss35)*1/(mss45)*G^2*Nc^2*ee^4*Mass_Me^4*mss34*mss45-64/9*1/(mss12)^2*1/(mss35)*1/(mss45)*G^2*Nc^2*ee^4*Mass_Me^4*mss34*mss35-64/9*1/(mss12)^2*1/(mss35)*1/(mss45)*G^2*Nc^2*ee^4*Mass_Me^4*mss34^2+16/9*1/(1/2*mss35)*1/(mss12)^2*1/(mss35)*1/(mss45)*G^2*ee^4*mss35*mss45*mst13*mst23-8/9*1/(1/2*mss35)*1/(mss12)^2*1/(mss35)*1/(mss45)*G^2*ee^4*mss35^2*mst14*mst23-8/9*1/(1/2*mss35)*1/(mss12)^2*1/(mss35)*1/(mss45)*G^2*ee^4*mss35^2*mst13*mst24-8/9*1/(1/2*mss35)*1/(mss12)^2*1/(mss35)*1/(mss45)*G^2*ee^4*mss34*mss35*mst15*mst23-16/9*1/(1/2*mss35)*1/(mss12)^2*1/(mss35)*1/(mss45)*G^2*ee^4*mss34*mss35*mst14*mst23-8/9*1/(1/2*mss35)*1/(mss12)^2*1/(mss35)*1/(mss45)*G^2*ee^4*mss34*mss35*mst13*mst25-16/9*1/(1/2*mss35)*1/(mss12)^2*1/(mss35)*1/(mss45)*G^2*ee^4*mss34*mss35*mst13*mst24-16/9*1/(1/2*mss35)*1/(mss12)^2*1/(mss35)*1/(mss45)*G^2*ee^4*Mass_Me^2*mss35*mss45*mst23-16/9*1/(1/2*mss35)*1/(mss12)^2*1/(mss35)*1/(mss45)*G^2*ee^4*Mass_Me^2*mss35*mss45*mst13+8/9*1/(1/2*mss35)*1/(mss12)^2*1/(mss35)*1/(mss45)*G^2*ee^4*Mass_Me^2*mss35^2*mst24+8/9*1/(1/2*mss35)*1/(mss12)^2*1/(mss35)*1/(mss45)*G^2*ee^4*Mass_Me^2*mss35^2*mst23+8/9*1/(1/2*mss35)*1/(mss12)^2*1/(mss35)*1/(mss45)*G^2*ee^4*Mass_Me^2*mss35^2*mst14+8/9*1/(1/2*mss35)*1/(mss12)^2*1/(mss35)*1/(mss45)*G^2*ee^4*Mass_Me^2*mss35^2*mst13+8/9*1/(1/2*mss35)*1/(mss12)^2*1/(mss35)*1/(mss45)*G^2*ee^4*Mass_Me^2*mss34*mss35*mst25+16/9*1/(1/2*mss35)*1/(mss12)^2*1/(mss35)*1/(mss45)*G^2*ee^4*Mass_Me^2*mss34*mss35*mst24+8/3*1/(1/2*mss35)*1/(mss12)^2*1/(mss35)*1/(mss45)*G^2*ee^4*Mass_Me^2*mss34*mss35*mst23+8/9*1/(1/2*mss35)*1/(mss12)^2*1/(mss35)*1/(mss45)*G^2*ee^4*Mass_Me^2*mss34*mss35*mst15+16/9*1/(1/2*mss35)*1/(mss12)^2*1/(mss35)*1/(mss45)*G^2*ee^4*Mass_Me^2*mss34*mss35*mst14+8/3*1/(1/2*mss35)*1/(mss12)^2*1/(mss35)*1/(mss45)*G^2*ee^4*Mass_Me^2*mss34*mss35*mst13+16/9*1/(1/2*mss35)*1/(mss12)^2*1/(mss35)*1/(mss45)*G^2*ee^4*Mass_Me^4*mss35*mss45-16/9*1/(1/2*mss35)*1/(mss12)^2*1/(mss35)*1/(mss45)*G^2*ee^4*Mass_Me^4*mss35^2-16/3*1/(1/2*mss35)*1/(mss12)^2*1/(mss35)*1/(mss45)*G^2*ee^4*Mass_Me^4*mss34*mss35-32/9*1/(1/2*mss35)*1/(mss12)^2*1/(mss35)*1/(mss45)*G^2*ee^4*Mass_Me^4*mss34*mss35^2-32/9*1/(1/2*mss35)*1/(mss12)^2*1/(mss35)*1/(mss45)*G^2*ee^4*Mass_Me^4*mss34^2*mss35-16/9*1/(1/2*mss35)*1/(mss12)^2*1/(mss35)*1/(mss45)*G^2*Nc^2*ee^4*mss35*mss45*mst13*mst23+8/9*1/(1/2*mss35)*1/(mss12)^2*1/(mss35)*1/(mss45)*G^2*Nc^2*ee^4*mss35^2*mst14*mst23+8/9*1/(1/2*mss35)*1/(mss12)^2*1/(mss35)*1/(mss45)*G^2*Nc^2*ee^4*mss35^2*mst13*mst24+8/9*1/(1/2*mss35)*1/(mss12)^2*1/(mss35)*1/(mss45)*G^2*Nc^2*ee^4*mss34*mss35*mst15*mst23+16/9*1/(1/2*mss35)*1/(mss12)^2*1/(mss35)*1/(mss45)*G^2*Nc^2*ee^4*mss34*mss35*mst14*mst23+8/9*1/(1/2*mss35)*1/(mss12)^2*1/(mss35)*1/(mss45)*G^2*Nc^2*ee^4*mss34*mss35*mst13*mst25+16/9*1/(1/2*mss35)*1/(mss12)^2*1/(mss35)*1/(mss45)*G^2*Nc^2*ee^4*mss34*mss35*mst13*mst24+16/9*1/(1/2*mss35)*1/(mss12)^2*1/(mss35)*1/(mss45)*G^2*Nc^2*ee^4*Mass_Me^2*mss35*mss45*mst23+16/9*1/(1/2*mss35)*1/(mss12)^2*1/(mss35)*1/(mss45)*G^2*Nc^2*ee^4*Mass_Me^2*mss35*mss45*mst13-8/9*1/(1/2*mss35)*1/(mss12)^2*1/(mss35)*1/(mss45)*G^2*Nc^2*ee^4*Mass_Me^2*mss35^2*mst24-8/9*1/(1/2*mss35)*1/(mss12)^2*1/(mss35)*1/(mss45)*G^2*Nc^2*ee^4*Mass_Me^2*mss35^2*mst23-8/9*1/(1/2*mss35)*1/(mss12)^2*1/(mss35)*1/(mss45)*G^2*Nc^2*ee^4*Mass_Me^2*mss35^2*mst14-8/9*1/(1/2*mss35)*1/(mss12)^2*1/(mss35)*1/(mss45)*G^2*Nc^2*ee^4*Mass_Me^2*mss35^2*mst13-8/9*1/(1/2*mss35)*1/(mss12)^2*1/(mss35)*1/(mss45)*G^2*Nc^2*ee^4*Mass_Me^2*mss34*mss35*mst25-16/9*1/(1/2*mss35)*1/(mss12)^2*1/(mss35)*1/(mss45)*G^2*Nc^2*ee^4*Mass_Me^2*mss34*mss35*mst24-8/3*1/(1/2*mss35)*1/(mss12)^2*1/(mss35)*1/(mss45)*G^2*Nc^2*ee^4*Mass_Me^2*mss34*mss35*mst23-8/9*1/(1/2*mss35)*1/(mss12)^2*1/(mss35)*1/(mss45)*G^2*Nc^2*ee^4*Mass_Me^2*mss34*mss35*mst15-16/9*1/(1/2*mss35)*1/(mss12)^2*1/(mss35)*1/(mss45)*G^2*Nc^2*ee^4*Mass_Me^2*mss34*mss35*mst14-8/3*1/(1/2*mss35)*1/(mss12)^2*1/(mss35)*1/(mss45)*G^2*Nc^2*ee^4*Mass_Me^2*mss34*mss35*mst13-16/9*1/(1/2*mss35)*1/(mss12)^2*1/(mss35)*1/(mss45)*G^2*Nc^2*ee^4*Mass_Me^4*mss35*mss45+16/9*1/(1/2*mss35)*1/(mss12)^2*1/(mss35)*1/(mss45)*G^2*Nc^2*ee^4*Mass_Me^4*mss35^2+16/3*1/(1/2*mss35)*1/(mss12)^2*1/(mss35)*1/(mss45)*G^2*Nc^2*ee^4*Mass_Me^4*mss34*mss35+32/9*1/(1/2*mss35)*1/(mss12)^2*1/(mss35)*1/(mss45)*G^2*Nc^2*ee^4*Mass_Me^4*mss34*mss35^2+32/9*1/(1/2*mss35)*1/(mss12)^2*1/(mss35)*1/(mss45)*G^2*Nc^2*ee^4*Mass_Me^4*mss34^2*mss35) + (16/9*1/(mss12)^2*1/(mss35)*1/(mss45)*G^2*ee^4*mss45*mst14*mst23+16/9*1/(mss12)^2*1/(mss35)*1/(mss45)*G^2*ee^4*mss45*mst13*mst24-32/9*1/(mss12)^2*1/(mss35)*1/(mss45)*G^2*ee^4*mss45*mst13*mst23-32/9*1/(mss12)^2*1/(mss35)*1/(mss45)*G^2*ee^4*mss35*mst14*mst24+16/9*1/(mss12)^2*1/(mss35)*1/(mss45)*G^2*ee^4*mss35*mst14*mst23+16/9*1/(mss12)^2*1/(mss35)*1/(mss45)*G^2*ee^4*mss35*mst13*mst24+16/9*1/(mss12)^2*1/(mss35)*1/(mss45)*G^2*ee^4*mss34*mst15*mst24+16/9*1/(mss12)^2*1/(mss35)*1/(mss45)*G^2*ee^4*mss34*mst15*mst23+16/9*1/(mss12)^2*1/(mss35)*1/(mss45)*G^2*ee^4*mss34*mst14*mst25+32/9*1/(mss12)^2*1/(mss35)*1/(mss45)*G^2*ee^4*mss34*mst14*mst23+16/9*1/(mss12)^2*1/(mss35)*1/(mss45)*G^2*ee^4*mss34*mst13*mst25+32/9*1/(mss12)^2*1/(mss35)*1/(mss45)*G^2*ee^4*mss34*mst13*mst24-16/9*1/(mss12)^2*1/(mss35)*1/(mss45)*G^2*ee^4*Mass_Me^2*mss45*mst24+16/9*1/(mss12)^2*1/(mss35)*1/(mss45)*G^2*ee^4*Mass_Me^2*mss45*mst23-16/9*1/(mss12)^2*1/(mss35)*1/(mss45)*G^2*ee^4*Mass_Me^2*mss45*mst14+16/9*1/(mss12)^2*1/(mss35)*1/(mss45)*G^2*ee^4*Mass_Me^2*mss45*mst13+16/9*1/(mss12)^2*1/(mss35)*1/(mss45)*G^2*ee^4*Mass_Me^2*mss35*mst24-16/9*1/(mss12)^2*1/(mss35)*1/(mss45)*G^2*ee^4*Mass_Me^2*mss35*mst23+16/9*1/(mss12)^2*1/(mss35)*1/(mss45)*G^2*ee^4*Mass_Me^2*mss35*mst14-16/9*1/(mss12)^2*1/(mss35)*1/(mss45)*G^2*ee^4*Mass_Me^2*mss35*mst13-32/9*1/(mss12)^2*1/(mss35)*1/(mss45)*G^2*ee^4*Mass_Me^2*mss34*mst25-16/3*1/(mss12)^2*1/(mss35)*1/(mss45)*G^2*ee^4*Mass_Me^2*mss34*mst24-16/3*1/(mss12)^2*1/(mss35)*1/(mss45)*G^2*ee^4*Mass_Me^2*mss34*mst23-32/9*1/(mss12)^2*1/(mss35)*1/(mss45)*G^2*ee^4*Mass_Me^2*mss34*mst15-16/3*1/(mss12)^2*1/(mss35)*1/(mss45)*G^2*ee^4*Mass_Me^2*mss34*mst14-16/3*1/(mss12)^2*1/(mss35)*1/(mss45)*G^2*ee^4*Mass_Me^2*mss34*mst13+128/9*1/(mss12)^2*1/(mss35)*1/(mss45)*G^2*ee^4*Mass_Me^4*mss34+64/9*1/(mss12)^2*1/(mss35)*1/(mss45)*G^2*ee^4*Mass_Me^4*mss34*mss45+64/9*1/(mss12)^2*1/(mss35)*1/(mss45)*G^2*ee^4*Mass_Me^4*mss34*mss35+64/9*1/(mss12)^2*1/(mss35)*1/(mss45)*G^2*ee^4*Mass_Me^4*mss34^2-16/9*1/(mss12)^2*1/(mss35)*1/(mss45)*G^2*Nc^2*ee^4*mss45*mst14*mst23-16/9*1/(mss12)^2*1/(mss35)*1/(mss45)*G^2*Nc^2*ee^4*mss45*mst13*mst24+32/9*1/(mss12)^2*1/(mss35)*1/(mss45)*G^2*Nc^2*ee^4*mss45*mst13*mst23+32/9*1/(mss12)^2*1/(mss35)*1/(mss45)*G^2*Nc^2*ee^4*mss35*mst14*mst24-16/9*1/(mss12)^2*1/(mss35)*1/(mss45)*G^2*Nc^2*ee^4*mss35*mst14*mst23-16/9*1/(mss12)^2*1/(mss35)*1/(mss45)*G^2*Nc^2*ee^4*mss35*mst13*mst24-16/9*1/(mss12)^2*1/(mss35)*1/(mss45)*G^2*Nc^2*ee^4*mss34*mst15*mst24-16/9*1/(mss12)^2*1/(mss35)*1/(mss45)*G^2*Nc^2*ee^4*mss34*mst15*mst23-16/9*1/(mss12)^2*1/(mss35)*1/(mss45)*G^2*Nc^2*ee^4*mss34*mst14*mst25-32/9*1/(mss12)^2*1/(mss35)*1/(mss45)*G^2*Nc^2*ee^4*mss34*mst14*mst23-16/9*1/(mss12)^2*1/(mss35)*1/(mss45)*G^2*Nc^2*ee^4*mss34*mst13*mst25-32/9*1/(mss12)^2*1/(mss35)*1/(mss45)*G^2*Nc^2*ee^4*mss34*mst13*mst24+16/9*1/(mss12)^2*1/(mss35)*1/(mss45)*G^2*Nc^2*ee^4*Mass_Me^2*mss45*mst24-16/9*1/(mss12)^2*1/(mss35)*1/(mss45)*G^2*Nc^2*ee^4*Mass_Me^2*mss45*mst23+16/9*1/(mss12)^2*1/(mss35)*1/(mss45)*G^2*Nc^2*ee^4*Mass_Me^2*mss45*mst14-16/9*1/(mss12)^2*1/(mss35)*1/(mss45)*G^2*Nc^2*ee^4*Mass_Me^2*mss45*mst13-16/9*1/(mss12)^2*1/(mss35)*1/(mss45)*G^2*Nc^2*ee^4*Mass_Me^2*mss35*mst24+16/9*1/(mss12)^2*1/(mss35)*1/(mss45)*G^2*Nc^2*ee^4*Mass_Me^2*mss35*mst23-16/9*1/(mss12)^2*1/(mss35)*1/(mss45)*G^2*Nc^2*ee^4*Mass_Me^2*mss35*mst14+16/9*1/(mss12)^2*1/(mss35)*1/(mss45)*G^2*Nc^2*ee^4*Mass_Me^2*mss35*mst13+32/9*1/(mss12)^2*1/(mss35)*1/(mss45)*G^2*Nc^2*ee^4*Mass_Me^2*mss34*mst25+16/3*1/(mss12)^2*1/(mss35)*1/(mss45)*G^2*Nc^2*ee^4*Mass_Me^2*mss34*mst24+16/3*1/(mss12)^2*1/(mss35)*1/(mss45)*G^2*Nc^2*ee^4*Mass_Me^2*mss34*mst23+32/9*1/(mss12)^2*1/(mss35)*1/(mss45)*G^2*Nc^2*ee^4*Mass_Me^2*mss34*mst15+16/3*1/(mss12)^2*1/(mss35)*1/(mss45)*G^2*Nc^2*ee^4*Mass_Me^2*mss34*mst14+16/3*1/(mss12)^2*1/(mss35)*1/(mss45)*G^2*Nc^2*ee^4*Mass_Me^2*mss34*mst13-128/9*1/(mss12)^2*1/(mss35)*1/(mss45)*G^2*Nc^2*ee^4*Mass_Me^4*mss34-64/9*1/(mss12)^2*1/(mss35)*1/(mss45)*G^2*Nc^2*ee^4*Mass_Me^4*mss34*mss45-64/9*1/(mss12)^2*1/(mss35)*1/(mss45)*G^2*Nc^2*ee^4*Mass_Me^4*mss34*mss35-64/9*1/(mss12)^2*1/(mss35)*1/(mss45)*G^2*Nc^2*ee^4*Mass_Me^4*mss34^2+16/9*1/(1/2*mss35)*1/(mss12)^2*1/(mss35)*1/(mss45)*G^2*ee^4*mss35*mss45*mst13*mst23-8/9*1/(1/2*mss35)*1/(mss12)^2*1/(mss35)*1/(mss45)*G^2*ee^4*mss35^2*mst14*mst23-8/9*1/(1/2*mss35)*1/(mss12)^2*1/(mss35)*1/(mss45)*G^2*ee^4*mss35^2*mst13*mst24-8/9*1/(1/2*mss35)*1/(mss12)^2*1/(mss35)*1/(mss45)*G^2*ee^4*mss34*mss35*mst15*mst23-16/9*1/(1/2*mss35)*1/(mss12)^2*1/(mss35)*1/(mss45)*G^2*ee^4*mss34*mss35*mst14*mst23-8/9*1/(1/2*mss35)*1/(mss12)^2*1/(mss35)*1/(mss45)*G^2*ee^4*mss34*mss35*mst13*mst25-16/9*1/(1/2*mss35)*1/(mss12)^2*1/(mss35)*1/(mss45)*G^2*ee^4*mss34*mss35*mst13*mst24-16/9*1/(1/2*mss35)*1/(mss12)^2*1/(mss35)*1/(mss45)*G^2*ee^4*Mass_Me^2*mss35*mss45*mst23-16/9*1/(1/2*mss35)*1/(mss12)^2*1/(mss35)*1/(mss45)*G^2*ee^4*Mass_Me^2*mss35*mss45*mst13+8/9*1/(1/2*mss35)*1/(mss12)^2*1/(mss35)*1/(mss45)*G^2*ee^4*Mass_Me^2*mss35^2*mst24+8/9*1/(1/2*mss35)*1/(mss12)^2*1/(mss35)*1/(mss45)*G^2*ee^4*Mass_Me^2*mss35^2*mst23+8/9*1/(1/2*mss35)*1/(mss12)^2*1/(mss35)*1/(mss45)*G^2*ee^4*Mass_Me^2*mss35^2*mst14+8/9*1/(1/2*mss35)*1/(mss12)^2*1/(mss35)*1/(mss45)*G^2*ee^4*Mass_Me^2*mss35^2*mst13+8/9*1/(1/2*mss35)*1/(mss12)^2*1/(mss35)*1/(mss45)*G^2*ee^4*Mass_Me^2*mss34*mss35*mst25+16/9*1/(1/2*mss35)*1/(mss12)^2*1/(mss35)*1/(mss45)*G^2*ee^4*Mass_Me^2*mss34*mss35*mst24+8/3*1/(1/2*mss35)*1/(mss12)^2*1/(mss35)*1/(mss45)*G^2*ee^4*Mass_Me^2*mss34*mss35*mst23+8/9*1/(1/2*mss35)*1/(mss12)^2*1/(mss35)*1/(mss45)*G^2*ee^4*Mass_Me^2*mss34*mss35*mst15+16/9*1/(1/2*mss35)*1/(mss12)^2*1/(mss35)*1/(mss45)*G^2*ee^4*Mass_Me^2*mss34*mss35*mst14+8/3*1/(1/2*mss35)*1/(mss12)^2*1/(mss35)*1/(mss45)*G^2*ee^4*Mass_Me^2*mss34*mss35*mst13+16/9*1/(1/2*mss35)*1/(mss12)^2*1/(mss35)*1/(mss45)*G^2*ee^4*Mass_Me^4*mss35*mss45-16/9*1/(1/2*mss35)*1/(mss12)^2*1/(mss35)*1/(mss45)*G^2*ee^4*Mass_Me^4*mss35^2-16/3*1/(1/2*mss35)*1/(mss12)^2*1/(mss35)*1/(mss45)*G^2*ee^4*Mass_Me^4*mss34*mss35-32/9*1/(1/2*mss35)*1/(mss12)^2*1/(mss35)*1/(mss45)*G^2*ee^4*Mass_Me^4*mss34*mss35^2-32/9*1/(1/2*mss35)*1/(mss12)^2*1/(mss35)*1/(mss45)*G^2*ee^4*Mass_Me^4*mss34^2*mss35-16/9*1/(1/2*mss35)*1/(mss12)^2*1/(mss35)*1/(mss45)*G^2*Nc^2*ee^4*mss35*mss45*mst13*mst23+8/9*1/(1/2*mss35)*1/(mss12)^2*1/(mss35)*1/(mss45)*G^2*Nc^2*ee^4*mss35^2*mst14*mst23+8/9*1/(1/2*mss35)*1/(mss12)^2*1/(mss35)*1/(mss45)*G^2*Nc^2*ee^4*mss35^2*mst13*mst24+8/9*1/(1/2*mss35)*1/(mss12)^2*1/(mss35)*1/(mss45)*G^2*Nc^2*ee^4*mss34*mss35*mst15*mst23+16/9*1/(1/2*mss35)*1/(mss12)^2*1/(mss35)*1/(mss45)*G^2*Nc^2*ee^4*mss34*mss35*mst14*mst23+8/9*1/(1/2*mss35)*1/(mss12)^2*1/(mss35)*1/(mss45)*G^2*Nc^2*ee^4*mss34*mss35*mst13*mst25+16/9*1/(1/2*mss35)*1/(mss12)^2*1/(mss35)*1/(mss45)*G^2*Nc^2*ee^4*mss34*mss35*mst13*mst24+16/9*1/(1/2*mss35)*1/(mss12)^2*1/(mss35)*1/(mss45)*G^2*Nc^2*ee^4*Mass_Me^2*mss35*mss45*mst23+16/9*1/(1/2*mss35)*1/(mss12)^2*1/(mss35)*1/(mss45)*G^2*Nc^2*ee^4*Mass_Me^2*mss35*mss45*mst13-8/9*1/(1/2*mss35)*1/(mss12)^2*1/(mss35)*1/(mss45)*G^2*Nc^2*ee^4*Mass_Me^2*mss35^2*mst24-8/9*1/(1/2*mss35)*1/(mss12)^2*1/(mss35)*1/(mss45)*G^2*Nc^2*ee^4*Mass_Me^2*mss35^2*mst23-8/9*1/(1/2*mss35)*1/(mss12)^2*1/(mss35)*1/(mss45)*G^2*Nc^2*ee^4*Mass_Me^2*mss35^2*mst14-8/9*1/(1/2*mss35)*1/(mss12)^2*1/(mss35)*1/(mss45)*G^2*Nc^2*ee^4*Mass_Me^2*mss35^2*mst13-8/9*1/(1/2*mss35)*1/(mss12)^2*1/(mss35)*1/(mss45)*G^2*Nc^2*ee^4*Mass_Me^2*mss34*mss35*mst25-16/9*1/(1/2*mss35)*1/(mss12)^2*1/(mss35)*1/(mss45)*G^2*Nc^2*ee^4*Mass_Me^2*mss34*mss35*mst24-8/3*1/(1/2*mss35)*1/(mss12)^2*1/(mss35)*1/(mss45)*G^2*Nc^2*ee^4*Mass_Me^2*mss34*mss35*mst23-8/9*1/(1/2*mss35)*1/(mss12)^2*1/(mss35)*1/(mss45)*G^2*Nc^2*ee^4*Mass_Me^2*mss34*mss35*mst15-16/9*1/(1/2*mss35)*1/(mss12)^2*1/(mss35)*1/(mss45)*G^2*Nc^2*ee^4*Mass_Me^2*mss34*mss35*mst14-8/3*1/(1/2*mss35)*1/(mss12)^2*1/(mss35)*1/(mss45)*G^2*Nc^2*ee^4*Mass_Me^2*mss34*mss35*mst13-16/9*1/(1/2*mss35)*1/(mss12)^2*1/(mss35)*1/(mss45)*G^2*Nc^2*ee^4*Mass_Me^4*mss35*mss45+16/9*1/(1/2*mss35)*1/(mss12)^2*1/(mss35)*1/(mss45)*G^2*Nc^2*ee^4*Mass_Me^4*mss35^2+16/3*1/(1/2*mss35)*1/(mss12)^2*1/(mss35)*1/(mss45)*G^2*Nc^2*ee^4*Mass_Me^4*mss34*mss35+32/9*1/(1/2*mss35)*1/(mss12)^2*1/(mss35)*1/(mss45)*G^2*Nc^2*ee^4*Mass_Me^4*mss34*mss35^2+32/9*1/(1/2*mss35)*1/(mss12)^2*1/(mss35)*1/(mss45)*G^2*Nc^2*ee^4*Mass_Me^4*mss34^2*mss35) + (32/9*1/(mss12)^2*1/(mss45)^2*G^2*ee^4*mss45*mst15*mst23+32/9*1/(mss12)^2*1/(mss45)^2*G^2*ee^4*mss45*mst13*mst25-32/9*1/(mss12)^2*1/(mss45)^2*G^2*ee^4*Mass_Me^2*mss45*mst25-32/9*1/(mss12)^2*1/(mss45)^2*G^2*ee^4*Mass_Me^2*mss45*mst23-32/9*1/(mss12)^2*1/(mss45)^2*G^2*ee^4*Mass_Me^2*mss45*mst15-32/9*1/(mss12)^2*1/(mss45)^2*G^2*ee^4*Mass_Me^2*mss45*mst13+64/9*1/(mss12)^2*1/(mss45)^2*G^2*ee^4*Mass_Me^4*mss45+64/9*1/(mss12)^2*1/(mss45)^2*G^2*ee^4*Mass_Me^4*mss35*mss45-32/9*1/(mss12)^2*1/(mss45)^2*G^2*Nc^2*ee^4*mss45*mst15*mst23-32/9*1/(mss12)^2*1/(mss45)^2*G^2*Nc^2*ee^4*mss45*mst13*mst25+32/9*1/(mss12)^2*1/(mss45)^2*G^2*Nc^2*ee^4*Mass_Me^2*mss45*mst25+32/9*1/(mss12)^2*1/(mss45)^2*G^2*Nc^2*ee^4*Mass_Me^2*mss45*mst23+32/9*1/(mss12)^2*1/(mss45)^2*G^2*Nc^2*ee^4*Mass_Me^2*mss45*mst15+32/9*1/(mss12)^2*1/(mss45)^2*G^2*Nc^2*ee^4*Mass_Me^2*mss45*mst13-64/9*1/(mss12)^2*1/(mss45)^2*G^2*Nc^2*ee^4*Mass_Me^4*mss45-64/9*1/(mss12)^2*1/(mss45)^2*G^2*Nc^2*ee^4*Mass_Me^4*mss35*mss45-32/9*1/(1/2*mss35)*1/(mss12)^2*1/(mss45)^2*G^2*ee^4*mss45^2*mst13*mst23+16/9*1/(1/2*mss35)*1/(mss12)^2*1/(mss45)^2*G^2*ee^4*mss35*mss45*mst14*mst23+16/9*1/(1/2*mss35)*1/(mss12)^2*1/(mss45)^2*G^2*ee^4*mss35*mss45*mst13*mst24+16/9*1/(1/2*mss35)*1/(mss12)^2*1/(mss45)^2*G^2*ee^4*mss34*mss45*mst15*mst23+32/9*1/(1/2*mss35)*1/(mss12)^2*1/(mss45)^2*G^2*ee^4*mss34*mss45*mst14*mst23+16/9*1/(1/2*mss35)*1/(mss12)^2*1/(mss45)^2*G^2*ee^4*mss34*mss45*mst13*mst25+32/9*1/(1/2*mss35)*1/(mss12)^2*1/(mss45)^2*G^2*ee^4*mss34*mss45*mst13*mst24+32/9*1/(1/2*mss35)*1/(mss12)^2*1/(mss45)^2*G^2*ee^4*Mass_Me^2*mss45^2*mst23+32/9*1/(1/2*mss35)*1/(mss12)^2*1/(mss45)^2*G^2*ee^4*Mass_Me^2*mss45^2*mst13-16/9*1/(1/2*mss35)*1/(mss12)^2*1/(mss45)^2*G^2*ee^4*Mass_Me^2*mss35*mss45*mst24-16/9*1/(1/2*mss35)*1/(mss12)^2*1/(mss45)^2*G^2*ee^4*Mass_Me^2*mss35*mss45*mst23-16/9*1/(1/2*mss35)*1/(mss12)^2*1/(mss45)^2*G^2*ee^4*Mass_Me^2*mss35*mss45*mst14-16/9*1/(1/2*mss35)*1/(mss12)^2*1/(mss45)^2*G^2*ee^4*Mass_Me^2*mss35*mss45*mst13-16/9*1/(1/2*mss35)*1/(mss12)^2*1/(mss45)^2*G^2*ee^4*Mass_Me^2*mss34*mss45*mst25-32/9*1/(1/2*mss35)*1/(mss12)^2*1/(mss45)^2*G^2*ee^4*Mass_Me^2*mss34*mss45*mst24-16/3*1/(1/2*mss35)*1/(mss12)^2*1/(mss45)^2*G^2*ee^4*Mass_Me^2*mss34*mss45*mst23-16/9*1/(1/2*mss35)*1/(mss12)^2*1/(mss45)^2*G^2*ee^4*Mass_Me^2*mss34*mss45*mst15-32/9*1/(1/2*mss35)*1/(mss12)^2*1/(mss45)^2*G^2*ee^4*Mass_Me^2*mss34*mss45*mst14-16/3*1/(1/2*mss35)*1/(mss12)^2*1/(mss45)^2*G^2*ee^4*Mass_Me^2*mss34*mss45*mst13-32/9*1/(1/2*mss35)*1/(mss12)^2*1/(mss45)^2*G^2*ee^4*Mass_Me^4*mss45^2+32/9*1/(1/2*mss35)*1/(mss12)^2*1/(mss45)^2*G^2*ee^4*Mass_Me^4*mss35*mss45+32/3*1/(1/2*mss35)*1/(mss12)^2*1/(mss45)^2*G^2*ee^4*Mass_Me^4*mss34*mss45+64/9*1/(1/2*mss35)*1/(mss12)^2*1/(mss45)^2*G^2*ee^4*Mass_Me^4*mss34*mss35*mss45+64/9*1/(1/2*mss35)*1/(mss12)^2*1/(mss45)^2*G^2*ee^4*Mass_Me^4*mss34^2*mss45+32/9*1/(1/2*mss35)*1/(mss12)^2*1/(mss45)^2*G^2*Nc^2*ee^4*mss45^2*mst13*mst23-16/9*1/(1/2*mss35)*1/(mss12)^2*1/(mss45)^2*G^2*Nc^2*ee^4*mss35*mss45*mst14*mst23-16/9*1/(1/2*mss35)*1/(mss12)^2*1/(mss45)^2*G^2*Nc^2*ee^4*mss35*mss45*mst13*mst24-16/9*1/(1/2*mss35)*1/(mss12)^2*1/(mss45)^2*G^2*Nc^2*ee^4*mss34*mss45*mst15*mst23-32/9*1/(1/2*mss35)*1/(mss12)^2*1/(mss45)^2*G^2*Nc^2*ee^4*mss34*mss45*mst14*mst23-16/9*1/(1/2*mss35)*1/(mss12)^2*1/(mss45)^2*G^2*Nc^2*ee^4*mss34*mss45*mst13*mst25-32/9*1/(1/2*mss35)*1/(mss12)^2*1/(mss45)^2*G^2*Nc^2*ee^4*mss34*mss45*mst13*mst24-32/9*1/(1/2*mss35)*1/(mss12)^2*1/(mss45)^2*G^2*Nc^2*ee^4*Mass_Me^2*mss45^2*mst23-32/9*1/(1/2*mss35)*1/(mss12)^2*1/(mss45)^2*G^2*Nc^2*ee^4*Mass_Me^2*mss45^2*mst13+16/9*1/(1/2*mss35)*1/(mss12)^2*1/(mss45)^2*G^2*Nc^2*ee^4*Mass_Me^2*mss35*mss45*mst24+16/9*1/(1/2*mss35)*1/(mss12)^2*1/(mss45)^2*G^2*Nc^2*ee^4*Mass_Me^2*mss35*mss45*mst23+16/9*1/(1/2*mss35)*1/(mss12)^2*1/(mss45)^2*G^2*Nc^2*ee^4*Mass_Me^2*mss35*mss45*mst14+16/9*1/(1/2*mss35)*1/(mss12)^2*1/(mss45)^2*G^2*Nc^2*ee^4*Mass_Me^2*mss35*mss45*mst13+16/9*1/(1/2*mss35)*1/(mss12)^2*1/(mss45)^2*G^2*Nc^2*ee^4*Mass_Me^2*mss34*mss45*mst25+32/9*1/(1/2*mss35)*1/(mss12)^2*1/(mss45)^2*G^2*Nc^2*ee^4*Mass_Me^2*mss34*mss45*mst24+16/3*1/(1/2*mss35)*1/(mss12)^2*1/(mss45)^2*G^2*Nc^2*ee^4*Mass_Me^2*mss34*mss45*mst23+16/9*1/(1/2*mss35)*1/(mss12)^2*1/(mss45)^2*G^2*Nc^2*ee^4*Mass_Me^2*mss34*mss45*mst15+32/9*1/(1/2*mss35)*1/(mss12)^2*1/(mss45)^2*G^2*Nc^2*ee^4*Mass_Me^2*mss34*mss45*mst14+16/3*1/(1/2*mss35)*1/(mss12)^2*1/(mss45)^2*G^2*Nc^2*ee^4*Mass_Me^2*mss34*mss45*mst13+32/9*1/(1/2*mss35)*1/(mss12)^2*1/(mss45)^2*G^2*Nc^2*ee^4*Mass_Me^4*mss45^2-32/9*1/(1/2*mss35)*1/(mss12)^2*1/(mss45)^2*G^2*Nc^2*ee^4*Mass_Me^4*mss35*mss45-32/3*1/(1/2*mss35)*1/(mss12)^2*1/(mss45)^2*G^2*Nc^2*ee^4*Mass_Me^4*mss34*mss45-64/9*1/(1/2*mss35)*1/(mss12)^2*1/(mss45)^2*G^2*Nc^2*ee^4*Mass_Me^4*mss34*mss35*mss45-64/9*1/(1/2*mss35)*1/(mss12)^2*1/(mss45)^2*G^2*Nc^2*ee^4*Mass_Me^4*mss34^2*mss45)'"
      ]
     },
     "execution_count": 14,
     "metadata": {},
     "output_type": "execute_result"
    }
   ],
   "source": [
    "rr"
   ]
  },
  {
   "cell_type": "code",
   "execution_count": 15,
   "id": "0f40d6b1-b704-43a8-a765-c4ae8a7106b5",
   "metadata": {},
   "outputs": [
    {
     "data": {
      "text/latex": [
       "$\\displaystyle \\frac{256 G^{2} ee^{4} \\left(- s_{35} \\left(t_{13} t_{24} + t_{13} t_{25} + t_{14} t_{23} - 2 t_{14} t_{24} + t_{15} t_{23}\\right) - s_{45} \\left(- 2 t_{13} t_{23} + t_{13} t_{24} + t_{14} t_{23} + t_{14} t_{25} + t_{15} t_{24}\\right) + \\left(s_{35} + t_{13} + t_{23}\\right) \\left(2 t_{13} t_{24} + t_{13} t_{25} + 2 t_{14} t_{23} + t_{14} t_{25} + t_{15} t_{23} + t_{15} t_{24}\\right)\\right)}{9 s_{12}^{2} s_{35} s_{45}}$"
      ],
      "text/plain": [
       "256*G**2*ee**4*(-s35*(t13*t24 + t13*t25 + t14*t23 - 2*t14*t24 + t15*t23) - s45*(-2*t13*t23 + t13*t24 + t14*t23 + t14*t25 + t15*t24) + (s35 + t13 + t23)*(2*t13*t24 + t13*t25 + 2*t14*t23 + t14*t25 + t15*t23 + t15*t24))/(9*s12**2*s35*s45)"
      ]
     },
     "execution_count": 15,
     "metadata": {},
     "output_type": "execute_result"
    }
   ],
   "source": [
    "from sympy.parsing.sympy_parser import parse_expr\n",
    "from sympy import *\n",
    "ret =simplify(parse_expr(rr.replace(\"Mom_\",\"\").replace(\".\",\"_\").replace(\"^\",\"**\")\n",
    "                    .replace(\"Mass_Me\",\"0\")\n",
    "                   .replace(\"mss\",\"s\")\n",
    "                   .replace(\"msu\",\"u\")\n",
    "                   .replace(\"mst\",\"t\")))\n",
    "ret.subs(\"Nc\",\"3\").subs(\"Cf\",\"4/3\").subs(\"s34\",\"-t13-t23-s35\").simplify()"
   ]
  },
  {
   "cell_type": "code",
   "execution_count": 16,
   "id": "f62b26d3-94df-405a-80be-004dab9400b9",
   "metadata": {},
   "outputs": [
    {
     "data": {
      "text/latex": [
       "$\\displaystyle \\frac{256 G^{2} ee^{4} \\left(- s_{34} \\cdot \\left(2 t_{13} t_{24} - t_{13} \\left(s_{12} + t_{23} + t_{24}\\right) + 2 t_{14} t_{23} - t_{14} \\left(s_{12} + t_{23} + t_{24}\\right) - t_{23} \\left(s_{12} + t_{13} + t_{14}\\right) - t_{24} \\left(s_{12} + t_{13} + t_{14}\\right)\\right) + \\left(s_{34} + t_{13} + t_{23}\\right) \\left(t_{13} t_{24} - t_{13} \\left(s_{12} + t_{23} + t_{24}\\right) + t_{14} t_{23} - 2 t_{14} t_{24} - t_{23} \\left(s_{12} + t_{13} + t_{14}\\right)\\right) + \\left(s_{34} + t_{14} + t_{24}\\right) \\left(- 2 t_{13} t_{23} + t_{13} t_{24} + t_{14} t_{23} - t_{14} \\left(s_{12} + t_{23} + t_{24}\\right) - t_{24} \\left(s_{12} + t_{13} + t_{14}\\right)\\right)\\right)}{9 s_{12}^{2} \\left(s_{34} + t_{13} + t_{23}\\right) \\left(s_{34} + t_{14} + t_{24}\\right)}$"
      ],
      "text/plain": [
       "256*G**2*ee**4*(-s34*(2*t13*t24 - t13*(s12 + t23 + t24) + 2*t14*t23 - t14*(s12 + t23 + t24) - t23*(s12 + t13 + t14) - t24*(s12 + t13 + t14)) + (s34 + t13 + t23)*(t13*t24 - t13*(s12 + t23 + t24) + t14*t23 - 2*t14*t24 - t23*(s12 + t13 + t14)) + (s34 + t14 + t24)*(-2*t13*t23 + t13*t24 + t14*t23 - t14*(s12 + t23 + t24) - t24*(s12 + t13 + t14)))/(9*s12**2*(s34 + t13 + t23)*(s34 + t14 + t24))"
      ]
     },
     "execution_count": 16,
     "metadata": {},
     "output_type": "execute_result"
    }
   ],
   "source": [
    "# here we use the tags to set the right relative sign\n",
    "ret = simplify(ret.subs(\"Nc\",\"3\").subs(\"Cf\",\"4/3\")\n",
    "               .subs(\"s35\",\"-t13-t23-s34\")\n",
    "               .subs(\"t15\",\"-s12-t13-t14\")\n",
    "               .subs(\"t25\",\"-s12-t23-t24\")\n",
    "               .subs(\"s45\",\"-t14-s34-t24\"))\n",
    "ret"
   ]
  },
  {
   "cell_type": "code",
   "execution_count": 22,
   "id": "63a7854e-8180-4f58-9f1f-38e09801b38e",
   "metadata": {},
   "outputs": [
    {
     "data": {
      "text/latex": [
       "$\\displaystyle \\frac{128 G^{2} ee^{4} \\left(- x_{q}^{4} \\cos^{2}{\\left(\\theta \\right)} - x_{q}^{4} + x_{q}^{2} x_{\\bar{q}}^{2} \\sqrt{\\frac{x_{q}^{2} x_{\\bar{q}} - x_{q}^{2} + x_{q} x_{\\bar{q}}^{2} - 3 x_{q} x_{\\bar{q}} + 2 x_{q} - x_{\\bar{q}}^{2} + 2 x_{\\bar{q}} - 1}{x_{q}^{2} x_{\\bar{q}}^{2}}} \\left(\\cos{\\left(\\eta - 2 \\theta \\right)} - \\cos{\\left(\\eta + 2 \\theta \\right)}\\right) - x_{q}^{2} x_{\\bar{q}}^{2} \\cos^{2}{\\left(\\theta \\right)} - x_{q}^{2} x_{\\bar{q}}^{2} - 2 x_{q}^{2} x_{\\bar{q}} \\sqrt{\\frac{x_{q}^{2} x_{\\bar{q}} - x_{q}^{2} + x_{q} x_{\\bar{q}}^{2} - 3 x_{q} x_{\\bar{q}} + 2 x_{q} - x_{\\bar{q}}^{2} + 2 x_{\\bar{q}} - 1}{x_{q}^{2} x_{\\bar{q}}^{2}}} \\left(\\cos{\\left(\\eta - 2 \\theta \\right)} - \\cos{\\left(\\eta + 2 \\theta \\right)}\\right) - 4 x_{q}^{2} x_{\\bar{q}} \\sin^{2}{\\left(\\eta \\right)} \\sin^{2}{\\left(\\theta \\right)} + 4 x_{q}^{2} x_{\\bar{q}} \\cos^{2}{\\left(\\theta \\right)} + 4 x_{q}^{2} \\sin^{2}{\\left(\\eta \\right)} \\sin^{2}{\\left(\\theta \\right)} - 4 x_{q}^{2} \\cos^{2}{\\left(\\theta \\right)} - 2 x_{q} x_{\\bar{q}}^{2} \\sqrt{\\frac{x_{q}^{2} x_{\\bar{q}} - x_{q}^{2} + x_{q} x_{\\bar{q}}^{2} - 3 x_{q} x_{\\bar{q}} + 2 x_{q} - x_{\\bar{q}}^{2} + 2 x_{\\bar{q}} - 1}{x_{q}^{2} x_{\\bar{q}}^{2}}} \\left(\\cos{\\left(\\eta - 2 \\theta \\right)} - \\cos{\\left(\\eta + 2 \\theta \\right)}\\right) - 4 x_{q} x_{\\bar{q}}^{2} \\sin^{2}{\\left(\\eta \\right)} \\sin^{2}{\\left(\\theta \\right)} + 4 x_{q} x_{\\bar{q}}^{2} \\cos^{2}{\\left(\\theta \\right)} + 2 x_{q} x_{\\bar{q}} \\sqrt{\\frac{x_{q}^{2} x_{\\bar{q}} - x_{q}^{2} + x_{q} x_{\\bar{q}}^{2} - 3 x_{q} x_{\\bar{q}} + 2 x_{q} - x_{\\bar{q}}^{2} + 2 x_{\\bar{q}} - 1}{x_{q}^{2} x_{\\bar{q}}^{2}}} \\left(\\cos{\\left(\\eta - 2 \\theta \\right)} - \\cos{\\left(\\eta + 2 \\theta \\right)}\\right) + 12 x_{q} x_{\\bar{q}} \\sin^{2}{\\left(\\eta \\right)} \\sin^{2}{\\left(\\theta \\right)} - 12 x_{q} x_{\\bar{q}} \\cos^{2}{\\left(\\theta \\right)} - 8 x_{q} \\sin^{2}{\\left(\\eta \\right)} \\sin^{2}{\\left(\\theta \\right)} + 8 x_{q} \\cos^{2}{\\left(\\theta \\right)} + 4 x_{\\bar{q}}^{2} \\sin^{2}{\\left(\\eta \\right)} \\sin^{2}{\\left(\\theta \\right)} - 4 x_{\\bar{q}}^{2} \\cos^{2}{\\left(\\theta \\right)} - 8 x_{\\bar{q}} \\sin^{2}{\\left(\\eta \\right)} \\sin^{2}{\\left(\\theta \\right)} + 8 x_{\\bar{q}} \\cos^{2}{\\left(\\theta \\right)} + 4 \\sin^{2}{\\left(\\eta \\right)} \\sin^{2}{\\left(\\theta \\right)} - 4 \\cos^{2}{\\left(\\theta \\right)}\\right)}{9 s_{12} x_{q}^{2} \\left(x_{q} x_{\\bar{q}} - x_{q} - x_{\\bar{q}} + 1\\right)}$"
      ],
      "text/plain": [
       "128*G**2*ee**4*(-x_q**4*cos(theta)**2 - x_q**4 + x_q**2*x_qbar**2*sqrt((x_q**2*x_qbar - x_q**2 + x_q*x_qbar**2 - 3*x_q*x_qbar + 2*x_q - x_qbar**2 + 2*x_qbar - 1)/(x_q**2*x_qbar**2))*(cos(eta - 2*theta) - cos(eta + 2*theta)) - x_q**2*x_qbar**2*cos(theta)**2 - x_q**2*x_qbar**2 - 2*x_q**2*x_qbar*sqrt((x_q**2*x_qbar - x_q**2 + x_q*x_qbar**2 - 3*x_q*x_qbar + 2*x_q - x_qbar**2 + 2*x_qbar - 1)/(x_q**2*x_qbar**2))*(cos(eta - 2*theta) - cos(eta + 2*theta)) - 4*x_q**2*x_qbar*sin(eta)**2*sin(theta)**2 + 4*x_q**2*x_qbar*cos(theta)**2 + 4*x_q**2*sin(eta)**2*sin(theta)**2 - 4*x_q**2*cos(theta)**2 - 2*x_q*x_qbar**2*sqrt((x_q**2*x_qbar - x_q**2 + x_q*x_qbar**2 - 3*x_q*x_qbar + 2*x_q - x_qbar**2 + 2*x_qbar - 1)/(x_q**2*x_qbar**2))*(cos(eta - 2*theta) - cos(eta + 2*theta)) - 4*x_q*x_qbar**2*sin(eta)**2*sin(theta)**2 + 4*x_q*x_qbar**2*cos(theta)**2 + 2*x_q*x_qbar*sqrt((x_q**2*x_qbar - x_q**2 + x_q*x_qbar**2 - 3*x_q*x_qbar + 2*x_q - x_qbar**2 + 2*x_qbar - 1)/(x_q**2*x_qbar**2))*(cos(eta - 2*theta) - cos(eta + 2*theta)) + 12*x_q*x_qbar*sin(eta)**2*sin(theta)**2 - 12*x_q*x_qbar*cos(theta)**2 - 8*x_q*sin(eta)**2*sin(theta)**2 + 8*x_q*cos(theta)**2 + 4*x_qbar**2*sin(eta)**2*sin(theta)**2 - 4*x_qbar**2*cos(theta)**2 - 8*x_qbar*sin(eta)**2*sin(theta)**2 + 8*x_qbar*cos(theta)**2 + 4*sin(eta)**2*sin(theta)**2 - 4*cos(theta)**2)/(9*s12*x_q**2*(x_q*x_qbar - x_q - x_qbar + 1))"
      ]
     },
     "execution_count": 22,
     "metadata": {},
     "output_type": "execute_result"
    }
   ],
   "source": [
    "sret = ret.subs({\n",
    "          \"t13\" : \"-2*s12*x_q/4*(1-cos(theta))\",\n",
    "          \"t23\" : \"-2*s12*x_q/4*(1+cos(theta))\",\n",
    "          \"t14\" : \"-2*s12*x_qbar/4*(1-(((2-x_qbar-x_q)**2-x_qbar**2-x_q**2)/(2*x_q*x_qbar))*cos(theta)+sqrt(1-(((2-x_qbar-x_q)**2-x_qbar**2-x_q**2)/(2*x_q*x_qbar))**2)*sin(theta)*sin(eta))\",\n",
    "          \"t24\" : \"-2*s12*x_qbar/4*(1+(((2-x_qbar-x_q)**2-x_qbar**2-x_q**2)/(2*x_q*x_qbar))*cos(theta)-sqrt(1-(((2-x_qbar-x_q)**2-x_qbar**2-x_q**2)/(2*x_q*x_qbar))**2)*sin(theta)*sin(eta))\",\n",
    "          \"s34\" : \"2*s12/4*x_q*x_qbar * (1-(((2-x_qbar-x_q)**2-x_qbar**2-x_q**2)/(2*x_q*x_qbar)))\",\n",
    "         }).simplify()\n",
    "sret"
   ]
  },
  {
   "cell_type": "code",
   "execution_count": 18,
   "id": "8b7bacac-98a2-43bb-b9e4-2a3cd9242e0d",
   "metadata": {},
   "outputs": [
    {
     "data": {
      "text/latex": [
       "$\\displaystyle 2 \\pi \\left(- \\frac{2048 \\pi G^{2} ee^{4} x_{q}^{4}}{27 s_{12} x_{q}^{3} x_{\\bar{q}} - 27 s_{12} x_{q}^{3} - 27 s_{12} x_{q}^{2} x_{\\bar{q}} + 27 s_{12} x_{q}^{2}} - \\frac{2048 \\pi G^{2} ee^{4} x_{q}^{2} x_{\\bar{q}}^{2}}{27 s_{12} x_{q}^{3} x_{\\bar{q}} - 27 s_{12} x_{q}^{3} - 27 s_{12} x_{q}^{2} x_{\\bar{q}} + 27 s_{12} x_{q}^{2}}\\right)$"
      ],
      "text/plain": [
       "2*pi*(-2048*pi*G**2*ee**4*x_q**4/(27*s12*x_q**3*x_qbar - 27*s12*x_q**3 - 27*s12*x_q**2*x_qbar + 27*s12*x_q**2) - 2048*pi*G**2*ee**4*x_q**2*x_qbar**2/(27*s12*x_q**3*x_qbar - 27*s12*x_q**3 - 27*s12*x_q**2*x_qbar + 27*s12*x_q**2))"
      ]
     },
     "execution_count": 18,
     "metadata": {},
     "output_type": "execute_result"
    }
   ],
   "source": [
    "import sympy\n",
    "int1 = sympy.integrate(sret, (\"eta\",0,2*sympy.pi))\n",
    "int2 = sympy.integrate(int1 * sympy.parse_expr(\"sin(theta)\"), (\"theta\",0,sympy.pi))\n",
    "int3 = sympy.integrate(int2, (\"phi\",0,2*sympy.pi))\n",
    "int3"
   ]
  },
  {
   "cell_type": "code",
   "execution_count": 19,
   "id": "02d73f3f-80ce-4bff-8f65-ef9c0cd33187",
   "metadata": {},
   "outputs": [
    {
     "data": {
      "text/latex": [
       "$\\displaystyle - \\frac{4096 \\pi^{2} G^{2} ee^{4} \\left(x_{q}^{2} + x_{\\bar{q}}^{2}\\right)}{27 s_{12} \\left(x_{q} x_{\\bar{q}} - x_{q} - x_{\\bar{q}} + 1\\right)}$"
      ],
      "text/plain": [
       "-4096*pi**2*G**2*ee**4*(x_q**2 + x_qbar**2)/(27*s12*(x_q*x_qbar - x_q - x_qbar + 1))"
      ]
     },
     "execution_count": 19,
     "metadata": {},
     "output_type": "execute_result"
    }
   ],
   "source": [
    "ssret = int3.simplify()\n",
    "ssret"
   ]
  },
  {
   "cell_type": "code",
   "execution_count": 20,
   "id": "a0c997aa-7335-419e-8562-a83dfce8a3fe",
   "metadata": {},
   "outputs": [
    {
     "data": {
      "text/plain": [
       "['1', '1']"
      ]
     },
     "execution_count": 20,
     "metadata": {},
     "output_type": "execute_result"
    }
   ],
   "source": [
    "import feynamp\n",
    "feynamp.get_color_average(fds)"
   ]
  },
  {
   "cell_type": "code",
   "execution_count": 21,
   "id": "63f4dfb6-a0bb-4dc9-953f-52f82883394c",
   "metadata": {},
   "outputs": [
    {
     "data": {
      "text/plain": [
       "['1/2', '1/2']"
      ]
     },
     "execution_count": 21,
     "metadata": {},
     "output_type": "execute_result"
    }
   ],
   "source": [
    "feynamp.get_spin_average(fds)"
   ]
  },
  {
   "cell_type": "code",
   "execution_count": null,
   "id": "05d6e9c5-0ede-4d4d-ab40-7d7a0baa5696",
   "metadata": {},
   "outputs": [],
   "source": []
  },
  {
   "cell_type": "code",
   "execution_count": null,
   "id": "fcf4a8be-b223-4592-aa12-1f6ae2db0e6d",
   "metadata": {},
   "outputs": [],
   "source": []
  },
  {
   "cell_type": "code",
   "execution_count": null,
   "id": "3f0f7393-b87b-412b-ae53-3e131bc198b9",
   "metadata": {},
   "outputs": [],
   "source": []
  },
  {
   "cell_type": "code",
   "execution_count": null,
   "id": "bdc785b5-d969-49f4-921b-b70522239c79",
   "metadata": {},
   "outputs": [],
   "source": []
  },
  {
   "cell_type": "code",
   "execution_count": null,
   "id": "384c60c8-d74d-43f6-8163-b77cbecebaea",
   "metadata": {},
   "outputs": [],
   "source": []
  },
  {
   "cell_type": "code",
   "execution_count": null,
   "id": "c0f522d7-8ecf-47b1-9b84-e289d2d82416",
   "metadata": {},
   "outputs": [],
   "source": []
  },
  {
   "cell_type": "code",
   "execution_count": null,
   "id": "a46a4452-d8d6-44e5-98e2-63aaaaa78384",
   "metadata": {},
   "outputs": [],
   "source": []
  },
  {
   "cell_type": "code",
   "execution_count": null,
   "id": "02ee9702-be09-49e4-8d7b-0675a2ce0902",
   "metadata": {},
   "outputs": [],
   "source": []
  },
  {
   "cell_type": "code",
   "execution_count": null,
   "id": "f6c02fe7-7ffc-42c1-9473-07831ba3dd9a",
   "metadata": {},
   "outputs": [],
   "source": []
  },
  {
   "cell_type": "code",
   "execution_count": null,
   "id": "8bf1d18b-ad8e-466e-a299-4c782971a4ef",
   "metadata": {},
   "outputs": [],
   "source": []
  },
  {
   "cell_type": "code",
   "execution_count": null,
   "id": "1ee6e592-7e83-4be2-96fd-4ab85e96c482",
   "metadata": {},
   "outputs": [],
   "source": []
  },
  {
   "cell_type": "code",
   "execution_count": null,
   "id": "ed8f8d1e-9d7d-4ef4-896c-2388f42fad0c",
   "metadata": {},
   "outputs": [],
   "source": []
  },
  {
   "cell_type": "code",
   "execution_count": null,
   "id": "6d244237-8772-42d7-b3c3-3e6d4524ed2e",
   "metadata": {},
   "outputs": [],
   "source": []
  }
 ],
 "metadata": {
  "kernelspec": {
   "display_name": "Python 3 (ipykernel)",
   "language": "python",
   "name": "python3"
  },
  "language_info": {
   "codemirror_mode": {
    "name": "ipython",
    "version": 3
   },
   "file_extension": ".py",
   "mimetype": "text/x-python",
   "name": "python",
   "nbconvert_exporter": "python",
   "pygments_lexer": "ipython3",
   "version": "3.11.8"
  }
 },
 "nbformat": 4,
 "nbformat_minor": 5
}
