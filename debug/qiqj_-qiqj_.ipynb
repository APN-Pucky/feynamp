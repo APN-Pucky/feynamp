{
 "cells": [
  {
   "cell_type": "code",
   "execution_count": 1,
   "id": "0749c9f5-6aa6-4128-9af5-8a265bd00cff",
   "metadata": {},
   "outputs": [
    {
     "name": "stdout",
     "output_type": "stream",
     "text": [
      "\n",
      "\tPlease cite the following papers if you use this code:\n",
      "\n",
      "      [1] Automatic Feynman graph generation J. Comput. Phys. 105 (1993) 279--289 https://doi.org/10.1006/jcph.1993.1074\n",
      "\n",
      "      [2] Abusing Qgraf Nucl. Instrum. Methods Phys. Res. A 559 (2006) 220--223 https://doi.org/10.1016/j.nima.2005.11.151\n",
      "\n",
      "      [3] Feynman graph generation and propagator mixing, I Comput. Phys. Commun. 269 (2021) 108103 https://doi.org/10.1016/j.cpc.2021.108103\n",
      "\n",
      "\t\n"
     ]
    }
   ],
   "source": [
    "from pyqgraf import qgraf, model\n",
    "from feynml.interface.qgraf import style"
   ]
  },
  {
   "cell_type": "code",
   "execution_count": 2,
   "id": "2b48f64b-dc3c-49e2-8927-fb6545d2c8a6",
   "metadata": {},
   "outputs": [],
   "source": [
    "from feynmodel.interface.ufo import load_ufo_model\n",
    "from feynmodel.interface.qgraf import feynmodel_to_qgraf\n",
    "fm = load_ufo_model(\"ufo_sm\")\n",
    "qfm = feynmodel_to_qgraf(fm, True, False)"
   ]
  },
  {
   "cell_type": "code",
   "execution_count": 3,
   "id": "a837d9f7-ab94-4a58-abaf-224dac528e48",
   "metadata": {},
   "outputs": [],
   "source": [
    "qgraf.install(\"3.6.5\")\n",
    "xml_string = qgraf.run(\"u[p1], c_bar[p2]\", \"u[p3], c_bar[p4]\",loops=0,loop_momentum=\"l\",model = qfm, style=style)"
   ]
  },
  {
   "cell_type": "code",
   "execution_count": 4,
   "id": "a1b4f6e5-b4b0-46e4-8cc9-e2302ac5e4e5",
   "metadata": {},
   "outputs": [],
   "source": [
    "from xsdata.formats.dataclass.parsers import XmlParser\n",
    "from pyfeyn2.feynmandiagram import FeynML\n",
    "\n",
    "parser = XmlParser()\n",
    "fml = parser.from_string(xml_string, FeynML)"
   ]
  },
  {
   "cell_type": "code",
   "execution_count": 5,
   "id": "92b2379a-22b1-4f2c-ba1e-25b05b92b498",
   "metadata": {},
   "outputs": [
    {
     "data": {
      "image/png": "[encoded data removed]",
      "text/plain": [
       "<wand.image.Image: ca9354b 'PDF' (394x394)>"
      ]
     },
     "metadata": {},
     "output_type": "display_data"
    }
   ],
   "source": [
    "fd1 = fml.diagrams[2]\n",
    "fd1"
   ]
  },
  {
   "cell_type": "code",
   "execution_count": 6,
   "id": "7146e0e4-6665-4de1-b23f-8ccd48fd9073",
   "metadata": {},
   "outputs": [
    {
     "data": {
      "image/png": "[encoded data removed]",
      "text/plain": [
       "<wand.image.Image: ca9354b 'PDF' (394x394)>"
      ]
     },
     "metadata": {},
     "output_type": "display_data"
    }
   ],
   "source": [
    "fd2 =fml.diagrams[-1]\n",
    "\n",
    "fd2"
   ]
  },
  {
   "cell_type": "code",
   "execution_count": 7,
   "id": "9fcea2a7-7325-4eb9-8493-3cc8b9121001",
   "metadata": {},
   "outputs": [
    {
     "name": "stdout",
     "output_type": "stream",
     "text": [
      "FeynmanDiagram(id='Diagram3', style=cssutils.css.CSSStyleDeclaration(cssText=''), clazz=None, propagators=[Propagator(id='Prop1', pdgid=21, name='g', type='gluon', particle=<Particle: name=\"g\", pdgid=21, mass=0.0 MeV>, style=cssutils.css.CSSStyleDeclaration(cssText=''), clazz=None, label=None, momentum=Momentum(name='-p1+p3', px=None, py=None, pz=None, e=None), source='Vert2', target='Vert1')], vertices=[Vertex(id='Vert1', style=cssutils.css.CSSStyleDeclaration(cssText=''), clazz=None, x=None, y=None, z=None, label=None, shape=None), Vertex(id='Vert2', style=cssutils.css.CSSStyleDeclaration(cssText=''), clazz=None, x=None, y=None, z=None, label=None, shape=None)], legs=[Leg(id='In1', pdgid=2, name='u', type='fermion', particle=<Particle: name=\"u\", pdgid=2, mass=2.2 + 0.5 - 0.3 MeV>, style=cssutils.css.CSSStyleDeclaration(cssText=''), clazz=None, label=None, momentum=Momentum(name='p1', px=None, py=None, pz=None, e=None), target='Vert1', x=None, y=None, z=None, sense='incoming', external=None), Leg(id='In2', pdgid=-4, name='c_bar', type='anti fermion', particle=<Particle: name=\"c~\", pdgid=-4, mass=1270 ± 20 MeV>, style=cssutils.css.CSSStyleDeclaration(cssText=''), clazz=None, label=None, momentum=Momentum(name='p2', px=None, py=None, pz=None, e=None), target='Vert2', x=None, y=None, z=None, sense='incoming', external=None), Leg(id='Out1', pdgid=2, name='u', type='fermion', particle=<Particle: name=\"u\", pdgid=2, mass=2.2 + 0.5 - 0.3 MeV>, style=cssutils.css.CSSStyleDeclaration(cssText=''), clazz=None, label=None, momentum=Momentum(name='p3', px=None, py=None, pz=None, e=None), target='Vert1', x=None, y=None, z=None, sense='outgoing', external=None), Leg(id='Out2', pdgid=-4, name='c_bar', type='anti fermion', particle=<Particle: name=\"c~\", pdgid=-4, mass=1270 ± 20 MeV>, style=cssutils.css.CSSStyleDeclaration(cssText=''), clazz=None, label=None, momentum=Momentum(name='p4', px=None, py=None, pz=None, e=None), target='Vert2', x=None, y=None, z=None, sense='outgoing', external=None)], sheet=cssutils.css.CSSStyleSheet(href=None, media=None, title=None))\n"
     ]
    }
   ],
   "source": [
    "print(fd1)"
   ]
  },
  {
   "cell_type": "code",
   "execution_count": 8,
   "id": "b9336c46-47a3-4b56-b4a9-9a4f0a24ed1b",
   "metadata": {},
   "outputs": [],
   "source": [
    "from feynpy.amplitude import square, multiply\n",
    "\n",
    "s2 =square([fd1],fm)"
   ]
  },
  {
   "cell_type": "code",
   "execution_count": 9,
   "id": "823d37dc-83cf-48b4-a0c6-cc3f2ccfd7fd",
   "metadata": {},
   "outputs": [
    {
     "data": {
      "text/plain": [
       "'\\n    id epsstar(Muc?,Polb?,Moma?) * eps(Mul?,Pold?,Moma?) = -Metric(Muc,Mul);\\n    \\n    once u(Spinc?,Momb?)*ubar(Spina?,Momb?) = Gamma(N1_?,Spinc,Spina) * P(N1_?,Momb) + GammaId(Spinc,Spina) * P(N1_?,Momb) * P(N1_?,Momb);\\n    \\n    once u(Spinc?,Momb?)*ubar(Spina?,Momb?) = Gamma(N2_?,Spinc,Spina) * P(N2_?,Momb) + GammaId(Spinc,Spina) * P(N2_?,Momb) * P(N2_?,Momb);\\n    \\n    once u(Spinc?,Momb?)*ubar(Spina?,Momb?) = Gamma(N3_?,Spinc,Spina) * P(N3_?,Momb) + GammaId(Spinc,Spina) * P(N3_?,Momb) * P(N3_?,Momb);\\n    \\n    once u(Spinc?,Momb?)*ubar(Spina?,Momb?) = Gamma(N4_?,Spinc,Spina) * P(N4_?,Momb) + GammaId(Spinc,Spina) * P(N4_?,Momb) * P(N4_?,Momb);\\n    \\n    once u(Spinc?,Momb?)*ubar(Spina?,Momb?) = Gamma(N5_?,Spinc,Spina) * P(N5_?,Momb) + GammaId(Spinc,Spina) * P(N5_?,Momb) * P(N5_?,Momb);\\n    \\n    once u(Spinc?,Momb?)*ubar(Spina?,Momb?) = Gamma(N6_?,Spinc,Spina) * P(N6_?,Momb) + GammaId(Spinc,Spina) * P(N6_?,Momb) * P(N6_?,Momb);\\n    \\n    once u(Spinc?,Momb?)*ubar(Spina?,Momb?) = Gamma(N7_?,Spinc,Spina) * P(N7_?,Momb) + GammaId(Spinc,Spina) * P(N7_?,Momb) * P(N7_?,Momb);\\n    \\n    once u(Spinc?,Momb?)*ubar(Spina?,Momb?) = Gamma(N8_?,Spinc,Spina) * P(N8_?,Momb) + GammaId(Spinc,Spina) * P(N8_?,Momb) * P(N8_?,Momb);\\n    \\n    once u(Spinc?,Momb?)*ubar(Spina?,Momb?) = Gamma(N9_?,Spinc,Spina) * P(N9_?,Momb) + GammaId(Spinc,Spina) * P(N9_?,Momb) * P(N9_?,Momb);\\n    \\n    once u(Spinc?,Momb?)*ubar(Spina?,Momb?) = Gamma(N10_?,Spinc,Spina) * P(N10_?,Momb) + GammaId(Spinc,Spina) * P(N10_?,Momb) * P(N10_?,Momb);\\n    \\n    once vbar(Spinc?,Momb?)*v(Spina?,Momb?) = Gamma(N11_?,Spinc,Spina) * P(N11_?,Momb) - GammaId(Spinc,Spina) * P(N11_?,Momb) * P(N11_?,Momb);\\n    \\n    once vbar(Spinc?,Momb?)*v(Spina?,Momb?) = Gamma(N12_?,Spinc,Spina) * P(N12_?,Momb) - GammaId(Spinc,Spina) * P(N12_?,Momb) * P(N12_?,Momb);\\n    \\n    once vbar(Spinc?,Momb?)*v(Spina?,Momb?) = Gamma(N13_?,Spinc,Spina) * P(N13_?,Momb) - GammaId(Spinc,Spina) * P(N13_?,Momb) * P(N13_?,Momb);\\n    \\n    once vbar(Spinc?,Momb?)*v(Spina?,Momb?) = Gamma(N14_?,Spinc,Spina) * P(N14_?,Momb) - GammaId(Spinc,Spina) * P(N14_?,Momb) * P(N14_?,Momb);\\n    \\n    once vbar(Spinc?,Momb?)*v(Spina?,Momb?) = Gamma(N15_?,Spinc,Spina) * P(N15_?,Momb) - GammaId(Spinc,Spina) * P(N15_?,Momb) * P(N15_?,Momb);\\n    \\n    once vbar(Spinc?,Momb?)*v(Spina?,Momb?) = Gamma(N16_?,Spinc,Spina) * P(N16_?,Momb) - GammaId(Spinc,Spina) * P(N16_?,Momb) * P(N16_?,Momb);\\n    \\n    once vbar(Spinc?,Momb?)*v(Spina?,Momb?) = Gamma(N17_?,Spinc,Spina) * P(N17_?,Momb) - GammaId(Spinc,Spina) * P(N17_?,Momb) * P(N17_?,Momb);\\n    \\n    once vbar(Spinc?,Momb?)*v(Spina?,Momb?) = Gamma(N18_?,Spinc,Spina) * P(N18_?,Momb) - GammaId(Spinc,Spina) * P(N18_?,Momb) * P(N18_?,Momb);\\n    \\n    once vbar(Spinc?,Momb?)*v(Spina?,Momb?) = Gamma(N19_?,Spinc,Spina) * P(N19_?,Momb) - GammaId(Spinc,Spina) * P(N19_?,Momb) * P(N19_?,Momb);\\n    \\n    once vbar(Spinc?,Momb?)*v(Spina?,Momb?) = Gamma(N20_?,Spinc,Spina) * P(N20_?,Momb) - GammaId(Spinc,Spina) * P(N20_?,Momb) * P(N20_?,Momb);\\n    \\nrepeat;\\n* identity\\n    id Gamma(Mua?,Spinb?,Spinc?) * GammaId(Spinc?,Spind?) = Gamma(Mua,Spinb,Spind);\\n    id Gamma(Mua?,Spinb?,Spinc?) * GammaId(Spind?,Spinb?) = Gamma(Mua,Spind,Spinc);\\n* Metric\\n    id Metric(Mua?,Mub?) * Gamma(Mua?,Spind?,Spinf?) = Gamma(Mub,Spind,Spinf);\\n    id Metric(Mua?,Mub?) * P(Mua?,Momd?) = P(Mub,Momd);\\n    id Metric(Mua?,Mub?) * Metric(Mub?,Mua?) = 4;\\n* standard Gamma algebra\\n    id Gamma(Mua?,Spinb?,Spinc?)*Gamma(Mua?,Spinc?,Spind?) = -GammaId(Mub,Mud);\\n    id Gamma(Mua?,Spinb?,Spinc?)*Gamma(Mud?,Spinc?,Spine?)*Gamma(Mua?,Spine?,Spinf?) = -2*Gamma(Mud,Spinb,Spinf);\\n    id Gamma(Mua?,Spinb?,Spinc?)*Gamma(Mud?,Spinc?,Spine?)*Gamma(Muf?,Spine?,Spinm?)*Gamma(Mua?,Spinm?,Spink?) = 4*Metric(Mud,Muf)*GammaId(Spinb,Spink);\\n    id Gamma(Mua?,Spinb?,Spinc?)*Gamma(Mud?,Spinc?,Spine?)*Gamma(Muf?,Spine?,Spinm?)*Gamma(Muk?,Spinm?,Spinl?)*Gamma(Mua?,Spinl?,Spinj?) = -2*Gamma(Mud,Spinb,Spinc)*Gamma(Muf,Spinc,Spinl)*Gamma(Muk,Spinl,Spinj);\\n* traces of Gamma\\n    id Gamma(Mua?,Spinb?,Spinb?) = 0;\\n    id Gamma(Mua?,Spinb?,Spinc?)*Gamma(Mub?,Spinc?,Spinb?) = 4*Metric(Mua,Mub);\\n    id Gamma(Mua?,Spinb?,Spinc?)*Gamma(Mub?,Spinc?,Spind?)*Gamma(Muc?,Spind?,Spinb?) = 0;\\n    id Gamma(Mua?,Spinb?,Spinc?)*Gamma(Mub?,Spinc?,Spind?)*Gamma(Muc?,Spind?,Spine?)*Gamma(Mud?,Spine?,Spinb?) \\n        = 4*(Metric(Mua,Mub)*Metric(Muc,Mud) - Metric(Mua,Muc)*Metric(Mub,Mud)+ Metric(Mua,Mud)*Metric(Mub,Muc)) ;\\nendrepeat;\\n\\n**********************************************************\\n*                  COLOUR SUM SIMPLIFY                   *\\n**********************************************************\\nrepeat;\\n  id VA(Glua?,Momb?)*VA(Gluc?,Momb?) = da(Glua,Gluc);\\n  id VC(Cola?,Momb?)*VC(Colc?,Momb?) = df(Cola,Colc);\\nendrepeat;\\n\\n**********************************************************\\n*                  COLOUR STRUCTURE SIMPLIFY             *\\n**********************************************************\\n    \\nrepeat;\\n* remove df(k,j)\\n   id df(k?,l?)*df(l?,j?)=df(k,j);\\n   id T(a?,k?,l?)*df(k?,j?)=T(a,j,l);id T(a?,k?,l?)*df(l?,j?)=T(a,k,j);\\n* remove da(a,b)\\n   id da(a?,b?)*da(b?,c?)=da(a,c);\\n   id T(a?,k?,l?)*da(a?,b?)=T(b,k,l);\\n   id f(a?,b?,c?)*da(a?,d?)=f(d,b,c);\\n* length-three objects simplify:\\n   id T(b?,k?,j?)*T(a?,j?,c?)*T(b?,c?,l?)=(Cf-Nc*Tr)*T(a,k,l);\\n   id T(b?,j?,l?)*T(c?,l?,k?)*f(a?,b?,c?)=i_*Nc*Tr*T(a,j,k);\\n* length-two objects that give out df(k,j)\\n   id T(a?,c?,j?)*T(a?,k?,l?)=-1/Nc*df(c, k)*df(j, l)/2 + df(c, l)*df(j, k)/2;\\n   id T(a?,k?,l?)*T(a?,l?,j?)=Cf*df(k,j);\\n* length-two objects that give out da(a,b)\\n   id T(a?,k?,l?)*T(b?,l?,k?)=Tr*da(a,b);\\n   id f(a?,b?,c?)*f(d?,b?,c?)=Nc*da(a,d); \\n* simplify traces\\n   id T(b?,k?,k?)=0;\\n   id da(a?,a?)=Nc*Cf/Tr;\\n   id df(a?,a?)=Nc;\\n* simplify combination of factors\\n   id Nc^-2=2-Nc^2+Cf^2*Tr^-2;\\n   id Nc^2=1+Nc*Cf/Tr;\\n   id Tr=1/2;\\n   id Tr^-1=2;\\nendrepeat;\\n\\nrepeat;\\n    id P(Mu1?,Moma?)*P(Mu1?,Momb?) = Moma.Momb;\\nendrepeat;\\n\\nrepeat;\\n    id Denom(Mom1?,Massa?) = Den(Mom1.Mom1-Massa^2);\\nendrepeat;\\nid Mom_p1.Mom_p1 = 0^2;\\nid Mom_p2.Mom_p2 = Mass_MC^2;\\nid Mom_p3.Mom_p3 = 0^2;\\nid Mom_p4.Mom_p4 = Mass_MC^2;\\nid Mom_p1.Mom_p2 = mss/2-Mass_MC^2/2-0^2/2;\\nid Mom_p3.Mom_p4 = mss/2-Mass_MC^2/2-0^2/2;\\nid Mom_p1.Mom_p3 = -mst/2+0^2/2+0^2/2;\\nid Mom_p4.Mom_p2 = -mst/2+0^2/2+0^2/2;\\nid Mom_p1.Mom_p4 = -msu/2+Mass_MC^2/2+0^2/2;\\nid Mom_p2.Mom_p3 = -msu/2+Mass_MC^2/2+0^2/2;\\nid msu = -mss-mst+Mass_MC^2/2+0^2/2+Mass_MC^2/2+0^2/2;\\n'"
      ]
     },
     "execution_count": 9,
     "metadata": {},
     "output_type": "execute_result"
    }
   ],
   "source": [
    "from feynpy.form.color import *\n",
    "from feynpy.form.lorentz import *\n",
    "from feynpy.form.momentum import *\n",
    "fs = \"\"\n",
    "fs += get_gammas()\n",
    "fs += get_color()\n",
    "fs += get_kinematics(fd1,fm)\n",
    "fs += get_onshell(fd1,fm)\n",
    "fs += get_mandelstamm_2_to_2(fd2,fm,replace_u=True)\n",
    "fs"
   ]
  },
  {
   "cell_type": "code",
   "execution_count": 10,
   "id": "9ae87682-a26e-44e4-810a-e97dbd7ceafa",
   "metadata": {},
   "outputs": [
    {
     "data": {
      "text/plain": [
       "'4*Den(Mom_p1.Mom_p1-2*Mom_p1.Mom_p3+Mom_p3.Mom_p3)^2*G^4*Nc*Cf*Mass_MC^4+8*Den(Mom_p1.Mom_p1-2*Mom_p1.Mom_p3+Mom_p3.Mom_p3)^2*G^4*Nc*Cf*mst*Mass_MC^4+4*Den(Mom_p1.Mom_p1-2*Mom_p1.Mom_p3+Mom_p3.Mom_p3)^2*G^4*Nc*Cf*mst^2-8*Den(Mom_p1.Mom_p1-2*Mom_p1.Mom_p3+Mom_p3.Mom_p3)^2*G^4*Nc*Cf*mss*Mass_MC^2+8*Den(Mom_p1.Mom_p1-2*Mom_p1.Mom_p3+Mom_p3.Mom_p3)^2*G^4*Nc*Cf*mss*mst+8*Den(Mom_p1.Mom_p1-2*Mom_p1.Mom_p3+Mom_p3.Mom_p3)^2*G^4*Nc*Cf*mss^2'"
      ]
     },
     "execution_count": 10,
     "metadata": {},
     "output_type": "execute_result"
    }
   ],
   "source": [
    "rs =apply(s2,fs)\n",
    "rs"
   ]
  },
  {
   "cell_type": "code",
   "execution_count": 11,
   "id": "da9f27d8-a35e-4819-84f7-fdb9ab8776cc",
   "metadata": {},
   "outputs": [],
   "source": [
    "rr =apply_den(rs, get_onshell(fd1,fm) + get_mandelstamm_2_to_2(fd1,fm,replace_u=True))"
   ]
  },
  {
   "cell_type": "code",
   "execution_count": 12,
   "id": "485fd431-8db3-4b17-b913-8cdb24ff366d",
   "metadata": {},
   "outputs": [
    {
     "data": {
      "text/latex": [
       "$\\displaystyle \\frac{4 G^{4} \\left(Mass_{MC}^{4} - 2 Mass_{MC}^{2} s + 2 s^{2} + t^{2} + 2 t \\left(Mass_{MC}^{4} + s\\right)\\right)}{9 t^{2}}$"
      ],
      "text/plain": [
       "4*G**4*(Mass_MC**4 - 2*Mass_MC**2*s + 2*s**2 + t**2 + 2*t*(Mass_MC**4 + s))/(9*t**2)"
      ]
     },
     "execution_count": 12,
     "metadata": {},
     "output_type": "execute_result"
    }
   ],
   "source": [
    "from sympy.parsing.sympy_parser import parse_expr\n",
    "from sympy import *\n",
    "ret =simplify(parse_expr(rr.replace(\"Mom_\",\"\").replace(\".\",\"_\").replace(\"^\",\"**\")\n",
    "                    .replace(\"mss\",\"s\")\n",
    "                   .replace(\"msu\",\"u\")\n",
    "                   .replace(\"mst\",\"t\")))\n",
    "simplify(ret.subs(\"Nc\",\"3\").subs(\"Cf\",\"4/3\"))/2/2/3/3 # average spins and colors"
   ]
  },
  {
   "cell_type": "code",
   "execution_count": 13,
   "id": "eb434b05-f079-4644-bb20-33d070bcd1d2",
   "metadata": {},
   "outputs": [
    {
     "data": {
      "text/latex": [
       "$\\displaystyle \\frac{8 G^{4} \\cdot \\left(3 s^{4} + 2 s^{3} t + s^{2} t^{2} + 2 s t^{3} + 3 t^{4}\\right)}{27 s^{2} t^{2}}$"
      ],
      "text/plain": [
       "8*G**4*(3*s**4 + 2*s**3*t + s**2*t**2 + 2*s*t**3 + 3*t**4)/(27*s**2*t**2)"
      ]
     },
     "execution_count": 13,
     "metadata": {},
     "output_type": "execute_result"
    }
   ],
   "source": [
    "# Ellis stirling and weber QCD and collider physics Tab 7.1\n",
    "# https://feyncalc.github.io/FeynCalcExamplesMD/QCD/Tree/QiQibar-QjQjbar\n",
    "from sympy.parsing.sympy_parser import parse_expr\n",
    "from sympy import *\n",
    "expected = simplify(parse_expr(\"\"\"8*G**4*(\n",
    "-s*t*u**2\n",
    "+3*t**4\n",
    "+6*t**3*u\n",
    "+12*t**2*u**2\n",
    "+9*t*u**3\n",
    "+3*u**4\n",
    ")/(27 *s**2*t**2)\"\"\").subs(\"u\",\"-t-s\"))\n",
    "expected"
   ]
  },
  {
   "cell_type": "code",
   "execution_count": 15,
   "id": "d64f5c7b-0675-4d23-88a0-5c5691f1c92d",
   "metadata": {},
   "outputs": [],
   "source": [
    "\n",
    "ss11 = multiply([fd1],[fd1.conjugated()],fm)\n",
    "ss21 = multiply([fd2],[fd1.conjugated()],fm)\n",
    "ss12 = multiply([fd1],[fd2.conjugated()],fm)\n",
    "ss22 = multiply([fd2],[fd2.conjugated()],fm)"
   ]
  },
  {
   "cell_type": "code",
   "execution_count": 16,
   "id": "9995155b-4d98-44fb-a7b9-d80aae7fc192",
   "metadata": {},
   "outputs": [
    {
     "data": {
      "text/plain": [
       "<module 'feynpy.form' from '/home/apn/git/feynpy/feynpy/form/__init__.py'>"
      ]
     },
     "execution_count": 16,
     "metadata": {},
     "output_type": "execute_result"
    }
   ],
   "source": [
    "import feynpy.form as form\n",
    "import importlib\n",
    "importlib.reload(form)"
   ]
  },
  {
   "cell_type": "code",
   "execution_count": 20,
   "id": "36dba49d-1a24-4522-b7c0-ab4f78a98185",
   "metadata": {},
   "outputs": [
    {
     "data": {
      "text/latex": [
       "$\\displaystyle \\frac{4 G^{4} \\cdot \\left(2 s^{2} + 2 s t + t^{2}\\right)}{9 t^{2}}$"
      ],
      "text/plain": [
       "4*G**4*(2*s**2 + 2*s*t + t**2)/(9*t**2)"
      ]
     },
     "execution_count": 20,
     "metadata": {},
     "output_type": "execute_result"
    }
   ],
   "source": [
    "ret = simplify(form.sympyfy(apply_den(apply(ss11,fs),\n",
    "          get_onshell(fd1,fm) + get_mandelstamm_2_to_2(fd1,fm,replace_u=True))).subs(\"Mass_MC\",\"0\"))/4/9\n",
    "ret"
   ]
  },
  {
   "cell_type": "code",
   "execution_count": 21,
   "id": "f31dfbc9-4ee4-4c72-8260-6ccc12f1f9e1",
   "metadata": {},
   "outputs": [
    {
     "data": {
      "text/latex": [
       "$\\displaystyle \\frac{4 G^{4} \\left(s^{2} + \\left(s + t\\right)^{2}\\right)}{9 t^{2}}$"
      ],
      "text/plain": [
       "4*G**4*(s**2 + (s + t)**2)/(9*t**2)"
      ]
     },
     "execution_count": 21,
     "metadata": {},
     "output_type": "execute_result"
    }
   ],
   "source": [
    "# Ellis stirling and weber QCD and collider physics Tab 7.1\n",
    "# https://feyncalc.github.io/FeynCalcExamplesMD/QCD/Tree/QiQjbar-QiQjbar\n",
    "from sympy.parsing.sympy_parser import parse_expr\n",
    "from sympy import *\n",
    "expected = simplify(parse_expr(\"4*G**4*(u**2+s**2)/(9 *t**2)\").subs(\"u\",\"-s-t\"))\n",
    "expected"
   ]
  },
  {
   "cell_type": "code",
   "execution_count": 22,
   "id": "c6d2e47a-959b-4ce5-8d42-6b27ac019d85",
   "metadata": {},
   "outputs": [
    {
     "data": {
      "text/plain": [
       "True"
      ]
     },
     "execution_count": 22,
     "metadata": {},
     "output_type": "execute_result"
    }
   ],
   "source": [
    "# comapre\n",
    "ret.equals(expected)"
   ]
  },
  {
   "cell_type": "code",
   "execution_count": null,
   "id": "2b277d41-73a5-448b-b3aa-ec987effc658",
   "metadata": {},
   "outputs": [],
   "source": []
  },
  {
   "cell_type": "code",
   "execution_count": null,
   "id": "fb241fe2-2304-44c7-b53b-56e03fbd3376",
   "metadata": {},
   "outputs": [],
   "source": []
  }
 ],
 "metadata": {
  "kernelspec": {
   "display_name": "Python 3 (ipykernel)",
   "language": "python",
   "name": "python3"
  },
  "language_info": {
   "codemirror_mode": {
    "name": "ipython",
    "version": 3
   },
   "file_extension": ".py",
   "mimetype": "text/x-python",
   "name": "python",
   "nbconvert_exporter": "python",
   "pygments_lexer": "ipython3",
   "version": "3.11.4"
  }
 },
 "nbformat": 4,
 "nbformat_minor": 5
}
