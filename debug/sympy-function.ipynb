{
 "cells": [
  {
   "cell_type": "code",
   "execution_count": 1,
   "id": "892bd351-d8fb-4897-98a8-0e46637b4bb8",
   "metadata": {},
   "outputs": [],
   "source": [
    "from sympy import *\n",
    "from feynpy.color import *"
   ]
  },
  {
   "cell_type": "code",
   "execution_count": 2,
   "id": "af32e325-0d04-4640-802c-0e47bff18330",
   "metadata": {},
   "outputs": [],
   "source": [
    "#T = Function('T')\n",
    "#f = Function('f')\n",
    "#delta = Function('delta')\n",
    "#N_c = symbols('N_c')\n",
    "a,b,c,i,j,k,l,g, h = symbols('a b c i j k l g h')\n",
    "wi,wj,wk,wl,wg, ww = symbols('wi wj wk wl wg ww', cls=Wild)"
   ]
  },
  {
   "cell_type": "code",
   "execution_count": 3,
   "id": "ab73b7eb-86f2-4954-8389-ecac8c6672bc",
   "metadata": {},
   "outputs": [
    {
     "data": {
      "text/latex": [
       "$\\displaystyle \\frac{5 \\delta_{c}{\\left(i,l \\right)} \\delta_{c}{\\left(k,j \\right)}}{2} - \\frac{5 \\delta_{c}{\\left(i,j \\right)} \\delta_{c}{\\left(k,l \\right)}}{2 N_{c}}$"
      ],
      "text/plain": [
       "5*delta_c(i, l)*delta_c(k, j)/2 - 5*delta_c(i, j)*delta_c(k, l)/(2*N_c)"
      ]
     },
     "execution_count": 3,
     "metadata": {},
     "output_type": "execute_result"
    }
   ],
   "source": [
    "m =T(g,i,j)*T(g,k,l)*5\n",
    "#r = m.replace(T(wg,wi,wj)*T(wg,wk,wl)*ww, ww*(delta(wi,wl)*delta(wk,wj)/2\n",
    "#                   - 1/N_c/2*delta(wi,wj)*delta(wk,wl)) )\n",
    "r = apply_TT(m)\n",
    "r"
   ]
  },
  {
   "cell_type": "code",
   "execution_count": null,
   "id": "d2ad8bea-f864-4f7d-8a0d-de9ab10a53f0",
   "metadata": {},
   "outputs": [],
   "source": []
  },
  {
   "cell_type": "code",
   "execution_count": null,
   "id": "e147f14c-4423-4d83-88b6-d41ca2b0de40",
   "metadata": {},
   "outputs": [],
   "source": []
  },
  {
   "cell_type": "code",
   "execution_count": 4,
   "id": "d6f26b31-b5ee-4372-b567-bd0c348e9bf6",
   "metadata": {},
   "outputs": [
    {
     "data": {
      "text/latex": [
       "$\\displaystyle 2 i \\left(- \\left(\\frac{\\delta_{c}{\\left(i,k \\right)} \\delta_{c}{\\left(j,j \\right)}}{2} - \\frac{\\delta_{c}{\\left(i,j \\right)} \\delta_{c}{\\left(j,k \\right)}}{2 N_{c}}\\right) T{\\left(h,k,i \\right)} + \\left(\\frac{\\delta_{c}{\\left(j,i \\right)} \\delta_{c}{\\left(k,k \\right)}}{2} - \\frac{\\delta_{c}{\\left(j,k \\right)} \\delta_{c}{\\left(k,i \\right)}}{2 N_{c}}\\right) T{\\left(h,i,j \\right)}\\right)$"
      ],
      "text/plain": [
       "2*I*(-(delta_c(_i, _k)*delta_c(_j, _j)/2 - delta_c(_i, _j)*delta_c(_j, _k)/(2*N_c))*T(h, _k, _i) + (delta_c(_j, _i)*delta_c(_k, _k)/2 - delta_c(_j, _k)*delta_c(_k, _i)/(2*N_c))*T(h, _i, _j))"
      ]
     },
     "execution_count": 4,
     "metadata": {},
     "output_type": "execute_result"
    }
   ],
   "source": [
    "apply_TT(apply_f(f(g,g,h)))"
   ]
  },
  {
   "cell_type": "code",
   "execution_count": 5,
   "id": "f305c6f5-f116-46b1-9d5e-3ab44cba5537",
   "metadata": {},
   "outputs": [
    {
     "data": {
      "text/latex": [
       "$\\displaystyle i N_{c} T{\\left(h,i,i \\right)} - i N_{c} T{\\left(h,k,k \\right)} - \\frac{i T{\\left(h,i,i \\right)}}{N_{c}} + \\frac{i T{\\left(h,k,k \\right)}}{N_{c}}$"
      ],
      "text/plain": [
       "I*N_c*T(h, _i, _i) - I*N_c*T(h, _k, _k) - I*T(h, _i, _i)/N_c + I*T(h, _k, _k)/N_c"
      ]
     },
     "execution_count": 5,
     "metadata": {},
     "output_type": "execute_result"
    }
   ],
   "source": [
    "w = apply_delta (apply_id(apply_delta (apply_TT(apply_f(f(g,g,h))).expand())))\n",
    "w"
   ]
  },
  {
   "cell_type": "code",
   "execution_count": 6,
   "id": "dbf9f459-0a0a-46e6-8794-c29165f20092",
   "metadata": {},
   "outputs": [
    {
     "data": {
      "text/latex": [
       "$\\displaystyle - \\frac{T{\\left(a,l,i \\right)}}{2 N_{c}}$"
      ],
      "text/plain": [
       "-T(a, l, i)/(2*N_c)"
      ]
     },
     "execution_count": 6,
     "metadata": {},
     "output_type": "execute_result"
    }
   ],
   "source": [
    "apply_color(T(b,j,i)*T(b,l,k)*T(a,k,j))"
   ]
  },
  {
   "cell_type": "code",
   "execution_count": 7,
   "id": "9a862e68-d02c-41b2-9fe9-6454140d5a53",
   "metadata": {},
   "outputs": [
    {
     "data": {
      "text/latex": [
       "$\\displaystyle - 2 i T{\\left(a,i,j \\right)} T{\\left(b,j,k \\right)} T{\\left(b,k,i \\right)} T{\\left(c,k,i \\right)} T{\\left(c,i,j \\right)} + 2 i T{\\left(a,k,i \\right)} T{\\left(b,j,k \\right)} T{\\left(b,k,i \\right)} T{\\left(c,i,j \\right)} T{\\left(c,i,j \\right)}$"
      ],
      "text/plain": [
       "-2*I*T(a, _i, _j)*T(b, _j, _k)*T(b, k, i)*T(c, _k, _i)*T(c, i, j) + 2*I*T(a, _k, _i)*T(b, _j, _k)*T(b, k, i)*T(c, _i, _j)*T(c, i, j)"
      ]
     },
     "execution_count": 7,
     "metadata": {},
     "output_type": "execute_result"
    }
   ],
   "source": [
    "kk=apply_color(f(a,b,c)*T(c,i,j)*T(b,k,i));kk"
   ]
  },
  {
   "cell_type": "code",
   "execution_count": 8,
   "id": "74872721-46ed-4945-a70b-41a31e8ad63b",
   "metadata": {},
   "outputs": [],
   "source": [
    "wi, wj, wk, wl, wg, ww = symbols('wi wj wk wl wg ww', cls=Wild)\n",
    "kk.match(T(wg, wi, wj)*T(wg, wk, wl)*ww)"
   ]
  },
  {
   "cell_type": "code",
   "execution_count": 24,
   "id": "73eed994-7a9e-4acc-950a-fa72b8ea577a",
   "metadata": {},
   "outputs": [
    {
     "data": {
      "text/latex": [
       "$\\displaystyle \\frac{i N_{c} T{\\left(a,k,j \\right)}}{2}$"
      ],
      "text/plain": [
       "I*N_c*T(a, k, j)/2"
      ]
     },
     "execution_count": 24,
     "metadata": {},
     "output_type": "execute_result"
    }
   ],
   "source": [
    "apply_color(apply_color(kk))"
   ]
  },
  {
   "cell_type": "code",
   "execution_count": 10,
   "id": "b29dcb5b-4034-475e-ba4e-25fdd3e31ffb",
   "metadata": {},
   "outputs": [
    {
     "ename": "NameError",
     "evalue": "name 'x' is not defined",
     "output_type": "error",
     "traceback": [
      "\u001b[0;31m---------------------------------------------------------------------------\u001b[0m",
      "\u001b[0;31mNameError\u001b[0m                                 Traceback (most recent call last)",
      "Cell \u001b[0;32mIn[10], line 1\u001b[0m\n\u001b[0;32m----> 1\u001b[0m \u001b[43mx\u001b[49m\u001b[38;5;241m==\u001b[39my\n",
      "\u001b[0;31mNameError\u001b[0m: name 'x' is not defined"
     ]
    }
   ],
   "source": [
    "x==y"
   ]
  },
  {
   "cell_type": "code",
   "execution_count": null,
   "id": "2887069f-904e-4f15-b835-b067f52315cb",
   "metadata": {},
   "outputs": [],
   "source": [
    "x==x"
   ]
  },
  {
   "cell_type": "code",
   "execution_count": null,
   "id": "8da3311d-1f32-4f38-81cd-784d92f2e008",
   "metadata": {},
   "outputs": [],
   "source": [
    "delta_c(x,x).replace(delta_c(Wild('r'),Wild('r')),5)"
   ]
  },
  {
   "cell_type": "code",
   "execution_count": null,
   "id": "53d52c9f-2bda-4ff1-bb89-89d451641638",
   "metadata": {},
   "outputs": [],
   "source": [
    "delta_c(x,y) == delta_c(y,x)"
   ]
  },
  {
   "cell_type": "code",
   "execution_count": null,
   "id": "7b4e16d1-5542-4e21-81b3-2acd3e322fdf",
   "metadata": {},
   "outputs": [],
   "source": [
    "delta_c(y,x) == delta_c(x,y)"
   ]
  },
  {
   "cell_type": "code",
   "execution_count": null,
   "id": "c38dc26c-8f4c-41e4-9570-2c6360acd894",
   "metadata": {},
   "outputs": [],
   "source": []
  },
  {
   "cell_type": "code",
   "execution_count": null,
   "id": "adceffc4-f48e-4e44-af21-2a4e07961262",
   "metadata": {},
   "outputs": [],
   "source": [
    "KroneckerDelta(i,i)"
   ]
  },
  {
   "cell_type": "code",
   "execution_count": null,
   "id": "35381b92-cb0b-43c2-9686-5d087293e874",
   "metadata": {},
   "outputs": [],
   "source": [
    "type(_)"
   ]
  },
  {
   "cell_type": "code",
   "execution_count": 29,
   "id": "f3dd8b95-aea0-440f-8562-1c44724c85b6",
   "metadata": {},
   "outputs": [
    {
     "data": {
      "text/plain": [
       "(5*a + 5*b, {I: 5})"
      ]
     },
     "execution_count": 29,
     "metadata": {},
     "output_type": "execute_result"
    }
   ],
   "source": [
    "(a*I + b *I).replace(I,5,map=True)"
   ]
  },
  {
   "cell_type": "code",
   "execution_count": null,
   "id": "9ef5e21d-0b99-4b9b-a04c-5dc8ec8e0fc2",
   "metadata": {},
   "outputs": [],
   "source": []
  }
 ],
 "metadata": {
  "kernelspec": {
   "display_name": "Python 3 (ipykernel)",
   "language": "python",
   "name": "python3"
  },
  "language_info": {
   "codemirror_mode": {
    "name": "ipython",
    "version": 3
   },
   "file_extension": ".py",
   "mimetype": "text/x-python",
   "name": "python",
   "nbconvert_exporter": "python",
   "pygments_lexer": "ipython3",
   "version": "3.11.4"
  }
 },
 "nbformat": 4,
 "nbformat_minor": 5
}
