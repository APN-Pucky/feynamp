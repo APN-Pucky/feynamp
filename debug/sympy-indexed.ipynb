{
 "cells": [
  {
   "cell_type": "code",
   "execution_count": 2,
   "id": "0cfd98d9-c270-4e54-ab09-ebf3374d26be",
   "metadata": {},
   "outputs": [],
   "source": [
    "from sympy import IndexedBase, symbols\n",
    "from feynpy.color import *\n",
    "from sympy import *"
   ]
  },
  {
   "cell_type": "code",
   "execution_count": 4,
   "id": "acc3561b-b80e-47f3-b697-f058aada8c83",
   "metadata": {},
   "outputs": [
    {
     "data": {
      "text/latex": [
       "$\\displaystyle 5 {T}_{g,a,b} {T}_{g,c,d} + 50 {T}_{g_{1},a,b} {T}_{g_{2},c,d} {f}_{g_{1},g_{2},g} {f}_{g_{3},g_{3},g}$"
      ],
      "text/plain": [
       "5*T[g, a, b]*T[g, c, d] + 50*T[g1, a, b]*T[g2, c, d]*f[g1, g2, g]*f[g3, g3, g]"
      ]
     },
     "execution_count": 4,
     "metadata": {},
     "output_type": "execute_result"
    }
   ],
   "source": [
    "a = Idx('a')\n",
    "b = Idx('b')\n",
    "c = Idx('c')\n",
    "d = Idx('d')\n",
    "g = Idx('g')\n",
    "g1 = Idx('g1')\n",
    "g2 = Idx('g2')\n",
    "g3 = Idx('g3')\n",
    "g4 = Idx('g4')\n",
    "m = T[g,a,b] *5* T[g,c,d] + 10 * T[g1,a,b] *5* T[g2,c,d] * f[g1,g2,g]* f[g3,g3,g]\n",
    "m"
   ]
  },
  {
   "cell_type": "code",
   "execution_count": 5,
   "id": "3c76ef6c-cfd3-4f65-b8b4-9a387e382afa",
   "metadata": {},
   "outputs": [
    {
     "data": {
      "text/latex": [
       "$\\displaystyle 50 {T}_{g_{1},a,b} {T}_{g_{2},c,d} {f}_{g_{1},g_{2},g} {f}_{g_{3},g_{3},g} + \\frac{5 {d}_{a,d} {d}_{b,c}}{2} - \\frac{5 {d}_{a,b} {d}_{c,d}}{2 N_{c}}$"
      ],
      "text/plain": [
       "50*T[g1, a, b]*T[g2, c, d]*f[g1, g2, g]*f[g3, g3, g] + 5*d[a, d]*d[b, c]/2 - 5*d[a, b]*d[c, d]/(2*N_c)"
      ]
     },
     "execution_count": 5,
     "metadata": {},
     "output_type": "execute_result"
    }
   ],
   "source": [
    "apply_TT(m)"
   ]
  },
  {
   "cell_type": "code",
   "execution_count": null,
   "id": "1b151e8a-9352-4636-9fe7-297f0c8869bd",
   "metadata": {},
   "outputs": [],
   "source": []
  }
 ],
 "metadata": {
  "kernelspec": {
   "display_name": "Python 3 (ipykernel)",
   "language": "python",
   "name": "python3"
  },
  "language_info": {
   "codemirror_mode": {
    "name": "ipython",
    "version": 3
   },
   "file_extension": ".py",
   "mimetype": "text/x-python",
   "name": "python",
   "nbconvert_exporter": "python",
   "pygments_lexer": "ipython3",
   "version": "3.11.4"
  }
 },
 "nbformat": 4,
 "nbformat_minor": 5
}
