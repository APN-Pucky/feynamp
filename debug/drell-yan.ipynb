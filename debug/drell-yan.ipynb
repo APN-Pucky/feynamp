{
 "cells": [
  {
   "cell_type": "code",
   "execution_count": 1,
   "id": "dd9d88ae",
   "metadata": {},
   "outputs": [],
   "source": [
    "from feynml.feynmandiagram import FeynmanDiagram\n",
    "from feynml.feynml import FeynML, Head, Meta\n",
    "from feynml.leg import Leg\n",
    "from feynml.momentum import Momentum\n",
    "from feynml.propagator import Propagator\n",
    "from feynml.vertex import Vertex"
   ]
  },
  {
   "cell_type": "code",
   "execution_count": 2,
   "id": "23e7d952",
   "metadata": {},
   "outputs": [],
   "source": [
    "v1 = Vertex()\n",
    "v2 = Vertex()\n",
    "\n",
    "fd = FeynmanDiagram().add(\n",
    "    v1,v2,\n",
    "    Propagator(pdgid=22).connect(v1,v2),\n",
    "    Leg(pdgid=1).with_target(v1).with_incoming(),\n",
    "    Leg(pdgid=-1).with_target(v1).with_incoming(),\n",
    "    Leg(pdgid=2).with_target(v2).with_outgoing(),\n",
    "    Leg(pdgid=-2).with_target(v2).with_outgoing(),\n",
    "    \n",
    ")"
   ]
  },
  {
   "cell_type": "code",
   "execution_count": 3,
   "id": "1e087a2b",
   "metadata": {},
   "outputs": [],
   "source": [
    "#fd"
   ]
  },
  {
   "cell_type": "code",
   "execution_count": 4,
   "id": "b22f4e09",
   "metadata": {},
   "outputs": [],
   "source": [
    "from feynmodel.interface.ufo import load_ufo_model\n",
    "fm = load_ufo_model(\"ufo_sm\")"
   ]
  },
  {
   "cell_type": "code",
   "execution_count": 5,
   "id": "3d8ff640",
   "metadata": {},
   "outputs": [
    {
     "data": {
      "text/plain": [
       "250"
      ]
     },
     "execution_count": 5,
     "metadata": {},
     "output_type": "execute_result"
    }
   ],
   "source": [
    "fm.vertices[0].particles[0].pdg_code"
   ]
  },
  {
   "cell_type": "code",
   "execution_count": 6,
   "id": "49c1d5b6",
   "metadata": {},
   "outputs": [
    {
     "data": {
      "text/plain": [
       "[Propagator(id='Propagator10', pdgid=22, name='gamma', type='photon', particle=<Particle: name=\"gamma\", pdgid=22, mass=0.0 MeV>, style=cssutils.css.CSSStyleDeclaration(cssText=''), clazz=None, label=None, momentum=None, source='Vertex7', target='Vertex8'),\n",
       " Leg(id='Leg11', pdgid=1, name='d', type='fermion', particle=<Particle: name=\"d\", pdgid=1, mass=4.67 + 0.50 - 0.20 MeV>, style=cssutils.css.CSSStyleDeclaration(cssText=''), clazz=None, label=None, momentum=None, target='Vertex7', x=None, y=None, z=None, sense='incoming', external=None),\n",
       " Leg(id='Leg12', pdgid=-1, name='d~', type='anti fermion', particle=<Particle: name=\"d~\", pdgid=-1, mass=4.67 + 0.50 - 0.20 MeV>, style=cssutils.css.CSSStyleDeclaration(cssText=''), clazz=None, label=None, momentum=None, target='Vertex7', x=None, y=None, z=None, sense='incoming', external=None)]"
      ]
     },
     "execution_count": 6,
     "metadata": {},
     "output_type": "execute_result"
    }
   ],
   "source": [
    "fd.get_connections(v1)"
   ]
  },
  {
   "cell_type": "code",
   "execution_count": 7,
   "id": "c0bea5f1",
   "metadata": {},
   "outputs": [],
   "source": [
    "import feynpy as fp"
   ]
  },
  {
   "cell_type": "code",
   "execution_count": 8,
   "id": "f47be760",
   "metadata": {},
   "outputs": [],
   "source": [
    "vv2 = fp.find_vertex_in_model(fd,v2,fm)"
   ]
  },
  {
   "cell_type": "code",
   "execution_count": 9,
   "id": "ec34de22",
   "metadata": {},
   "outputs": [],
   "source": [
    "vv1 = fp.find_vertex_in_model(fd,v1,fm)"
   ]
  },
  {
   "cell_type": "code",
   "execution_count": 10,
   "id": "0d77fcbe",
   "metadata": {},
   "outputs": [
    {
     "data": {
      "text/plain": [
       "['Identity(1,2)']"
      ]
     },
     "execution_count": 10,
     "metadata": {},
     "output_type": "execute_result"
    }
   ],
   "source": [
    "vv1.color"
   ]
  },
  {
   "cell_type": "code",
   "execution_count": 11,
   "id": "4a04a5a3",
   "metadata": {},
   "outputs": [
    {
     "data": {
      "text/plain": [
       "{(0, 0): GC_1}"
      ]
     },
     "execution_count": 11,
     "metadata": {},
     "output_type": "execute_result"
    }
   ],
   "source": [
    "vv1.couplings"
   ]
  },
  {
   "cell_type": "code",
   "execution_count": 12,
   "id": "4fe8d74a",
   "metadata": {},
   "outputs": [
    {
     "data": {
      "text/plain": [
       "-3"
      ]
     },
     "execution_count": 12,
     "metadata": {},
     "output_type": "execute_result"
    }
   ],
   "source": [
    "vv1.particles[0].color"
   ]
  },
  {
   "cell_type": "code",
   "execution_count": 13,
   "id": "bf5b1e4c",
   "metadata": {},
   "outputs": [
    {
     "data": {
      "text/plain": [
       "[[GC_1, 'Identity(Leg12,Leg11)', 'Gamma(Propagator10,Leg11,Leg12)']]"
      ]
     },
     "execution_count": 13,
     "metadata": {},
     "output_type": "execute_result"
    }
   ],
   "source": [
    "fp.get_vertex_math(fd,v1,fm)"
   ]
  },
  {
   "cell_type": "code",
   "execution_count": null,
   "id": "7bc1a977",
   "metadata": {},
   "outputs": [],
   "source": []
  }
 ],
 "metadata": {
  "kernelspec": {
   "display_name": "Python 3 (ipykernel)",
   "language": "python",
   "name": "python3"
  },
  "language_info": {
   "codemirror_mode": {
    "name": "ipython",
    "version": 3
   },
   "file_extension": ".py",
   "mimetype": "text/x-python",
   "name": "python",
   "nbconvert_exporter": "python",
   "pygments_lexer": "ipython3",
   "version": "3.11.4"
  }
 },
 "nbformat": 4,
 "nbformat_minor": 5
}
