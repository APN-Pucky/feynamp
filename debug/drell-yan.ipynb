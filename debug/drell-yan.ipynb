{
 "cells": [
  {
   "cell_type": "code",
   "execution_count": 1,
   "id": "789c8fed",
   "metadata": {},
   "outputs": [],
   "source": [
    "from feynml.feynmandiagram import FeynmanDiagram\n",
    "from feynml.feynml import FeynML, Head, Meta\n",
    "from feynml.leg import Leg\n",
    "from feynml.momentum import Momentum\n",
    "from feynml.propagator import Propagator\n",
    "from feynml.vertex import Vertex"
   ]
  },
  {
   "cell_type": "code",
   "execution_count": 2,
   "id": "79f700be",
   "metadata": {},
   "outputs": [],
   "source": [
    "v1 = Vertex()\n",
    "v2 = Vertex()\n",
    "\n",
    "fd = FeynmanDiagram().add(\n",
    "    v1,v2,\n",
    "    Propagator(pdgid=21).connect(v1,v2),\n",
    "    Leg(pdgid=1).with_target(v1).with_incoming(),\n",
    "    Leg(pdgid=-1).with_target(v1).with_incoming(),\n",
    "    Leg(pdgid=2).with_target(v2).with_outgoing(),\n",
    "    Leg(pdgid=-2).with_target(v2).with_outgoing(),\n",
    "    \n",
    ")"
   ]
  },
  {
   "cell_type": "code",
   "execution_count": 3,
   "id": "309766d2",
   "metadata": {},
   "outputs": [
    {
     "name": "stderr",
     "output_type": "stream",
     "text": [
      "/home/apn/git/pyfeyn2/pyfeyn2/render/text/ascii.py:16: UserWarning: colorama and termcolor are required for colored ASCII rendering\n",
      "  warn(\"colorama and termcolor are required for colored ASCII rendering\")\n"
     ]
    },
    {
     "data": {
      "image/png": "[encoded data removed]",
      "text/plain": [
       "<wand.image.Image: c6bb9d6 'PDF' (394x394)>"
      ]
     },
     "metadata": {},
     "output_type": "display_data"
    }
   ],
   "source": [
    "fd"
   ]
  },
  {
   "cell_type": "code",
   "execution_count": 4,
   "id": "3439439d",
   "metadata": {},
   "outputs": [],
   "source": [
    "from feynmodel.interface.ufo import load_ufo_model\n",
    "fm = load_ufo_model(\"ufo_sm\")"
   ]
  },
  {
   "cell_type": "code",
   "execution_count": 5,
   "id": "913f38ba",
   "metadata": {},
   "outputs": [
    {
     "data": {
      "text/plain": [
       "250"
      ]
     },
     "execution_count": 5,
     "metadata": {},
     "output_type": "execute_result"
    }
   ],
   "source": [
    "fm.vertices[0].particles[0].pdg_code"
   ]
  },
  {
   "cell_type": "code",
   "execution_count": 6,
   "id": "49b04b2e",
   "metadata": {},
   "outputs": [
    {
     "data": {
      "text/plain": [
       "[Propagator(id='Propagator11', pdgid=21, name='g', type='gluon', particle=<Particle: name=\"g\", pdgid=21, mass=0.0 MeV>, style=cssutils.css.CSSStyleDeclaration(cssText=''), clazz=None, label=None, momentum=None, source='Vertex8', target='Vertex9'),\n",
       " Leg(id='Leg12', pdgid=1, name='d', type='fermion', particle=<Particle: name=\"d\", pdgid=1, mass=4.67 + 0.50 - 0.20 MeV>, style=cssutils.css.CSSStyleDeclaration(cssText=''), clazz=None, label=None, momentum=None, target='Vertex8', x=None, y=None, z=None, sense='incoming', external=None),\n",
       " Leg(id='Leg13', pdgid=-1, name='d~', type='anti fermion', particle=<Particle: name=\"d~\", pdgid=-1, mass=4.67 + 0.50 - 0.20 MeV>, style=cssutils.css.CSSStyleDeclaration(cssText=''), clazz=None, label=None, momentum=None, target='Vertex8', x=None, y=None, z=None, sense='incoming', external=None)]"
      ]
     },
     "execution_count": 6,
     "metadata": {},
     "output_type": "execute_result"
    }
   ],
   "source": [
    "fd.get_connections(v1)"
   ]
  },
  {
   "cell_type": "code",
   "execution_count": 7,
   "id": "7002b144",
   "metadata": {},
   "outputs": [],
   "source": [
    "import feynpy as fp"
   ]
  },
  {
   "cell_type": "code",
   "execution_count": 8,
   "id": "596184a0",
   "metadata": {},
   "outputs": [],
   "source": [
    "vv2 = fp.find_vertex_in_model(fd,v2,fm)"
   ]
  },
  {
   "cell_type": "code",
   "execution_count": 9,
   "id": "9735c085",
   "metadata": {},
   "outputs": [],
   "source": [
    "vv1 = fp.find_vertex_in_model(fd,v1,fm)"
   ]
  },
  {
   "cell_type": "code",
   "execution_count": 10,
   "id": "30071c9c",
   "metadata": {},
   "outputs": [
    {
     "data": {
      "text/plain": [
       "['T(3,2,1)']"
      ]
     },
     "execution_count": 10,
     "metadata": {},
     "output_type": "execute_result"
    }
   ],
   "source": [
    "vv1.color"
   ]
  },
  {
   "cell_type": "code",
   "execution_count": 11,
   "id": "0c689db1",
   "metadata": {},
   "outputs": [
    {
     "data": {
      "text/plain": [
       "{(0, 0): GC_11}"
      ]
     },
     "execution_count": 11,
     "metadata": {},
     "output_type": "execute_result"
    }
   ],
   "source": [
    "vv1.couplings"
   ]
  },
  {
   "cell_type": "code",
   "execution_count": 12,
   "id": "bfa87af9",
   "metadata": {},
   "outputs": [
    {
     "data": {
      "text/plain": [
       "-3"
      ]
     },
     "execution_count": 12,
     "metadata": {},
     "output_type": "execute_result"
    }
   ],
   "source": [
    "vv1.particles[0].color"
   ]
  },
  {
   "cell_type": "code",
   "execution_count": 13,
   "id": "e3c8532e",
   "metadata": {},
   "outputs": [
    {
     "data": {
      "text/plain": [
       "[('complex(0,1)*G',\n",
       "  'T(Glu(Propagator11),Col(Leg12),Col(Leg13))',\n",
       "  'Gamma(Mu(Propagator11),Spin(Leg12),Spin(Leg13))')]"
      ]
     },
     "execution_count": 13,
     "metadata": {},
     "output_type": "execute_result"
    }
   ],
   "source": [
    "fp.get_vertex_math(fd,v1,fm)"
   ]
  },
  {
   "cell_type": "code",
   "execution_count": 14,
   "id": "5f2e2feb",
   "metadata": {},
   "outputs": [
    {
     "data": {
      "text/plain": [
       "[('complex(0,1)*G',\n",
       "  'T(Glu(Propagator11),Col(Leg14),Col(Leg15))',\n",
       "  'Gamma(Mu(Propagator11),Spin(Leg14),Spin(Leg15))')]"
      ]
     },
     "execution_count": 14,
     "metadata": {},
     "output_type": "execute_result"
    }
   ],
   "source": [
    "fp.get_vertex_math(fd,v2,fm)"
   ]
  },
  {
   "cell_type": "code",
   "execution_count": 15,
   "id": "2dcce502",
   "metadata": {},
   "outputs": [
    {
     "data": {
      "text/plain": [
       "[('complex(0,1)*G',\n",
       "  'T(Glu(Propagator26),Col(Leg22),Col(Leg23))',\n",
       "  'Gamma(Mu(Propagator26),Spin(Leg22),Spin(Leg23))')]"
      ]
     },
     "execution_count": 15,
     "metadata": {},
     "output_type": "execute_result"
    }
   ],
   "source": [
    "cfd = fd.conjugated()\n",
    "fp.get_vertex_math(cfd,cfd.vertices[0],fm)"
   ]
  },
  {
   "cell_type": "code",
   "execution_count": 16,
   "id": "53e7e122",
   "metadata": {},
   "outputs": [
    {
     "data": {
      "image/png": "[encoded data removed]",
      "text/plain": [
       "<wand.image.Image: 8e53873 'PDF' (394x394)>"
      ]
     },
     "metadata": {},
     "output_type": "display_data"
    }
   ],
   "source": [
    "cfd"
   ]
  },
  {
   "cell_type": "code",
   "execution_count": 17,
   "id": "84c197c0",
   "metadata": {},
   "outputs": [
    {
     "data": {
      "text/plain": [
       "'D(Propagator11,ZERO)'"
      ]
     },
     "execution_count": 17,
     "metadata": {},
     "output_type": "execute_result"
    }
   ],
   "source": [
    "fp.get_propagator_math(fd,fd.propagators[0],fm)"
   ]
  },
  {
   "cell_type": "code",
   "execution_count": null,
   "id": "619e71ce-251f-4cb2-bd11-2fdfd5ceb6a1",
   "metadata": {},
   "outputs": [],
   "source": []
  },
  {
   "cell_type": "code",
   "execution_count": 18,
   "id": "e2ab6e2c-55d1-43cd-8b90-bf52ed73e090",
   "metadata": {},
   "outputs": [
    {
     "data": {
      "text/plain": [
       "'complex(0,1)*G*T(Glu(Propagator11),Col(Leg12),Col(Leg13))*Gamma(Mu(Propagator11),Spin(Leg12),Spin(Leg13)) * complex(0,1)*G*T(Glu(Propagator11),Col(Leg14),Col(Leg15))*Gamma(Mu(Propagator11),Spin(Leg14),Spin(Leg15)) * U(Spin(Leg12),Mom(Leg12)) * V(Spin(Leg13),Mom(Leg13)) * U_bar(Spin(Leg14),Mom(Leg14)) * V_bar(Spin(Leg15),Mom(Leg15)) * D(Propagator11,ZERO)'"
      ]
     },
     "execution_count": 18,
     "metadata": {},
     "output_type": "execute_result"
    }
   ],
   "source": [
    "fp.feynman_diagram_to_string(fd,fm)"
   ]
  },
  {
   "cell_type": "code",
   "execution_count": 19,
   "id": "73b373af-8988-4328-995f-2e1229f837bb",
   "metadata": {},
   "outputs": [
    {
     "data": {
      "text/plain": [
       "'complex(0,1)*G*T(Glu(Propagator26),Col(Leg22),Col(Leg23))*Gamma(Mu(Propagator26),Spin(Leg22),Spin(Leg23)) * complex(0,1)*G*T(Glu(Propagator26),Col(Leg24),Col(Leg25))*Gamma(Mu(Propagator26),Spin(Leg24),Spin(Leg25)) * U_bar(Spin(Leg22),Mom(Leg22)) * V_bar(Spin(Leg23),Mom(Leg23)) * U(Spin(Leg24),Mom(Leg24)) * V(Spin(Leg25),Mom(Leg25)) * D(Propagator26,ZERO)'"
      ]
     },
     "execution_count": 19,
     "metadata": {},
     "output_type": "execute_result"
    }
   ],
   "source": [
    "fp.feynman_diagram_to_string(cfd,fm)"
   ]
  },
  {
   "cell_type": "code",
   "execution_count": null,
   "id": "1a9f6b37-7457-4ceb-9440-f78105e70dd4",
   "metadata": {},
   "outputs": [],
   "source": []
  }
 ],
 "metadata": {
  "kernelspec": {
   "display_name": "Python 3 (ipykernel)",
   "language": "python",
   "name": "python3"
  },
  "language_info": {
   "codemirror_mode": {
    "name": "ipython",
    "version": 3
   },
   "file_extension": ".py",
   "mimetype": "text/x-python",
   "name": "python",
   "nbconvert_exporter": "python",
   "pygments_lexer": "ipython3",
   "version": "3.11.4"
  }
 },
 "nbformat": 4,
 "nbformat_minor": 5
}
