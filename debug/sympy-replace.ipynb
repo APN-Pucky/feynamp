{
 "cells": [
  {
   "cell_type": "code",
   "execution_count": 13,
   "id": "b6933cfd-28a9-4a3f-a5c0-6d0332b17957",
   "metadata": {},
   "outputs": [],
   "source": [
    "from sympy import Function, Wild, symbols"
   ]
  },
  {
   "cell_type": "code",
   "execution_count": 14,
   "id": "a5f6c990-3b97-4154-8835-ba9a60a3ad1a",
   "metadata": {},
   "outputs": [],
   "source": [
    "delta_c = Function(\"delta_c\")\n",
    "\n",
    "VC = Function(\"VC\")\n",
    "\n",
    "a,b,c,d,e = symbols('a b c d e')"
   ]
  },
  {
   "cell_type": "code",
   "execution_count": 15,
   "id": "f2e1af61-7fb3-4c7d-8c76-28018e9e714a",
   "metadata": {},
   "outputs": [
    {
     "data": {
      "text/latex": [
       "$\\displaystyle \\delta_{c}{\\left(a,c \\right)}$"
      ],
      "text/plain": [
       "delta_c(a, c)"
      ]
     },
     "execution_count": 15,
     "metadata": {},
     "output_type": "execute_result"
    }
   ],
   "source": [
    "expr = VC(a,b)*VC(c,b)\n",
    "wi, wj, wk, ww = symbols(\"wi wj wk ww\", cls=Wild)\n",
    "expr = expr.replace(VC(wi, wk) * VC(wj, wk) ,  delta_c(wi, wj))\n",
    "expr"
   ]
  },
  {
   "cell_type": "code",
   "execution_count": 16,
   "id": "20c88030-0ea0-4c6f-a38b-2f580e45e177",
   "metadata": {},
   "outputs": [
    {
     "data": {
      "text/latex": [
       "$\\displaystyle \\delta_{c}{\\left(a,c \\right)} + 5$"
      ],
      "text/plain": [
       "delta_c(a, c) + 5"
      ]
     },
     "execution_count": 16,
     "metadata": {},
     "output_type": "execute_result"
    }
   ],
   "source": [
    "expr = VC(a,b)*VC(c,b)+5\n",
    "expr = expr.replace(VC(wi, wk) * VC(wj, wk) ,  delta_c(wi, wj))\n",
    "expr"
   ]
  },
  {
   "cell_type": "code",
   "execution_count": 19,
   "id": "e5e2228d-0076-4f09-a812-b7ef1558c3d1",
   "metadata": {},
   "outputs": [
    {
     "data": {
      "text/latex": [
       "$\\displaystyle 5 \\operatorname{VC}{\\left(a,b \\right)} \\operatorname{VC}{\\left(c,b \\right)}$"
      ],
      "text/plain": [
       "5*VC(a, b)*VC(c, b)"
      ]
     },
     "execution_count": 19,
     "metadata": {},
     "output_type": "execute_result"
    }
   ],
   "source": [
    "expr = VC(a,b)*VC(c,b)*5\n",
    "expr = expr.replace(VC(wi, wk) * VC(wj, wk) ,  delta_c(wi, wj))\n",
    "expr"
   ]
  },
  {
   "cell_type": "code",
   "execution_count": 18,
   "id": "608bcd32-9e50-4a95-95e3-6cafe6e1c8ed",
   "metadata": {},
   "outputs": [
    {
     "data": {
      "text/latex": [
       "$\\displaystyle 5 \\delta_{c}{\\left(a,c \\right)}$"
      ],
      "text/plain": [
       "5*delta_c(a, c)"
      ]
     },
     "execution_count": 18,
     "metadata": {},
     "output_type": "execute_result"
    }
   ],
   "source": [
    "expr = VC(a,b)*VC(c,b)*5\n",
    "expr = expr.replace(VC(wi, wk) * VC(wj, wk) *ww, ww* delta_c(wi, wj))\n",
    "expr"
   ]
  },
  {
   "cell_type": "code",
   "execution_count": null,
   "id": "642d4bb9-f20a-4afe-a5dc-755fb333c912",
   "metadata": {},
   "outputs": [],
   "source": []
  },
  {
   "cell_type": "code",
   "execution_count": null,
   "id": "fe611493-6213-4ce0-989f-d4e06665f7ea",
   "metadata": {},
   "outputs": [],
   "source": []
  }
 ],
 "metadata": {
  "kernelspec": {
   "display_name": "Python 3 (ipykernel)",
   "language": "python",
   "name": "python3"
  },
  "language_info": {
   "codemirror_mode": {
    "name": "ipython",
    "version": 3
   },
   "file_extension": ".py",
   "mimetype": "text/x-python",
   "name": "python",
   "nbconvert_exporter": "python",
   "pygments_lexer": "ipython3",
   "version": "3.11.8"
  }
 },
 "nbformat": 4,
 "nbformat_minor": 5
}
