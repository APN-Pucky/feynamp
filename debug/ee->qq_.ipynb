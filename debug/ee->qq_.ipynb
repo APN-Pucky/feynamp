{
 "cells": [
  {
   "cell_type": "code",
   "execution_count": 1,
   "id": "60cbaf68-82ca-4325-b9f9-34b6c42a32e5",
   "metadata": {},
   "outputs": [
    {
     "name": "stdout",
     "output_type": "stream",
     "text": [
      "\n",
      "\tPlease cite the following papers if you use this code:\n",
      "\n",
      "      [1] Automatic Feynman graph generation J. Comput. Phys. 105 (1993) 279--289 https://doi.org/10.1006/jcph.1993.1074\n",
      "\n",
      "      [2] Abusing Qgraf Nucl. Instrum. Methods Phys. Res. A 559 (2006) 220--223 https://doi.org/10.1016/j.nima.2005.11.151\n",
      "\n",
      "      [3] Feynman graph generation and propagator mixing, I Comput. Phys. Commun. 269 (2021) 108103 https://doi.org/10.1016/j.cpc.2021.108103\n",
      "\n",
      "\t\n"
     ]
    }
   ],
   "source": [
    "import logging\n",
    "\n",
    "import equation_database.isbn_9780511628788 as ref\n",
    "import sympy\n",
    "from feynml.interface.qgraf import style\n",
    "from feynmodel.interface.qgraf import feynmodel_to_qgraf\n",
    "from feynmodel.interface.ufo import load_ufo_model\n",
    "from pyfeyn2.feynmandiagram import FeynML\n",
    "from pyqgraf import qgraf\n",
    "from xsdata.formats.dataclass.parsers import XmlParser\n",
    "\n",
    "from feynamp.form import compute_squared\n",
    "\n",
    "logger = logging.getLogger(\"feynamp\")\n",
    "logger.setLevel(logging.DEBUG)"
   ]
  },
  {
   "cell_type": "code",
   "execution_count": 2,
   "id": "002c230f-5878-4cfb-b866-e3c258cdf394",
   "metadata": {},
   "outputs": [
    {
     "data": {
      "image/png": "[encoded data removed]",
      "text/plain": [
       "<wand.image.Image: b663aff 'PDF' (394x394)>"
      ]
     },
     "metadata": {},
     "output_type": "display_data"
    }
   ],
   "source": [
    "    fm = load_ufo_model(\"ufo_sm\")\n",
    "    qfm = feynmodel_to_qgraf(fm, True, False)\n",
    "\n",
    "    qgraf.install()\n",
    "    xml_string = qgraf.run(\n",
    "        \"u[p1], u_bar[p2]\",\n",
    "        \"u[p3], u_bar[p4]\",\n",
    "        loops=0,\n",
    "        loop_momentum=\"l\",\n",
    "        model=qfm,\n",
    "        style=style,\n",
    "    )\n",
    "\n",
    "    parser = XmlParser()\n",
    "    fml = parser.from_string(xml_string, FeynML)\n",
    "    fds = [fml.diagrams[\n",
    "           #0\n",
    "           2\n",
    "          ]]\n",
    "    fds[0]"
   ]
  },
  {
   "cell_type": "code",
   "execution_count": 3,
   "id": "6d342990-622a-4283-947d-4abec396fd69",
   "metadata": {},
   "outputs": [
    {
     "name": "stdout",
     "output_type": "stream",
     "text": [
      "FeynmanDiagram(id='Diagram1', style=cssutils.css.CSSStyleDeclaration(cssText=''), clazz=None, propagators=[Propagator(id='Prop1', pdgid=22, name='gamma', type='photon', particle=<Particle: name=\"gamma\", pdgid=22, mass=0.0 MeV>, style=cssutils.css.CSSStyleDeclaration(cssText=''), clazz=None, label=None, momentum=Momentum(name='-p1-p2', px=None, py=None, pz=None, e=None), source='Vert2', target='Vert1')], vertices=[Vertex(id='Vert1', style=cssutils.css.CSSStyleDeclaration(cssText=''), clazz=None, x=None, y=None, z=None, label=None, shape=None), Vertex(id='Vert2', style=cssutils.css.CSSStyleDeclaration(cssText=''), clazz=None, x=None, y=None, z=None, label=None, shape=None)], legs=[Leg(id='In1', pdgid=2, name='u', type='fermion', particle=<Particle: name=\"u\", pdgid=2, mass=2.2 + 0.5 - 0.3 MeV>, style=cssutils.css.CSSStyleDeclaration(cssText=''), clazz=None, label=None, momentum=Momentum(name='p1', px=None, py=None, pz=None, e=None), target='Vert1', x=None, y=None, z=None, shape=None, sense='incoming', external=None), Leg(id='In2', pdgid=-2, name='u_bar', type='anti fermion', particle=<Particle: name=\"u~\", pdgid=-2, mass=2.2 + 0.5 - 0.3 MeV>, style=cssutils.css.CSSStyleDeclaration(cssText=''), clazz=None, label=None, momentum=Momentum(name='p2', px=None, py=None, pz=None, e=None), target='Vert1', x=None, y=None, z=None, shape=None, sense='incoming', external=None), Leg(id='Out1', pdgid=2, name='u', type='fermion', particle=<Particle: name=\"u\", pdgid=2, mass=2.2 + 0.5 - 0.3 MeV>, style=cssutils.css.CSSStyleDeclaration(cssText=''), clazz=None, label=None, momentum=Momentum(name='p3', px=None, py=None, pz=None, e=None), target='Vert2', x=None, y=None, z=None, shape=None, sense='outgoing', external=None), Leg(id='Out2', pdgid=-2, name='u_bar', type='anti fermion', particle=<Particle: name=\"u~\", pdgid=-2, mass=2.2 + 0.5 - 0.3 MeV>, style=cssutils.css.CSSStyleDeclaration(cssText=''), clazz=None, label=None, momentum=Momentum(name='p4', px=None, py=None, pz=None, e=None), target='Vert2', x=None, y=None, z=None, shape=None, sense='outgoing', external=None)], sheet=cssutils.css.CSSStyleSheet(href=None, media=None, title=None))\n"
     ]
    }
   ],
   "source": [
    "print(fml.diagrams[0])"
   ]
  },
  {
   "cell_type": "code",
   "execution_count": 4,
   "id": "5bf55295-9369-43ab-89d9-19d9ee1d855a",
   "metadata": {},
   "outputs": [
    {
     "name": "stdout",
     "output_type": "stream",
     "text": [
      "FeynmanDiagram(id='Diagram1', style=cssutils.css.CSSStyleDeclaration(cssText=''), clazz=None, propagators=[Propagator(id='Propagator14', pdgid=22, name='gamma', type='photon', particle=<Particle: name=\"gamma\", pdgid=22, mass=0.0 MeV>, style=cssutils.css.CSSStyleDeclaration(cssText=''), clazz=None, label=None, momentum=Momentum(name='-p1-p2', px=None, py=None, pz=None, e=None), source='Vertex8', target='Vertex9')], vertices=[Vertex(id='Vertex8', style=cssutils.css.CSSStyleDeclaration(cssText=''), clazz=None, x=None, y=None, z=None, label=None, shape=None), Vertex(id='Vertex9', style=cssutils.css.CSSStyleDeclaration(cssText=''), clazz=None, x=None, y=None, z=None, label=None, shape=None)], legs=[Leg(id='Leg10', pdgid=2, name='u', type='fermion', particle=<Particle: name=\"u\", pdgid=2, mass=2.2 + 0.5 - 0.3 MeV>, style=cssutils.css.CSSStyleDeclaration(cssText=''), clazz=None, label=None, momentum=Momentum(name='p1', px=None, py=None, pz=None, e=None), target='Vertex8', x=None, y=None, z=None, shape=None, sense='outgoing', external=None), Leg(id='Leg11', pdgid=-2, name='u_bar', type='anti fermion', particle=<Particle: name=\"u~\", pdgid=-2, mass=2.2 + 0.5 - 0.3 MeV>, style=cssutils.css.CSSStyleDeclaration(cssText=''), clazz=None, label=None, momentum=Momentum(name='p2', px=None, py=None, pz=None, e=None), target='Vertex8', x=None, y=None, z=None, shape=None, sense='outgoing', external=None), Leg(id='Leg12', pdgid=2, name='u', type='fermion', particle=<Particle: name=\"u\", pdgid=2, mass=2.2 + 0.5 - 0.3 MeV>, style=cssutils.css.CSSStyleDeclaration(cssText=''), clazz=None, label=None, momentum=Momentum(name='p3', px=None, py=None, pz=None, e=None), target='Vertex9', x=None, y=None, z=None, shape=None, sense='incoming', external=None), Leg(id='Leg13', pdgid=-2, name='u_bar', type='anti fermion', particle=<Particle: name=\"u~\", pdgid=-2, mass=2.2 + 0.5 - 0.3 MeV>, style=cssutils.css.CSSStyleDeclaration(cssText=''), clazz=None, label=None, momentum=Momentum(name='p4', px=None, py=None, pz=None, e=None), target='Vertex9', x=None, y=None, z=None, shape=None, sense='incoming', external=None)], sheet=cssutils.css.CSSStyleSheet(href=None, media=None, title=None))\n"
     ]
    }
   ],
   "source": [
    "print(fml.diagrams[0].conjugated())"
   ]
  },
  {
   "cell_type": "code",
   "execution_count": 5,
   "id": "5419fde2-fb1f-4a27-ac8a-f72ed0fe931a",
   "metadata": {},
   "outputs": [
    {
     "name": "stderr",
     "output_type": "stream",
     "text": [
      "INFO:feynamp:v.color=['T(3,2,1)']\n",
      "INFO:feynamp:v.lorentz=[FFV1]\n",
      "DEBUG:feynamp:lor='Gamma(3,2,1)'\n",
      "DEBUG:feynamp:vertex_math=[('complex(0,1)*G', 'T(ColorIn2,ColorIn1,GluInProp1)', 'Gamma(MuInProp1,SpinIn2,SpinIn1)')]\n",
      "INFO:feynamp:v.color=['T(3,2,1)']\n",
      "INFO:feynamp:v.lorentz=[FFV1]\n",
      "DEBUG:feynamp:lor='Gamma(3,2,1)'\n",
      "DEBUG:feynamp:vertex_math=[('complex(0,1)*G', 'T(ColorOut1,ColorOut2,GluOutProp1)', 'Gamma(MuOutProp1,SpinOut1,SpinOut2)')]\n",
      "DEBUG:feynamp:ret='((complex(0,1)*G)*(T(ColorIn2,ColorIn1,GluInProp1))*(Gamma(MuInProp1,SpinIn2,SpinIn1))) * ((complex(0,1)*G)*(T(ColorOut1,ColorOut2,GluOutProp1))*(Gamma(MuOutProp1,SpinOut1,SpinOut2))) * (VC(ColorIn1,Mom_p1)*u(SpinIn1,Mom_p1)) * (VC(ColorIn2,Mom_p2)*v(SpinIn2,Mom_p2)) * (VC(ColorOut1,Mom_p3)*u_bar(SpinOut1,Mom_p3)) * (VC(ColorOut2,Mom_p4)*v_bar(SpinOut2,Mom_p4)) * (da(GluInProp1,GluOutProp1)*(-1)*complex(0,1)*Metric(MuInProp1,MuOutProp1)*Denom(-Mom_p1-Mom_p2,0)) * '\n",
      "INFO:feynamp:v.color=['T(3,2,1)']\n",
      "INFO:feynamp:v.lorentz=[FFV1]\n",
      "DEBUG:feynamp:lor='Gamma(3,2,1)'\n",
      "DEBUG:feynamp:vertex_math=[('complex(0,1)*G', 'T(ColorLeg21,ColorLeg22,GluOutPropagator25)', 'Gamma(MuOutPropagator25,SpinLeg21,SpinLeg22)')]\n",
      "INFO:feynamp:v.color=['T(3,2,1)']\n",
      "INFO:feynamp:v.lorentz=[FFV1]\n",
      "DEBUG:feynamp:lor='Gamma(3,2,1)'\n",
      "DEBUG:feynamp:vertex_math=[('complex(0,1)*G', 'T(ColorLeg24,ColorLeg23,GluInPropagator25)', 'Gamma(MuInPropagator25,SpinLeg24,SpinLeg23)')]\n",
      "DEBUG:feynamp:ret='((complex(0,1)*G)*(T(ColorLeg21,ColorLeg22,GluOutPropagator25))*(Gamma(MuOutPropagator25,SpinLeg21,SpinLeg22))) * ((complex(0,1)*G)*(T(ColorLeg24,ColorLeg23,GluInPropagator25))*(Gamma(MuInPropagator25,SpinLeg24,SpinLeg23))) * (VC(ColorLeg21,Mom_p1)*u_bar(SpinLeg21,Mom_p1)) * (VC(ColorLeg22,Mom_p2)*v_bar(SpinLeg22,Mom_p2)) * (VC(ColorLeg23,Mom_p3)*u(SpinLeg23,Mom_p3)) * (VC(ColorLeg24,Mom_p4)*v(SpinLeg24,Mom_p4)) * (da(GluInPropagator25,GluOutPropagator25)*(-1)*complex(0,1)*Metric(MuInPropagator25,MuOutPropagator25)*Denom(-Mom_p1-Mom_p2,0)) * '\n",
      "DEBUG:feynamp:lst_fd1=['((complex(0,1)*G)*(T(ColorIn2,ColorIn1,GluInProp1))*(Gamma(MuInProp1,SpinIn2,SpinIn1))) * ((complex(0,1)*G)*(T(ColorOut1,ColorOut2,GluOutProp1))*(Gamma(MuOutProp1,SpinOut1,SpinOut2))) * (VC(ColorIn1,Mom_p1)*u(SpinIn1,Mom_p1)) * (VC(ColorIn2,Mom_p2)*v(SpinIn2,Mom_p2)) * (VC(ColorOut1,Mom_p3)*u_bar(SpinOut1,Mom_p3)) * (VC(ColorOut2,Mom_p4)*v_bar(SpinOut2,Mom_p4)) * (da(GluInProp1,GluOutProp1)*(-1)*complex(0,1)*Metric(MuInProp1,MuOutProp1)*Denom(-Mom_p1-Mom_p2,0))']\n",
      "DEBUG:feynamp:lst_fd2=['((complex(0,-1)*G)*(T(ColorLeg21,ColorLeg22,GluOutPropagator25))*(Gamma(MuOutPropagator25,SpinLeg21,SpinLeg22))) * ((complex(0,-1)*G)*(T(ColorLeg24,ColorLeg23,GluInPropagator25))*(Gamma(MuInPropagator25,SpinLeg24,SpinLeg23))) * (VC(ColorLeg21,Mom_p1)*u_bar(SpinLeg21,Mom_p1)) * (VC(ColorLeg22,Mom_p2)*v_bar(SpinLeg22,Mom_p2)) * (VC(ColorLeg23,Mom_p3)*u(SpinLeg23,Mom_p3)) * (VC(ColorLeg24,Mom_p4)*v(SpinLeg24,Mom_p4)) * (da(GluInPropagator25,GluOutPropagator25)*(-1)*complex(0,-1)*Metric(MuInPropagator25,MuOutPropagator25)*Denom(-Mom_p1-Mom_p2,0))']\n",
      "DEBUG:feynamp:ferm_fac=1\n",
      "DEBUG:feynamp:s2=['(((complex(0,1)*G)*(T(ColorIn2,ColorIn1,GluInProp1))*(Gamma(MuInProp1,SpinIn2,SpinIn1))) * ((complex(0,1)*G)*(T(ColorOut1,ColorOut2,GluOutProp1))*(Gamma(MuOutProp1,SpinOut1,SpinOut2))) * (VC(ColorIn1,Mom_p1)*u(SpinIn1,Mom_p1)) * (VC(ColorIn2,Mom_p2)*v(SpinIn2,Mom_p2)) * (VC(ColorOut1,Mom_p3)*u_bar(SpinOut1,Mom_p3)) * (VC(ColorOut2,Mom_p4)*v_bar(SpinOut2,Mom_p4)) * (da(GluInProp1,GluOutProp1)*(-1)*complex(0,1)*Metric(MuInProp1,MuOutProp1)*Denom(-Mom_p1-Mom_p2,0)))*(((complex(0,-1)*G)*(T(ColorLeg21,ColorLeg22,GluOutPropagator25))*(Gamma(MuOutPropagator25,SpinLeg21,SpinLeg22))) * ((complex(0,-1)*G)*(T(ColorLeg24,ColorLeg23,GluInPropagator25))*(Gamma(MuInPropagator25,SpinLeg24,SpinLeg23))) * (VC(ColorLeg21,Mom_p1)*u_bar(SpinLeg21,Mom_p1)) * (VC(ColorLeg22,Mom_p2)*v_bar(SpinLeg22,Mom_p2)) * (VC(ColorLeg23,Mom_p3)*u(SpinLeg23,Mom_p3)) * (VC(ColorLeg24,Mom_p4)*v(SpinLeg24,Mom_p4)) * (da(GluInPropagator25,GluOutPropagator25)*(-1)*complex(0,-1)*Metric(MuInPropagator25,MuOutPropagator25)*Denom(-Mom_p1-Mom_p2,0)))*1']\n"
     ]
    },
    {
     "data": {
      "application/vnd.jupyter.widget-view+json": {
       "model_id": "6207eadb3d994888a5a14960a5bc593e",
       "version_major": 2,
       "version_minor": 0
      },
      "text/plain": [
       "QUEUEING TASKS | :   0%|          | 0/1 [00:00<?, ?it/s]"
      ]
     },
     "metadata": {},
     "output_type": "display_data"
    },
    {
     "data": {
      "application/vnd.jupyter.widget-view+json": {
       "model_id": "27363c30bb49449a955d484d32f579eb",
       "version_major": 2,
       "version_minor": 0
      },
      "text/plain": [
       "PROCESSING TASKS | :   0%|          | 0/1 [00:00<?, ?it/s]"
      ]
     },
     "metadata": {},
     "output_type": "display_data"
    },
    {
     "data": {
      "application/vnd.jupyter.widget-view+json": {
       "model_id": "d8ded3eae458464d815621909a81fde7",
       "version_major": 2,
       "version_minor": 0
      },
      "text/plain": [
       "COLLECTING RESULTS | :   0%|          | 0/1 [00:00<?, ?it/s]"
      ]
     },
     "metadata": {},
     "output_type": "display_data"
    },
    {
     "name": "stderr",
     "output_type": "stream",
     "text": [
      "DEBUG:feynamp:pol_sums: \n"
     ]
    },
    {
     "data": {
      "application/vnd.jupyter.widget-view+json": {
       "model_id": "cc945afd8242484ca04b20fdd7f9fc17",
       "version_major": 2,
       "version_minor": 0
      },
      "text/plain": [
       "QUEUEING TASKS | :   0%|          | 0/1 [00:00<?, ?it/s]"
      ]
     },
     "metadata": {},
     "output_type": "display_data"
    },
    {
     "data": {
      "application/vnd.jupyter.widget-view+json": {
       "model_id": "bfb7fb7845f446ae9572bda28e1a6ebf",
       "version_major": 2,
       "version_minor": 0
      },
      "text/plain": [
       "PROCESSING TASKS | :   0%|          | 0/1 [00:00<?, ?it/s]"
      ]
     },
     "metadata": {},
     "output_type": "display_data"
    },
    {
     "data": {
      "application/vnd.jupyter.widget-view+json": {
       "model_id": "6a862fdb2ada41759f66acf38efd4e11",
       "version_major": 2,
       "version_minor": 0
      },
      "text/plain": [
       "COLLECTING RESULTS | :   0%|          | 0/1 [00:00<?, ?it/s]"
      ]
     },
     "metadata": {},
     "output_type": "display_data"
    },
    {
     "name": "stderr",
     "output_type": "stream",
     "text": [
      "DEBUG:feynamp:rs='(4*Den(Mom_p1.Mom_p1+2*Mom_p1.Mom_p2+Mom_p2.Mom_p2)^2*G^4*Nc*Cf*msu^2+4*Den(Mom_p1.Mom_p1+2*Mom_p1.Mom_p2+Mom_p2.Mom_p2)^2*G^4*Nc*Cf*mst^2)'\n"
     ]
    },
    {
     "data": {
      "application/vnd.jupyter.widget-view+json": {
       "model_id": "66785936b8e248228e2ec9249da528eb",
       "version_major": 2,
       "version_minor": 0
      },
      "text/plain": [
       "QUEUEING TASKS | :   0%|          | 0/1 [00:00<?, ?it/s]"
      ]
     },
     "metadata": {},
     "output_type": "display_data"
    },
    {
     "data": {
      "application/vnd.jupyter.widget-view+json": {
       "model_id": "efdf3ad8801f4c52ae91c96516febe0e",
       "version_major": 2,
       "version_minor": 0
      },
      "text/plain": [
       "PROCESSING TASKS | :   0%|          | 0/1 [00:00<?, ?it/s]"
      ]
     },
     "metadata": {},
     "output_type": "display_data"
    },
    {
     "data": {
      "application/vnd.jupyter.widget-view+json": {
       "model_id": "32cb53d38f8443cc80f2b8a9bfdd2e85",
       "version_major": 2,
       "version_minor": 0
      },
      "text/plain": [
       "COLLECTING RESULTS | :   0%|          | 0/1 [00:00<?, ?it/s]"
      ]
     },
     "metadata": {},
     "output_type": "display_data"
    },
    {
     "name": "stderr",
     "output_type": "stream",
     "text": [
      "DEBUG:feynamp:rr='(4*1/(mss)^2*G^4*Nc*Cf*msu^2+4*1/(mss)^2*G^4*Nc*Cf*mst^2)'\n",
      "DEBUG:feynamp:get_color_average():['1/3', '1/3']\n",
      "DEBUG:feynamp:get_spin_average():['1/2', '1/2']\n"
     ]
    },
    {
     "data": {
      "text/latex": [
       "$\\displaystyle \\frac{Cf G^{4} Nc t^{2}}{9 s^{2}} + \\frac{Cf G^{4} Nc u^{2}}{9 s^{2}}$"
      ],
      "text/plain": [
       "Cf*G**4*Nc*t**2/(9*s**2) + Cf*G**4*Nc*u**2/(9*s**2)"
      ]
     },
     "execution_count": 5,
     "metadata": {},
     "output_type": "execute_result"
    }
   ],
   "source": [
    "born = compute_squared(fds, fm, colorcorrelated=False)\n",
    "born"
   ]
  },
  {
   "cell_type": "code",
   "execution_count": 6,
   "id": "5b1d51b5-39d7-4be2-bc2b-b31af3e99818",
   "metadata": {},
   "outputs": [
    {
     "name": "stderr",
     "output_type": "stream",
     "text": [
      "INFO:feynamp:v.color=['T(3,2,1)']\n",
      "INFO:feynamp:v.lorentz=[FFV1]\n",
      "DEBUG:feynamp:lor='Gamma(3,2,1)'\n",
      "DEBUG:feynamp:vertex_math=[('complex(0,1)*G', 'T(ColorIn2,ColorIn1,GluInProp1)', 'Gamma(MuInProp1,SpinIn2,SpinIn1)')]\n",
      "INFO:feynamp:v.color=['T(3,2,1)']\n",
      "INFO:feynamp:v.lorentz=[FFV1]\n",
      "DEBUG:feynamp:lor='Gamma(3,2,1)'\n",
      "DEBUG:feynamp:vertex_math=[('complex(0,1)*G', 'T(ColorOut1,ColorOut2,GluOutProp1)', 'Gamma(MuOutProp1,SpinOut1,SpinOut2)')]\n",
      "DEBUG:feynamp:ret='((complex(0,1)*G)*(T(ColorIn2,ColorIn1,GluInProp1))*(Gamma(MuInProp1,SpinIn2,SpinIn1))) * ((complex(0,1)*G)*(T(ColorOut1,ColorOut2,GluOutProp1))*(Gamma(MuOutProp1,SpinOut1,SpinOut2))) * (VC(ColorIn1,Mom_p1)*u(SpinIn1,Mom_p1)) * (VC(ColorIn2,Mom_p2)*v(SpinIn2,Mom_p2)) * (VC(ColorOut1,Mom_p3)*u_bar(SpinOut1,Mom_p3)) * (VC(ColorOut2,Mom_p4)*v_bar(SpinOut2,Mom_p4)) * (da(GluInProp1,GluOutProp1)*(-1)*complex(0,1)*Metric(MuInProp1,MuOutProp1)*Denom(-Mom_p1-Mom_p2,0)) * '\n",
      "INFO:feynamp:v.color=['T(3,2,1)']\n",
      "INFO:feynamp:v.lorentz=[FFV1]\n",
      "DEBUG:feynamp:lor='Gamma(3,2,1)'\n",
      "DEBUG:feynamp:vertex_math=[('complex(0,1)*G', 'T(ColorLeg36,ColorLeg37,GluOutPropagator40)', 'Gamma(MuOutPropagator40,SpinLeg36,SpinLeg37)')]\n",
      "INFO:feynamp:v.color=['T(3,2,1)']\n",
      "INFO:feynamp:v.lorentz=[FFV1]\n",
      "DEBUG:feynamp:lor='Gamma(3,2,1)'\n",
      "DEBUG:feynamp:vertex_math=[('complex(0,1)*G', 'T(ColorLeg39,ColorLeg38,GluInPropagator40)', 'Gamma(MuInPropagator40,SpinLeg39,SpinLeg38)')]\n",
      "DEBUG:feynamp:ret='((complex(0,1)*G)*(T(ColorLeg36,ColorLeg37,GluOutPropagator40))*(Gamma(MuOutPropagator40,SpinLeg36,SpinLeg37))) * ((complex(0,1)*G)*(T(ColorLeg39,ColorLeg38,GluInPropagator40))*(Gamma(MuInPropagator40,SpinLeg39,SpinLeg38))) * (VC(ColorLeg36,Mom_p1)*u_bar(SpinLeg36,Mom_p1)) * (VC(ColorLeg37,Mom_p2)*v_bar(SpinLeg37,Mom_p2)) * (VC(ColorLeg38,Mom_p3)*u(SpinLeg38,Mom_p3)) * (VC(ColorLeg39,Mom_p4)*v(SpinLeg39,Mom_p4)) * (da(GluInPropagator40,GluOutPropagator40)*(-1)*complex(0,1)*Metric(MuInPropagator40,MuOutPropagator40)*Denom(-Mom_p1-Mom_p2,0)) * '\n",
      "DEBUG:feynamp:lst_fd1=['((complex(0,1)*G)*(T(ColorIn2,ColorIn1,GluInProp1))*(Gamma(MuInProp1,SpinIn2,SpinIn1))) * ((complex(0,1)*G)*(T(ColorOut1,ColorOut2,GluOutProp1))*(Gamma(MuOutProp1,SpinOut1,SpinOut2))) * (VC(ColorIn1,Mom_p1)*u(SpinIn1,Mom_p1)) * (VC(ColorIn2,Mom_p2)*v(SpinIn2,Mom_p2)) * (VC(ColorOut1,Mom_p3)*u_bar(SpinOut1,Mom_p3)) * (VC(ColorOut2,Mom_p4)*v_bar(SpinOut2,Mom_p4)) * (da(GluInProp1,GluOutProp1)*(-1)*complex(0,1)*Metric(MuInProp1,MuOutProp1)*Denom(-Mom_p1-Mom_p2,0))']\n",
      "DEBUG:feynamp:lst_fd2=['((complex(0,-1)*G)*(T(ColorLeg36,ColorLeg37,GluOutPropagator40))*(Gamma(MuOutPropagator40,SpinLeg36,SpinLeg37))) * ((complex(0,-1)*G)*(T(ColorLeg39,ColorLeg38,GluInPropagator40))*(Gamma(MuInPropagator40,SpinLeg39,SpinLeg38))) * (VC(ColorLeg36,Mom_p1)*u_bar(SpinLeg36,Mom_p1)) * (VC(ColorLeg37,Mom_p2)*v_bar(SpinLeg37,Mom_p2)) * (VC(ColorLeg38,Mom_p3)*u(SpinLeg38,Mom_p3)) * (VC(ColorLeg39,Mom_p4)*v(SpinLeg39,Mom_p4)) * (da(GluInPropagator40,GluOutPropagator40)*(-1)*complex(0,-1)*Metric(MuInPropagator40,MuOutPropagator40)*Denom(-Mom_p1-Mom_p2,0))']\n",
      "DEBUG:feynamp:ferm_fac=1\n",
      "DEBUG:feynamp:s2=['(((complex(0,1)*G)*(T(ColorIn2,ColorIn1,GluInProp1))*(Gamma(MuInProp1,SpinIn2,SpinIn1))) * ((complex(0,1)*G)*(T(ColorOut1,ColorOut2,GluOutProp1))*(Gamma(MuOutProp1,SpinOut1,SpinOut2))) * (VC(ColorIn1,Mom_p1)*u(SpinIn1,Mom_p1)) * (VC(ColorIn2,Mom_p2)*v(SpinIn2,Mom_p2)) * (VC(ColorOut1,Mom_p3)*u_bar(SpinOut1,Mom_p3)) * (VC(ColorOut2,Mom_p4)*v_bar(SpinOut2,Mom_p4)) * (da(GluInProp1,GluOutProp1)*(-1)*complex(0,1)*Metric(MuInProp1,MuOutProp1)*Denom(-Mom_p1-Mom_p2,0)))*(((complex(0,-1)*G)*(T(ColorLeg36,ColorLeg37,GluOutPropagator40))*(Gamma(MuOutPropagator40,SpinLeg36,SpinLeg37))) * ((complex(0,-1)*G)*(T(ColorLeg39,ColorLeg38,GluInPropagator40))*(Gamma(MuInPropagator40,SpinLeg39,SpinLeg38))) * (VC(ColorLeg36,Mom_p1)*u_bar(SpinLeg36,Mom_p1)) * (VC(ColorLeg37,Mom_p2)*v_bar(SpinLeg37,Mom_p2)) * (VC(ColorLeg38,Mom_p3)*u(SpinLeg38,Mom_p3)) * (VC(ColorLeg39,Mom_p4)*v(SpinLeg39,Mom_p4)) * (da(GluInPropagator40,GluOutPropagator40)*(-1)*complex(0,-1)*Metric(MuInPropagator40,MuOutPropagator40)*Denom(-Mom_p1-Mom_p2,0)))*1']\n"
     ]
    },
    {
     "name": "stdout",
     "output_type": "stream",
     "text": [
      "\n",
      "    id VC(ColorIn1 ,Mom_p1)*VC(ColorN9?,Mom_p1)*VC(ColorN10?,Mom_p2)*VC(ColorIn2 ,Mom_p2)*VC(ColorN11?,Mom_p3)*VC(ColorOut1 ,Mom_p3)*VC(ColorOut2 ,Mom_p4)*VC(ColorN12?,Mom_p4) = -(\n",
      "colorcorrelation(Mom_p1,Mom_p2)*T(ColorIn1,ColorN9,GluN13)*(-1)*T(ColorN10,ColorIn2,GluN13)*df(ColorOut1,ColorN11)*df(ColorOut2,ColorN12)+\n",
      "colorcorrelation(Mom_p1,Mom_p3)*T(ColorIn1,ColorN9,GluN13)*(-1)*T(ColorN11,ColorOut1,GluN13)*df(ColorIn2,ColorN10)*df(ColorOut2,ColorN12)+\n",
      "colorcorrelation(Mom_p1,Mom_p4)*T(ColorIn1,ColorN9,GluN13)*T(ColorOut2,ColorN12,GluN13)*df(ColorIn2,ColorN10)*df(ColorOut1,ColorN11)+\n",
      "colorcorrelation(Mom_p2,Mom_p3)*(-1)*T(ColorN10,ColorIn2,GluN13)*(-1)*T(ColorN11,ColorOut1,GluN13)*df(ColorIn1,ColorN9)*df(ColorOut2,ColorN12)+\n",
      "colorcorrelation(Mom_p2,Mom_p4)*(-1)*T(ColorN10,ColorIn2,GluN13)*T(ColorOut2,ColorN12,GluN13)*df(ColorIn1,ColorN9)*df(ColorOut1,ColorN11)+\n",
      "colorcorrelation(Mom_p3,Mom_p4)*(-1)*T(ColorN11,ColorOut1,GluN13)*T(ColorOut2,ColorN12,GluN13)*df(ColorIn1,ColorN9)*df(ColorIn2,ColorN10));\n",
      "    \n"
     ]
    },
    {
     "data": {
      "application/vnd.jupyter.widget-view+json": {
       "model_id": "dc030ea9219046d7b32ba3e1cbdf7607",
       "version_major": 2,
       "version_minor": 0
      },
      "text/plain": [
       "QUEUEING TASKS | :   0%|          | 0/1 [00:00<?, ?it/s]"
      ]
     },
     "metadata": {},
     "output_type": "display_data"
    },
    {
     "data": {
      "application/vnd.jupyter.widget-view+json": {
       "model_id": "3e5e33690d594fe79169b0175a09ba5f",
       "version_major": 2,
       "version_minor": 0
      },
      "text/plain": [
       "PROCESSING TASKS | :   0%|          | 0/1 [00:00<?, ?it/s]"
      ]
     },
     "metadata": {},
     "output_type": "display_data"
    },
    {
     "data": {
      "application/vnd.jupyter.widget-view+json": {
       "model_id": "854ccc0008d94c83af4d7809578c609e",
       "version_major": 2,
       "version_minor": 0
      },
      "text/plain": [
       "COLLECTING RESULTS | :   0%|          | 0/1 [00:00<?, ?it/s]"
      ]
     },
     "metadata": {},
     "output_type": "display_data"
    },
    {
     "name": "stderr",
     "output_type": "stream",
     "text": [
      "DEBUG:feynamp:pol_sums: \n"
     ]
    },
    {
     "data": {
      "application/vnd.jupyter.widget-view+json": {
       "model_id": "2d3c61984fae4af1ae3e2e6c5d6678f9",
       "version_major": 2,
       "version_minor": 0
      },
      "text/plain": [
       "QUEUEING TASKS | :   0%|          | 0/1 [00:00<?, ?it/s]"
      ]
     },
     "metadata": {},
     "output_type": "display_data"
    },
    {
     "data": {
      "application/vnd.jupyter.widget-view+json": {
       "model_id": "cc565b44e8574a6f935a0e3330a03ee1",
       "version_major": 2,
       "version_minor": 0
      },
      "text/plain": [
       "PROCESSING TASKS | :   0%|          | 0/1 [00:00<?, ?it/s]"
      ]
     },
     "metadata": {},
     "output_type": "display_data"
    },
    {
     "data": {
      "application/vnd.jupyter.widget-view+json": {
       "model_id": "c5507acc03524fee8f3c5e8c17765f0f",
       "version_major": 2,
       "version_minor": 0
      },
      "text/plain": [
       "COLLECTING RESULTS | :   0%|          | 0/1 [00:00<?, ?it/s]"
      ]
     },
     "metadata": {},
     "output_type": "display_data"
    },
    {
     "name": "stderr",
     "output_type": "stream",
     "text": [
      "DEBUG:feynamp:rs='(4*colorcorrelation(Mom_p1,Mom_p2)*Den(Mom_p1.Mom_p1+2*Mom_p1.Mom_p2+Mom_p2.Mom_p2)^2*G^4*Nc*Cf^2*msu^2+4*colorcorrelation(Mom_p1,Mom_p2)*Den(Mom_p1.Mom_p1+2*Mom_p1.Mom_p2+Mom_p2.Mom_p2)^2*G^4*Nc*Cf^2*mst^2-2*colorcorrelation(Mom_p1,Mom_p2)*Den(Mom_p1.Mom_p1+2*Mom_p1.Mom_p2+Mom_p2.Mom_p2)^2*G^4*Nc^2*Cf*msu^2-2*colorcorrelation(Mom_p1,Mom_p2)*Den(Mom_p1.Mom_p1+2*Mom_p1.Mom_p2+Mom_p2.Mom_p2)^2*G^4*Nc^2*Cf*mst^2+2*colorcorrelation(Mom_p1,Mom_p3)*Den(Mom_p1.Mom_p1+2*Mom_p1.Mom_p2+Mom_p2.Mom_p2)^2*G^4*Nc^-1*msu^2+2*colorcorrelation(Mom_p1,Mom_p3)*Den(Mom_p1.Mom_p1+2*Mom_p1.Mom_p2+Mom_p2.Mom_p2)^2*G^4*Nc^-1*mst^2-5/2*colorcorrelation(Mom_p1,Mom_p3)*Den(Mom_p1.Mom_p1+2*Mom_p1.Mom_p2+Mom_p2.Mom_p2)^2*G^4*Nc*msu^2-5/2*colorcorrelation(Mom_p1,Mom_p3)*Den(Mom_p1.Mom_p1+2*Mom_p1.Mom_p2+Mom_p2.Mom_p2)^2*G^4*Nc*mst^2+colorcorrelation(Mom_p1,Mom_p3)*Den(Mom_p1.Mom_p1+2*Mom_p1.Mom_p2+Mom_p2.Mom_p2)^2*G^4*Nc^2*Cf*msu^2+colorcorrelation(Mom_p1,Mom_p3)*Den(Mom_p1.Mom_p1+2*Mom_p1.Mom_p2+Mom_p2.Mom_p2)^2*G^4*Nc^2*Cf*mst^2+1/2*colorcorrelation(Mom_p1,Mom_p3)*Den(Mom_p1.Mom_p1+2*Mom_p1.Mom_p2+Mom_p2.Mom_p2)^2*G^4*Nc^3*msu^2+1/2*colorcorrelation(Mom_p1,Mom_p3)*Den(Mom_p1.Mom_p1+2*Mom_p1.Mom_p2+Mom_p2.Mom_p2)^2*G^4*Nc^3*mst^2-2*colorcorrelation(Mom_p1,Mom_p4)*Den(Mom_p1.Mom_p1+2*Mom_p1.Mom_p2+Mom_p2.Mom_p2)^2*G^4*Nc^-1*msu^2-2*colorcorrelation(Mom_p1,Mom_p4)*Den(Mom_p1.Mom_p1+2*Mom_p1.Mom_p2+Mom_p2.Mom_p2)^2*G^4*Nc^-1*mst^2+5/2*colorcorrelation(Mom_p1,Mom_p4)*Den(Mom_p1.Mom_p1+2*Mom_p1.Mom_p2+Mom_p2.Mom_p2)^2*G^4*Nc*msu^2+5/2*colorcorrelation(Mom_p1,Mom_p4)*Den(Mom_p1.Mom_p1+2*Mom_p1.Mom_p2+Mom_p2.Mom_p2)^2*G^4*Nc*mst^2+colorcorrelation(Mom_p1,Mom_p4)*Den(Mom_p1.Mom_p1+2*Mom_p1.Mom_p2+Mom_p2.Mom_p2)^2*G^4*Nc^2*Cf*msu^2+colorcorrelation(Mom_p1,Mom_p4)*Den(Mom_p1.Mom_p1+2*Mom_p1.Mom_p2+Mom_p2.Mom_p2)^2*G^4*Nc^2*Cf*mst^2-1/2*colorcorrelation(Mom_p1,Mom_p4)*Den(Mom_p1.Mom_p1+2*Mom_p1.Mom_p2+Mom_p2.Mom_p2)^2*G^4*Nc^3*msu^2-1/2*colorcorrelation(Mom_p1,Mom_p4)*Den(Mom_p1.Mom_p1+2*Mom_p1.Mom_p2+Mom_p2.Mom_p2)^2*G^4*Nc^3*mst^2-2*colorcorrelation(Mom_p2,Mom_p3)*Den(Mom_p1.Mom_p1+2*Mom_p1.Mom_p2+Mom_p2.Mom_p2)^2*G^4*Nc^-1*msu^2-2*colorcorrelation(Mom_p2,Mom_p3)*Den(Mom_p1.Mom_p1+2*Mom_p1.Mom_p2+Mom_p2.Mom_p2)^2*G^4*Nc^-1*mst^2+5/2*colorcorrelation(Mom_p2,Mom_p3)*Den(Mom_p1.Mom_p1+2*Mom_p1.Mom_p2+Mom_p2.Mom_p2)^2*G^4*Nc*msu^2+5/2*colorcorrelation(Mom_p2,Mom_p3)*Den(Mom_p1.Mom_p1+2*Mom_p1.Mom_p2+Mom_p2.Mom_p2)^2*G^4*Nc*mst^2+colorcorrelation(Mom_p2,Mom_p3)*Den(Mom_p1.Mom_p1+2*Mom_p1.Mom_p2+Mom_p2.Mom_p2)^2*G^4*Nc^2*Cf*msu^2+colorcorrelation(Mom_p2,Mom_p3)*Den(Mom_p1.Mom_p1+2*Mom_p1.Mom_p2+Mom_p2.Mom_p2)^2*G^4*Nc^2*Cf*mst^2-1/2*colorcorrelation(Mom_p2,Mom_p3)*Den(Mom_p1.Mom_p1+2*Mom_p1.Mom_p2+Mom_p2.Mom_p2)^2*G^4*Nc^3*msu^2-1/2*colorcorrelation(Mom_p2,Mom_p3)*Den(Mom_p1.Mom_p1+2*Mom_p1.Mom_p2+Mom_p2.Mom_p2)^2*G^4*Nc^3*mst^2+2*colorcorrelation(Mom_p2,Mom_p4)*Den(Mom_p1.Mom_p1+2*Mom_p1.Mom_p2+Mom_p2.Mom_p2)^2*G^4*Nc^-1*msu^2+2*colorcorrelation(Mom_p2,Mom_p4)*Den(Mom_p1.Mom_p1+2*Mom_p1.Mom_p2+Mom_p2.Mom_p2)^2*G^4*Nc^-1*mst^2-5/2*colorcorrelation(Mom_p2,Mom_p4)*Den(Mom_p1.Mom_p1+2*Mom_p1.Mom_p2+Mom_p2.Mom_p2)^2*G^4*Nc*msu^2-5/2*colorcorrelation(Mom_p2,Mom_p4)*Den(Mom_p1.Mom_p1+2*Mom_p1.Mom_p2+Mom_p2.Mom_p2)^2*G^4*Nc*mst^2+colorcorrelation(Mom_p2,Mom_p4)*Den(Mom_p1.Mom_p1+2*Mom_p1.Mom_p2+Mom_p2.Mom_p2)^2*G^4*Nc^2*Cf*msu^2+colorcorrelation(Mom_p2,Mom_p4)*Den(Mom_p1.Mom_p1+2*Mom_p1.Mom_p2+Mom_p2.Mom_p2)^2*G^4*Nc^2*Cf*mst^2+1/2*colorcorrelation(Mom_p2,Mom_p4)*Den(Mom_p1.Mom_p1+2*Mom_p1.Mom_p2+Mom_p2.Mom_p2)^2*G^4*Nc^3*msu^2+1/2*colorcorrelation(Mom_p2,Mom_p4)*Den(Mom_p1.Mom_p1+2*Mom_p1.Mom_p2+Mom_p2.Mom_p2)^2*G^4*Nc^3*mst^2+4*colorcorrelation(Mom_p3,Mom_p4)*Den(Mom_p1.Mom_p1+2*Mom_p1.Mom_p2+Mom_p2.Mom_p2)^2*G^4*Nc*Cf^2*msu^2+4*colorcorrelation(Mom_p3,Mom_p4)*Den(Mom_p1.Mom_p1+2*Mom_p1.Mom_p2+Mom_p2.Mom_p2)^2*G^4*Nc*Cf^2*mst^2-2*colorcorrelation(Mom_p3,Mom_p4)*Den(Mom_p1.Mom_p1+2*Mom_p1.Mom_p2+Mom_p2.Mom_p2)^2*G^4*Nc^2*Cf*msu^2-2*colorcorrelation(Mom_p3,Mom_p4)*Den(Mom_p1.Mom_p1+2*Mom_p1.Mom_p2+Mom_p2.Mom_p2)^2*G^4*Nc^2*Cf*mst^2)'\n"
     ]
    },
    {
     "data": {
      "application/vnd.jupyter.widget-view+json": {
       "model_id": "559c842c791e4f7a9b9c8cd8346c4422",
       "version_major": 2,
       "version_minor": 0
      },
      "text/plain": [
       "QUEUEING TASKS | :   0%|          | 0/1 [00:00<?, ?it/s]"
      ]
     },
     "metadata": {},
     "output_type": "display_data"
    },
    {
     "data": {
      "application/vnd.jupyter.widget-view+json": {
       "model_id": "d467ab832b764ae38b00f8ebafa98d6f",
       "version_major": 2,
       "version_minor": 0
      },
      "text/plain": [
       "PROCESSING TASKS | :   0%|          | 0/1 [00:00<?, ?it/s]"
      ]
     },
     "metadata": {},
     "output_type": "display_data"
    },
    {
     "data": {
      "application/vnd.jupyter.widget-view+json": {
       "model_id": "448f279857f44539a1b1972cfcca8c1d",
       "version_major": 2,
       "version_minor": 0
      },
      "text/plain": [
       "COLLECTING RESULTS | :   0%|          | 0/1 [00:00<?, ?it/s]"
      ]
     },
     "metadata": {},
     "output_type": "display_data"
    },
    {
     "name": "stderr",
     "output_type": "stream",
     "text": [
      "DEBUG:feynamp:rr='(4*colorcorrelation(Mom_p1,Mom_p2)*1/(mss)^2*G^4*Nc*Cf^2*msu^2+4*colorcorrelation(Mom_p1,Mom_p2)*1/(mss)^2*G^4*Nc*Cf^2*mst^2-2*colorcorrelation(Mom_p1,Mom_p2)*1/(mss)^2*G^4*Nc^2*Cf*msu^2-2*colorcorrelation(Mom_p1,Mom_p2)*1/(mss)^2*G^4*Nc^2*Cf*mst^2+2*colorcorrelation(Mom_p1,Mom_p3)*1/(mss)^2*G^4*Nc^-1*msu^2+2*colorcorrelation(Mom_p1,Mom_p3)*1/(mss)^2*G^4*Nc^-1*mst^2-5/2*colorcorrelation(Mom_p1,Mom_p3)*1/(mss)^2*G^4*Nc*msu^2-5/2*colorcorrelation(Mom_p1,Mom_p3)*1/(mss)^2*G^4*Nc*mst^2+colorcorrelation(Mom_p1,Mom_p3)*1/(mss)^2*G^4*Nc^2*Cf*msu^2+colorcorrelation(Mom_p1,Mom_p3)*1/(mss)^2*G^4*Nc^2*Cf*mst^2+1/2*colorcorrelation(Mom_p1,Mom_p3)*1/(mss)^2*G^4*Nc^3*msu^2+1/2*colorcorrelation(Mom_p1,Mom_p3)*1/(mss)^2*G^4*Nc^3*mst^2-2*colorcorrelation(Mom_p1,Mom_p4)*1/(mss)^2*G^4*Nc^-1*msu^2-2*colorcorrelation(Mom_p1,Mom_p4)*1/(mss)^2*G^4*Nc^-1*mst^2+5/2*colorcorrelation(Mom_p1,Mom_p4)*1/(mss)^2*G^4*Nc*msu^2+5/2*colorcorrelation(Mom_p1,Mom_p4)*1/(mss)^2*G^4*Nc*mst^2+colorcorrelation(Mom_p1,Mom_p4)*1/(mss)^2*G^4*Nc^2*Cf*msu^2+colorcorrelation(Mom_p1,Mom_p4)*1/(mss)^2*G^4*Nc^2*Cf*mst^2-1/2*colorcorrelation(Mom_p1,Mom_p4)*1/(mss)^2*G^4*Nc^3*msu^2-1/2*colorcorrelation(Mom_p1,Mom_p4)*1/(mss)^2*G^4*Nc^3*mst^2-2*colorcorrelation(Mom_p2,Mom_p3)*1/(mss)^2*G^4*Nc^-1*msu^2-2*colorcorrelation(Mom_p2,Mom_p3)*1/(mss)^2*G^4*Nc^-1*mst^2+5/2*colorcorrelation(Mom_p2,Mom_p3)*1/(mss)^2*G^4*Nc*msu^2+5/2*colorcorrelation(Mom_p2,Mom_p3)*1/(mss)^2*G^4*Nc*mst^2+colorcorrelation(Mom_p2,Mom_p3)*1/(mss)^2*G^4*Nc^2*Cf*msu^2+colorcorrelation(Mom_p2,Mom_p3)*1/(mss)^2*G^4*Nc^2*Cf*mst^2-1/2*colorcorrelation(Mom_p2,Mom_p3)*1/(mss)^2*G^4*Nc^3*msu^2-1/2*colorcorrelation(Mom_p2,Mom_p3)*1/(mss)^2*G^4*Nc^3*mst^2+2*colorcorrelation(Mom_p2,Mom_p4)*1/(mss)^2*G^4*Nc^-1*msu^2+2*colorcorrelation(Mom_p2,Mom_p4)*1/(mss)^2*G^4*Nc^-1*mst^2-5/2*colorcorrelation(Mom_p2,Mom_p4)*1/(mss)^2*G^4*Nc*msu^2-5/2*colorcorrelation(Mom_p2,Mom_p4)*1/(mss)^2*G^4*Nc*mst^2+colorcorrelation(Mom_p2,Mom_p4)*1/(mss)^2*G^4*Nc^2*Cf*msu^2+colorcorrelation(Mom_p2,Mom_p4)*1/(mss)^2*G^4*Nc^2*Cf*mst^2+1/2*colorcorrelation(Mom_p2,Mom_p4)*1/(mss)^2*G^4*Nc^3*msu^2+1/2*colorcorrelation(Mom_p2,Mom_p4)*1/(mss)^2*G^4*Nc^3*mst^2+4*colorcorrelation(Mom_p3,Mom_p4)*1/(mss)^2*G^4*Nc*Cf^2*msu^2+4*colorcorrelation(Mom_p3,Mom_p4)*1/(mss)^2*G^4*Nc*Cf^2*mst^2-2*colorcorrelation(Mom_p3,Mom_p4)*1/(mss)^2*G^4*Nc^2*Cf*msu^2-2*colorcorrelation(Mom_p3,Mom_p4)*1/(mss)^2*G^4*Nc^2*Cf*mst^2)'\n",
      "DEBUG:feynamp:get_color_average():['1/3', '1/3']\n",
      "DEBUG:feynamp:get_spin_average():['1/2', '1/2']\n"
     ]
    },
    {
     "data": {
      "text/latex": [
       "$\\displaystyle \\frac{Cf^{2} G^{4} Nc t^{2} \\operatorname{colorcorrelation}{\\left(p_{1},p_{2} \\right)}}{9 s^{2}} + \\frac{Cf^{2} G^{4} Nc t^{2} \\operatorname{colorcorrelation}{\\left(p_{3},p_{4} \\right)}}{9 s^{2}} + \\frac{Cf^{2} G^{4} Nc u^{2} \\operatorname{colorcorrelation}{\\left(p_{1},p_{2} \\right)}}{9 s^{2}} + \\frac{Cf^{2} G^{4} Nc u^{2} \\operatorname{colorcorrelation}{\\left(p_{3},p_{4} \\right)}}{9 s^{2}} - \\frac{Cf G^{4} Nc^{2} t^{2} \\operatorname{colorcorrelation}{\\left(p_{1},p_{2} \\right)}}{18 s^{2}} + \\frac{Cf G^{4} Nc^{2} t^{2} \\operatorname{colorcorrelation}{\\left(p_{1},p_{3} \\right)}}{36 s^{2}} + \\frac{Cf G^{4} Nc^{2} t^{2} \\operatorname{colorcorrelation}{\\left(p_{1},p_{4} \\right)}}{36 s^{2}} + \\frac{Cf G^{4} Nc^{2} t^{2} \\operatorname{colorcorrelation}{\\left(p_{2},p_{3} \\right)}}{36 s^{2}} + \\frac{Cf G^{4} Nc^{2} t^{2} \\operatorname{colorcorrelation}{\\left(p_{2},p_{4} \\right)}}{36 s^{2}} - \\frac{Cf G^{4} Nc^{2} t^{2} \\operatorname{colorcorrelation}{\\left(p_{3},p_{4} \\right)}}{18 s^{2}} - \\frac{Cf G^{4} Nc^{2} u^{2} \\operatorname{colorcorrelation}{\\left(p_{1},p_{2} \\right)}}{18 s^{2}} + \\frac{Cf G^{4} Nc^{2} u^{2} \\operatorname{colorcorrelation}{\\left(p_{1},p_{3} \\right)}}{36 s^{2}} + \\frac{Cf G^{4} Nc^{2} u^{2} \\operatorname{colorcorrelation}{\\left(p_{1},p_{4} \\right)}}{36 s^{2}} + \\frac{Cf G^{4} Nc^{2} u^{2} \\operatorname{colorcorrelation}{\\left(p_{2},p_{3} \\right)}}{36 s^{2}} + \\frac{Cf G^{4} Nc^{2} u^{2} \\operatorname{colorcorrelation}{\\left(p_{2},p_{4} \\right)}}{36 s^{2}} - \\frac{Cf G^{4} Nc^{2} u^{2} \\operatorname{colorcorrelation}{\\left(p_{3},p_{4} \\right)}}{18 s^{2}} + \\frac{G^{4} Nc^{3} t^{2} \\operatorname{colorcorrelation}{\\left(p_{1},p_{3} \\right)}}{72 s^{2}} - \\frac{G^{4} Nc^{3} t^{2} \\operatorname{colorcorrelation}{\\left(p_{1},p_{4} \\right)}}{72 s^{2}} - \\frac{G^{4} Nc^{3} t^{2} \\operatorname{colorcorrelation}{\\left(p_{2},p_{3} \\right)}}{72 s^{2}} + \\frac{G^{4} Nc^{3} t^{2} \\operatorname{colorcorrelation}{\\left(p_{2},p_{4} \\right)}}{72 s^{2}} + \\frac{G^{4} Nc^{3} u^{2} \\operatorname{colorcorrelation}{\\left(p_{1},p_{3} \\right)}}{72 s^{2}} - \\frac{G^{4} Nc^{3} u^{2} \\operatorname{colorcorrelation}{\\left(p_{1},p_{4} \\right)}}{72 s^{2}} - \\frac{G^{4} Nc^{3} u^{2} \\operatorname{colorcorrelation}{\\left(p_{2},p_{3} \\right)}}{72 s^{2}} + \\frac{G^{4} Nc^{3} u^{2} \\operatorname{colorcorrelation}{\\left(p_{2},p_{4} \\right)}}{72 s^{2}} - \\frac{5 G^{4} Nc t^{2} \\operatorname{colorcorrelation}{\\left(p_{1},p_{3} \\right)}}{72 s^{2}} + \\frac{5 G^{4} Nc t^{2} \\operatorname{colorcorrelation}{\\left(p_{1},p_{4} \\right)}}{72 s^{2}} + \\frac{5 G^{4} Nc t^{2} \\operatorname{colorcorrelation}{\\left(p_{2},p_{3} \\right)}}{72 s^{2}} - \\frac{5 G^{4} Nc t^{2} \\operatorname{colorcorrelation}{\\left(p_{2},p_{4} \\right)}}{72 s^{2}} - \\frac{5 G^{4} Nc u^{2} \\operatorname{colorcorrelation}{\\left(p_{1},p_{3} \\right)}}{72 s^{2}} + \\frac{5 G^{4} Nc u^{2} \\operatorname{colorcorrelation}{\\left(p_{1},p_{4} \\right)}}{72 s^{2}} + \\frac{5 G^{4} Nc u^{2} \\operatorname{colorcorrelation}{\\left(p_{2},p_{3} \\right)}}{72 s^{2}} - \\frac{5 G^{4} Nc u^{2} \\operatorname{colorcorrelation}{\\left(p_{2},p_{4} \\right)}}{72 s^{2}} + \\frac{G^{4} t^{2} \\operatorname{colorcorrelation}{\\left(p_{1},p_{3} \\right)}}{18 Nc s^{2}} - \\frac{G^{4} t^{2} \\operatorname{colorcorrelation}{\\left(p_{1},p_{4} \\right)}}{18 Nc s^{2}} - \\frac{G^{4} t^{2} \\operatorname{colorcorrelation}{\\left(p_{2},p_{3} \\right)}}{18 Nc s^{2}} + \\frac{G^{4} t^{2} \\operatorname{colorcorrelation}{\\left(p_{2},p_{4} \\right)}}{18 Nc s^{2}} + \\frac{G^{4} u^{2} \\operatorname{colorcorrelation}{\\left(p_{1},p_{3} \\right)}}{18 Nc s^{2}} - \\frac{G^{4} u^{2} \\operatorname{colorcorrelation}{\\left(p_{1},p_{4} \\right)}}{18 Nc s^{2}} - \\frac{G^{4} u^{2} \\operatorname{colorcorrelation}{\\left(p_{2},p_{3} \\right)}}{18 Nc s^{2}} + \\frac{G^{4} u^{2} \\operatorname{colorcorrelation}{\\left(p_{2},p_{4} \\right)}}{18 Nc s^{2}}$"
      ],
      "text/plain": [
       "Cf**2*G**4*Nc*t**2*colorcorrelation(p1, p2)/(9*s**2) + Cf**2*G**4*Nc*t**2*colorcorrelation(p3, p4)/(9*s**2) + Cf**2*G**4*Nc*u**2*colorcorrelation(p1, p2)/(9*s**2) + Cf**2*G**4*Nc*u**2*colorcorrelation(p3, p4)/(9*s**2) - Cf*G**4*Nc**2*t**2*colorcorrelation(p1, p2)/(18*s**2) + Cf*G**4*Nc**2*t**2*colorcorrelation(p1, p3)/(36*s**2) + Cf*G**4*Nc**2*t**2*colorcorrelation(p1, p4)/(36*s**2) + Cf*G**4*Nc**2*t**2*colorcorrelation(p2, p3)/(36*s**2) + Cf*G**4*Nc**2*t**2*colorcorrelation(p2, p4)/(36*s**2) - Cf*G**4*Nc**2*t**2*colorcorrelation(p3, p4)/(18*s**2) - Cf*G**4*Nc**2*u**2*colorcorrelation(p1, p2)/(18*s**2) + Cf*G**4*Nc**2*u**2*colorcorrelation(p1, p3)/(36*s**2) + Cf*G**4*Nc**2*u**2*colorcorrelation(p1, p4)/(36*s**2) + Cf*G**4*Nc**2*u**2*colorcorrelation(p2, p3)/(36*s**2) + Cf*G**4*Nc**2*u**2*colorcorrelation(p2, p4)/(36*s**2) - Cf*G**4*Nc**2*u**2*colorcorrelation(p3, p4)/(18*s**2) + G**4*Nc**3*t**2*colorcorrelation(p1, p3)/(72*s**2) - G**4*Nc**3*t**2*colorcorrelation(p1, p4)/(72*s**2) - G**4*Nc**3*t**2*colorcorrelation(p2, p3)/(72*s**2) + G**4*Nc**3*t**2*colorcorrelation(p2, p4)/(72*s**2) + G**4*Nc**3*u**2*colorcorrelation(p1, p3)/(72*s**2) - G**4*Nc**3*u**2*colorcorrelation(p1, p4)/(72*s**2) - G**4*Nc**3*u**2*colorcorrelation(p2, p3)/(72*s**2) + G**4*Nc**3*u**2*colorcorrelation(p2, p4)/(72*s**2) - 5*G**4*Nc*t**2*colorcorrelation(p1, p3)/(72*s**2) + 5*G**4*Nc*t**2*colorcorrelation(p1, p4)/(72*s**2) + 5*G**4*Nc*t**2*colorcorrelation(p2, p3)/(72*s**2) - 5*G**4*Nc*t**2*colorcorrelation(p2, p4)/(72*s**2) - 5*G**4*Nc*u**2*colorcorrelation(p1, p3)/(72*s**2) + 5*G**4*Nc*u**2*colorcorrelation(p1, p4)/(72*s**2) + 5*G**4*Nc*u**2*colorcorrelation(p2, p3)/(72*s**2) - 5*G**4*Nc*u**2*colorcorrelation(p2, p4)/(72*s**2) + G**4*t**2*colorcorrelation(p1, p3)/(18*Nc*s**2) - G**4*t**2*colorcorrelation(p1, p4)/(18*Nc*s**2) - G**4*t**2*colorcorrelation(p2, p3)/(18*Nc*s**2) + G**4*t**2*colorcorrelation(p2, p4)/(18*Nc*s**2) + G**4*u**2*colorcorrelation(p1, p3)/(18*Nc*s**2) - G**4*u**2*colorcorrelation(p1, p4)/(18*Nc*s**2) - G**4*u**2*colorcorrelation(p2, p3)/(18*Nc*s**2) + G**4*u**2*colorcorrelation(p2, p4)/(18*Nc*s**2)"
      ]
     },
     "execution_count": 6,
     "metadata": {},
     "output_type": "execute_result"
    }
   ],
   "source": [
    "ret = compute_squared(fds, fm, colorcorrelated=True)\n",
    "ret"
   ]
  },
  {
   "cell_type": "code",
   "execution_count": 7,
   "id": "a9b7c10e-6614-4b14-a448-b0b25a3141f9",
   "metadata": {},
   "outputs": [
    {
     "data": {
      "text/latex": [
       "$\\displaystyle Cf \\operatorname{colorcorrelation}{\\left(p_{1},p_{2} \\right)} + Cf \\operatorname{colorcorrelation}{\\left(p_{3},p_{4} \\right)} - \\frac{Nc \\operatorname{colorcorrelation}{\\left(p_{1},p_{2} \\right)}}{2} + \\frac{Nc \\operatorname{colorcorrelation}{\\left(p_{1},p_{3} \\right)}}{4} + \\frac{Nc \\operatorname{colorcorrelation}{\\left(p_{1},p_{4} \\right)}}{4} + \\frac{Nc \\operatorname{colorcorrelation}{\\left(p_{2},p_{3} \\right)}}{4} + \\frac{Nc \\operatorname{colorcorrelation}{\\left(p_{2},p_{4} \\right)}}{4} - \\frac{Nc \\operatorname{colorcorrelation}{\\left(p_{3},p_{4} \\right)}}{2} + \\frac{Nc^{2} \\operatorname{colorcorrelation}{\\left(p_{1},p_{3} \\right)}}{8 Cf} - \\frac{Nc^{2} \\operatorname{colorcorrelation}{\\left(p_{1},p_{4} \\right)}}{8 Cf} - \\frac{Nc^{2} \\operatorname{colorcorrelation}{\\left(p_{2},p_{3} \\right)}}{8 Cf} + \\frac{Nc^{2} \\operatorname{colorcorrelation}{\\left(p_{2},p_{4} \\right)}}{8 Cf} - \\frac{5 \\operatorname{colorcorrelation}{\\left(p_{1},p_{3} \\right)}}{8 Cf} + \\frac{5 \\operatorname{colorcorrelation}{\\left(p_{1},p_{4} \\right)}}{8 Cf} + \\frac{5 \\operatorname{colorcorrelation}{\\left(p_{2},p_{3} \\right)}}{8 Cf} - \\frac{5 \\operatorname{colorcorrelation}{\\left(p_{2},p_{4} \\right)}}{8 Cf} + \\frac{\\operatorname{colorcorrelation}{\\left(p_{1},p_{3} \\right)}}{2 Cf Nc^{2}} - \\frac{\\operatorname{colorcorrelation}{\\left(p_{1},p_{4} \\right)}}{2 Cf Nc^{2}} - \\frac{\\operatorname{colorcorrelation}{\\left(p_{2},p_{3} \\right)}}{2 Cf Nc^{2}} + \\frac{\\operatorname{colorcorrelation}{\\left(p_{2},p_{4} \\right)}}{2 Cf Nc^{2}}$"
      ],
      "text/plain": [
       "Cf*colorcorrelation(p1, p2) + Cf*colorcorrelation(p3, p4) - Nc*colorcorrelation(p1, p2)/2 + Nc*colorcorrelation(p1, p3)/4 + Nc*colorcorrelation(p1, p4)/4 + Nc*colorcorrelation(p2, p3)/4 + Nc*colorcorrelation(p2, p4)/4 - Nc*colorcorrelation(p3, p4)/2 + Nc**2*colorcorrelation(p1, p3)/(8*Cf) - Nc**2*colorcorrelation(p1, p4)/(8*Cf) - Nc**2*colorcorrelation(p2, p3)/(8*Cf) + Nc**2*colorcorrelation(p2, p4)/(8*Cf) - 5*colorcorrelation(p1, p3)/(8*Cf) + 5*colorcorrelation(p1, p4)/(8*Cf) + 5*colorcorrelation(p2, p3)/(8*Cf) - 5*colorcorrelation(p2, p4)/(8*Cf) + colorcorrelation(p1, p3)/(2*Cf*Nc**2) - colorcorrelation(p1, p4)/(2*Cf*Nc**2) - colorcorrelation(p2, p3)/(2*Cf*Nc**2) + colorcorrelation(p2, p4)/(2*Cf*Nc**2)"
      ]
     },
     "execution_count": 7,
     "metadata": {},
     "output_type": "execute_result"
    }
   ],
   "source": [
    "(ret/born).simplify()"
   ]
  },
  {
   "cell_type": "code",
   "execution_count": 8,
   "id": "cc4062e9-863e-4a9b-b8d3-38f79425549d",
   "metadata": {},
   "outputs": [
    {
     "data": {
      "text/plain": [
       "\"Cf = Symbol('Cf')\\np1 = Symbol('p1')\\np2 = Symbol('p2')\\np3 = Symbol('p3')\\np4 = Symbol('p4')\\nNc = Symbol('Nc')\\ncolorcorrelation = Function('colorcorrelation')\\ne = Cf*colorcorrelation(p1, p2) + Cf*colorcorrelation(p3, p4) - Nc*colorcorrelation(p1, p2)/2 + Nc*colorcorrelation(p1, p3)/4 + Nc*colorcorrelation(p1, p4)/4 + Nc*colorcorrelation(p2, p3)/4 + Nc*colorcorrelation(p2, p4)/4 - Nc*colorcorrelation(p3, p4)/2 + Nc**2*colorcorrelation(p1, p3)/(8*Cf) - Nc**2*colorcorrelation(p1, p4)/(8*Cf) - Nc**2*colorcorrelation(p2, p3)/(8*Cf) + Nc**2*colorcorrelation(p2, p4)/(8*Cf) - 5*colorcorrelation(p1, p3)/(8*Cf) + 5*colorcorrelation(p1, p4)/(8*Cf) + 5*colorcorrelation(p2, p3)/(8*Cf) - 5*colorcorrelation(p2, p4)/(8*Cf) + colorcorrelation(p1, p3)/(2*Cf*Nc**2) - colorcorrelation(p1, p4)/(2*Cf*Nc**2) - colorcorrelation(p2, p3)/(2*Cf*Nc**2) + colorcorrelation(p2, p4)/(2*Cf*Nc**2)\""
      ]
     },
     "execution_count": 8,
     "metadata": {},
     "output_type": "execute_result"
    }
   ],
   "source": [
    "sympy.python((ret/born).simplify())"
   ]
  },
  {
   "cell_type": "code",
   "execution_count": 9,
   "id": "8a6ccd74-c426-4744-a5e6-f35a248d9822",
   "metadata": {},
   "outputs": [
    {
     "data": {
      "text/plain": [
       "[FeynmanDiagram(id='Diagram3', style=cssutils.css.CSSStyleDeclaration(cssText=''), clazz=None, propagators=[Propagator(id='Prop1', pdgid=21, name='g', type='gluon', particle=<Particle: name=\"g\", pdgid=21, mass=0.0 MeV>, style=cssutils.css.CSSStyleDeclaration(cssText=''), clazz=None, label=None, momentum=Momentum(name='-p1-p2', px=None, py=None, pz=None, e=None), source='Vert2', target='Vert1')], vertices=[Vertex(id='Vert1', style=cssutils.css.CSSStyleDeclaration(cssText=''), clazz=None, x=None, y=None, z=None, label=None, shape=None), Vertex(id='Vert2', style=cssutils.css.CSSStyleDeclaration(cssText=''), clazz=None, x=None, y=None, z=None, label=None, shape=None)], legs=[Leg(id='In1', pdgid=2, name='u', type='fermion', particle=<Particle: name=\"u\", pdgid=2, mass=2.2 + 0.5 - 0.3 MeV>, style=cssutils.css.CSSStyleDeclaration(cssText=''), clazz=None, label=None, momentum=Momentum(name='p1', px=None, py=None, pz=None, e=None), target='Vert1', x=None, y=None, z=None, shape=None, sense='incoming', external=None), Leg(id='In2', pdgid=-2, name='u_bar', type='anti fermion', particle=<Particle: name=\"u~\", pdgid=-2, mass=2.2 + 0.5 - 0.3 MeV>, style=cssutils.css.CSSStyleDeclaration(cssText=''), clazz=None, label=None, momentum=Momentum(name='p2', px=None, py=None, pz=None, e=None), target='Vert1', x=None, y=None, z=None, shape=None, sense='incoming', external=None), Leg(id='Out1', pdgid=2, name='u', type='fermion', particle=<Particle: name=\"u\", pdgid=2, mass=2.2 + 0.5 - 0.3 MeV>, style=cssutils.css.CSSStyleDeclaration(cssText=''), clazz=None, label=None, momentum=Momentum(name='p3', px=None, py=None, pz=None, e=None), target='Vert2', x=None, y=None, z=None, shape=None, sense='outgoing', external=None), Leg(id='Out2', pdgid=-2, name='u_bar', type='anti fermion', particle=<Particle: name=\"u~\", pdgid=-2, mass=2.2 + 0.5 - 0.3 MeV>, style=cssutils.css.CSSStyleDeclaration(cssText=''), clazz=None, label=None, momentum=Momentum(name='p4', px=None, py=None, pz=None, e=None), target='Vert2', x=None, y=None, z=None, shape=None, sense='outgoing', external=None)], sheet=cssutils.css.CSSStyleSheet(href=None, media=None, title=None))]"
      ]
     },
     "execution_count": 9,
     "metadata": {},
     "output_type": "execute_result"
    }
   ],
   "source": [
    "fds"
   ]
  },
  {
   "cell_type": "code",
   "execution_count": null,
   "id": "c2b67c21-908a-4d92-b982-e6b1030260a0",
   "metadata": {},
   "outputs": [],
   "source": []
  }
 ],
 "metadata": {
  "kernelspec": {
   "display_name": "Python 3 (ipykernel)",
   "language": "python",
   "name": "python3"
  },
  "language_info": {
   "codemirror_mode": {
    "name": "ipython",
    "version": 3
   },
   "file_extension": ".py",
   "mimetype": "text/x-python",
   "name": "python",
   "nbconvert_exporter": "python",
   "pygments_lexer": "ipython3",
   "version": "3.11.9"
  }
 },
 "nbformat": 4,
 "nbformat_minor": 5
}
