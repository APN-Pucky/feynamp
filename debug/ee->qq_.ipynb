{
 "cells": [
  {
   "cell_type": "code",
   "execution_count": 1,
   "id": "60cbaf68-82ca-4325-b9f9-34b6c42a32e5",
   "metadata": {},
   "outputs": [
    {
     "name": "stdout",
     "output_type": "stream",
     "text": [
      "\n",
      "\tPlease cite the following papers if you use this code:\n",
      "\n",
      "      [1] Automatic Feynman graph generation J. Comput. Phys. 105 (1993) 279--289 https://doi.org/10.1006/jcph.1993.1074\n",
      "\n",
      "      [2] Abusing Qgraf Nucl. Instrum. Methods Phys. Res. A 559 (2006) 220--223 https://doi.org/10.1016/j.nima.2005.11.151\n",
      "\n",
      "      [3] Feynman graph generation and propagator mixing, I Comput. Phys. Commun. 269 (2021) 108103 https://doi.org/10.1016/j.cpc.2021.108103\n",
      "\n",
      "\t\n"
     ]
    }
   ],
   "source": [
    "import logging\n",
    "\n",
    "import equation_database.isbn_9780511628788 as ref\n",
    "import sympy\n",
    "from feynml.interface.qgraf import style\n",
    "from feynmodel.interface.qgraf import feynmodel_to_qgraf\n",
    "from feynmodel.interface.ufo import load_ufo_model\n",
    "from pyfeyn2.feynmandiagram import FeynML\n",
    "from pyqgraf import qgraf\n",
    "from xsdata.formats.dataclass.parsers import XmlParser\n",
    "\n",
    "from feynamp.form import compute_squared\n",
    "\n",
    "logger = logging.getLogger(\"feynamp\")\n",
    "logger.setLevel(logging.DEBUG)"
   ]
  },
  {
   "cell_type": "code",
   "execution_count": 2,
   "id": "002c230f-5878-4cfb-b866-e3c258cdf394",
   "metadata": {},
   "outputs": [
    {
     "data": {
      "image/png": "[encoded data removed]",
      "text/plain": [
       "<wand.image.Image: 37d48f9 'PDF' (394x394)>"
      ]
     },
     "metadata": {},
     "output_type": "display_data"
    }
   ],
   "source": [
    "    fm = load_ufo_model(\"ufo_sm\")\n",
    "    qfm = feynmodel_to_qgraf(fm, True, False)\n",
    "\n",
    "    qgraf.install()\n",
    "    xml_string = qgraf.run(\n",
    "        \"e_minus[p1], e_plus[p2]\",\n",
    "        \"u[p3], u_bar[p4]\",\n",
    "        loops=0,\n",
    "        loop_momentum=\"l\",\n",
    "        model=qfm,\n",
    "        style=style,\n",
    "    )\n",
    "\n",
    "    parser = XmlParser()\n",
    "    fml = parser.from_string(xml_string, FeynML)\n",
    "    fds = [fml.diagrams[\n",
    "           0\n",
    "           #2\n",
    "          ]]\n",
    "    fds[0]"
   ]
  },
  {
   "cell_type": "code",
   "execution_count": 3,
   "id": "6d342990-622a-4283-947d-4abec396fd69",
   "metadata": {},
   "outputs": [
    {
     "name": "stdout",
     "output_type": "stream",
     "text": [
      "FeynmanDiagram(id='Diagram1', style=cssutils.css.CSSStyleDeclaration(cssText=''), clazz=None, propagators=[Propagator(id='Prop1', pdgid=22, name='gamma', type='photon', particle=<Particle: name=\"gamma\", pdgid=22, mass=0.0 MeV>, style=cssutils.css.CSSStyleDeclaration(cssText=''), clazz=None, label=None, momentum=Momentum(name='-p1-p2', px=None, py=None, pz=None, e=None), source='Vert2', target='Vert1')], vertices=[Vertex(id='Vert1', style=cssutils.css.CSSStyleDeclaration(cssText=''), clazz=None, x=None, y=None, z=None, label=None, shape=None), Vertex(id='Vert2', style=cssutils.css.CSSStyleDeclaration(cssText=''), clazz=None, x=None, y=None, z=None, label=None, shape=None)], legs=[Leg(id='In1', pdgid=11, name='e_minus', type='fermion', particle=<Particle: name=\"e-\", pdgid=11, mass=0.51099895000 ± 0.00000000015 MeV>, style=cssutils.css.CSSStyleDeclaration(cssText=''), clazz=None, label=None, momentum=Momentum(name='p1', px=None, py=None, pz=None, e=None), target='Vert1', x=None, y=None, z=None, shape=None, sense='incoming', external=None), Leg(id='In2', pdgid=-11, name='e_plus', type='anti fermion', particle=<Particle: name=\"e+\", pdgid=-11, mass=0.51099895000 ± 0.00000000015 MeV>, style=cssutils.css.CSSStyleDeclaration(cssText=''), clazz=None, label=None, momentum=Momentum(name='p2', px=None, py=None, pz=None, e=None), target='Vert1', x=None, y=None, z=None, shape=None, sense='incoming', external=None), Leg(id='Out1', pdgid=2, name='u', type='fermion', particle=<Particle: name=\"u\", pdgid=2, mass=2.2 + 0.5 - 0.3 MeV>, style=cssutils.css.CSSStyleDeclaration(cssText=''), clazz=None, label=None, momentum=Momentum(name='p3', px=None, py=None, pz=None, e=None), target='Vert2', x=None, y=None, z=None, shape=None, sense='outgoing', external=None), Leg(id='Out2', pdgid=-2, name='u_bar', type='anti fermion', particle=<Particle: name=\"u~\", pdgid=-2, mass=2.2 + 0.5 - 0.3 MeV>, style=cssutils.css.CSSStyleDeclaration(cssText=''), clazz=None, label=None, momentum=Momentum(name='p4', px=None, py=None, pz=None, e=None), target='Vert2', x=None, y=None, z=None, shape=None, sense='outgoing', external=None)], sheet=cssutils.css.CSSStyleSheet(href=None, media=None, title=None))\n"
     ]
    }
   ],
   "source": [
    "print(fml.diagrams[0])"
   ]
  },
  {
   "cell_type": "code",
   "execution_count": 4,
   "id": "5bf55295-9369-43ab-89d9-19d9ee1d855a",
   "metadata": {},
   "outputs": [
    {
     "name": "stdout",
     "output_type": "stream",
     "text": [
      "FeynmanDiagram(id='Diagram1', style=cssutils.css.CSSStyleDeclaration(cssText=''), clazz=None, propagators=[Propagator(id='Propagator14', pdgid=22, name='gamma', type='photon', particle=<Particle: name=\"gamma\", pdgid=22, mass=0.0 MeV>, style=cssutils.css.CSSStyleDeclaration(cssText=''), clazz=None, label=None, momentum=Momentum(name='-p1-p2', px=None, py=None, pz=None, e=None), source='Vertex8', target='Vertex9')], vertices=[Vertex(id='Vertex8', style=cssutils.css.CSSStyleDeclaration(cssText=''), clazz=None, x=None, y=None, z=None, label=None, shape=None), Vertex(id='Vertex9', style=cssutils.css.CSSStyleDeclaration(cssText=''), clazz=None, x=None, y=None, z=None, label=None, shape=None)], legs=[Leg(id='Leg10', pdgid=11, name='e_minus', type='fermion', particle=<Particle: name=\"e-\", pdgid=11, mass=0.51099895000 ± 0.00000000015 MeV>, style=cssutils.css.CSSStyleDeclaration(cssText=''), clazz=None, label=None, momentum=Momentum(name='p1', px=None, py=None, pz=None, e=None), target='Vertex8', x=None, y=None, z=None, shape=None, sense='outgoing', external=None), Leg(id='Leg11', pdgid=-11, name='e_plus', type='anti fermion', particle=<Particle: name=\"e+\", pdgid=-11, mass=0.51099895000 ± 0.00000000015 MeV>, style=cssutils.css.CSSStyleDeclaration(cssText=''), clazz=None, label=None, momentum=Momentum(name='p2', px=None, py=None, pz=None, e=None), target='Vertex8', x=None, y=None, z=None, shape=None, sense='outgoing', external=None), Leg(id='Leg12', pdgid=2, name='u', type='fermion', particle=<Particle: name=\"u\", pdgid=2, mass=2.2 + 0.5 - 0.3 MeV>, style=cssutils.css.CSSStyleDeclaration(cssText=''), clazz=None, label=None, momentum=Momentum(name='p3', px=None, py=None, pz=None, e=None), target='Vertex9', x=None, y=None, z=None, shape=None, sense='incoming', external=None), Leg(id='Leg13', pdgid=-2, name='u_bar', type='anti fermion', particle=<Particle: name=\"u~\", pdgid=-2, mass=2.2 + 0.5 - 0.3 MeV>, style=cssutils.css.CSSStyleDeclaration(cssText=''), clazz=None, label=None, momentum=Momentum(name='p4', px=None, py=None, pz=None, e=None), target='Vertex9', x=None, y=None, z=None, shape=None, sense='incoming', external=None)], sheet=cssutils.css.CSSStyleSheet(href=None, media=None, title=None))\n"
     ]
    }
   ],
   "source": [
    "print(fml.diagrams[0].conjugated())"
   ]
  },
  {
   "cell_type": "code",
   "execution_count": 5,
   "id": "5419fde2-fb1f-4a27-ac8a-f72ed0fe931a",
   "metadata": {},
   "outputs": [
    {
     "name": "stderr",
     "output_type": "stream",
     "text": [
      "INFO:feynamp:v.color=['1']\n",
      "INFO:feynamp:v.lorentz=[FFV1]\n",
      "DEBUG:feynamp:lor='Gamma(3,2,1)'\n",
      "DEBUG:feynamp:vertex_math=[('-(ee*complex(0,1))', '1', 'Gamma(MuInProp1,SpinIn2,SpinIn1)')]\n",
      "INFO:feynamp:v.color=['Identity(1,2)']\n",
      "INFO:feynamp:v.lorentz=[FFV1]\n",
      "DEBUG:feynamp:lor='Gamma(3,2,1)'\n",
      "DEBUG:feynamp:vertex_math=[('(2*ee*complex(0,1))/3.', 'Identity(ColorOut2,ColorOut1)', 'Gamma(MuOutProp1,SpinOut1,SpinOut2)')]\n",
      "DEBUG:feynamp:ret='((-(ee*complex(0,1)))*(1)*(Gamma(MuInProp1,SpinIn2,SpinIn1))) * (((2*ee*complex(0,1))/3.)*(Identity(ColorOut2,ColorOut1))*(Gamma(MuOutProp1,SpinOut1,SpinOut2))) * (u(SpinIn1,Mom_p1)) * (v(SpinIn2,Mom_p2)) * (VC(ColorOut1,Mom_p3)*u_bar(SpinOut1,Mom_p3)) * (VC(ColorOut2,Mom_p4)*v_bar(SpinOut2,Mom_p4)) * ((-1)*complex(0,1)*Metric(MuInProp1,MuOutProp1)*Denom(-Mom_p1-Mom_p2,0)) * '\n",
      "INFO:feynamp:v.color=['1']\n",
      "INFO:feynamp:v.lorentz=[FFV1]\n",
      "DEBUG:feynamp:lor='Gamma(3,2,1)'\n",
      "DEBUG:feynamp:vertex_math=[('-(ee*complex(0,1))', '1', 'Gamma(MuOutPropagator25,SpinLeg21,SpinLeg22)')]\n",
      "INFO:feynamp:v.color=['Identity(1,2)']\n",
      "INFO:feynamp:v.lorentz=[FFV1]\n",
      "DEBUG:feynamp:lor='Gamma(3,2,1)'\n",
      "DEBUG:feynamp:vertex_math=[('(2*ee*complex(0,1))/3.', 'Identity(ColorLeg23,ColorLeg24)', 'Gamma(MuInPropagator25,SpinLeg24,SpinLeg23)')]\n",
      "DEBUG:feynamp:ret='((-(ee*complex(0,1)))*(1)*(Gamma(MuOutPropagator25,SpinLeg21,SpinLeg22))) * (((2*ee*complex(0,1))/3.)*(Identity(ColorLeg23,ColorLeg24))*(Gamma(MuInPropagator25,SpinLeg24,SpinLeg23))) * (u_bar(SpinLeg21,Mom_p1)) * (v_bar(SpinLeg22,Mom_p2)) * (VC(ColorLeg23,Mom_p3)*u(SpinLeg23,Mom_p3)) * (VC(ColorLeg24,Mom_p4)*v(SpinLeg24,Mom_p4)) * ((-1)*complex(0,1)*Metric(MuInPropagator25,MuOutPropagator25)*Denom(-Mom_p1-Mom_p2,0)) * '\n",
      "DEBUG:feynamp:lst_fd1=['((-(ee*complex(0,1)))*(1)*(Gamma(MuInProp1,SpinIn2,SpinIn1))) * (((2*ee*complex(0,1))/3.)*(Identity(ColorOut2,ColorOut1))*(Gamma(MuOutProp1,SpinOut1,SpinOut2))) * (u(SpinIn1,Mom_p1)) * (v(SpinIn2,Mom_p2)) * (VC(ColorOut1,Mom_p3)*u_bar(SpinOut1,Mom_p3)) * (VC(ColorOut2,Mom_p4)*v_bar(SpinOut2,Mom_p4)) * ((-1)*complex(0,1)*Metric(MuInProp1,MuOutProp1)*Denom(-Mom_p1-Mom_p2,0))']\n",
      "DEBUG:feynamp:lst_fd2=['((-(ee*complex(0,-1)))*(1)*(Gamma(MuOutPropagator25,SpinLeg21,SpinLeg22))) * (((2*ee*complex(0,-1))/3.)*(Identity(ColorLeg23,ColorLeg24))*(Gamma(MuInPropagator25,SpinLeg24,SpinLeg23))) * (u_bar(SpinLeg21,Mom_p1)) * (v_bar(SpinLeg22,Mom_p2)) * (VC(ColorLeg23,Mom_p3)*u(SpinLeg23,Mom_p3)) * (VC(ColorLeg24,Mom_p4)*v(SpinLeg24,Mom_p4)) * ((-1)*complex(0,-1)*Metric(MuInPropagator25,MuOutPropagator25)*Denom(-Mom_p1-Mom_p2,0))']\n",
      "DEBUG:feynamp:ferm_fac=1\n",
      "DEBUG:feynamp:s2=['(((-(ee*complex(0,1)))*(1)*(Gamma(MuInProp1,SpinIn2,SpinIn1))) * (((2*ee*complex(0,1))/3.)*(Identity(ColorOut2,ColorOut1))*(Gamma(MuOutProp1,SpinOut1,SpinOut2))) * (u(SpinIn1,Mom_p1)) * (v(SpinIn2,Mom_p2)) * (VC(ColorOut1,Mom_p3)*u_bar(SpinOut1,Mom_p3)) * (VC(ColorOut2,Mom_p4)*v_bar(SpinOut2,Mom_p4)) * ((-1)*complex(0,1)*Metric(MuInProp1,MuOutProp1)*Denom(-Mom_p1-Mom_p2,0)))*(((-(ee*complex(0,-1)))*(1)*(Gamma(MuOutPropagator25,SpinLeg21,SpinLeg22))) * (((2*ee*complex(0,-1))/3.)*(Identity(ColorLeg23,ColorLeg24))*(Gamma(MuInPropagator25,SpinLeg24,SpinLeg23))) * (u_bar(SpinLeg21,Mom_p1)) * (v_bar(SpinLeg22,Mom_p2)) * (VC(ColorLeg23,Mom_p3)*u(SpinLeg23,Mom_p3)) * (VC(ColorLeg24,Mom_p4)*v(SpinLeg24,Mom_p4)) * ((-1)*complex(0,-1)*Metric(MuInPropagator25,MuOutPropagator25)*Denom(-Mom_p1-Mom_p2,0)))*1']\n"
     ]
    },
    {
     "data": {
      "application/vnd.jupyter.widget-view+json": {
       "model_id": "ce8a6f05efce4ccd8e76454586c2259d",
       "version_major": 2,
       "version_minor": 0
      },
      "text/plain": [
       "QUEUEING TASKS | :   0%|          | 0/1 [00:00<?, ?it/s]"
      ]
     },
     "metadata": {},
     "output_type": "display_data"
    },
    {
     "data": {
      "application/vnd.jupyter.widget-view+json": {
       "model_id": "ca4d8f57881349b8911d06f16efd3a10",
       "version_major": 2,
       "version_minor": 0
      },
      "text/plain": [
       "PROCESSING TASKS | :   0%|          | 0/1 [00:00<?, ?it/s]"
      ]
     },
     "metadata": {},
     "output_type": "display_data"
    },
    {
     "data": {
      "application/vnd.jupyter.widget-view+json": {
       "model_id": "b81e2390e2ff4aa4a4cabb199e973481",
       "version_major": 2,
       "version_minor": 0
      },
      "text/plain": [
       "COLLECTING RESULTS | :   0%|          | 0/1 [00:00<?, ?it/s]"
      ]
     },
     "metadata": {},
     "output_type": "display_data"
    },
    {
     "name": "stderr",
     "output_type": "stream",
     "text": [
      "DEBUG:feynamp:pol_sums: \n"
     ]
    },
    {
     "data": {
      "application/vnd.jupyter.widget-view+json": {
       "model_id": "2efb8eaf10ac430cab915868ca9ace4b",
       "version_major": 2,
       "version_minor": 0
      },
      "text/plain": [
       "QUEUEING TASKS | :   0%|          | 0/1 [00:00<?, ?it/s]"
      ]
     },
     "metadata": {},
     "output_type": "display_data"
    },
    {
     "data": {
      "application/vnd.jupyter.widget-view+json": {
       "model_id": "711f402cf3a34088bcc0a3cc8f26d15b",
       "version_major": 2,
       "version_minor": 0
      },
      "text/plain": [
       "PROCESSING TASKS | :   0%|          | 0/1 [00:00<?, ?it/s]"
      ]
     },
     "metadata": {},
     "output_type": "display_data"
    },
    {
     "data": {
      "application/vnd.jupyter.widget-view+json": {
       "model_id": "8c582587046345449dcf8fff100db17a",
       "version_major": 2,
       "version_minor": 0
      },
      "text/plain": [
       "COLLECTING RESULTS | :   0%|          | 0/1 [00:00<?, ?it/s]"
      ]
     },
     "metadata": {},
     "output_type": "display_data"
    },
    {
     "name": "stderr",
     "output_type": "stream",
     "text": [
      "DEBUG:feynamp:rs='(32/9*Den(Mom_p1.Mom_p1+2*Mom_p1.Mom_p2+Mom_p2.Mom_p2)^2*Nc*ee^4*msu^2+32/9*Den(Mom_p1.Mom_p1+2*Mom_p1.Mom_p2+Mom_p2.Mom_p2)^2*Nc*ee^4*mst^2-64/9*Den(Mom_p1.Mom_p1+2*Mom_p1.Mom_p2+Mom_p2.Mom_p2)^2*Nc*ee^4*Mass_Me^2*msu-64/9*Den(Mom_p1.Mom_p1+2*Mom_p1.Mom_p2+Mom_p2.Mom_p2)^2*Nc*ee^4*Mass_Me^2*mst+64/9*Den(Mom_p1.Mom_p1+2*Mom_p1.Mom_p2+Mom_p2.Mom_p2)^2*Nc*ee^4*Mass_Me^2*mss+64/9*Den(Mom_p1.Mom_p1+2*Mom_p1.Mom_p2+Mom_p2.Mom_p2)^2*Nc*ee^4*Mass_Me^4)'\n"
     ]
    },
    {
     "data": {
      "application/vnd.jupyter.widget-view+json": {
       "model_id": "4cdbe78f8cde4f3fafb46ee2a6e22300",
       "version_major": 2,
       "version_minor": 0
      },
      "text/plain": [
       "QUEUEING TASKS | :   0%|          | 0/1 [00:00<?, ?it/s]"
      ]
     },
     "metadata": {},
     "output_type": "display_data"
    },
    {
     "data": {
      "application/vnd.jupyter.widget-view+json": {
       "model_id": "d9f0c50b7ed54c05b3b4dd1add2b3d11",
       "version_major": 2,
       "version_minor": 0
      },
      "text/plain": [
       "PROCESSING TASKS | :   0%|          | 0/1 [00:00<?, ?it/s]"
      ]
     },
     "metadata": {},
     "output_type": "display_data"
    },
    {
     "data": {
      "application/vnd.jupyter.widget-view+json": {
       "model_id": "6081ad29da754f3286451d150bccf436",
       "version_major": 2,
       "version_minor": 0
      },
      "text/plain": [
       "COLLECTING RESULTS | :   0%|          | 0/1 [00:00<?, ?it/s]"
      ]
     },
     "metadata": {},
     "output_type": "display_data"
    },
    {
     "name": "stderr",
     "output_type": "stream",
     "text": [
      "DEBUG:feynamp:rr='(32/9*1/(mss)^2*Nc*ee^4*msu^2+32/9*1/(mss)^2*Nc*ee^4*mst^2-64/9*1/(mss)^2*Nc*ee^4*Mass_Me^2*msu-64/9*1/(mss)^2*Nc*ee^4*Mass_Me^2*mst+64/9*1/(mss)^2*Nc*ee^4*Mass_Me^2*mss+64/9*1/(mss)^2*Nc*ee^4*Mass_Me^4)'\n",
      "DEBUG:feynamp:get_color_average():['1', '1']\n",
      "DEBUG:feynamp:get_spin_average():['1/2', '1/2']\n"
     ]
    },
    {
     "data": {
      "text/latex": [
       "$\\displaystyle \\frac{16 Mass_{Me}^{4} Nc ee^{4}}{9 s^{2}} + \\frac{16 Mass_{Me}^{2} Nc ee^{4}}{9 s} - \\frac{16 Mass_{Me}^{2} Nc ee^{4} t}{9 s^{2}} - \\frac{16 Mass_{Me}^{2} Nc ee^{4} u}{9 s^{2}} + \\frac{8 Nc ee^{4} t^{2}}{9 s^{2}} + \\frac{8 Nc ee^{4} u^{2}}{9 s^{2}}$"
      ],
      "text/plain": [
       "16*Mass_Me**4*Nc*ee**4/(9*s**2) + 16*Mass_Me**2*Nc*ee**4/(9*s) - 16*Mass_Me**2*Nc*ee**4*t/(9*s**2) - 16*Mass_Me**2*Nc*ee**4*u/(9*s**2) + 8*Nc*ee**4*t**2/(9*s**2) + 8*Nc*ee**4*u**2/(9*s**2)"
      ]
     },
     "execution_count": 5,
     "metadata": {},
     "output_type": "execute_result"
    }
   ],
   "source": [
    "born = compute_squared(fds, fm, colorcorrelated=False)\n",
    "born"
   ]
  },
  {
   "cell_type": "code",
   "execution_count": 6,
   "id": "5b1d51b5-39d7-4be2-bc2b-b31af3e99818",
   "metadata": {},
   "outputs": [
    {
     "name": "stderr",
     "output_type": "stream",
     "text": [
      "INFO:feynamp:v.color=['1']\n",
      "INFO:feynamp:v.lorentz=[FFV1]\n",
      "DEBUG:feynamp:lor='Gamma(3,2,1)'\n",
      "DEBUG:feynamp:vertex_math=[('-(ee*complex(0,1))', '1', 'Gamma(MuInProp1,SpinIn2,SpinIn1)')]\n",
      "INFO:feynamp:v.color=['Identity(1,2)']\n",
      "INFO:feynamp:v.lorentz=[FFV1]\n",
      "DEBUG:feynamp:lor='Gamma(3,2,1)'\n",
      "DEBUG:feynamp:vertex_math=[('(2*ee*complex(0,1))/3.', 'Identity(ColorOut2,ColorOut1)', 'Gamma(MuOutProp1,SpinOut1,SpinOut2)')]\n",
      "DEBUG:feynamp:ret='((-(ee*complex(0,1)))*(1)*(Gamma(MuInProp1,SpinIn2,SpinIn1))) * (((2*ee*complex(0,1))/3.)*(Identity(ColorOut2,ColorOut1))*(Gamma(MuOutProp1,SpinOut1,SpinOut2))) * (u(SpinIn1,Mom_p1)) * (v(SpinIn2,Mom_p2)) * (VC(ColorOut1,Mom_p3)*u_bar(SpinOut1,Mom_p3)) * (VC(ColorOut2,Mom_p4)*v_bar(SpinOut2,Mom_p4)) * ((-1)*complex(0,1)*Metric(MuInProp1,MuOutProp1)*Denom(-Mom_p1-Mom_p2,0)) * '\n",
      "INFO:feynamp:v.color=['1']\n",
      "INFO:feynamp:v.lorentz=[FFV1]\n",
      "DEBUG:feynamp:lor='Gamma(3,2,1)'\n",
      "DEBUG:feynamp:vertex_math=[('-(ee*complex(0,1))', '1', 'Gamma(MuOutPropagator40,SpinLeg36,SpinLeg37)')]\n",
      "INFO:feynamp:v.color=['Identity(1,2)']\n",
      "INFO:feynamp:v.lorentz=[FFV1]\n",
      "DEBUG:feynamp:lor='Gamma(3,2,1)'\n",
      "DEBUG:feynamp:vertex_math=[('(2*ee*complex(0,1))/3.', 'Identity(ColorLeg38,ColorLeg39)', 'Gamma(MuInPropagator40,SpinLeg39,SpinLeg38)')]\n",
      "DEBUG:feynamp:ret='((-(ee*complex(0,1)))*(1)*(Gamma(MuOutPropagator40,SpinLeg36,SpinLeg37))) * (((2*ee*complex(0,1))/3.)*(Identity(ColorLeg38,ColorLeg39))*(Gamma(MuInPropagator40,SpinLeg39,SpinLeg38))) * (u_bar(SpinLeg36,Mom_p1)) * (v_bar(SpinLeg37,Mom_p2)) * (VC(ColorLeg38,Mom_p3)*u(SpinLeg38,Mom_p3)) * (VC(ColorLeg39,Mom_p4)*v(SpinLeg39,Mom_p4)) * ((-1)*complex(0,1)*Metric(MuInPropagator40,MuOutPropagator40)*Denom(-Mom_p1-Mom_p2,0)) * '\n",
      "DEBUG:feynamp:lst_fd1=['((-(ee*complex(0,1)))*(1)*(Gamma(MuInProp1,SpinIn2,SpinIn1))) * (((2*ee*complex(0,1))/3.)*(Identity(ColorOut2,ColorOut1))*(Gamma(MuOutProp1,SpinOut1,SpinOut2))) * (u(SpinIn1,Mom_p1)) * (v(SpinIn2,Mom_p2)) * (VC(ColorOut1,Mom_p3)*u_bar(SpinOut1,Mom_p3)) * (VC(ColorOut2,Mom_p4)*v_bar(SpinOut2,Mom_p4)) * ((-1)*complex(0,1)*Metric(MuInProp1,MuOutProp1)*Denom(-Mom_p1-Mom_p2,0))']\n",
      "DEBUG:feynamp:lst_fd2=['((-(ee*complex(0,-1)))*(1)*(Gamma(MuOutPropagator40,SpinLeg36,SpinLeg37))) * (((2*ee*complex(0,-1))/3.)*(Identity(ColorLeg38,ColorLeg39))*(Gamma(MuInPropagator40,SpinLeg39,SpinLeg38))) * (u_bar(SpinLeg36,Mom_p1)) * (v_bar(SpinLeg37,Mom_p2)) * (VC(ColorLeg38,Mom_p3)*u(SpinLeg38,Mom_p3)) * (VC(ColorLeg39,Mom_p4)*v(SpinLeg39,Mom_p4)) * ((-1)*complex(0,-1)*Metric(MuInPropagator40,MuOutPropagator40)*Denom(-Mom_p1-Mom_p2,0))']\n",
      "DEBUG:feynamp:ferm_fac=1\n",
      "DEBUG:feynamp:s2=['(((-(ee*complex(0,1)))*(1)*(Gamma(MuInProp1,SpinIn2,SpinIn1))) * (((2*ee*complex(0,1))/3.)*(Identity(ColorOut2,ColorOut1))*(Gamma(MuOutProp1,SpinOut1,SpinOut2))) * (u(SpinIn1,Mom_p1)) * (v(SpinIn2,Mom_p2)) * (VC(ColorOut1,Mom_p3)*u_bar(SpinOut1,Mom_p3)) * (VC(ColorOut2,Mom_p4)*v_bar(SpinOut2,Mom_p4)) * ((-1)*complex(0,1)*Metric(MuInProp1,MuOutProp1)*Denom(-Mom_p1-Mom_p2,0)))*(((-(ee*complex(0,-1)))*(1)*(Gamma(MuOutPropagator40,SpinLeg36,SpinLeg37))) * (((2*ee*complex(0,-1))/3.)*(Identity(ColorLeg38,ColorLeg39))*(Gamma(MuInPropagator40,SpinLeg39,SpinLeg38))) * (u_bar(SpinLeg36,Mom_p1)) * (v_bar(SpinLeg37,Mom_p2)) * (VC(ColorLeg38,Mom_p3)*u(SpinLeg38,Mom_p3)) * (VC(ColorLeg39,Mom_p4)*v(SpinLeg39,Mom_p4)) * ((-1)*complex(0,-1)*Metric(MuInPropagator40,MuOutPropagator40)*Denom(-Mom_p1-Mom_p2,0)))*1']\n"
     ]
    },
    {
     "name": "stdout",
     "output_type": "stream",
     "text": [
      "\n",
      "    id VC(ColorN11?,Mom_p3)*VC(ColorOut1 ,Mom_p3)*VC(ColorOut2 ,Mom_p4)*VC(ColorN12?,Mom_p4) = \n",
      "colorcorrelation(Mom_p3,Mom_p3)*(-1)*T(ColorN11,ColorOut1,GluN13)*(-1)*T(ColorN11,ColorOut1,GluN13)*df(ColorOut2,ColorN12)+\n",
      "colorcorrelation(Mom_p3,Mom_p4)*(-1)*T(ColorN11,ColorOut1,GluN13)*T(ColorOut2,ColorN12,GluN13)+\n",
      "colorcorrelation(Mom_p4,Mom_p3)*T(ColorOut2,ColorN12,GluN13)*(-1)*T(ColorN11,ColorOut1,GluN13)+\n",
      "colorcorrelation(Mom_p4,Mom_p4)*T(ColorOut2,ColorN12,GluN13)*T(ColorOut2,ColorN12,GluN13)*df(ColorOut1,ColorN11);\n",
      "    \n"
     ]
    },
    {
     "data": {
      "application/vnd.jupyter.widget-view+json": {
       "model_id": "4acb804612e64dd2aee01f94b3d5d17c",
       "version_major": 2,
       "version_minor": 0
      },
      "text/plain": [
       "QUEUEING TASKS | :   0%|          | 0/1 [00:00<?, ?it/s]"
      ]
     },
     "metadata": {},
     "output_type": "display_data"
    },
    {
     "data": {
      "application/vnd.jupyter.widget-view+json": {
       "model_id": "cba6971be45947fc8c6a631d1c9406f7",
       "version_major": 2,
       "version_minor": 0
      },
      "text/plain": [
       "PROCESSING TASKS | :   0%|          | 0/1 [00:00<?, ?it/s]"
      ]
     },
     "metadata": {},
     "output_type": "display_data"
    },
    {
     "data": {
      "application/vnd.jupyter.widget-view+json": {
       "model_id": "b845e17c803e44beb85c0ff736ac1d3b",
       "version_major": 2,
       "version_minor": 0
      },
      "text/plain": [
       "COLLECTING RESULTS | :   0%|          | 0/1 [00:00<?, ?it/s]"
      ]
     },
     "metadata": {},
     "output_type": "display_data"
    },
    {
     "name": "stderr",
     "output_type": "stream",
     "text": [
      "DEBUG:feynamp:pol_sums: \n"
     ]
    },
    {
     "data": {
      "application/vnd.jupyter.widget-view+json": {
       "model_id": "5632755ed55e4bb1a7c94f6f2ff942d9",
       "version_major": 2,
       "version_minor": 0
      },
      "text/plain": [
       "QUEUEING TASKS | :   0%|          | 0/1 [00:00<?, ?it/s]"
      ]
     },
     "metadata": {},
     "output_type": "display_data"
    },
    {
     "data": {
      "application/vnd.jupyter.widget-view+json": {
       "model_id": "3a94c855c38b49db99c1ce4978b46c41",
       "version_major": 2,
       "version_minor": 0
      },
      "text/plain": [
       "PROCESSING TASKS | :   0%|          | 0/1 [00:00<?, ?it/s]"
      ]
     },
     "metadata": {},
     "output_type": "display_data"
    },
    {
     "data": {
      "application/vnd.jupyter.widget-view+json": {
       "model_id": "3b926ed358e6405a832d42bb9b628364",
       "version_major": 2,
       "version_minor": 0
      },
      "text/plain": [
       "COLLECTING RESULTS | :   0%|          | 0/1 [00:00<?, ?it/s]"
      ]
     },
     "metadata": {},
     "output_type": "display_data"
    },
    {
     "name": "stderr",
     "output_type": "stream",
     "text": [
      "DEBUG:feynamp:rs=\"(Command '['form', '/tmp/tmpbt5ui8zx.frm']' returned non-zero exit status 1.)\"\n",
      "DEBUG:feynamp:rr=\"(Command '['form', '/tmp/tmpbt5ui8zx.frm']' returned non-zero exit status 1.)\"\n"
     ]
    },
    {
     "ename": "SyntaxError",
     "evalue": "invalid syntax. Perhaps you forgot a comma? (<string>, line 1)",
     "output_type": "error",
     "traceback": [
      "\u001b[0;31mValueError\u001b[0m\u001b[0;31m:\u001b[0m Error from parse_expr with transformed code: \"(Symbol ('Command' )'['Symbol ('form' )', '/Symbol ('tmp' )/Symbol ('tmpbt5ui8zx_frm' )']'Symbol ('returned' )Symbol ('non' )-Symbol ('zero' )Symbol ('exit' )Symbol ('status' )Integer (1 )Symbol ('_' ))\"\n",
      "\nThe above exception was the direct cause of the following exception:\n",
      "Traceback \u001b[0;36m(most recent call last)\u001b[0m:\n",
      "\u001b[0m  File \u001b[1;32m~/.cache/pypoetry/virtualenvs/feynamp-Qlj-evnL-py3.11/lib/python3.11/site-packages/IPython/core/interactiveshell.py:3508\u001b[0m in \u001b[1;35mrun_code\u001b[0m\n    exec(code_obj, self.user_global_ns, self.user_ns)\u001b[0m\n",
      "\u001b[0m  Cell \u001b[1;32mIn[6], line 1\u001b[0m\n    ret = compute_squared(fds, fm, colorcorrelated=True)\u001b[0m\n",
      "\u001b[0m  File \u001b[1;32m~/git/feynamp/feynamp/form/__init__.py:79\u001b[0m in \u001b[1;35mcompute_squared\u001b[0m\n    ret = sympy.parse_expr(\u001b[0m\n",
      "\u001b[0m  File \u001b[1;32m~/.cache/pypoetry/virtualenvs/feynamp-Qlj-evnL-py3.11/lib/python3.11/site-packages/sympy/parsing/sympy_parser.py:1087\u001b[0m in \u001b[1;35mparse_expr\u001b[0m\n    raise e from ValueError(f\"Error from parse_expr with transformed code: {code!r}\")\u001b[0m\n",
      "\u001b[0m  File \u001b[1;32m~/.cache/pypoetry/virtualenvs/feynamp-Qlj-evnL-py3.11/lib/python3.11/site-packages/sympy/parsing/sympy_parser.py:1078\u001b[0m in \u001b[1;35mparse_expr\u001b[0m\n    rv = eval_expr(code, local_dict, global_dict)\u001b[0m\n",
      "\u001b[0;36m  File \u001b[0;32m~/.cache/pypoetry/virtualenvs/feynamp-Qlj-evnL-py3.11/lib/python3.11/site-packages/sympy/parsing/sympy_parser.py:906\u001b[0;36m in \u001b[0;35meval_expr\u001b[0;36m\n\u001b[0;31m    expr = eval(\u001b[0;36m\n",
      "\u001b[0;36m  File \u001b[0;32m<string>:1\u001b[0;36m\u001b[0m\n\u001b[0;31m    (Symbol ('Command' )'['Symbol ('form' )', '/Symbol ('tmp' )/Symbol ('tmpbt5ui8zx_frm' )']'Symbol ('returned' )Symbol ('non' )-Symbol ('zero' )Symbol ('exit' )Symbol ('status' )Integer (1 )Symbol ('_' ))\u001b[0m\n\u001b[0m     ^\u001b[0m\n\u001b[0;31mSyntaxError\u001b[0m\u001b[0;31m:\u001b[0m invalid syntax. Perhaps you forgot a comma?\n"
     ]
    }
   ],
   "source": [
    "ret = compute_squared(fds, fm, colorcorrelated=True)\n",
    "ret"
   ]
  },
  {
   "cell_type": "code",
   "execution_count": null,
   "id": "a9b7c10e-6614-4b14-a448-b0b25a3141f9",
   "metadata": {},
   "outputs": [],
   "source": [
    "(ret/born).simplify()"
   ]
  },
  {
   "cell_type": "code",
   "execution_count": null,
   "id": "cc4062e9-863e-4a9b-b8d3-38f79425549d",
   "metadata": {},
   "outputs": [],
   "source": [
    "sympy.python((ret/born).simplify())"
   ]
  },
  {
   "cell_type": "code",
   "execution_count": null,
   "id": "8a6ccd74-c426-4744-a5e6-f35a248d9822",
   "metadata": {},
   "outputs": [],
   "source": [
    "fds"
   ]
  },
  {
   "cell_type": "code",
   "execution_count": null,
   "id": "c2b67c21-908a-4d92-b982-e6b1030260a0",
   "metadata": {},
   "outputs": [],
   "source": []
  }
 ],
 "metadata": {
  "kernelspec": {
   "display_name": "Python 3 (ipykernel)",
   "language": "python",
   "name": "python3"
  },
  "language_info": {
   "codemirror_mode": {
    "name": "ipython",
    "version": 3
   },
   "file_extension": ".py",
   "mimetype": "text/x-python",
   "name": "python",
   "nbconvert_exporter": "python",
   "pygments_lexer": "ipython3",
   "version": "3.11.9"
  }
 },
 "nbformat": 4,
 "nbformat_minor": 5
}
