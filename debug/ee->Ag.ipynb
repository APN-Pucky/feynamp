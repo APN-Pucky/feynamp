{
 "cells": [
  {
   "cell_type": "code",
   "execution_count": 1,
   "id": "6a60189b-e7d5-478e-811d-634b571c06cb",
   "metadata": {},
   "outputs": [
    {
     "name": "stdout",
     "output_type": "stream",
     "text": [
      "\n",
      "\tPlease cite the following papers if you use this code:\n",
      "\n",
      "      [1] Automatic Feynman graph generation J. Comput. Phys. 105 (1993) 279--289 https://doi.org/10.1006/jcph.1993.1074\n",
      "\n",
      "      [2] Abusing Qgraf Nucl. Instrum. Methods Phys. Res. A 559 (2006) 220--223 https://doi.org/10.1016/j.nima.2005.11.151\n",
      "\n",
      "      [3] Feynman graph generation and propagator mixing, I Comput. Phys. Commun. 269 (2021) 108103 https://doi.org/10.1016/j.cpc.2021.108103\n",
      "\n",
      "\t\n"
     ]
    }
   ],
   "source": [
    "import logging\n",
    "\n",
    "import equation_database.isbn_9780511628788 as ref\n",
    "import sympy\n",
    "from feynml.interface.qgraf import style\n",
    "from feynmodel.interface.qgraf import feynmodel_to_qgraf\n",
    "from feynmodel.interface.ufo import load_ufo_model\n",
    "from pyfeyn2.feynmandiagram import FeynML\n",
    "from pyqgraf import qgraf\n",
    "from xsdata.formats.dataclass.parsers import XmlParser\n",
    "\n",
    "from feynamp.form import compute_squared\n",
    "\n",
    "logger = logging.getLogger(\"feynamp\")\n",
    "logger.setLevel(logging.DEBUG)"
   ]
  },
  {
   "cell_type": "code",
   "execution_count": 2,
   "id": "79ee9c01-3e18-4158-ac8f-0e9c0b38227e",
   "metadata": {},
   "outputs": [
    {
     "data": {
      "image/png": "[encoded data removed]",
      "text/plain": [
       "<wand.image.Image: 5173e21 'PDF' (394x395)>"
      ]
     },
     "metadata": {},
     "output_type": "display_data"
    }
   ],
   "source": [
    "    fm = load_ufo_model(\"ufo_sm\")\n",
    "    qfm = feynmodel_to_qgraf(fm, True, False)\n",
    "\n",
    "    qgraf.install()\n",
    "    xml_string = qgraf.run(\n",
    "        \"e_minus[p1], e_plus[p2]\",\n",
    "        \"gamma[p3], gamma[p4]\",\n",
    "        loops=0,\n",
    "        loop_momentum=\"l\",\n",
    "        model=qfm,\n",
    "        style=style,\n",
    "    )\n",
    "\n",
    "    parser = XmlParser()\n",
    "    fml = parser.from_string(xml_string, FeynML)\n",
    "    fds = [fml.diagrams[\n",
    "           0\n",
    "           \n",
    "          ]]\n",
    "    fds[0]"
   ]
  },
  {
   "cell_type": "code",
   "execution_count": 3,
   "id": "0e48952a-3e88-401f-a4fc-1289c36aa9d2",
   "metadata": {},
   "outputs": [
    {
     "name": "stderr",
     "output_type": "stream",
     "text": [
      "INFO:feynamp:v.color=['1']\n",
      "INFO:feynamp:v.lorentz=[FFV1]\n",
      "DEBUG:feynamp:lor='Gamma(3,2,1)'\n",
      "DEBUG:feynamp:vertex_math=[('-(ee*complex(0,1))', '1', 'Gamma(MuOut1,SpinOutProp1,SpinIn1)')]\n",
      "INFO:feynamp:v.color=['1']\n",
      "INFO:feynamp:v.lorentz=[FFV1]\n",
      "DEBUG:feynamp:lor='Gamma(3,2,1)'\n",
      "DEBUG:feynamp:vertex_math=[('-(ee*complex(0,1))', '1', 'Gamma(MuOut2,SpinIn2,SpinInProp1)')]\n",
      "DEBUG:feynamp:ret='((-(ee*complex(0,1)))*(1)*(Gamma(MuOut1,SpinOutProp1,SpinIn1))) * ((-(ee*complex(0,1)))*(1)*(Gamma(MuOut2,SpinIn2,SpinInProp1))) * (u(SpinIn1,Mom_p1)) * (v(SpinIn2,Mom_p2)) * (eps_star(MuOut1,PolOut1,Mom_p3)*VPol(PolOut1,Mom_p3)) * (eps_star(MuOut2,PolOut2,Mom_p4)*VPol(PolOut2,Mom_p4)) * (complex(0,1)*(P(Mu12,Mom_p1-Mom_p3)*Gamma(Mu12,SpinInProp1,SpinOutProp1) + Mass_Me*GammaId(SpinInProp1,SpinOutProp1))*Denom(Mom_p1-Mom_p3,Mass_Me)) * '\n",
      "INFO:feynamp:v.color=['1']\n",
      "INFO:feynamp:v.lorentz=[FFV1]\n",
      "DEBUG:feynamp:lor='Gamma(3,2,1)'\n",
      "DEBUG:feynamp:vertex_math=[('-(ee*complex(0,1))', '1', 'Gamma(MuLeg17,SpinLeg15,SpinInPropagator19)')]\n",
      "INFO:feynamp:v.color=['1']\n",
      "INFO:feynamp:v.lorentz=[FFV1]\n",
      "DEBUG:feynamp:lor='Gamma(3,2,1)'\n",
      "DEBUG:feynamp:vertex_math=[('-(ee*complex(0,1))', '1', 'Gamma(MuLeg18,SpinOutPropagator19,SpinLeg16)')]\n",
      "DEBUG:feynamp:ret='((-(ee*complex(0,1)))*(1)*(Gamma(MuLeg17,SpinLeg15,SpinInPropagator19))) * ((-(ee*complex(0,1)))*(1)*(Gamma(MuLeg18,SpinOutPropagator19,SpinLeg16))) * (u_bar(SpinLeg15,Mom_p1)) * (v_bar(SpinLeg16,Mom_p2)) * (eps(MuLeg17,PolLeg17,Mom_p3)*VPol(PolLeg17,Mom_p3)) * (eps(MuLeg18,PolLeg18,Mom_p4)*VPol(PolLeg18,Mom_p4)) * (complex(0,1)*(P(Mu24,Mom_p1-Mom_p3)*Gamma(Mu24,SpinInPropagator19,SpinOutPropagator19) + Mass_Me*GammaId(SpinInPropagator19,SpinOutPropagator19))*Denom(Mom_p1-Mom_p3,Mass_Me)) * '\n",
      "DEBUG:feynamp:lst_fd1=['((-(ee*complex(0,1)))*(1)*(Gamma(MuOut1,SpinOutProp1,SpinIn1))) * ((-(ee*complex(0,1)))*(1)*(Gamma(MuOut2,SpinIn2,SpinInProp1))) * (u(SpinIn1,Mom_p1)) * (v(SpinIn2,Mom_p2)) * (eps_star(MuOut1,PolOut1,Mom_p3)*VPol(PolOut1,Mom_p3)) * (eps_star(MuOut2,PolOut2,Mom_p4)*VPol(PolOut2,Mom_p4)) * (complex(0,1)*(P(Mu12,Mom_p1-Mom_p3)*Gamma(Mu12,SpinInProp1,SpinOutProp1) + Mass_Me*GammaId(SpinInProp1,SpinOutProp1))*Denom(Mom_p1-Mom_p3,Mass_Me))']\n",
      "DEBUG:feynamp:lst_fd2=['((-(ee*complex(0,-1)))*(1)*(Gamma(MuLeg17,SpinLeg15,SpinInPropagator19))) * ((-(ee*complex(0,-1)))*(1)*(Gamma(MuLeg18,SpinOutPropagator19,SpinLeg16))) * (u_bar(SpinLeg15,Mom_p1)) * (v_bar(SpinLeg16,Mom_p2)) * (eps(MuLeg17,PolLeg17,Mom_p3)*VPol(PolLeg17,Mom_p3)) * (eps(MuLeg18,PolLeg18,Mom_p4)*VPol(PolLeg18,Mom_p4)) * (complex(0,-1)*(P(Mu24,Mom_p1-Mom_p3)*Gamma(Mu24,SpinInPropagator19,SpinOutPropagator19) + Mass_Me*GammaId(SpinInPropagator19,SpinOutPropagator19))*Denom(Mom_p1-Mom_p3,Mass_Me))']\n",
      "DEBUG:feynamp:ferm_fac=1\n",
      "DEBUG:feynamp:s2=['(((-(ee*complex(0,1)))*(1)*(Gamma(MuOut1,SpinOutProp1,SpinIn1))) * ((-(ee*complex(0,1)))*(1)*(Gamma(MuOut2,SpinIn2,SpinInProp1))) * (u(SpinIn1,Mom_p1)) * (v(SpinIn2,Mom_p2)) * (eps_star(MuOut1,PolOut1,Mom_p3)*VPol(PolOut1,Mom_p3)) * (eps_star(MuOut2,PolOut2,Mom_p4)*VPol(PolOut2,Mom_p4)) * (complex(0,1)*(P(Mu12,Mom_p1-Mom_p3)*Gamma(Mu12,SpinInProp1,SpinOutProp1) + Mass_Me*GammaId(SpinInProp1,SpinOutProp1))*Denom(Mom_p1-Mom_p3,Mass_Me)))*(((-(ee*complex(0,-1)))*(1)*(Gamma(MuLeg17,SpinLeg15,SpinInPropagator19))) * ((-(ee*complex(0,-1)))*(1)*(Gamma(MuLeg18,SpinOutPropagator19,SpinLeg16))) * (u_bar(SpinLeg15,Mom_p1)) * (v_bar(SpinLeg16,Mom_p2)) * (eps(MuLeg17,PolLeg17,Mom_p3)*VPol(PolLeg17,Mom_p3)) * (eps(MuLeg18,PolLeg18,Mom_p4)*VPol(PolLeg18,Mom_p4)) * (complex(0,-1)*(P(Mu24,Mom_p1-Mom_p3)*Gamma(Mu24,SpinInPropagator19,SpinOutPropagator19) + Mass_Me*GammaId(SpinInPropagator19,SpinOutPropagator19))*Denom(Mom_p1-Mom_p3,Mass_Me)))*PREFACTOR*1']\n"
     ]
    },
    {
     "data": {
      "application/vnd.jupyter.widget-view+json": {
       "model_id": "bf1683fdef3740f1951c54b374b2bb86",
       "version_major": 2,
       "version_minor": 0
      },
      "text/plain": [
       "QUEUEING TASKS | :   0%|          | 0/1 [00:00<?, ?it/s]"
      ]
     },
     "metadata": {},
     "output_type": "display_data"
    },
    {
     "data": {
      "application/vnd.jupyter.widget-view+json": {
       "model_id": "d386b07455694f19a0debd9783cdcb6b",
       "version_major": 2,
       "version_minor": 0
      },
      "text/plain": [
       "PROCESSING TASKS | :   0%|          | 0/1 [00:00<?, ?it/s]"
      ]
     },
     "metadata": {},
     "output_type": "display_data"
    },
    {
     "data": {
      "application/vnd.jupyter.widget-view+json": {
       "model_id": "8f8166b086f14da08a433ab96994444d",
       "version_major": 2,
       "version_minor": 0
      },
      "text/plain": [
       "COLLECTING RESULTS | :   0%|          | 0/1 [00:00<?, ?it/s]"
      ]
     },
     "metadata": {},
     "output_type": "display_data"
    },
    {
     "name": "stderr",
     "output_type": "stream",
     "text": [
      "DEBUG:feynamp:pol_sums: \n",
      "    repeat;\n",
      "    id VPol(Polb?,Moma?) * VPol(Pold?,Moma?) = d_(Polb,Pold);\n",
      "    endrepeat;\n",
      "    \n",
      "    id epsstar(Muc?,Polb?,Mom_p3) * eps(Mul?,Polb?,Mom_p3) = -Metric(Mul,Muc);\n",
      "    \n",
      "    id epsstar(Muc?,Polb?,Mom_p4) * eps(Mul?,Polb?,Mom_p4) = -Metric(Mul,Muc);\n",
      "    \n"
     ]
    },
    {
     "data": {
      "application/vnd.jupyter.widget-view+json": {
       "model_id": "915aa401134b4bcb83a7e7f0225e2d53",
       "version_major": 2,
       "version_minor": 0
      },
      "text/plain": [
       "QUEUEING TASKS | :   0%|          | 0/1 [00:00<?, ?it/s]"
      ]
     },
     "metadata": {},
     "output_type": "display_data"
    },
    {
     "data": {
      "application/vnd.jupyter.widget-view+json": {
       "model_id": "b0b68f20eb544fc89612c0d0d5932d3a",
       "version_major": 2,
       "version_minor": 0
      },
      "text/plain": [
       "PROCESSING TASKS | :   0%|          | 0/1 [00:00<?, ?it/s]"
      ]
     },
     "metadata": {},
     "output_type": "display_data"
    },
    {
     "data": {
      "application/vnd.jupyter.widget-view+json": {
       "model_id": "827a7df8f68e433ba58886232b1e1e4d",
       "version_major": 2,
       "version_minor": 0
      },
      "text/plain": [
       "COLLECTING RESULTS | :   0%|          | 0/1 [00:00<?, ?it/s]"
      ]
     },
     "metadata": {},
     "output_type": "display_data"
    },
    {
     "name": "stderr",
     "output_type": "stream",
     "text": [
      "DEBUG:feynamp:rs='(8*Den(-Mass_Me^2+Mom_p1.Mom_p1-2*Mom_p1.Mom_p3+Mom_p3.Mom_p3)^2*ee^4*PREFACTOR*mst*msu-24*Den(-Mass_Me^2+Mom_p1.Mom_p1-2*Mom_p1.Mom_p3+Mom_p3.Mom_p3)^2*ee^4*PREFACTOR*Mass_Me^2*msu-40*Den(-Mass_Me^2+Mom_p1.Mom_p1-2*Mom_p1.Mom_p3+Mom_p3.Mom_p3)^2*ee^4*PREFACTOR*Mass_Me^2*mst-16*Den(-Mass_Me^2+Mom_p1.Mom_p1-2*Mom_p1.Mom_p3+Mom_p3.Mom_p3)^2*ee^4*PREFACTOR*Mass_Me^2*mss+24*Den(-Mass_Me^2+Mom_p1.Mom_p1-2*Mom_p1.Mom_p3+Mom_p3.Mom_p3)^2*ee^4*PREFACTOR*Mass_Me^4)'\n"
     ]
    },
    {
     "data": {
      "application/vnd.jupyter.widget-view+json": {
       "model_id": "1b53886ce07448a8a2153a94669861a7",
       "version_major": 2,
       "version_minor": 0
      },
      "text/plain": [
       "QUEUEING TASKS | :   0%|          | 0/1 [00:00<?, ?it/s]"
      ]
     },
     "metadata": {},
     "output_type": "display_data"
    },
    {
     "data": {
      "application/vnd.jupyter.widget-view+json": {
       "model_id": "c17db629dc17479fb7806e199e0466de",
       "version_major": 2,
       "version_minor": 0
      },
      "text/plain": [
       "PROCESSING TASKS | :   0%|          | 0/1 [00:00<?, ?it/s]"
      ]
     },
     "metadata": {},
     "output_type": "display_data"
    },
    {
     "data": {
      "application/vnd.jupyter.widget-view+json": {
       "model_id": "6b21d44454964e229324e0b73e22bf04",
       "version_major": 2,
       "version_minor": 0
      },
      "text/plain": [
       "COLLECTING RESULTS | :   0%|          | 0/1 [00:00<?, ?it/s]"
      ]
     },
     "metadata": {},
     "output_type": "display_data"
    },
    {
     "name": "stderr",
     "output_type": "stream",
     "text": [
      "DEBUG:feynamp:rr='(8*1/(mst-Mass_Me^2)^2*ee^4*PREFACTOR*mst*msu-24*1/(mst-Mass_Me^2)^2*ee^4*PREFACTOR*Mass_Me^2*msu-40*1/(mst-Mass_Me^2)^2*ee^4*PREFACTOR*Mass_Me^2*mst-16*1/(mst-Mass_Me^2)^2*ee^4*PREFACTOR*Mass_Me^2*mss+24*1/(mst-Mass_Me^2)^2*ee^4*PREFACTOR*Mass_Me^4)'\n",
      "DEBUG:feynamp:get_color_average():['1', '1']\n",
      "DEBUG:feynamp:get_spin_average():['1/2', '1/2']\n"
     ]
    },
    {
     "data": {
      "text/latex": [
       "$\\displaystyle \\frac{6 Mass_{Me}^{4} ee^{4}}{\\left(- Mass_{Me}^{2} + t\\right)^{2}} - \\frac{4 Mass_{Me}^{2} ee^{4} s}{\\left(- Mass_{Me}^{2} + t\\right)^{2}} - \\frac{10 Mass_{Me}^{2} ee^{4} t}{\\left(- Mass_{Me}^{2} + t\\right)^{2}} - \\frac{6 Mass_{Me}^{2} ee^{4} u}{\\left(- Mass_{Me}^{2} + t\\right)^{2}} + \\frac{2 ee^{4} t u}{\\left(- Mass_{Me}^{2} + t\\right)^{2}}$"
      ],
      "text/plain": [
       "6*Mass_Me**4*ee**4/(-Mass_Me**2 + t)**2 - 4*Mass_Me**2*ee**4*s/(-Mass_Me**2 + t)**2 - 10*Mass_Me**2*ee**4*t/(-Mass_Me**2 + t)**2 - 6*Mass_Me**2*ee**4*u/(-Mass_Me**2 + t)**2 + 2*ee**4*t*u/(-Mass_Me**2 + t)**2"
      ]
     },
     "execution_count": 3,
     "metadata": {},
     "output_type": "execute_result"
    }
   ],
   "source": [
    "born = compute_squared(fds, fm, colorcorrelated=False)\n",
    "born"
   ]
  },
  {
   "cell_type": "code",
   "execution_count": 4,
   "id": "69bf175f-fb3c-4e0a-aadd-9b235cf236df",
   "metadata": {},
   "outputs": [
    {
     "name": "stderr",
     "output_type": "stream",
     "text": [
      "INFO:feynamp:v.color=['1']\n",
      "INFO:feynamp:v.lorentz=[FFV1]\n",
      "DEBUG:feynamp:lor='Gamma(3,2,1)'\n",
      "DEBUG:feynamp:vertex_math=[('-(ee*complex(0,1))', '1', 'Gamma(MuOut1,SpinOutProp1,SpinIn1)')]\n",
      "INFO:feynamp:v.color=['1']\n",
      "INFO:feynamp:v.lorentz=[FFV1]\n",
      "DEBUG:feynamp:lor='Gamma(3,2,1)'\n",
      "DEBUG:feynamp:vertex_math=[('-(ee*complex(0,1))', '1', 'Gamma(MuOut2,SpinIn2,SpinInProp1)')]\n",
      "DEBUG:feynamp:ret='((-(ee*complex(0,1)))*(1)*(Gamma(MuOut1,SpinOutProp1,SpinIn1))) * ((-(ee*complex(0,1)))*(1)*(Gamma(MuOut2,SpinIn2,SpinInProp1))) * (u(SpinIn1,Mom_p1)) * (v(SpinIn2,Mom_p2)) * (eps_star(MuOut1,PolOut1,Mom_p3)*VPol(PolOut1,Mom_p3)) * (eps_star(MuOut2,PolOut2,Mom_p4)*VPol(PolOut2,Mom_p4)) * (complex(0,1)*(P(Mu29,Mom_p1-Mom_p3)*Gamma(Mu29,SpinInProp1,SpinOutProp1) + Mass_Me*GammaId(SpinInProp1,SpinOutProp1))*Denom(Mom_p1-Mom_p3,Mass_Me)) * '\n",
      "INFO:feynamp:v.color=['1']\n",
      "INFO:feynamp:v.lorentz=[FFV1]\n",
      "DEBUG:feynamp:lor='Gamma(3,2,1)'\n",
      "DEBUG:feynamp:vertex_math=[('-(ee*complex(0,1))', '1', 'Gamma(MuLeg34,SpinLeg32,SpinInPropagator36)')]\n",
      "INFO:feynamp:v.color=['1']\n",
      "INFO:feynamp:v.lorentz=[FFV1]\n",
      "DEBUG:feynamp:lor='Gamma(3,2,1)'\n",
      "DEBUG:feynamp:vertex_math=[('-(ee*complex(0,1))', '1', 'Gamma(MuLeg35,SpinOutPropagator36,SpinLeg33)')]\n",
      "DEBUG:feynamp:ret='((-(ee*complex(0,1)))*(1)*(Gamma(MuLeg34,SpinLeg32,SpinInPropagator36))) * ((-(ee*complex(0,1)))*(1)*(Gamma(MuLeg35,SpinOutPropagator36,SpinLeg33))) * (u_bar(SpinLeg32,Mom_p1)) * (v_bar(SpinLeg33,Mom_p2)) * (eps(MuLeg34,PolLeg34,Mom_p3)*VPol(PolLeg34,Mom_p3)) * (eps(MuLeg35,PolLeg35,Mom_p4)*VPol(PolLeg35,Mom_p4)) * (complex(0,1)*(P(Mu41,Mom_p1-Mom_p3)*Gamma(Mu41,SpinInPropagator36,SpinOutPropagator36) + Mass_Me*GammaId(SpinInPropagator36,SpinOutPropagator36))*Denom(Mom_p1-Mom_p3,Mass_Me)) * '\n",
      "DEBUG:feynamp:lst_fd1=['((-(ee*complex(0,1)))*(1)*(Gamma(MuOut1,SpinOutProp1,SpinIn1))) * ((-(ee*complex(0,1)))*(1)*(Gamma(MuOut2,SpinIn2,SpinInProp1))) * (u(SpinIn1,Mom_p1)) * (v(SpinIn2,Mom_p2)) * (eps_star(MuOut1,PolOut1,Mom_p3)*VPol(PolOut1,Mom_p3)) * (eps_star(MuOut2,PolOut2,Mom_p4)*VPol(PolOut2,Mom_p4)) * (complex(0,1)*(P(Mu29,Mom_p1-Mom_p3)*Gamma(Mu29,SpinInProp1,SpinOutProp1) + Mass_Me*GammaId(SpinInProp1,SpinOutProp1))*Denom(Mom_p1-Mom_p3,Mass_Me))']\n",
      "DEBUG:feynamp:lst_fd2=['((-(ee*complex(0,-1)))*(1)*(Gamma(MuLeg34,SpinLeg32,SpinInPropagator36))) * ((-(ee*complex(0,-1)))*(1)*(Gamma(MuLeg35,SpinOutPropagator36,SpinLeg33))) * (u_bar(SpinLeg32,Mom_p1)) * (v_bar(SpinLeg33,Mom_p2)) * (eps(MuLeg34,PolLeg34,Mom_p3)*VPol(PolLeg34,Mom_p3)) * (eps(MuLeg35,PolLeg35,Mom_p4)*VPol(PolLeg35,Mom_p4)) * (complex(0,-1)*(P(Mu41,Mom_p1-Mom_p3)*Gamma(Mu41,SpinInPropagator36,SpinOutPropagator36) + Mass_Me*GammaId(SpinInPropagator36,SpinOutPropagator36))*Denom(Mom_p1-Mom_p3,Mass_Me))']\n",
      "DEBUG:feynamp:ferm_fac=1\n",
      "DEBUG:feynamp:s2=['(((-(ee*complex(0,1)))*(1)*(Gamma(MuOut1,SpinOutProp1,SpinIn1))) * ((-(ee*complex(0,1)))*(1)*(Gamma(MuOut2,SpinIn2,SpinInProp1))) * (u(SpinIn1,Mom_p1)) * (v(SpinIn2,Mom_p2)) * (eps_star(MuOut1,PolOut1,Mom_p3)*VPol(PolOut1,Mom_p3)) * (eps_star(MuOut2,PolOut2,Mom_p4)*VPol(PolOut2,Mom_p4)) * (complex(0,1)*(P(Mu29,Mom_p1-Mom_p3)*Gamma(Mu29,SpinInProp1,SpinOutProp1) + Mass_Me*GammaId(SpinInProp1,SpinOutProp1))*Denom(Mom_p1-Mom_p3,Mass_Me)))*(((-(ee*complex(0,-1)))*(1)*(Gamma(MuLeg34,SpinLeg32,SpinInPropagator36))) * ((-(ee*complex(0,-1)))*(1)*(Gamma(MuLeg35,SpinOutPropagator36,SpinLeg33))) * (u_bar(SpinLeg32,Mom_p1)) * (v_bar(SpinLeg33,Mom_p2)) * (eps(MuLeg34,PolLeg34,Mom_p3)*VPol(PolLeg34,Mom_p3)) * (eps(MuLeg35,PolLeg35,Mom_p4)*VPol(PolLeg35,Mom_p4)) * (complex(0,-1)*(P(Mu41,Mom_p1-Mom_p3)*Gamma(Mu41,SpinInPropagator36,SpinOutPropagator36) + Mass_Me*GammaId(SpinInPropagator36,SpinOutPropagator36))*Denom(Mom_p1-Mom_p3,Mass_Me)))*PREFACTOR*1']\n"
     ]
    },
    {
     "data": {
      "application/vnd.jupyter.widget-view+json": {
       "model_id": "d55b00cb95724378ac42df0dc2043873",
       "version_major": 2,
       "version_minor": 0
      },
      "text/plain": [
       "QUEUEING TASKS | :   0%|          | 0/1 [00:00<?, ?it/s]"
      ]
     },
     "metadata": {},
     "output_type": "display_data"
    },
    {
     "data": {
      "application/vnd.jupyter.widget-view+json": {
       "model_id": "c7e6a5882f6343e7ab9a1a32e470cbd8",
       "version_major": 2,
       "version_minor": 0
      },
      "text/plain": [
       "PROCESSING TASKS | :   0%|          | 0/1 [00:00<?, ?it/s]"
      ]
     },
     "metadata": {},
     "output_type": "display_data"
    },
    {
     "data": {
      "application/vnd.jupyter.widget-view+json": {
       "model_id": "cb06efba9f664561a70290d8b64f68b3",
       "version_major": 2,
       "version_minor": 0
      },
      "text/plain": [
       "COLLECTING RESULTS | :   0%|          | 0/1 [00:00<?, ?it/s]"
      ]
     },
     "metadata": {},
     "output_type": "display_data"
    },
    {
     "name": "stderr",
     "output_type": "stream",
     "text": [
      "DEBUG:feynamp:pol_sums: \n",
      "        id VPol(PolOut1,Mom_p3)*VPol(PolN7?,Mom_p3)*VPol(PolOut2,Mom_p4)*VPol(PolN8?,Mom_p4) = (\n",
      "spincorrelation(Mom_p3,scMuMu,scMuNu)*eps(MuMu,PolOut1,Mom_p3)*epsstar(MuNu,PolN7,Mom_p3)*d_(PolOut2,PolN8)+\n",
      "spincorrelation(Mom_p4,scMuMu,scMuNu)*eps(MuMu,PolOut2,Mom_p4)*epsstar(MuNu,PolN8,Mom_p4)*d_(PolOut1,PolN7));\n",
      "        \n",
      "    id epsstar(Muc?,Polb?,Mom_p3) * eps(Mul?,Polb?,Mom_p3) = -Metric(Mul,Muc);\n",
      "    \n",
      "    id epsstar(Muc?,Polb?,Mom_p4) * eps(Mul?,Polb?,Mom_p4) = -Metric(Mul,Muc);\n",
      "    \n"
     ]
    },
    {
     "name": "stdout",
     "output_type": "stream",
     "text": [
      "pol_sums='\\n        id VPol(PolOut1,Mom_p3)*VPol(PolN7?,Mom_p3)*VPol(PolOut2,Mom_p4)*VPol(PolN8?,Mom_p4) = (\\nspincorrelation(Mom_p3,scMuMu,scMuNu)*eps(MuMu,PolOut1,Mom_p3)*epsstar(MuNu,PolN7,Mom_p3)*d_(PolOut2,PolN8)+\\nspincorrelation(Mom_p4,scMuMu,scMuNu)*eps(MuMu,PolOut2,Mom_p4)*epsstar(MuNu,PolN8,Mom_p4)*d_(PolOut1,PolN7));\\n        '\n"
     ]
    },
    {
     "data": {
      "application/vnd.jupyter.widget-view+json": {
       "model_id": "c555b455b54d4467918bbded1455a711",
       "version_major": 2,
       "version_minor": 0
      },
      "text/plain": [
       "QUEUEING TASKS | :   0%|          | 0/1 [00:00<?, ?it/s]"
      ]
     },
     "metadata": {},
     "output_type": "display_data"
    },
    {
     "data": {
      "application/vnd.jupyter.widget-view+json": {
       "model_id": "b8fb9bce5525466c81565498c8bb1fb6",
       "version_major": 2,
       "version_minor": 0
      },
      "text/plain": [
       "PROCESSING TASKS | :   0%|          | 0/1 [00:00<?, ?it/s]"
      ]
     },
     "metadata": {},
     "output_type": "display_data"
    },
    {
     "data": {
      "application/vnd.jupyter.widget-view+json": {
       "model_id": "a933e663e3a84b66a0beb3d877e55ba8",
       "version_major": 2,
       "version_minor": 0
      },
      "text/plain": [
       "COLLECTING RESULTS | :   0%|          | 0/1 [00:00<?, ?it/s]"
      ]
     },
     "metadata": {},
     "output_type": "display_data"
    },
    {
     "name": "stderr",
     "output_type": "stream",
     "text": [
      "DEBUG:feynamp:rs='(8*spincorrelation(Mom_p3,scMuMu,scMuNu)*P(MuMu,Mom_p1-Mom_p3)*P(MuNu,Mom_p1)*Den(-Mass_Me^2+Mom_p1.Mom_p1-2*Mom_p1.Mom_p3+Mom_p3.Mom_p3)^2*ee^4*PREFACTOR*msu+8*spincorrelation(Mom_p3,scMuMu,scMuNu)*P(MuMu,Mom_p1-Mom_p3)*P(MuNu,Mom_p1)*Den(-Mass_Me^2+Mom_p1.Mom_p1-2*Mom_p1.Mom_p3+Mom_p3.Mom_p3)^2*ee^4*PREFACTOR*mss+8*spincorrelation(Mom_p3,scMuMu,scMuNu)*P(MuMu,Mom_p1-Mom_p3)*P(MuNu,Mom_p1)*Den(-Mass_Me^2+Mom_p1.Mom_p1-2*Mom_p1.Mom_p3+Mom_p3.Mom_p3)^2*ee^4*PREFACTOR*Mass_Me^2+8*spincorrelation(Mom_p3,scMuMu,scMuNu)*P(MuMu,Mom_p1)*P(MuNu,Mom_p1-Mom_p3)*Den(-Mass_Me^2+Mom_p1.Mom_p1-2*Mom_p1.Mom_p3+Mom_p3.Mom_p3)^2*ee^4*PREFACTOR*msu+8*spincorrelation(Mom_p3,scMuMu,scMuNu)*P(MuMu,Mom_p1)*P(MuNu,Mom_p1-Mom_p3)*Den(-Mass_Me^2+Mom_p1.Mom_p1-2*Mom_p1.Mom_p3+Mom_p3.Mom_p3)^2*ee^4*PREFACTOR*mss+8*spincorrelation(Mom_p3,scMuMu,scMuNu)*P(MuMu,Mom_p1)*P(MuNu,Mom_p1-Mom_p3)*Den(-Mass_Me^2+Mom_p1.Mom_p1-2*Mom_p1.Mom_p3+Mom_p3.Mom_p3)^2*ee^4*PREFACTOR*Mass_Me^2-8*spincorrelation(Mom_p3,scMuMu,scMuNu)*P(MuMu,Mom_p1)*P(MuNu,Mom_p2)*Den(-Mass_Me^2+Mom_p1.Mom_p1-2*Mom_p1.Mom_p3+Mom_p3.Mom_p3)^2*ee^4*PREFACTOR*mst+8*spincorrelation(Mom_p3,scMuMu,scMuNu)*P(MuMu,Mom_p1)*P(MuNu,Mom_p2)*Den(-Mass_Me^2+Mom_p1.Mom_p1-2*Mom_p1.Mom_p3+Mom_p3.Mom_p3)^2*ee^4*PREFACTOR*Mass_Me^2-8*spincorrelation(Mom_p3,scMuMu,scMuNu)*P(MuMu,Mom_p2)*P(MuNu,Mom_p1)*Den(-Mass_Me^2+Mom_p1.Mom_p1-2*Mom_p1.Mom_p3+Mom_p3.Mom_p3)^2*ee^4*PREFACTOR*mst+8*spincorrelation(Mom_p3,scMuMu,scMuNu)*P(MuMu,Mom_p2)*P(MuNu,Mom_p1)*Den(-Mass_Me^2+Mom_p1.Mom_p1-2*Mom_p1.Mom_p3+Mom_p3.Mom_p3)^2*ee^4*PREFACTOR*Mass_Me^2-4*spincorrelation(Mom_p3,scMuMu,scMuNu)*Den(-Mass_Me^2+Mom_p1.Mom_p1-2*Mom_p1.Mom_p3+Mom_p3.Mom_p3)^2*d_(MuMu,MuNu)*ee^4*PREFACTOR*mst*msu+4*spincorrelation(Mom_p3,scMuMu,scMuNu)*Den(-Mass_Me^2+Mom_p1.Mom_p1-2*Mom_p1.Mom_p3+Mom_p3.Mom_p3)^2*d_(MuMu,MuNu)*ee^4*PREFACTOR*Mass_Me^2*msu+4*spincorrelation(Mom_p3,scMuMu,scMuNu)*Den(-Mass_Me^2+Mom_p1.Mom_p1-2*Mom_p1.Mom_p3+Mom_p3.Mom_p3)^2*d_(MuMu,MuNu)*ee^4*PREFACTOR*Mass_Me^2*mst-4*spincorrelation(Mom_p3,scMuMu,scMuNu)*Den(-Mass_Me^2+Mom_p1.Mom_p1-2*Mom_p1.Mom_p3+Mom_p3.Mom_p3)^2*d_(MuMu,MuNu)*ee^4*PREFACTOR*Mass_Me^4+8*spincorrelation(Mom_p4,scMuMu,scMuNu)*P(MuMu,Mom_p1-Mom_p3)*P(MuNu,Mom_p2)*Den(-Mass_Me^2+Mom_p1.Mom_p1-2*Mom_p1.Mom_p3+Mom_p3.Mom_p3)^2*ee^4*PREFACTOR*mst-24*spincorrelation(Mom_p4,scMuMu,scMuNu)*P(MuMu,Mom_p1-Mom_p3)*P(MuNu,Mom_p2)*Den(-Mass_Me^2+Mom_p1.Mom_p1-2*Mom_p1.Mom_p3+Mom_p3.Mom_p3)^2*ee^4*PREFACTOR*Mass_Me^2-8*spincorrelation(Mom_p4,scMuMu,scMuNu)*P(MuMu,Mom_p1)*P(MuNu,Mom_p2)*Den(-Mass_Me^2+Mom_p1.Mom_p1-2*Mom_p1.Mom_p3+Mom_p3.Mom_p3)^2*ee^4*PREFACTOR*mst+8*spincorrelation(Mom_p4,scMuMu,scMuNu)*P(MuMu,Mom_p1)*P(MuNu,Mom_p2)*Den(-Mass_Me^2+Mom_p1.Mom_p1-2*Mom_p1.Mom_p3+Mom_p3.Mom_p3)^2*ee^4*PREFACTOR*Mass_Me^2+8*spincorrelation(Mom_p4,scMuMu,scMuNu)*P(MuMu,Mom_p2)*P(MuNu,Mom_p1-Mom_p3)*Den(-Mass_Me^2+Mom_p1.Mom_p1-2*Mom_p1.Mom_p3+Mom_p3.Mom_p3)^2*ee^4*PREFACTOR*mst-24*spincorrelation(Mom_p4,scMuMu,scMuNu)*P(MuMu,Mom_p2)*P(MuNu,Mom_p1-Mom_p3)*Den(-Mass_Me^2+Mom_p1.Mom_p1-2*Mom_p1.Mom_p3+Mom_p3.Mom_p3)^2*ee^4*PREFACTOR*Mass_Me^2-8*spincorrelation(Mom_p4,scMuMu,scMuNu)*P(MuMu,Mom_p2)*P(MuNu,Mom_p1)*Den(-Mass_Me^2+Mom_p1.Mom_p1-2*Mom_p1.Mom_p3+Mom_p3.Mom_p3)^2*ee^4*PREFACTOR*mst+8*spincorrelation(Mom_p4,scMuMu,scMuNu)*P(MuMu,Mom_p2)*P(MuNu,Mom_p1)*Den(-Mass_Me^2+Mom_p1.Mom_p1-2*Mom_p1.Mom_p3+Mom_p3.Mom_p3)^2*ee^4*PREFACTOR*Mass_Me^2-4*spincorrelation(Mom_p4,scMuMu,scMuNu)*Den(-Mass_Me^2+Mom_p1.Mom_p1-2*Mom_p1.Mom_p3+Mom_p3.Mom_p3)^2*d_(MuMu,MuNu)*ee^4*PREFACTOR*mst*msu+12*spincorrelation(Mom_p4,scMuMu,scMuNu)*Den(-Mass_Me^2+Mom_p1.Mom_p1-2*Mom_p1.Mom_p3+Mom_p3.Mom_p3)^2*d_(MuMu,MuNu)*ee^4*PREFACTOR*Mass_Me^2*msu+12*spincorrelation(Mom_p4,scMuMu,scMuNu)*Den(-Mass_Me^2+Mom_p1.Mom_p1-2*Mom_p1.Mom_p3+Mom_p3.Mom_p3)^2*d_(MuMu,MuNu)*ee^4*PREFACTOR*Mass_Me^2*mst+8*spincorrelation(Mom_p4,scMuMu,scMuNu)*Den(-Mass_Me^2+Mom_p1.Mom_p1-2*Mom_p1.Mom_p3+Mom_p3.Mom_p3)^2*d_(MuMu,MuNu)*ee^4*PREFACTOR*Mass_Me^2*mss-20*spincorrelation(Mom_p4,scMuMu,scMuNu)*Den(-Mass_Me^2+Mom_p1.Mom_p1-2*Mom_p1.Mom_p3+Mom_p3.Mom_p3)^2*d_(MuMu,MuNu)*ee^4*PREFACTOR*Mass_Me^4)'\n"
     ]
    },
    {
     "data": {
      "application/vnd.jupyter.widget-view+json": {
       "model_id": "64bbfb97412045a7868880f29db17459",
       "version_major": 2,
       "version_minor": 0
      },
      "text/plain": [
       "QUEUEING TASKS | :   0%|          | 0/1 [00:00<?, ?it/s]"
      ]
     },
     "metadata": {},
     "output_type": "display_data"
    },
    {
     "data": {
      "application/vnd.jupyter.widget-view+json": {
       "model_id": "24ed134eb83d4c7194b7cb06e442c341",
       "version_major": 2,
       "version_minor": 0
      },
      "text/plain": [
       "PROCESSING TASKS | :   0%|          | 0/1 [00:00<?, ?it/s]"
      ]
     },
     "metadata": {},
     "output_type": "display_data"
    },
    {
     "data": {
      "application/vnd.jupyter.widget-view+json": {
       "model_id": "bdbb793e3561462b8436e52d4fff957e",
       "version_major": 2,
       "version_minor": 0
      },
      "text/plain": [
       "COLLECTING RESULTS | :   0%|          | 0/1 [00:00<?, ?it/s]"
      ]
     },
     "metadata": {},
     "output_type": "display_data"
    },
    {
     "name": "stderr",
     "output_type": "stream",
     "text": [
      "DEBUG:feynamp:rr='(8*spincorrelation(Mom_p3,scMuMu,scMuNu)*P(MuMu,Mom_p1-Mom_p3)*P(MuNu,Mom_p1)*1/(mst-Mass_Me^2)^2*ee^4*PREFACTOR*msu+8*spincorrelation(Mom_p3,scMuMu,scMuNu)*P(MuMu,Mom_p1-Mom_p3)*P(MuNu,Mom_p1)*1/(mst-Mass_Me^2)^2*ee^4*PREFACTOR*mss+8*spincorrelation(Mom_p3,scMuMu,scMuNu)*P(MuMu,Mom_p1-Mom_p3)*P(MuNu,Mom_p1)*1/(mst-Mass_Me^2)^2*ee^4*PREFACTOR*Mass_Me^2+8*spincorrelation(Mom_p3,scMuMu,scMuNu)*P(MuMu,Mom_p1)*P(MuNu,Mom_p1-Mom_p3)*1/(mst-Mass_Me^2)^2*ee^4*PREFACTOR*msu+8*spincorrelation(Mom_p3,scMuMu,scMuNu)*P(MuMu,Mom_p1)*P(MuNu,Mom_p1-Mom_p3)*1/(mst-Mass_Me^2)^2*ee^4*PREFACTOR*mss+8*spincorrelation(Mom_p3,scMuMu,scMuNu)*P(MuMu,Mom_p1)*P(MuNu,Mom_p1-Mom_p3)*1/(mst-Mass_Me^2)^2*ee^4*PREFACTOR*Mass_Me^2-8*spincorrelation(Mom_p3,scMuMu,scMuNu)*P(MuMu,Mom_p1)*P(MuNu,Mom_p2)*1/(mst-Mass_Me^2)^2*ee^4*PREFACTOR*mst+8*spincorrelation(Mom_p3,scMuMu,scMuNu)*P(MuMu,Mom_p1)*P(MuNu,Mom_p2)*1/(mst-Mass_Me^2)^2*ee^4*PREFACTOR*Mass_Me^2-8*spincorrelation(Mom_p3,scMuMu,scMuNu)*P(MuMu,Mom_p2)*P(MuNu,Mom_p1)*1/(mst-Mass_Me^2)^2*ee^4*PREFACTOR*mst+8*spincorrelation(Mom_p3,scMuMu,scMuNu)*P(MuMu,Mom_p2)*P(MuNu,Mom_p1)*1/(mst-Mass_Me^2)^2*ee^4*PREFACTOR*Mass_Me^2-4*spincorrelation(Mom_p3,scMuMu,scMuNu)*1/(mst-Mass_Me^2)^2*d_(MuMu,MuNu)*ee^4*PREFACTOR*mst*msu+4*spincorrelation(Mom_p3,scMuMu,scMuNu)*1/(mst-Mass_Me^2)^2*d_(MuMu,MuNu)*ee^4*PREFACTOR*Mass_Me^2*msu+4*spincorrelation(Mom_p3,scMuMu,scMuNu)*1/(mst-Mass_Me^2)^2*d_(MuMu,MuNu)*ee^4*PREFACTOR*Mass_Me^2*mst-4*spincorrelation(Mom_p3,scMuMu,scMuNu)*1/(mst-Mass_Me^2)^2*d_(MuMu,MuNu)*ee^4*PREFACTOR*Mass_Me^4+8*spincorrelation(Mom_p4,scMuMu,scMuNu)*P(MuMu,Mom_p1-Mom_p3)*P(MuNu,Mom_p2)*1/(mst-Mass_Me^2)^2*ee^4*PREFACTOR*mst-24*spincorrelation(Mom_p4,scMuMu,scMuNu)*P(MuMu,Mom_p1-Mom_p3)*P(MuNu,Mom_p2)*1/(mst-Mass_Me^2)^2*ee^4*PREFACTOR*Mass_Me^2-8*spincorrelation(Mom_p4,scMuMu,scMuNu)*P(MuMu,Mom_p1)*P(MuNu,Mom_p2)*1/(mst-Mass_Me^2)^2*ee^4*PREFACTOR*mst+8*spincorrelation(Mom_p4,scMuMu,scMuNu)*P(MuMu,Mom_p1)*P(MuNu,Mom_p2)*1/(mst-Mass_Me^2)^2*ee^4*PREFACTOR*Mass_Me^2+8*spincorrelation(Mom_p4,scMuMu,scMuNu)*P(MuMu,Mom_p2)*P(MuNu,Mom_p1-Mom_p3)*1/(mst-Mass_Me^2)^2*ee^4*PREFACTOR*mst-24*spincorrelation(Mom_p4,scMuMu,scMuNu)*P(MuMu,Mom_p2)*P(MuNu,Mom_p1-Mom_p3)*1/(mst-Mass_Me^2)^2*ee^4*PREFACTOR*Mass_Me^2-8*spincorrelation(Mom_p4,scMuMu,scMuNu)*P(MuMu,Mom_p2)*P(MuNu,Mom_p1)*1/(mst-Mass_Me^2)^2*ee^4*PREFACTOR*mst+8*spincorrelation(Mom_p4,scMuMu,scMuNu)*P(MuMu,Mom_p2)*P(MuNu,Mom_p1)*1/(mst-Mass_Me^2)^2*ee^4*PREFACTOR*Mass_Me^2-4*spincorrelation(Mom_p4,scMuMu,scMuNu)*1/(mst-Mass_Me^2)^2*d_(MuMu,MuNu)*ee^4*PREFACTOR*mst*msu+12*spincorrelation(Mom_p4,scMuMu,scMuNu)*1/(mst-Mass_Me^2)^2*d_(MuMu,MuNu)*ee^4*PREFACTOR*Mass_Me^2*msu+12*spincorrelation(Mom_p4,scMuMu,scMuNu)*1/(mst-Mass_Me^2)^2*d_(MuMu,MuNu)*ee^4*PREFACTOR*Mass_Me^2*mst+8*spincorrelation(Mom_p4,scMuMu,scMuNu)*1/(mst-Mass_Me^2)^2*d_(MuMu,MuNu)*ee^4*PREFACTOR*Mass_Me^2*mss-20*spincorrelation(Mom_p4,scMuMu,scMuNu)*1/(mst-Mass_Me^2)^2*d_(MuMu,MuNu)*ee^4*PREFACTOR*Mass_Me^4)'\n",
      "DEBUG:feynamp:get_color_average():['1', '1']\n",
      "DEBUG:feynamp:get_spin_average():['1/2', '1/2']\n"
     ]
    },
    {
     "data": {
      "text/latex": [
       "$\\displaystyle - \\frac{Mass_{Me}^{4} ee^{4} d_{}{\\left(MuMu,MuNu \\right)} \\operatorname{spincorrelation}{\\left(p_{3},scMuMu,scMuNu \\right)}}{\\left(- Mass_{Me}^{2} + t\\right)^{2}} - \\frac{5 Mass_{Me}^{4} ee^{4} d_{}{\\left(MuMu,MuNu \\right)} \\operatorname{spincorrelation}{\\left(p_{4},scMuMu,scMuNu \\right)}}{\\left(- Mass_{Me}^{2} + t\\right)^{2}} + \\frac{2 Mass_{Me}^{2} ee^{4} s d_{}{\\left(MuMu,MuNu \\right)} \\operatorname{spincorrelation}{\\left(p_{4},scMuMu,scMuNu \\right)}}{\\left(- Mass_{Me}^{2} + t\\right)^{2}} + \\frac{Mass_{Me}^{2} ee^{4} t d_{}{\\left(MuMu,MuNu \\right)} \\operatorname{spincorrelation}{\\left(p_{3},scMuMu,scMuNu \\right)}}{\\left(- Mass_{Me}^{2} + t\\right)^{2}} + \\frac{3 Mass_{Me}^{2} ee^{4} t d_{}{\\left(MuMu,MuNu \\right)} \\operatorname{spincorrelation}{\\left(p_{4},scMuMu,scMuNu \\right)}}{\\left(- Mass_{Me}^{2} + t\\right)^{2}} + \\frac{Mass_{Me}^{2} ee^{4} u d_{}{\\left(MuMu,MuNu \\right)} \\operatorname{spincorrelation}{\\left(p_{3},scMuMu,scMuNu \\right)}}{\\left(- Mass_{Me}^{2} + t\\right)^{2}} + \\frac{3 Mass_{Me}^{2} ee^{4} u d_{}{\\left(MuMu,MuNu \\right)} \\operatorname{spincorrelation}{\\left(p_{4},scMuMu,scMuNu \\right)}}{\\left(- Mass_{Me}^{2} + t\\right)^{2}} + \\frac{2 Mass_{Me}^{2} ee^{4} P{\\left(MuMu,p_{1} \\right)} P{\\left(MuNu,p_{2} \\right)} \\operatorname{spincorrelation}{\\left(p_{3},scMuMu,scMuNu \\right)}}{\\left(- Mass_{Me}^{2} + t\\right)^{2}} + \\frac{2 Mass_{Me}^{2} ee^{4} P{\\left(MuMu,p_{1} \\right)} P{\\left(MuNu,p_{2} \\right)} \\operatorname{spincorrelation}{\\left(p_{4},scMuMu,scMuNu \\right)}}{\\left(- Mass_{Me}^{2} + t\\right)^{2}} + \\frac{2 Mass_{Me}^{2} ee^{4} P{\\left(MuMu,p_{1} \\right)} P{\\left(MuNu,p_{1} - p_{3} \\right)} \\operatorname{spincorrelation}{\\left(p_{3},scMuMu,scMuNu \\right)}}{\\left(- Mass_{Me}^{2} + t\\right)^{2}} + \\frac{2 Mass_{Me}^{2} ee^{4} P{\\left(MuMu,p_{2} \\right)} P{\\left(MuNu,p_{1} \\right)} \\operatorname{spincorrelation}{\\left(p_{3},scMuMu,scMuNu \\right)}}{\\left(- Mass_{Me}^{2} + t\\right)^{2}} + \\frac{2 Mass_{Me}^{2} ee^{4} P{\\left(MuMu,p_{2} \\right)} P{\\left(MuNu,p_{1} \\right)} \\operatorname{spincorrelation}{\\left(p_{4},scMuMu,scMuNu \\right)}}{\\left(- Mass_{Me}^{2} + t\\right)^{2}} - \\frac{6 Mass_{Me}^{2} ee^{4} P{\\left(MuMu,p_{2} \\right)} P{\\left(MuNu,p_{1} - p_{3} \\right)} \\operatorname{spincorrelation}{\\left(p_{4},scMuMu,scMuNu \\right)}}{\\left(- Mass_{Me}^{2} + t\\right)^{2}} + \\frac{2 Mass_{Me}^{2} ee^{4} P{\\left(MuMu,p_{1} - p_{3} \\right)} P{\\left(MuNu,p_{1} \\right)} \\operatorname{spincorrelation}{\\left(p_{3},scMuMu,scMuNu \\right)}}{\\left(- Mass_{Me}^{2} + t\\right)^{2}} - \\frac{6 Mass_{Me}^{2} ee^{4} P{\\left(MuMu,p_{1} - p_{3} \\right)} P{\\left(MuNu,p_{2} \\right)} \\operatorname{spincorrelation}{\\left(p_{4},scMuMu,scMuNu \\right)}}{\\left(- Mass_{Me}^{2} + t\\right)^{2}} + \\frac{2 ee^{4} s P{\\left(MuMu,p_{1} \\right)} P{\\left(MuNu,p_{1} - p_{3} \\right)} \\operatorname{spincorrelation}{\\left(p_{3},scMuMu,scMuNu \\right)}}{\\left(- Mass_{Me}^{2} + t\\right)^{2}} + \\frac{2 ee^{4} s P{\\left(MuMu,p_{1} - p_{3} \\right)} P{\\left(MuNu,p_{1} \\right)} \\operatorname{spincorrelation}{\\left(p_{3},scMuMu,scMuNu \\right)}}{\\left(- Mass_{Me}^{2} + t\\right)^{2}} - \\frac{ee^{4} t u d_{}{\\left(MuMu,MuNu \\right)} \\operatorname{spincorrelation}{\\left(p_{3},scMuMu,scMuNu \\right)}}{\\left(- Mass_{Me}^{2} + t\\right)^{2}} - \\frac{ee^{4} t u d_{}{\\left(MuMu,MuNu \\right)} \\operatorname{spincorrelation}{\\left(p_{4},scMuMu,scMuNu \\right)}}{\\left(- Mass_{Me}^{2} + t\\right)^{2}} - \\frac{2 ee^{4} t P{\\left(MuMu,p_{1} \\right)} P{\\left(MuNu,p_{2} \\right)} \\operatorname{spincorrelation}{\\left(p_{3},scMuMu,scMuNu \\right)}}{\\left(- Mass_{Me}^{2} + t\\right)^{2}} - \\frac{2 ee^{4} t P{\\left(MuMu,p_{1} \\right)} P{\\left(MuNu,p_{2} \\right)} \\operatorname{spincorrelation}{\\left(p_{4},scMuMu,scMuNu \\right)}}{\\left(- Mass_{Me}^{2} + t\\right)^{2}} - \\frac{2 ee^{4} t P{\\left(MuMu,p_{2} \\right)} P{\\left(MuNu,p_{1} \\right)} \\operatorname{spincorrelation}{\\left(p_{3},scMuMu,scMuNu \\right)}}{\\left(- Mass_{Me}^{2} + t\\right)^{2}} - \\frac{2 ee^{4} t P{\\left(MuMu,p_{2} \\right)} P{\\left(MuNu,p_{1} \\right)} \\operatorname{spincorrelation}{\\left(p_{4},scMuMu,scMuNu \\right)}}{\\left(- Mass_{Me}^{2} + t\\right)^{2}} + \\frac{2 ee^{4} t P{\\left(MuMu,p_{2} \\right)} P{\\left(MuNu,p_{1} - p_{3} \\right)} \\operatorname{spincorrelation}{\\left(p_{4},scMuMu,scMuNu \\right)}}{\\left(- Mass_{Me}^{2} + t\\right)^{2}} + \\frac{2 ee^{4} t P{\\left(MuMu,p_{1} - p_{3} \\right)} P{\\left(MuNu,p_{2} \\right)} \\operatorname{spincorrelation}{\\left(p_{4},scMuMu,scMuNu \\right)}}{\\left(- Mass_{Me}^{2} + t\\right)^{2}} + \\frac{2 ee^{4} u P{\\left(MuMu,p_{1} \\right)} P{\\left(MuNu,p_{1} - p_{3} \\right)} \\operatorname{spincorrelation}{\\left(p_{3},scMuMu,scMuNu \\right)}}{\\left(- Mass_{Me}^{2} + t\\right)^{2}} + \\frac{2 ee^{4} u P{\\left(MuMu,p_{1} - p_{3} \\right)} P{\\left(MuNu,p_{1} \\right)} \\operatorname{spincorrelation}{\\left(p_{3},scMuMu,scMuNu \\right)}}{\\left(- Mass_{Me}^{2} + t\\right)^{2}}$"
      ],
      "text/plain": [
       "-Mass_Me**4*ee**4*d_(MuMu, MuNu)*spincorrelation(p3, scMuMu, scMuNu)/(-Mass_Me**2 + t)**2 - 5*Mass_Me**4*ee**4*d_(MuMu, MuNu)*spincorrelation(p4, scMuMu, scMuNu)/(-Mass_Me**2 + t)**2 + 2*Mass_Me**2*ee**4*s*d_(MuMu, MuNu)*spincorrelation(p4, scMuMu, scMuNu)/(-Mass_Me**2 + t)**2 + Mass_Me**2*ee**4*t*d_(MuMu, MuNu)*spincorrelation(p3, scMuMu, scMuNu)/(-Mass_Me**2 + t)**2 + 3*Mass_Me**2*ee**4*t*d_(MuMu, MuNu)*spincorrelation(p4, scMuMu, scMuNu)/(-Mass_Me**2 + t)**2 + Mass_Me**2*ee**4*u*d_(MuMu, MuNu)*spincorrelation(p3, scMuMu, scMuNu)/(-Mass_Me**2 + t)**2 + 3*Mass_Me**2*ee**4*u*d_(MuMu, MuNu)*spincorrelation(p4, scMuMu, scMuNu)/(-Mass_Me**2 + t)**2 + 2*Mass_Me**2*ee**4*P(MuMu, p1)*P(MuNu, p2)*spincorrelation(p3, scMuMu, scMuNu)/(-Mass_Me**2 + t)**2 + 2*Mass_Me**2*ee**4*P(MuMu, p1)*P(MuNu, p2)*spincorrelation(p4, scMuMu, scMuNu)/(-Mass_Me**2 + t)**2 + 2*Mass_Me**2*ee**4*P(MuMu, p1)*P(MuNu, p1 - p3)*spincorrelation(p3, scMuMu, scMuNu)/(-Mass_Me**2 + t)**2 + 2*Mass_Me**2*ee**4*P(MuMu, p2)*P(MuNu, p1)*spincorrelation(p3, scMuMu, scMuNu)/(-Mass_Me**2 + t)**2 + 2*Mass_Me**2*ee**4*P(MuMu, p2)*P(MuNu, p1)*spincorrelation(p4, scMuMu, scMuNu)/(-Mass_Me**2 + t)**2 - 6*Mass_Me**2*ee**4*P(MuMu, p2)*P(MuNu, p1 - p3)*spincorrelation(p4, scMuMu, scMuNu)/(-Mass_Me**2 + t)**2 + 2*Mass_Me**2*ee**4*P(MuMu, p1 - p3)*P(MuNu, p1)*spincorrelation(p3, scMuMu, scMuNu)/(-Mass_Me**2 + t)**2 - 6*Mass_Me**2*ee**4*P(MuMu, p1 - p3)*P(MuNu, p2)*spincorrelation(p4, scMuMu, scMuNu)/(-Mass_Me**2 + t)**2 + 2*ee**4*s*P(MuMu, p1)*P(MuNu, p1 - p3)*spincorrelation(p3, scMuMu, scMuNu)/(-Mass_Me**2 + t)**2 + 2*ee**4*s*P(MuMu, p1 - p3)*P(MuNu, p1)*spincorrelation(p3, scMuMu, scMuNu)/(-Mass_Me**2 + t)**2 - ee**4*t*u*d_(MuMu, MuNu)*spincorrelation(p3, scMuMu, scMuNu)/(-Mass_Me**2 + t)**2 - ee**4*t*u*d_(MuMu, MuNu)*spincorrelation(p4, scMuMu, scMuNu)/(-Mass_Me**2 + t)**2 - 2*ee**4*t*P(MuMu, p1)*P(MuNu, p2)*spincorrelation(p3, scMuMu, scMuNu)/(-Mass_Me**2 + t)**2 - 2*ee**4*t*P(MuMu, p1)*P(MuNu, p2)*spincorrelation(p4, scMuMu, scMuNu)/(-Mass_Me**2 + t)**2 - 2*ee**4*t*P(MuMu, p2)*P(MuNu, p1)*spincorrelation(p3, scMuMu, scMuNu)/(-Mass_Me**2 + t)**2 - 2*ee**4*t*P(MuMu, p2)*P(MuNu, p1)*spincorrelation(p4, scMuMu, scMuNu)/(-Mass_Me**2 + t)**2 + 2*ee**4*t*P(MuMu, p2)*P(MuNu, p1 - p3)*spincorrelation(p4, scMuMu, scMuNu)/(-Mass_Me**2 + t)**2 + 2*ee**4*t*P(MuMu, p1 - p3)*P(MuNu, p2)*spincorrelation(p4, scMuMu, scMuNu)/(-Mass_Me**2 + t)**2 + 2*ee**4*u*P(MuMu, p1)*P(MuNu, p1 - p3)*spincorrelation(p3, scMuMu, scMuNu)/(-Mass_Me**2 + t)**2 + 2*ee**4*u*P(MuMu, p1 - p3)*P(MuNu, p1)*spincorrelation(p3, scMuMu, scMuNu)/(-Mass_Me**2 + t)**2"
      ]
     },
     "execution_count": 4,
     "metadata": {},
     "output_type": "execute_result"
    }
   ],
   "source": [
    "sc = compute_squared(fds, fm, spincorrelated=True)\n",
    "sc"
   ]
  },
  {
   "cell_type": "code",
   "execution_count": 5,
   "id": "fbc910e7-52de-4bc1-9564-3f399d513982",
   "metadata": {},
   "outputs": [],
   "source": [
    "rr=\"\"\"(\n",
    "-4*spincorrelation(Mom_p3,Mu58,MuNu)\n",
    "*P(Mu58,Mom_p1-Mom_p3)*P(MuNu,Mom_p1-Mom_p3)\n",
    "*1/(mst-Mass_Me^2)^2*ee^4*PREFACTOR*mss\n",
    "-8*spincorrelation(Mom_p3,Mu58,MuNu)*P(Mu58,Mom_p1-Mom_p3)*P(MuNu,Mom_p1-Mom_p3)*1/(mst-Mass_Me^2)^2*ee^4*PREFACTOR*Mass_Me^2+4*spincorrelation(Mom_p3,Mu58,N1_?)*P(Mu58,Mom_p1-Mom_p3)*P(N1_?,Mom_p1)*1/(mst-Mass_Me^2)^2*ee^4*PREFACTOR*msu+4*spincorrelation(Mom_p3,Mu58,N1_?)*P(Mu58,Mom_p1-Mom_p3)*P(N1_?,Mom_p1)*1/(mst-Mass_Me^2)^2*ee^4*PREFACTOR*mss-12*spincorrelation(Mom_p3,Mu58,N1_?)*P(Mu58,Mom_p1-Mom_p3)*P(N1_?,Mom_p1)*1/(mst-Mass_Me^2)^2*ee^4*PREFACTOR*Mass_Me^2+4*spincorrelation(Mom_p3,Mu58,N1_?)*P(Mu58,Mom_p1-Mom_p3)*P(N1_?,Mom_p2)*1/(mst-Mass_Me^2)^2*ee^4*PREFACTOR*mst+4*spincorrelation(Mom_p3,Mu58,N1_?)*P(Mu58,Mom_p1-Mom_p3)*P(N1_?,Mom_p2)*1/(mst-Mass_Me^2)^2*ee^4*PREFACTOR*Mass_Me^2+4*spincorrelation(Mom_p3,MuMu,Mu58)*P(Mu58,Mom_p1-Mom_p3)*P(MuMu,Mom_p1-Mom_p3)*1/(mst-Mass_Me^2)^2*ee^4*PREFACTOR*mss+8*spincorrelation(Mom_p3,MuMu,Mu58)*P(Mu58,Mom_p1-Mom_p3)*P(MuMu,Mom_p1-Mom_p3)*1/(mst-Mass_Me^2)^2*ee^4*PREFACTOR*Mass_Me^2-4*spincorrelation(Mom_p3,MuMu,MuMu)*1/(mst-Mass_Me^2)^2*ee^4*PREFACTOR*Mass_Me^2*mss+8*spincorrelation(Mom_p3,MuMu,MuMu)*1/(mst-Mass_Me^2)^2*ee^4*PREFACTOR*Mass_Me^4+4*spincorrelation(Mom_p3,MuMu,MuNu)*P(MuMu,Mom_p1-Mom_p3)*P(MuNu,Mom_p1)*1/(mst-Mass_Me^2)^2*ee^4*PREFACTOR*msu+4*spincorrelation(Mom_p3,MuMu,MuNu)*P(MuMu,Mom_p1-Mom_p3)*P(MuNu,Mom_p1)*1/(mst-Mass_Me^2)^2*ee^4*PREFACTOR*mss+20*spincorrelation(Mom_p3,MuMu,MuNu)*P(MuMu,Mom_p1-Mom_p3)*P(MuNu,Mom_p1)*1/(mst-Mass_Me^2)^2*ee^4*PREFACTOR*Mass_Me^2-8*spincorrelation(Mom_p3,MuMu,MuNu)*P(MuMu,Mom_p1-Mom_p3)*P(MuNu,Mom_p2)*1/(mst-Mass_Me^2)^2*ee^4*PREFACTOR*Mass_Me^2+8*spincorrelation(Mom_p3,MuMu,MuNu)*P(MuMu,Mom_p2)*P(MuNu,Mom_p1-Mom_p3)*1/(mst-Mass_Me^2)^2*ee^4*PREFACTOR*Mass_Me^2-4*spincorrelation(Mom_p3,MuMu,N1_?)*P(MuMu,Mom_p1-Mom_p3)*P(N1_?,Mom_p2)*1/(mst-Mass_Me^2)^2*ee^4*PREFACTOR*mst-4*spincorrelation(Mom_p3,MuMu,N1_?)*P(MuMu,Mom_p1-Mom_p3)*P(N1_?,Mom_p2)*1/(mst-Mass_Me^2)^2*ee^4*PREFACTOR*Mass_Me^2+8*spincorrelation(Mom_p3,MuMu,N1_?)*P(MuMu,Mom_p1)*P(N1_?,Mom_p2)*1/(mst-Mass_Me^2)^2*ee^4*PREFACTOR*Mass_Me^2+8*spincorrelation(Mom_p3,MuMu,N20_?)*P(MuMu,Mom_p1-Mom_p3)*P(N20_?,Mom_p2)*1/(mst-Mass_Me^2)^2*ee^4*PREFACTOR*Mass_Me^2-4*spincorrelation(Mom_p3,MuNu,MuNu)*1/(mst-Mass_Me^2)^2*ee^4*PREFACTOR*mst*msu+4*spincorrelation(Mom_p3,MuNu,MuNu)*1/(mst-Mass_Me^2)^2*ee^4*PREFACTOR*Mass_Me^2*msu+4*spincorrelation(Mom_p3,MuNu,MuNu)*1/(mst-Mass_Me^2)^2*ee^4*PREFACTOR*Mass_Me^2*mst+4*spincorrelation(Mom_p3,MuNu,MuNu)*1/(mst-Mass_Me^2)^2*ee^4*PREFACTOR*Mass_Me^2*mss-12*spincorrelation(Mom_p3,MuNu,MuNu)*1/(mst-Mass_Me^2)^2*ee^4*PREFACTOR*Mass_Me^4+4*spincorrelation(Mom_p3,N1_?,Mu58)*P(Mu58,Mom_p1-Mom_p3)*P(N1_?,Mom_p1)*1/(mst-Mass_Me^2)^2*ee^4*PREFACTOR*msu+4*spincorrelation(Mom_p3,N1_?,Mu58)*P(Mu58,Mom_p1-Mom_p3)*P(N1_?,Mom_p1)*1/(mst-Mass_Me^2)^2*ee^4*PREFACTOR*mss-12*spincorrelation(Mom_p3,N1_?,Mu58)*P(Mu58,Mom_p1-Mom_p3)*P(N1_?,Mom_p1)*1/(mst-Mass_Me^2)^2*ee^4*PREFACTOR*Mass_Me^2-4*spincorrelation(Mom_p3,N1_?,Mu58)*P(Mu58,Mom_p1-Mom_p3)*P(N1_?,Mom_p2)*1/(mst-Mass_Me^2)^2*ee^4*PREFACTOR*mst-4*spincorrelation(Mom_p3,N1_?,Mu58)*P(Mu58,Mom_p1-Mom_p3)*P(N1_?,Mom_p2)*1/(mst-Mass_Me^2)^2*ee^4*PREFACTOR*Mass_Me^2+4*spincorrelation(Mom_p3,N1_?,MuNu)*P(MuNu,Mom_p1-Mom_p3)*P(N1_?,Mom_p1)*1/(mst-Mass_Me^2)^2*ee^4*PREFACTOR*msu+4*spincorrelation(Mom_p3,N1_?,MuNu)*P(MuNu,Mom_p1-Mom_p3)*P(N1_?,Mom_p1)*1/(mst-Mass_Me^2)^2*ee^4*PREFACTOR*mss+20*spincorrelation(Mom_p3,N1_?,MuNu)*P(MuNu,Mom_p1-Mom_p3)*P(N1_?,Mom_p1)*1/(mst-Mass_Me^2)^2*ee^4*PREFACTOR*Mass_Me^2+4*spincorrelation(Mom_p3,N1_?,MuNu)*P(MuNu,Mom_p1-Mom_p3)*P(N1_?,Mom_p2)*1/(mst-Mass_Me^2)^2*ee^4*PREFACTOR*mst+4*spincorrelation(Mom_p3,N1_?,MuNu)*P(MuNu,Mom_p1-Mom_p3)*P(N1_?,Mom_p2)*1/(mst-Mass_Me^2)^2*ee^4*PREFACTOR*Mass_Me^2-8*spincorrelation(Mom_p3,N1_?,N2_?)*P(N1_?,Mom_p1)*P(N2_?,Mom_p2)*1/(mst-Mass_Me^2)^2*ee^4*PREFACTOR*mst-8*spincorrelation(Mom_p3,N1_?,N2_?)*P(N1_?,Mom_p2)*P(N2_?,Mom_p1)*1/(mst-Mass_Me^2)^2*ee^4*PREFACTOR*mst+8*spincorrelation(Mom_p3,N1_?,N2_?)*P(N1_?,Mom_p2)*P(N2_?,Mom_p1)*1/(mst-Mass_Me^2)^2*ee^4*PREFACTOR*Mass_Me^2-8*spincorrelation(Mom_p3,N20_?,MuNu)*P(MuNu,Mom_p1-Mom_p3)*P(N20_?,Mom_p2)*1/(mst-Mass_Me^2)^2*ee^4*PREFACTOR*Mass_Me^2+4*spincorrelation(Mom_p4,MuMu,Mu58)*P(Mu58,Mom_p1-Mom_p3)*P(MuMu,Mom_p1-Mom_p3)*1/(mst-Mass_Me^2)^2*ee^4*PREFACTOR*mss-8*spincorrelation(Mom_p4,MuMu,Mu58)*P(Mu58,Mom_p1-Mom_p3)*P(MuMu,Mom_p1-Mom_p3)*1/(mst-Mass_Me^2)^2*ee^4*PREFACTOR*Mass_Me^2-4*spincorrelation(Mom_p4,MuMu,Mu58)*P(Mu58,Mom_p1-Mom_p3)*P(MuMu,Mom_p1)*1/(mst-Mass_Me^2)^2*ee^4*PREFACTOR*msu-4*spincorrelation(Mom_p4,MuMu,Mu58)*P(Mu58,Mom_p1-Mom_p3)*P(MuMu,Mom_p1)*1/(mst-Mass_Me^2)^2*ee^4*PREFACTOR*mss+12*spincorrelation(Mom_p4,MuMu,Mu58)*P(Mu58,Mom_p1-Mom_p3)*P(MuMu,Mom_p1)*1/(mst-Mass_Me^2)^2*ee^4*PREFACTOR*Mass_Me^2-4*spincorrelation(Mom_p4,MuMu,MuMu)*1/(mst-Mass_Me^2)^2*ee^4*PREFACTOR*mst*msu+12*spincorrelation(Mom_p4,MuMu,MuMu)*1/(mst-Mass_Me^2)^2*ee^4*PREFACTOR*Mass_Me^2*msu+12*spincorrelation(Mom_p4,MuMu,MuMu)*1/(mst-Mass_Me^2)^2*ee^4*PREFACTOR*Mass_Me^2*mst+8*spincorrelation(Mom_p4,MuMu,MuMu)*1/(mst-Mass_Me^2)^2*ee^4*PREFACTOR*Mass_Me^2*mss-20*spincorrelation(Mom_p4,MuMu,MuMu)*1/(mst-Mass_Me^2)^2*ee^4*PREFACTOR*Mass_Me^4-4*spincorrelation(Mom_p4,MuMu,MuNu)*P(MuMu,Mom_p1-Mom_p3)*P(MuNu,Mom_p1-Mom_p3)*1/(mst-Mass_Me^2)^2*ee^4*PREFACTOR*mss+8*spincorrelation(Mom_p4,MuMu,MuNu)*P(MuMu,Mom_p1-Mom_p3)*P(MuNu,Mom_p1-Mom_p3)*1/(mst-Mass_Me^2)^2*ee^4*PREFACTOR*Mass_Me^2-8*spincorrelation(Mom_p4,MuMu,MuNu)*P(MuMu,Mom_p1-Mom_p3)*P(MuNu,Mom_p1)*1/(mst-Mass_Me^2)^2*ee^4*PREFACTOR*Mass_Me^2+4*spincorrelation(Mom_p4,MuMu,MuNu)*P(MuMu,Mom_p1)*P(MuNu,Mom_p1-Mom_p3)*1/(mst-Mass_Me^2)^2*ee^4*PREFACTOR*msu+4*spincorrelation(Mom_p4,MuMu,MuNu)*P(MuMu,Mom_p1)*P(MuNu,Mom_p1-Mom_p3)*1/(mst-Mass_Me^2)^2*ee^4*PREFACTOR*mss-4*spincorrelation(Mom_p4,MuMu,MuNu)*P(MuMu,Mom_p1)*P(MuNu,Mom_p1-Mom_p3)*1/(mst-Mass_Me^2)^2*ee^4*PREFACTOR*Mass_Me^2+8*spincorrelation(Mom_p4,MuMu,MuNu)*P(MuMu,Mom_p2)*P(MuNu,Mom_p1-Mom_p3)*1/(mst-Mass_Me^2)^2*ee^4*PREFACTOR*mst-24*spincorrelation(Mom_p4,MuMu,MuNu)*P(MuMu,Mom_p2)*P(MuNu,Mom_p1-Mom_p3)*1/(mst-Mass_Me^2)^2*ee^4*PREFACTOR*Mass_Me^2-8*spincorrelation(Mom_p4,MuMu,MuNu)*P(MuMu,Mom_p2)*P(MuNu,Mom_p1)*1/(mst-Mass_Me^2)^2*ee^4*PREFACTOR*mst+8*spincorrelation(Mom_p4,MuMu,MuNu)*P(MuMu,Mom_p2)*P(MuNu,Mom_p1)*1/(mst-Mass_Me^2)^2*ee^4*PREFACTOR*Mass_Me^2+8*spincorrelation(Mom_p4,MuMu,N1_?)*P(MuMu,Mom_p1-Mom_p3)*P(N1_?,Mom_p1)*1/(mst-Mass_Me^2)^2*ee^4*PREFACTOR*Mass_Me^2+8*spincorrelation(Mom_p4,MuMu,N1_?)*P(MuMu,Mom_p1-Mom_p3)*P(N1_?,Mom_p2)*1/(mst-Mass_Me^2)^2*ee^4*PREFACTOR*mst+8*spincorrelation(Mom_p4,MuMu,N1_?)*P(MuMu,Mom_p1-Mom_p3)*P(N1_?,Mom_p2)*1/(mst-Mass_Me^2)^2*ee^4*PREFACTOR*Mass_Me^2-8*spincorrelation(Mom_p4,MuMu,N1_?)*P(MuMu,Mom_p1)*P(N1_?,Mom_p2)*1/(mst-Mass_Me^2)^2*ee^4*PREFACTOR*mst+8*spincorrelation(Mom_p4,MuMu,N1_?)*P(MuMu,Mom_p1)*P(N1_?,Mom_p2)*1/(mst-Mass_Me^2)^2*ee^4*PREFACTOR*Mass_Me^2-32*spincorrelation(Mom_p4,MuMu,N20_?)*P(MuMu,Mom_p1-Mom_p3)*P(N20_?,Mom_p2)*1/(mst-Mass_Me^2)^2*ee^4*PREFACTOR*Mass_Me^2-8*spincorrelation(Mom_p4,N1_?,MuNu)*P(MuNu,Mom_p1-Mom_p3)*P(N1_?,Mom_p1)*1/(mst-Mass_Me^2)^2*ee^4*PREFACTOR*Mass_Me^2\n",
    ")\n",
    "\"\"\""
   ]
  },
  {
   "cell_type": "code",
   "execution_count": 6,
   "id": "308d7707-7091-455e-bb19-843484bcb219",
   "metadata": {},
   "outputs": [
    {
     "ename": "SyntaxError",
     "evalue": "invalid syntax (<string>, line 5)",
     "output_type": "error",
     "traceback": [
      "\u001b[0;31mValueError\u001b[0m\u001b[0;31m:\u001b[0m Error from parse_expr with transformed code: \"(\\n-Integer (4 )*Function ('spincorrelation' )(Symbol ('p3' ),Symbol ('Mu58' ),Symbol ('MuNu' ))\\n*Function ('P' )(Symbol ('Mu58' ),Symbol ('p1' )-Symbol ('p3' ))*Function ('P' )(Symbol ('MuNu' ),Symbol ('p1' )-Symbol ('p3' ))\\n*Integer (1 )/(Symbol ('t' )-Symbol ('Mass_Me' )**Integer (2 ))**Integer (2 )*Symbol ('ee' )**Integer (4 )*Integer (1 )*Symbol ('s' )\\n-Integer (8 )*Function ('spincorrelation' )(Symbol ('p3' ),Symbol ('Mu58' ),Symbol ('MuNu' ))*Function ('P' )(Symbol ('Mu58' ),Symbol ('p1' )-Symbol ('p3' ))*Function ('P' )(Symbol ('MuNu' ),Symbol ('p1' )-Symbol ('p3' ))*Integer (1 )/(Symbol ('t' )-Symbol ('Mass_Me' )**Integer (2 ))**Integer (2 )*Symbol ('ee' )**Integer (4 )*Integer (1 )*Symbol ('Mass_Me' )**Integer (2 )+Integer (4 )*Function ('spincorrelation' )(Symbol ('p3' ),Symbol ('Mu58' ),Symbol ('N1_' )?)*Function ('P' )(Symbol ('Mu58' ),Symbol ('p1' )-Symbol ('p3' ))*Function ('P' )(Symbol ('N1_' )?,Symbol ('p1' ))*Integer (1 )/(Symbol ('t' )-Symbol ('Mass_Me' )**Integer (2 ))**Integer (2 )*Symbol ('ee' )**Integer (4 )*Integer (1 )*Symbol ('u' )+Integer (4 )*Function ('spincorrelation' )(Symbol ('p3' ),Symbol ('Mu58' ),Symbol ('N1_' )?)*Function ('P' )(Symbol ('Mu58' ),Symbol ('p1' )-Symbol ('p3' ))*Function ('P' )(Symbol ('N1_' )?,Symbol ('p1' ))*Integer (1 )/(Symbol ('t' )-Symbol ('Mass_Me' )**Integer (2 ))**Integer (2 )*Symbol ('ee' )**Integer (4 )*Integer (1 )*Symbol ('s' )-Integer (12 )*Function ('spincorrelation' )(Symbol ('p3' ),Symbol ('Mu58' ),Symbol ('N1_' )?)*Function ('P' )(Symbol ('Mu58' ),Symbol ('p1' )-Symbol ('p3' ))*Function ('P' )(Symbol ('N1_' )?,Symbol ('p1' ))*Integer (1 )/(Symbol ('t' )-Symbol ('Mass_Me' )**Integer (2 ))**Integer (2 )*Symbol ('ee' )**Integer (4 )*Integer (1 )*Symbol ('Mass_Me' )**Integer (2 )+Integer (4 )*Function ('spincorrelation' )(Symbol ('p3' ),Symbol ('Mu58' ),Symbol ('N1_' )?)*Function ('P' )(Symbol ('Mu58' ),Symbol ('p1' )-Symbol ('p3' ))*Function ('P' )(Symbol ('N1_' )?,Symbol ('p2' ))*Integer (1 )/(Symbol ('t' )-Symbol ('Mass_Me' )**Integer (2 ))**Integer (2 )*Symbol ('ee' )**Integer (4 )*Integer (1 )*Symbol ('t' )+Integer (4 )*Function ('spincorrelation' )(Symbol ('p3' ),Symbol ('Mu58' ),Symbol ('N1_' )?)*Function ('P' )(Symbol ('Mu58' ),Symbol ('p1' )-Symbol ('p3' ))*Function ('P' )(Symbol ('N1_' )?,Symbol ('p2' ))*Integer (1 )/(Symbol ('t' )-Symbol ('Mass_Me' )**Integer (2 ))**Integer (2 )*Symbol ('ee' )**Integer (4 )*Integer (1 )*Symbol ('Mass_Me' )**Integer (2 )+Integer (4 )*Function ('spincorrelation' )(Symbol ('p3' ),Symbol ('MuMu' ),Symbol ('Mu58' ))*Function ('P' )(Symbol ('Mu58' ),Symbol ('p1' )-Symbol ('p3' ))*Function ('P' )(Symbol ('MuMu' ),Symbol ('p1' )-Symbol ('p3' ))*Integer (1 )/(Symbol ('t' )-Symbol ('Mass_Me' )**Integer (2 ))**Integer (2 )*Symbol ('ee' )**Integer (4 )*Integer (1 )*Symbol ('s' )+Integer (8 )*Function ('spincorrelation' )(Symbol ('p3' ),Symbol ('MuMu' ),Symbol ('Mu58' ))*Function ('P' )(Symbol ('Mu58' ),Symbol ('p1' )-Symbol ('p3' ))*Function ('P' )(Symbol ('MuMu' ),Symbol ('p1' )-Symbol ('p3' ))*Integer (1 )/(Symbol ('t' )-Symbol ('Mass_Me' )**Integer (2 ))**Integer (2 )*Symbol ('ee' )**Integer (4 )*Integer (1 )*Symbol ('Mass_Me' )**Integer (2 )-Integer (4 )*Function ('spincorrelation' )(Symbol ('p3' ),Symbol ('MuMu' ),Symbol ('MuMu' ))*Integer (1 )/(Symbol ('t' )-Symbol ('Mass_Me' )**Integer (2 ))**Integer (2 )*Symbol ('ee' )**Integer (4 )*Integer (1 )*Symbol ('Mass_Me' )**Integer (2 )*Symbol ('s' )+Integer (8 )*Function ('spincorrelation' )(Symbol ('p3' ),Symbol ('MuMu' ),Symbol ('MuMu' ))*Integer (1 )/(Symbol ('t' )-Symbol ('Mass_Me' )**Integer (2 ))**Integer (2 )*Symbol ('ee' )**Integer (4 )*Integer (1 )*Symbol ('Mass_Me' )**Integer (4 )+Integer (4 )*Function ('spincorrelation' )(Symbol ('p3' ),Symbol ('MuMu' ),Symbol ('MuNu' ))*Function ('P' )(Symbol ('MuMu' ),Symbol ('p1' )-Symbol ('p3' ))*Function ('P' )(Symbol ('MuNu' ),Symbol ('p1' ))*Integer (1 )/(Symbol ('t' )-Symbol ('Mass_Me' )**Integer (2 ))**Integer (2 )*Symbol ('ee' )**Integer (4 )*Integer (1 )*Symbol ('u' )+Integer (4 )*Function ('spincorrelation' )(Symbol ('p3' ),Symbol ('MuMu' ),Symbol ('MuNu' ))*Function ('P' )(Symbol ('MuMu' ),Symbol ('p1' )-Symbol ('p3' ))*Function ('P' )(Symbol ('MuNu' ),Symbol ('p1' ))*Integer (1 )/(Symbol ('t' )-Symbol ('Mass_Me' )**Integer (2 ))**Integer (2 )*Symbol ('ee' )**Integer (4 )*Integer (1 )*Symbol ('s' )+Integer (20 )*Function ('spincorrelation' )(Symbol ('p3' ),Symbol ('MuMu' ),Symbol ('MuNu' ))*Function ('P' )(Symbol ('MuMu' ),Symbol ('p1' )-Symbol ('p3' ))*Function ('P' )(Symbol ('MuNu' ),Symbol ('p1' ))*Integer (1 )/(Symbol ('t' )-Symbol ('Mass_Me' )**Integer (2 ))**Integer (2 )*Symbol ('ee' )**Integer (4 )*Integer (1 )*Symbol ('Mass_Me' )**Integer (2 )-Integer (8 )*Function ('spincorrelation' )(Symbol ('p3' ),Symbol ('MuMu' ),Symbol ('MuNu' ))*Function ('P' )(Symbol ('MuMu' ),Symbol ('p1' )-Symbol ('p3' ))*Function ('P' )(Symbol ('MuNu' ),Symbol ('p2' ))*Integer (1 )/(Symbol ('t' )-Symbol ('Mass_Me' )**Integer (2 ))**Integer (2 )*Symbol ('ee' )**Integer (4 )*Integer (1 )*Symbol ('Mass_Me' )**Integer (2 )+Integer (8 )*Function ('spincorrelation' )(Symbol ('p3' ),Symbol ('MuMu' ),Symbol ('MuNu' ))*Function ('P' )(Symbol ('MuMu' ),Symbol ('p2' ))*Function ('P' )(Symbol ('MuNu' ),Symbol ('p1' )-Symbol ('p3' ))*Integer (1 )/(Symbol ('t' )-Symbol ('Mass_Me' )**Integer (2 ))**Integer (2 )*Symbol ('ee' )**Integer (4 )*Integer (1 )*Symbol ('Mass_Me' )**Integer (2 )-Integer (4 )*Function ('spincorrelation' )(Symbol ('p3' ),Symbol ('MuMu' ),Symbol ('N1_' )?)*Function ('P' )(Symbol ('MuMu' ),Symbol ('p1' )-Symbol ('p3' ))*Function ('P' )(Symbol ('N1_' )?,Symbol ('p2' ))*Integer (1 )/(Symbol ('t' )-Symbol ('Mass_Me' )**Integer (2 ))**Integer (2 )*Symbol ('ee' )**Integer (4 )*Integer (1 )*Symbol ('t' )-Integer (4 )*Function ('spincorrelation' )(Symbol ('p3' ),Symbol ('MuMu' ),Symbol ('N1_' )?)*Function ('P' )(Symbol ('MuMu' ),Symbol ('p1' )-Symbol ('p3' ))*Function ('P' )(Symbol ('N1_' )?,Symbol ('p2' ))*Integer (1 )/(Symbol ('t' )-Symbol ('Mass_Me' )**Integer (2 ))**Integer (2 )*Symbol ('ee' )**Integer (4 )*Integer (1 )*Symbol ('Mass_Me' )**Integer (2 )+Integer (8 )*Function ('spincorrelation' )(Symbol ('p3' ),Symbol ('MuMu' ),Symbol ('N1_' )?)*Function ('P' )(Symbol ('MuMu' ),Symbol ('p1' ))*Function ('P' )(Symbol ('N1_' )?,Symbol ('p2' ))*Integer (1 )/(Symbol ('t' )-Symbol ('Mass_Me' )**Integer (2 ))**Integer (2 )*Symbol ('ee' )**Integer (4 )*Integer (1 )*Symbol ('Mass_Me' )**Integer (2 )+Integer (8 )*Function ('spincorrelation' )(Symbol ('p3' ),Symbol ('MuMu' ),Symbol ('N20_' )?)*Function ('P' )(Symbol ('MuMu' ),Symbol ('p1' )-Symbol ('p3' ))*Function ('P' )(Symbol ('N20_' )?,Symbol ('p2' ))*Integer (1 )/(Symbol ('t' )-Symbol ('Mass_Me' )**Integer (2 ))**Integer (2 )*Symbol ('ee' )**Integer (4 )*Integer (1 )*Symbol ('Mass_Me' )**Integer (2 )-Integer (4 )*Function ('spincorrelation' )(Symbol ('p3' ),Symbol ('MuNu' ),Symbol ('MuNu' ))*Integer (1 )/(Symbol ('t' )-Symbol ('Mass_Me' )**Integer (2 ))**Integer (2 )*Symbol ('ee' )**Integer (4 )*Integer (1 )*Symbol ('t' )*Symbol ('u' )+Integer (4 )*Function ('spincorrelation' )(Symbol ('p3' ),Symbol ('MuNu' ),Symbol ('MuNu' ))*Integer (1 )/(Symbol ('t' )-Symbol ('Mass_Me' )**Integer (2 ))**Integer (2 )*Symbol ('ee' )**Integer (4 )*Integer (1 )*Symbol ('Mass_Me' )**Integer (2 )*Symbol ('u' )+Integer (4 )*Function ('spincorrelation' )(Symbol ('p3' ),Symbol ('MuNu' ),Symbol ('MuNu' ))*Integer (1 )/(Symbol ('t' )-Symbol ('Mass_Me' )**Integer (2 ))**Integer (2 )*Symbol ('ee' )**Integer (4 )*Integer (1 )*Symbol ('Mass_Me' )**Integer (2 )*Symbol ('t' )+Integer (4 )*Function ('spincorrelation' )(Symbol ('p3' ),Symbol ('MuNu' ),Symbol ('MuNu' ))*Integer (1 )/(Symbol ('t' )-Symbol ('Mass_Me' )**Integer (2 ))**Integer (2 )*Symbol ('ee' )**Integer (4 )*Integer (1 )*Symbol ('Mass_Me' )**Integer (2 )*Symbol ('s' )-Integer (12 )*Function ('spincorrelation' )(Symbol ('p3' ),Symbol ('MuNu' ),Symbol ('MuNu' ))*Integer (1 )/(Symbol ('t' )-Symbol ('Mass_Me' )**Integer (2 ))**Integer (2 )*Symbol ('ee' )**Integer (4 )*Integer (1 )*Symbol ('Mass_Me' )**Integer (4 )+Integer (4 )*Function ('spincorrelation' )(Symbol ('p3' ),Symbol ('N1_' )?,Symbol ('Mu58' ))*Function ('P' )(Symbol ('Mu58' ),Symbol ('p1' )-Symbol ('p3' ))*Function ('P' )(Symbol ('N1_' )?,Symbol ('p1' ))*Integer (1 )/(Symbol ('t' )-Symbol ('Mass_Me' )**Integer (2 ))**Integer (2 )*Symbol ('ee' )**Integer (4 )*Integer (1 )*Symbol ('u' )+Integer (4 )*Function ('spincorrelation' )(Symbol ('p3' ),Symbol ('N1_' )?,Symbol ('Mu58' ))*Function ('P' )(Symbol ('Mu58' ),Symbol ('p1' )-Symbol ('p3' ))*Function ('P' )(Symbol ('N1_' )?,Symbol ('p1' ))*Integer (1 )/(Symbol ('t' )-Symbol ('Mass_Me' )**Integer (2 ))**Integer (2 )*Symbol ('ee' )**Integer (4 )*Integer (1 )*Symbol ('s' )-Integer (12 )*Function ('spincorrelation' )(Symbol ('p3' ),Symbol ('N1_' )?,Symbol ('Mu58' ))*Function ('P' )(Symbol ('Mu58' ),Symbol ('p1' )-Symbol ('p3' ))*Function ('P' )(Symbol ('N1_' )?,Symbol ('p1' ))*Integer (1 )/(Symbol ('t' )-Symbol ('Mass_Me' )**Integer (2 ))**Integer (2 )*Symbol ('ee' )**Integer (4 )*Integer (1 )*Symbol ('Mass_Me' )**Integer (2 )-Integer (4 )*Function ('spincorrelation' )(Symbol ('p3' ),Symbol ('N1_' )?,Symbol ('Mu58' ))*Function ('P' )(Symbol ('Mu58' ),Symbol ('p1' )-Symbol ('p3' ))*Function ('P' )(Symbol ('N1_' )?,Symbol ('p2' ))*Integer (1 )/(Symbol ('t' )-Symbol ('Mass_Me' )**Integer (2 ))**Integer (2 )*Symbol ('ee' )**Integer (4 )*Integer (1 )*Symbol ('t' )-Integer (4 )*Function ('spincorrelation' )(Symbol ('p3' ),Symbol ('N1_' )?,Symbol ('Mu58' ))*Function ('P' )(Symbol ('Mu58' ),Symbol ('p1' )-Symbol ('p3' ))*Function ('P' )(Symbol ('N1_' )?,Symbol ('p2' ))*Integer (1 )/(Symbol ('t' )-Symbol ('Mass_Me' )**Integer (2 ))**Integer (2 )*Symbol ('ee' )**Integer (4 )*Integer (1 )*Symbol ('Mass_Me' )**Integer (2 )+Integer (4 )*Function ('spincorrelation' )(Symbol ('p3' ),Symbol ('N1_' )?,Symbol ('MuNu' ))*Function ('P' )(Symbol ('MuNu' ),Symbol ('p1' )-Symbol ('p3' ))*Function ('P' )(Symbol ('N1_' )?,Symbol ('p1' ))*Integer (1 )/(Symbol ('t' )-Symbol ('Mass_Me' )**Integer (2 ))**Integer (2 )*Symbol ('ee' )**Integer (4 )*Integer (1 )*Symbol ('u' )+Integer (4 )*Function ('spincorrelation' )(Symbol ('p3' ),Symbol ('N1_' )?,Symbol ('MuNu' ))*Function ('P' )(Symbol ('MuNu' ),Symbol ('p1' )-Symbol ('p3' ))*Function ('P' )(Symbol ('N1_' )?,Symbol ('p1' ))*Integer (1 )/(Symbol ('t' )-Symbol ('Mass_Me' )**Integer (2 ))**Integer (2 )*Symbol ('ee' )**Integer (4 )*Integer (1 )*Symbol ('s' )+Integer (20 )*Function ('spincorrelation' )(Symbol ('p3' ),Symbol ('N1_' )?,Symbol ('MuNu' ))*Function ('P' )(Symbol ('MuNu' ),Symbol ('p1' )-Symbol ('p3' ))*Function ('P' )(Symbol ('N1_' )?,Symbol ('p1' ))*Integer (1 )/(Symbol ('t' )-Symbol ('Mass_Me' )**Integer (2 ))**Integer (2 )*Symbol ('ee' )**Integer (4 )*Integer (1 )*Symbol ('Mass_Me' )**Integer (2 )+Integer (4 )*Function ('spincorrelation' )(Symbol ('p3' ),Symbol ('N1_' )?,Symbol ('MuNu' ))*Function ('P' )(Symbol ('MuNu' ),Symbol ('p1' )-Symbol ('p3' ))*Function ('P' )(Symbol ('N1_' )?,Symbol ('p2' ))*Integer (1 )/(Symbol ('t' )-Symbol ('Mass_Me' )**Integer (2 ))**Integer (2 )*Symbol ('ee' )**Integer (4 )*Integer (1 )*Symbol ('t' )+Integer (4 )*Function ('spincorrelation' )(Symbol ('p3' ),Symbol ('N1_' )?,Symbol ('MuNu' ))*Function ('P' )(Symbol ('MuNu' ),Symbol ('p1' )-Symbol ('p3' ))*Function ('P' )(Symbol ('N1_' )?,Symbol ('p2' ))*Integer (1 )/(Symbol ('t' )-Symbol ('Mass_Me' )**Integer (2 ))**Integer (2 )*Symbol ('ee' )**Integer (4 )*Integer (1 )*Symbol ('Mass_Me' )**Integer (2 )-Integer (8 )*Function ('spincorrelation' )(Symbol ('p3' ),Symbol ('N1_' )?,Symbol ('N2_' )?)*Function ('P' )(Symbol ('N1_' )?,Symbol ('p1' ))*Function ('P' )(Symbol ('N2_' )?,Symbol ('p2' ))*Integer (1 )/(Symbol ('t' )-Symbol ('Mass_Me' )**Integer (2 ))**Integer (2 )*Symbol ('ee' )**Integer (4 )*Integer (1 )*Symbol ('t' )-Integer (8 )*Function ('spincorrelation' )(Symbol ('p3' ),Symbol ('N1_' )?,Symbol ('N2_' )?)*Function ('P' )(Symbol ('N1_' )?,Symbol ('p2' ))*Function ('P' )(Symbol ('N2_' )?,Symbol ('p1' ))*Integer (1 )/(Symbol ('t' )-Symbol ('Mass_Me' )**Integer (2 ))**Integer (2 )*Symbol ('ee' )**Integer (4 )*Integer (1 )*Symbol ('t' )+Integer (8 )*Function ('spincorrelation' )(Symbol ('p3' ),Symbol ('N1_' )?,Symbol ('N2_' )?)*Function ('P' )(Symbol ('N1_' )?,Symbol ('p2' ))*Function ('P' )(Symbol ('N2_' )?,Symbol ('p1' ))*Integer (1 )/(Symbol ('t' )-Symbol ('Mass_Me' )**Integer (2 ))**Integer (2 )*Symbol ('ee' )**Integer (4 )*Integer (1 )*Symbol ('Mass_Me' )**Integer (2 )-Integer (8 )*Function ('spincorrelation' )(Symbol ('p3' ),Symbol ('N20_' )?,Symbol ('MuNu' ))*Function ('P' )(Symbol ('MuNu' ),Symbol ('p1' )-Symbol ('p3' ))*Function ('P' )(Symbol ('N20_' )?,Symbol ('p2' ))*Integer (1 )/(Symbol ('t' )-Symbol ('Mass_Me' )**Integer (2 ))**Integer (2 )*Symbol ('ee' )**Integer (4 )*Integer (1 )*Symbol ('Mass_Me' )**Integer (2 )+Integer (4 )*Function ('spincorrelation' )(Symbol ('p4' ),Symbol ('MuMu' ),Symbol ('Mu58' ))*Function ('P' )(Symbol ('Mu58' ),Symbol ('p1' )-Symbol ('p3' ))*Function ('P' )(Symbol ('MuMu' ),Symbol ('p1' )-Symbol ('p3' ))*Integer (1 )/(Symbol ('t' )-Symbol ('Mass_Me' )**Integer (2 ))**Integer (2 )*Symbol ('ee' )**Integer (4 )*Integer (1 )*Symbol ('s' )-Integer (8 )*Function ('spincorrelation' )(Symbol ('p4' ),Symbol ('MuMu' ),Symbol ('Mu58' ))*Function ('P' )(Symbol ('Mu58' ),Symbol ('p1' )-Symbol ('p3' ))*Function ('P' )(Symbol ('MuMu' ),Symbol ('p1' )-Symbol ('p3' ))*Integer (1 )/(Symbol ('t' )-Symbol ('Mass_Me' )**Integer (2 ))**Integer (2 )*Symbol ('ee' )**Integer (4 )*Integer (1 )*Symbol ('Mass_Me' )**Integer (2 )-Integer (4 )*Function ('spincorrelation' )(Symbol ('p4' ),Symbol ('MuMu' ),Symbol ('Mu58' ))*Function ('P' )(Symbol ('Mu58' ),Symbol ('p1' )-Symbol ('p3' ))*Function ('P' )(Symbol ('MuMu' ),Symbol ('p1' ))*Integer (1 )/(Symbol ('t' )-Symbol ('Mass_Me' )**Integer (2 ))**Integer (2 )*Symbol ('ee' )**Integer (4 )*Integer (1 )*Symbol ('u' )-Integer (4 )*Function ('spincorrelation' )(Symbol ('p4' ),Symbol ('MuMu' ),Symbol ('Mu58' ))*Function ('P' )(Symbol ('Mu58' ),Symbol ('p1' )-Symbol ('p3' ))*Function ('P' )(Symbol ('MuMu' ),Symbol ('p1' ))*Integer (1 )/(Symbol ('t' )-Symbol ('Mass_Me' )**Integer (2 ))**Integer (2 )*Symbol ('ee' )**Integer (4 )*Integer (1 )*Symbol ('s' )+Integer (12 )*Function ('spincorrelation' )(Symbol ('p4' ),Symbol ('MuMu' ),Symbol ('Mu58' ))*Function ('P' )(Symbol ('Mu58' ),Symbol ('p1' )-Symbol ('p3' ))*Function ('P' )(Symbol ('MuMu' ),Symbol ('p1' ))*Integer (1 )/(Symbol ('t' )-Symbol ('Mass_Me' )**Integer (2 ))**Integer (2 )*Symbol ('ee' )**Integer (4 )*Integer (1 )*Symbol ('Mass_Me' )**Integer (2 )-Integer (4 )*Function ('spincorrelation' )(Symbol ('p4' ),Symbol ('MuMu' ),Symbol ('MuMu' ))*Integer (1 )/(Symbol ('t' )-Symbol ('Mass_Me' )**Integer (2 ))**Integer (2 )*Symbol ('ee' )**Integer (4 )*Integer (1 )*Symbol ('t' )*Symbol ('u' )+Integer (12 )*Function ('spincorrelation' )(Symbol ('p4' ),Symbol ('MuMu' ),Symbol ('MuMu' ))*Integer (1 )/(Symbol ('t' )-Symbol ('Mass_Me' )**Integer (2 ))**Integer (2 )*Symbol ('ee' )**Integer (4 )*Integer (1 )*Symbol ('Mass_Me' )**Integer (2 )*Symbol ('u' )+Integer (12 )*Function ('spincorrelation' )(Symbol ('p4' ),Symbol ('MuMu' ),Symbol ('MuMu' ))*Integer (1 )/(Symbol ('t' )-Symbol ('Mass_Me' )**Integer (2 ))**Integer (2 )*Symbol ('ee' )**Integer (4 )*Integer (1 )*Symbol ('Mass_Me' )**Integer (2 )*Symbol ('t' )+Integer (8 )*Function ('spincorrelation' )(Symbol ('p4' ),Symbol ('MuMu' ),Symbol ('MuMu' ))*Integer (1 )/(Symbol ('t' )-Symbol ('Mass_Me' )**Integer (2 ))**Integer (2 )*Symbol ('ee' )**Integer (4 )*Integer (1 )*Symbol ('Mass_Me' )**Integer (2 )*Symbol ('s' )-Integer (20 )*Function ('spincorrelation' )(Symbol ('p4' ),Symbol ('MuMu' ),Symbol ('MuMu' ))*Integer (1 )/(Symbol ('t' )-Symbol ('Mass_Me' )**Integer (2 ))**Integer (2 )*Symbol ('ee' )**Integer (4 )*Integer (1 )*Symbol ('Mass_Me' )**Integer (4 )-Integer (4 )*Function ('spincorrelation' )(Symbol ('p4' ),Symbol ('MuMu' ),Symbol ('MuNu' ))*Function ('P' )(Symbol ('MuMu' ),Symbol ('p1' )-Symbol ('p3' ))*Function ('P' )(Symbol ('MuNu' ),Symbol ('p1' )-Symbol ('p3' ))*Integer (1 )/(Symbol ('t' )-Symbol ('Mass_Me' )**Integer (2 ))**Integer (2 )*Symbol ('ee' )**Integer (4 )*Integer (1 )*Symbol ('s' )+Integer (8 )*Function ('spincorrelation' )(Symbol ('p4' ),Symbol ('MuMu' ),Symbol ('MuNu' ))*Function ('P' )(Symbol ('MuMu' ),Symbol ('p1' )-Symbol ('p3' ))*Function ('P' )(Symbol ('MuNu' ),Symbol ('p1' )-Symbol ('p3' ))*Integer (1 )/(Symbol ('t' )-Symbol ('Mass_Me' )**Integer (2 ))**Integer (2 )*Symbol ('ee' )**Integer (4 )*Integer (1 )*Symbol ('Mass_Me' )**Integer (2 )-Integer (8 )*Function ('spincorrelation' )(Symbol ('p4' ),Symbol ('MuMu' ),Symbol ('MuNu' ))*Function ('P' )(Symbol ('MuMu' ),Symbol ('p1' )-Symbol ('p3' ))*Function ('P' )(Symbol ('MuNu' ),Symbol ('p1' ))*Integer (1 )/(Symbol ('t' )-Symbol ('Mass_Me' )**Integer (2 ))**Integer (2 )*Symbol ('ee' )**Integer (4 )*Integer (1 )*Symbol ('Mass_Me' )**Integer (2 )+Integer (4 )*Function ('spincorrelation' )(Symbol ('p4' ),Symbol ('MuMu' ),Symbol ('MuNu' ))*Function ('P' )(Symbol ('MuMu' ),Symbol ('p1' ))*Function ('P' )(Symbol ('MuNu' ),Symbol ('p1' )-Symbol ('p3' ))*Integer (1 )/(Symbol ('t' )-Symbol ('Mass_Me' )**Integer (2 ))**Integer (2 )*Symbol ('ee' )**Integer (4 )*Integer (1 )*Symbol ('u' )+Integer (4 )*Function ('spincorrelation' )(Symbol ('p4' ),Symbol ('MuMu' ),Symbol ('MuNu' ))*Function ('P' )(Symbol ('MuMu' ),Symbol ('p1' ))*Function ('P' )(Symbol ('MuNu' ),Symbol ('p1' )-Symbol ('p3' ))*Integer (1 )/(Symbol ('t' )-Symbol ('Mass_Me' )**Integer (2 ))**Integer (2 )*Symbol ('ee' )**Integer (4 )*Integer (1 )*Symbol ('s' )-Integer (4 )*Function ('spincorrelation' )(Symbol ('p4' ),Symbol ('MuMu' ),Symbol ('MuNu' ))*Function ('P' )(Symbol ('MuMu' ),Symbol ('p1' ))*Function ('P' )(Symbol ('MuNu' ),Symbol ('p1' )-Symbol ('p3' ))*Integer (1 )/(Symbol ('t' )-Symbol ('Mass_Me' )**Integer (2 ))**Integer (2 )*Symbol ('ee' )**Integer (4 )*Integer (1 )*Symbol ('Mass_Me' )**Integer (2 )+Integer (8 )*Function ('spincorrelation' )(Symbol ('p4' ),Symbol ('MuMu' ),Symbol ('MuNu' ))*Function ('P' )(Symbol ('MuMu' ),Symbol ('p2' ))*Function ('P' )(Symbol ('MuNu' ),Symbol ('p1' )-Symbol ('p3' ))*Integer (1 )/(Symbol ('t' )-Symbol ('Mass_Me' )**Integer (2 ))**Integer (2 )*Symbol ('ee' )**Integer (4 )*Integer (1 )*Symbol ('t' )-Integer (24 )*Function ('spincorrelation' )(Symbol ('p4' ),Symbol ('MuMu' ),Symbol ('MuNu' ))*Function ('P' )(Symbol ('MuMu' ),Symbol ('p2' ))*Function ('P' )(Symbol ('MuNu' ),Symbol ('p1' )-Symbol ('p3' ))*Integer (1 )/(Symbol ('t' )-Symbol ('Mass_Me' )**Integer (2 ))**Integer (2 )*Symbol ('ee' )**Integer (4 )*Integer (1 )*Symbol ('Mass_Me' )**Integer (2 )-Integer (8 )*Function ('spincorrelation' )(Symbol ('p4' ),Symbol ('MuMu' ),Symbol ('MuNu' ))*Function ('P' )(Symbol ('MuMu' ),Symbol ('p2' ))*Function ('P' )(Symbol ('MuNu' ),Symbol ('p1' ))*Integer (1 )/(Symbol ('t' )-Symbol ('Mass_Me' )**Integer (2 ))**Integer (2 )*Symbol ('ee' )**Integer (4 )*Integer (1 )*Symbol ('t' )+Integer (8 )*Function ('spincorrelation' )(Symbol ('p4' ),Symbol ('MuMu' ),Symbol ('MuNu' ))*Function ('P' )(Symbol ('MuMu' ),Symbol ('p2' ))*Function ('P' )(Symbol ('MuNu' ),Symbol ('p1' ))*Integer (1 )/(Symbol ('t' )-Symbol ('Mass_Me' )**Integer (2 ))**Integer (2 )*Symbol ('ee' )**Integer (4 )*Integer (1 )*Symbol ('Mass_Me' )**Integer (2 )+Integer (8 )*Function ('spincorrelation' )(Symbol ('p4' ),Symbol ('MuMu' ),Symbol ('N1_' )?)*Function ('P' )(Symbol ('MuMu' ),Symbol ('p1' )-Symbol ('p3' ))*Function ('P' )(Symbol ('N1_' )?,Symbol ('p1' ))*Integer (1 )/(Symbol ('t' )-Symbol ('Mass_Me' )**Integer (2 ))**Integer (2 )*Symbol ('ee' )**Integer (4 )*Integer (1 )*Symbol ('Mass_Me' )**Integer (2 )+Integer (8 )*Function ('spincorrelation' )(Symbol ('p4' ),Symbol ('MuMu' ),Symbol ('N1_' )?)*Function ('P' )(Symbol ('MuMu' ),Symbol ('p1' )-Symbol ('p3' ))*Function ('P' )(Symbol ('N1_' )?,Symbol ('p2' ))*Integer (1 )/(Symbol ('t' )-Symbol ('Mass_Me' )**Integer (2 ))**Integer (2 )*Symbol ('ee' )**Integer (4 )*Integer (1 )*Symbol ('t' )+Integer (8 )*Function ('spincorrelation' )(Symbol ('p4' ),Symbol ('MuMu' ),Symbol ('N1_' )?)*Function ('P' )(Symbol ('MuMu' ),Symbol ('p1' )-Symbol ('p3' ))*Function ('P' )(Symbol ('N1_' )?,Symbol ('p2' ))*Integer (1 )/(Symbol ('t' )-Symbol ('Mass_Me' )**Integer (2 ))**Integer (2 )*Symbol ('ee' )**Integer (4 )*Integer (1 )*Symbol ('Mass_Me' )**Integer (2 )-Integer (8 )*Function ('spincorrelation' )(Symbol ('p4' ),Symbol ('MuMu' ),Symbol ('N1_' )?)*Function ('P' )(Symbol ('MuMu' ),Symbol ('p1' ))*Function ('P' )(Symbol ('N1_' )?,Symbol ('p2' ))*Integer (1 )/(Symbol ('t' )-Symbol ('Mass_Me' )**Integer (2 ))**Integer (2 )*Symbol ('ee' )**Integer (4 )*Integer (1 )*Symbol ('t' )+Integer (8 )*Function ('spincorrelation' )(Symbol ('p4' ),Symbol ('MuMu' ),Symbol ('N1_' )?)*Function ('P' )(Symbol ('MuMu' ),Symbol ('p1' ))*Function ('P' )(Symbol ('N1_' )?,Symbol ('p2' ))*Integer (1 )/(Symbol ('t' )-Symbol ('Mass_Me' )**Integer (2 ))**Integer (2 )*Symbol ('ee' )**Integer (4 )*Integer (1 )*Symbol ('Mass_Me' )**Integer (2 )-Integer (32 )*Function ('spincorrelation' )(Symbol ('p4' ),Symbol ('MuMu' ),Symbol ('N20_' )?)*Function ('P' )(Symbol ('MuMu' ),Symbol ('p1' )-Symbol ('p3' ))*Function ('P' )(Symbol ('N20_' )?,Symbol ('p2' ))*Integer (1 )/(Symbol ('t' )-Symbol ('Mass_Me' )**Integer (2 ))**Integer (2 )*Symbol ('ee' )**Integer (4 )*Integer (1 )*Symbol ('Mass_Me' )**Integer (2 )-Integer (8 )*Function ('spincorrelation' )(Symbol ('p4' ),Symbol ('N1_' )?,Symbol ('MuNu' ))*Function ('P' )(Symbol ('MuNu' ),Symbol ('p1' )-Symbol ('p3' ))*Function ('P' )(Symbol ('N1_' )?,Symbol ('p1' ))*Integer (1 )/(Symbol ('t' )-Symbol ('Mass_Me' )**Integer (2 ))**Integer (2 )*Symbol ('ee' )**Integer (4 )*Integer (1 )*Symbol ('Mass_Me' )**Integer (2 )\\n)\"\n",
      "\nThe above exception was the direct cause of the following exception:\n",
      "Traceback \u001b[0;36m(most recent call last)\u001b[0m:\n",
      "\u001b[0m  File \u001b[1;32m~/.cache/pypoetry/virtualenvs/feynamp-Qlj-evnL-py3.11/lib/python3.11/site-packages/IPython/core/interactiveshell.py:3508\u001b[0m in \u001b[1;35mrun_code\u001b[0m\n    exec(code_obj, self.user_global_ns, self.user_ns)\u001b[0m\n",
      "\u001b[0m  Cell \u001b[1;32mIn[6], line 1\u001b[0m\n    sympy.parse_expr(rr.replace(\"Mom_\", \"\")\u001b[0m\n",
      "\u001b[0m  File \u001b[1;32m~/.cache/pypoetry/virtualenvs/feynamp-Qlj-evnL-py3.11/lib/python3.11/site-packages/sympy/parsing/sympy_parser.py:1087\u001b[0m in \u001b[1;35mparse_expr\u001b[0m\n    raise e from ValueError(f\"Error from parse_expr with transformed code: {code!r}\")\u001b[0m\n",
      "\u001b[0m  File \u001b[1;32m~/.cache/pypoetry/virtualenvs/feynamp-Qlj-evnL-py3.11/lib/python3.11/site-packages/sympy/parsing/sympy_parser.py:1078\u001b[0m in \u001b[1;35mparse_expr\u001b[0m\n    rv = eval_expr(code, local_dict, global_dict)\u001b[0m\n",
      "\u001b[0;36m  File \u001b[0;32m~/.cache/pypoetry/virtualenvs/feynamp-Qlj-evnL-py3.11/lib/python3.11/site-packages/sympy/parsing/sympy_parser.py:906\u001b[0;36m in \u001b[0;35meval_expr\u001b[0;36m\n\u001b[0;31m    expr = eval(\u001b[0;36m\n",
      "\u001b[0;36m  File \u001b[0;32m<string>:5\u001b[0;36m\u001b[0m\n\u001b[0;31m    -Integer (8 )*Function ('spincorrelation' )(Symbol ('p3' ),Symbol ('Mu58' ),Symbol ('MuNu' ))*Function ('P' )(Symbol ('Mu58' ),Symbol ('p1' )-Symbol ('p3' ))*Function ('P' )(Symbol ('MuNu' ),Symbol ('p1' )-Symbol ('p3' ))*Integer (1 )/(Symbol ('t' )-Symbol ('Mass_Me' )**Integer (2 ))**Integer (2 )*Symbol ('ee' )**Integer (4 )*Integer (1 )*Symbol ('Mass_Me' )**Integer (2 )+Integer (4 )*Function ('spincorrelation' )(Symbol ('p3' ),Symbol ('Mu58' ),Symbol ('N1_' )?)*Function ('P' )(Symbol ('Mu58' ),Symbol ('p1' )-Symbol ('p3' ))*Function ('P' )(Symbol ('N1_' )?,Symbol ('p1' ))*Integer (1 )/(Symbol ('t' )-Symbol ('Mass_Me' )**Integer (2 ))**Integer (2 )*Symbol ('ee' )**Integer (4 )*Integer (1 )*Symbol ('u' )+Integer (4 )*Function ('spincorrelation' )(Symbol ('p3' ),Symbol ('Mu58' ),Symbol ('N1_' )?)*Function ('P' )(Symbol ('Mu58' ),Symbol ('p1' )-Symbol ('p3' ))*Function ('P' )(Symbol ('N1_' )?,Symbol ('p1' ))*Integer (1 )/(Symbol ('t' )-Symbol ('Mass_Me' )**Integer (2 ))**Integer (2 )*Symbol ('ee' )**Integer (4 )*Integer (1 )*Symbol ('s' )-Integer (12 )*Function ('spincorrelation' )(Symbol ('p3' ),Symbol ('Mu58' ),Symbol ('N1_' )?)*Function ('P' )(Symbol ('Mu58' ),Symbol ('p1' )-Symbol ('p3' ))*Function ('P' )(Symbol ('N1_' )?,Symbol ('p1' ))*Integer (1 )/(Symbol ('t' )-Symbol ('Mass_Me' )**Integer (2 ))**Integer (2 )*Symbol ('ee' )**Integer (4 )*Integer (1 )*Symbol ('Mass_Me' )**Integer (2 )+Integer (4 )*Function ('spincorrelation' )(Symbol ('p3' ),Symbol ('Mu58' ),Symbol ('N1_' )?)*Function ('P' )(Symbol ('Mu58' ),Symbol ('p1' )-Symbol ('p3' ))*Function ('P' )(Symbol ('N1_' )?,Symbol ('p2' ))*Integer (1 )/(Symbol ('t' )-Symbol ('Mass_Me' )**Integer (2 ))**Integer (2 )*Symbol ('ee' )**Integer (4 )*Integer (1 )*Symbol ('t' )+Integer (4 )*Function ('spincorrelation' )(Symbol ('p3' ),Symbol ('Mu58' ),Symbol ('N1_' )?)*Function ('P' )(Symbol ('Mu58' ),Symbol ('p1' )-Symbol ('p3' ))*Function ('P' )(Symbol ('N1_' )?,Symbol ('p2' ))*Integer (1 )/(Symbol ('t' )-Symbol ('Mass_Me' )**Integer (2 ))**Integer (2 )*Symbol ('ee' )**Integer (4 )*Integer (1 )*Symbol ('Mass_Me' )**Integer (2 )+Integer (4 )*Function ('spincorrelation' )(Symbol ('p3' ),Symbol ('MuMu' ),Symbol ('Mu58' ))*Function ('P' )(Symbol ('Mu58' ),Symbol ('p1' )-Symbol ('p3' ))*Function ('P' )(Symbol ('MuMu' ),Symbol ('p1' )-Symbol ('p3' ))*Integer (1 )/(Symbol ('t' )-Symbol ('Mass_Me' )**Integer (2 ))**Integer (2 )*Symbol ('ee' )**Integer (4 )*Integer (1 )*Symbol ('s' )+Integer (8 )*Function ('spincorrelation' )(Symbol ('p3' ),Symbol ('MuMu' ),Symbol ('Mu58' ))*Function ('P' )(Symbol ('Mu58' ),Symbol ('p1' )-Symbol ('p3' ))*Function ('P' )(Symbol ('MuMu' ),Symbol ('p1' )-Symbol ('p3' ))*Integer (1 )/(Symbol ('t' )-Symbol ('Mass_Me' )**Integer (2 ))**Integer (2 )*Symbol ('ee' )**Integer (4 )*Integer (1 )*Symbol ('Mass_Me' )**Integer (2 )-Integer (4 )*Function ('spincorrelation' )(Symbol ('p3' ),Symbol ('MuMu' ),Symbol ('MuMu' ))*Integer (1 )/(Symbol ('t' )-Symbol ('Mass_Me' )**Integer (2 ))**Integer (2 )*Symbol ('ee' )**Integer (4 )*Integer (1 )*Symbol ('Mass_Me' )**Integer (2 )*Symbol ('s' )+Integer (8 )*Function ('spincorrelation' )(Symbol ('p3' ),Symbol ('MuMu' ),Symbol ('MuMu' ))*Integer (1 )/(Symbol ('t' )-Symbol ('Mass_Me' )**Integer (2 ))**Integer (2 )*Symbol ('ee' )**Integer (4 )*Integer (1 )*Symbol ('Mass_Me' )**Integer (4 )+Integer (4 )*Function ('spincorrelation' )(Symbol ('p3' ),Symbol ('MuMu' ),Symbol ('MuNu' ))*Function ('P' )(Symbol ('MuMu' ),Symbol ('p1' )-Symbol ('p3' ))*Function ('P' )(Symbol ('MuNu' ),Symbol ('p1' ))*Integer (1 )/(Symbol ('t' )-Symbol ('Mass_Me' )**Integer (2 ))**Integer (2 )*Symbol ('ee' )**Integer (4 )*Integer (1 )*Symbol ('u' )+Integer (4 )*Function ('spincorrelation' )(Symbol ('p3' ),Symbol ('MuMu' ),Symbol ('MuNu' ))*Function ('P' )(Symbol ('MuMu' ),Symbol ('p1' )-Symbol ('p3' ))*Function ('P' )(Symbol ('MuNu' ),Symbol ('p1' ))*Integer (1 )/(Symbol ('t' )-Symbol ('Mass_Me' )**Integer (2 ))**Integer (2 )*Symbol ('ee' )**Integer (4 )*Integer (1 )*Symbol ('s' )+Integer (20 )*Function ('spincorrelation' )(Symbol ('p3' ),Symbol ('MuMu' ),Symbol ('MuNu' ))*Function ('P' )(Symbol ('MuMu' ),Symbol ('p1' )-Symbol ('p3' ))*Function ('P' )(Symbol ('MuNu' ),Symbol ('p1' ))*Integer (1 )/(Symbol ('t' )-Symbol ('Mass_Me' )**Integer (2 ))**Integer (2 )*Symbol ('ee' )**Integer (4 )*Integer (1 )*Symbol ('Mass_Me' )**Integer (2 )-Integer (8 )*Function ('spincorrelation' )(Symbol ('p3' ),Symbol ('MuMu' ),Symbol ('MuNu' ))*Function ('P' )(Symbol ('MuMu' ),Symbol ('p1' )-Symbol ('p3' ))*Function ('P' )(Symbol ('MuNu' ),Symbol ('p2' ))*Integer (1 )/(Symbol ('t' )-Symbol ('Mass_Me' )**Integer (2 ))**Integer (2 )*Symbol ('ee' )**Integer (4 )*Integer (1 )*Symbol ('Mass_Me' )**Integer (2 )+Integer (8 )*Function ('spincorrelation' )(Symbol ('p3' ),Symbol ('MuMu' ),Symbol ('MuNu' ))*Function ('P' )(Symbol ('MuMu' ),Symbol ('p2' ))*Function ('P' )(Symbol ('MuNu' ),Symbol ('p1' )-Symbol ('p3' ))*Integer (1 )/(Symbol ('t' )-Symbol ('Mass_Me' )**Integer (2 ))**Integer (2 )*Symbol ('ee' )**Integer (4 )*Integer (1 )*Symbol ('Mass_Me' )**Integer (2 )-Integer (4 )*Function ('spincorrelation' )(Symbol ('p3' ),Symbol ('MuMu' ),Symbol ('N1_' )?)*Function ('P' )(Symbol ('MuMu' ),Symbol ('p1' )-Symbol ('p3' ))*Function ('P' )(Symbol ('N1_' )?,Symbol ('p2' ))*Integer (1 )/(Symbol ('t' )-Symbol ('Mass_Me' )**Integer (2 ))**Integer (2 )*Symbol ('ee' )**Integer (4 )*Integer (1 )*Symbol ('t' )-Integer (4 )*Function ('spincorrelation' )(Symbol ('p3' ),Symbol ('MuMu' ),Symbol ('N1_' )?)*Function ('P' )(Symbol ('MuMu' ),Symbol ('p1' )-Symbol ('p3' ))*Function ('P' )(Symbol ('N1_' )?,Symbol ('p2' ))*Integer (1 )/(Symbol ('t' )-Symbol ('Mass_Me' )**Integer (2 ))**Integer (2 )*Symbol ('ee' )**Integer (4 )*Integer (1 )*Symbol ('Mass_Me' )**Integer (2 )+Integer (8 )*Function ('spincorrelation' )(Symbol ('p3' ),Symbol ('MuMu' ),Symbol ('N1_' )?)*Function ('P' )(Symbol ('MuMu' ),Symbol ('p1' ))*Function ('P' )(Symbol ('N1_' )?,Symbol ('p2' ))*Integer (1 )/(Symbol ('t' )-Symbol ('Mass_Me' )**Integer (2 ))**Integer (2 )*Symbol ('ee' )**Integer (4 )*Integer (1 )*Symbol ('Mass_Me' )**Integer (2 )+Integer (8 )*Function ('spincorrelation' )(Symbol ('p3' ),Symbol ('MuMu' ),Symbol ('N20_' )?)*Function ('P' )(Symbol ('MuMu' ),Symbol ('p1' )-Symbol ('p3' ))*Function ('P' )(Symbol ('N20_' )?,Symbol ('p2' ))*Integer (1 )/(Symbol ('t' )-Symbol ('Mass_Me' )**Integer (2 ))**Integer (2 )*Symbol ('ee' )**Integer (4 )*Integer (1 )*Symbol ('Mass_Me' )**Integer (2 )-Integer (4 )*Function ('spincorrelation' )(Symbol ('p3' ),Symbol ('MuNu' ),Symbol ('MuNu' ))*Integer (1 )/(Symbol ('t' )-Symbol ('Mass_Me' )**Integer (2 ))**Integer (2 )*Symbol ('ee' )**Integer (4 )*Integer (1 )*Symbol ('t' )*Symbol ('u' )+Integer (4 )*Function ('spincorrelation' )(Symbol ('p3' ),Symbol ('MuNu' ),Symbol ('MuNu' ))*Integer (1 )/(Symbol ('t' )-Symbol ('Mass_Me' )**Integer (2 ))**Integer (2 )*Symbol ('ee' )**Integer (4 )*Integer (1 )*Symbol ('Mass_Me' )**Integer (2 )*Symbol ('u' )+Integer (4 )*Function ('spincorrelation' )(Symbol ('p3' ),Symbol ('MuNu' ),Symbol ('MuNu' ))*Integer (1 )/(Symbol ('t' )-Symbol ('Mass_Me' )**Integer (2 ))**Integer (2 )*Symbol ('ee' )**Integer (4 )*Integer (1 )*Symbol ('Mass_Me' )**Integer (2 )*Symbol ('t' )+Integer (4 )*Function ('spincorrelation' )(Symbol ('p3' ),Symbol ('MuNu' ),Symbol ('MuNu' ))*Integer (1 )/(Symbol ('t' )-Symbol ('Mass_Me' )**Integer (2 ))**Integer (2 )*Symbol ('ee' )**Integer (4 )*Integer (1 )*Symbol ('Mass_Me' )**Integer (2 )*Symbol ('s' )-Integer (12 )*Function ('spincorrelation' )(Symbol ('p3' ),Symbol ('MuNu' ),Symbol ('MuNu' ))*Integer (1 )/(Symbol ('t' )-Symbol ('Mass_Me' )**Integer (2 ))**Integer (2 )*Symbol ('ee' )**Integer (4 )*Integer (1 )*Symbol ('Mass_Me' )**Integer (4 )+Integer (4 )*Function ('spincorrelation' )(Symbol ('p3' ),Symbol ('N1_' )?,Symbol ('Mu58' ))*Function ('P' )(Symbol ('Mu58' ),Symbol ('p1' )-Symbol ('p3' ))*Function ('P' )(Symbol ('N1_' )?,Symbol ('p1' ))*Integer (1 )/(Symbol ('t' )-Symbol ('Mass_Me' )**Integer (2 ))**Integer (2 )*Symbol ('ee' )**Integer (4 )*Integer (1 )*Symbol ('u' )+Integer (4 )*Function ('spincorrelation' )(Symbol ('p3' ),Symbol ('N1_' )?,Symbol ('Mu58' ))*Function ('P' )(Symbol ('Mu58' ),Symbol ('p1' )-Symbol ('p3' ))*Function ('P' )(Symbol ('N1_' )?,Symbol ('p1' ))*Integer (1 )/(Symbol ('t' )-Symbol ('Mass_Me' )**Integer (2 ))**Integer (2 )*Symbol ('ee' )**Integer (4 )*Integer (1 )*Symbol ('s' )-Integer (12 )*Function ('spincorrelation' )(Symbol ('p3' ),Symbol ('N1_' )?,Symbol ('Mu58' ))*Function ('P' )(Symbol ('Mu58' ),Symbol ('p1' )-Symbol ('p3' ))*Function ('P' )(Symbol ('N1_' )?,Symbol ('p1' ))*Integer (1 )/(Symbol ('t' )-Symbol ('Mass_Me' )**Integer (2 ))**Integer (2 )*Symbol ('ee' )**Integer (4 )*Integer (1 )*Symbol ('Mass_Me' )**Integer (2 )-Integer (4 )*Function ('spincorrelation' )(Symbol ('p3' ),Symbol ('N1_' )?,Symbol ('Mu58' ))*Function ('P' )(Symbol ('Mu58' ),Symbol ('p1' )-Symbol ('p3' ))*Function ('P' )(Symbol ('N1_' )?,Symbol ('p2' ))*Integer (1 )/(Symbol ('t' )-Symbol ('Mass_Me' )**Integer (2 ))**Integer (2 )*Symbol ('ee' )**Integer (4 )*Integer (1 )*Symbol ('t' )-Integer (4 )*Function ('spincorrelation' )(Symbol ('p3' ),Symbol ('N1_' )?,Symbol ('Mu58' ))*Function ('P' )(Symbol ('Mu58' ),Symbol ('p1' )-Symbol ('p3' ))*Function ('P' )(Symbol ('N1_' )?,Symbol ('p2' ))*Integer (1 )/(Symbol ('t' )-Symbol ('Mass_Me' )**Integer (2 ))**Integer (2 )*Symbol ('ee' )**Integer (4 )*Integer (1 )*Symbol ('Mass_Me' )**Integer (2 )+Integer (4 )*Function ('spincorrelation' )(Symbol ('p3' ),Symbol ('N1_' )?,Symbol ('MuNu' ))*Function ('P' )(Symbol ('MuNu' ),Symbol ('p1' )-Symbol ('p3' ))*Function ('P' )(Symbol ('N1_' )?,Symbol ('p1' ))*Integer (1 )/(Symbol ('t' )-Symbol ('Mass_Me' )**Integer (2 ))**Integer (2 )*Symbol ('ee' )**Integer (4 )*Integer (1 )*Symbol ('u' )+Integer (4 )*Function ('spincorrelation' )(Symbol ('p3' ),Symbol ('N1_' )?,Symbol ('MuNu' ))*Function ('P' )(Symbol ('MuNu' ),Symbol ('p1' )-Symbol ('p3' ))*Function ('P' )(Symbol ('N1_' )?,Symbol ('p1' ))*Integer (1 )/(Symbol ('t' )-Symbol ('Mass_Me' )**Integer (2 ))**Integer (2 )*Symbol ('ee' )**Integer (4 )*Integer (1 )*Symbol ('s' )+Integer (20 )*Function ('spincorrelation' )(Symbol ('p3' ),Symbol ('N1_' )?,Symbol ('MuNu' ))*Function ('P' )(Symbol ('MuNu' ),Symbol ('p1' )-Symbol ('p3' ))*Function ('P' )(Symbol ('N1_' )?,Symbol ('p1' ))*Integer (1 )/(Symbol ('t' )-Symbol ('Mass_Me' )**Integer (2 ))**Integer (2 )*Symbol ('ee' )**Integer (4 )*Integer (1 )*Symbol ('Mass_Me' )**Integer (2 )+Integer (4 )*Function ('spincorrelation' )(Symbol ('p3' ),Symbol ('N1_' )?,Symbol ('MuNu' ))*Function ('P' )(Symbol ('MuNu' ),Symbol ('p1' )-Symbol ('p3' ))*Function ('P' )(Symbol ('N1_' )?,Symbol ('p2' ))*Integer (1 )/(Symbol ('t' )-Symbol ('Mass_Me' )**Integer (2 ))**Integer (2 )*Symbol ('ee' )**Integer (4 )*Integer (1 )*Symbol ('t' )+Integer (4 )*Function ('spincorrelation' )(Symbol ('p3' ),Symbol ('N1_' )?,Symbol ('MuNu' ))*Function ('P' )(Symbol ('MuNu' ),Symbol ('p1' )-Symbol ('p3' ))*Function ('P' )(Symbol ('N1_' )?,Symbol ('p2' ))*Integer (1 )/(Symbol ('t' )-Symbol ('Mass_Me' )**Integer (2 ))**Integer (2 )*Symbol ('ee' )**Integer (4 )*Integer (1 )*Symbol ('Mass_Me' )**Integer (2 )-Integer (8 )*Function ('spincorrelation' )(Symbol ('p3' ),Symbol ('N1_' )?,Symbol ('N2_' )?)*Function ('P' )(Symbol ('N1_' )?,Symbol ('p1' ))*Function ('P' )(Symbol ('N2_' )?,Symbol ('p2' ))*Integer (1 )/(Symbol ('t' )-Symbol ('Mass_Me' )**Integer (2 ))**Integer (2 )*Symbol ('ee' )**Integer (4 )*Integer (1 )*Symbol ('t' )-Integer (8 )*Function ('spincorrelation' )(Symbol ('p3' ),Symbol ('N1_' )?,Symbol ('N2_' )?)*Function ('P' )(Symbol ('N1_' )?,Symbol ('p2' ))*Function ('P' )(Symbol ('N2_' )?,Symbol ('p1' ))*Integer (1 )/(Symbol ('t' )-Symbol ('Mass_Me' )**Integer (2 ))**Integer (2 )*Symbol ('ee' )**Integer (4 )*Integer (1 )*Symbol ('t' )+Integer (8 )*Function ('spincorrelation' )(Symbol ('p3' ),Symbol ('N1_' )?,Symbol ('N2_' )?)*Function ('P' )(Symbol ('N1_' )?,Symbol ('p2' ))*Function ('P' )(Symbol ('N2_' )?,Symbol ('p1' ))*Integer (1 )/(Symbol ('t' )-Symbol ('Mass_Me' )**Integer (2 ))**Integer (2 )*Symbol ('ee' )**Integer (4 )*Integer (1 )*Symbol ('Mass_Me' )**Integer (2 )-Integer (8 )*Function ('spincorrelation' )(Symbol ('p3' ),Symbol ('N20_' )?,Symbol ('MuNu' ))*Function ('P' )(Symbol ('MuNu' ),Symbol ('p1' )-Symbol ('p3' ))*Function ('P' )(Symbol ('N20_' )?,Symbol ('p2' ))*Integer (1 )/(Symbol ('t' )-Symbol ('Mass_Me' )**Integer (2 ))**Integer (2 )*Symbol ('ee' )**Integer (4 )*Integer (1 )*Symbol ('Mass_Me' )**Integer (2 )+Integer (4 )*Function ('spincorrelation' )(Symbol ('p4' ),Symbol ('MuMu' ),Symbol ('Mu58' ))*Function ('P' )(Symbol ('Mu58' ),Symbol ('p1' )-Symbol ('p3' ))*Function ('P' )(Symbol ('MuMu' ),Symbol ('p1' )-Symbol ('p3' ))*Integer (1 )/(Symbol ('t' )-Symbol ('Mass_Me' )**Integer (2 ))**Integer (2 )*Symbol ('ee' )**Integer (4 )*Integer (1 )*Symbol ('s' )-Integer (8 )*Function ('spincorrelation' )(Symbol ('p4' ),Symbol ('MuMu' ),Symbol ('Mu58' ))*Function ('P' )(Symbol ('Mu58' ),Symbol ('p1' )-Symbol ('p3' ))*Function ('P' )(Symbol ('MuMu' ),Symbol ('p1' )-Symbol ('p3' ))*Integer (1 )/(Symbol ('t' )-Symbol ('Mass_Me' )**Integer (2 ))**Integer (2 )*Symbol ('ee' )**Integer (4 )*Integer (1 )*Symbol ('Mass_Me' )**Integer (2 )-Integer (4 )*Function ('spincorrelation' )(Symbol ('p4' ),Symbol ('MuMu' ),Symbol ('Mu58' ))*Function ('P' )(Symbol ('Mu58' ),Symbol ('p1' )-Symbol ('p3' ))*Function ('P' )(Symbol ('MuMu' ),Symbol ('p1' ))*Integer (1 )/(Symbol ('t' )-Symbol ('Mass_Me' )**Integer (2 ))**Integer (2 )*Symbol ('ee' )**Integer (4 )*Integer (1 )*Symbol ('u' )-Integer (4 )*Function ('spincorrelation' )(Symbol ('p4' ),Symbol ('MuMu' ),Symbol ('Mu58' ))*Function ('P' )(Symbol ('Mu58' ),Symbol ('p1' )-Symbol ('p3' ))*Function ('P' )(Symbol ('MuMu' ),Symbol ('p1' ))*Integer (1 )/(Symbol ('t' )-Symbol ('Mass_Me' )**Integer (2 ))**Integer (2 )*Symbol ('ee' )**Integer (4 )*Integer (1 )*Symbol ('s' )+Integer (12 )*Function ('spincorrelation' )(Symbol ('p4' ),Symbol ('MuMu' ),Symbol ('Mu58' ))*Function ('P' )(Symbol ('Mu58' ),Symbol ('p1' )-Symbol ('p3' ))*Function ('P' )(Symbol ('MuMu' ),Symbol ('p1' ))*Integer (1 )/(Symbol ('t' )-Symbol ('Mass_Me' )**Integer (2 ))**Integer (2 )*Symbol ('ee' )**Integer (4 )*Integer (1 )*Symbol ('Mass_Me' )**Integer (2 )-Integer (4 )*Function ('spincorrelation' )(Symbol ('p4' ),Symbol ('MuMu' ),Symbol ('MuMu' ))*Integer (1 )/(Symbol ('t' )-Symbol ('Mass_Me' )**Integer (2 ))**Integer (2 )*Symbol ('ee' )**Integer (4 )*Integer (1 )*Symbol ('t' )*Symbol ('u' )+Integer (12 )*Function ('spincorrelation' )(Symbol ('p4' ),Symbol ('MuMu' ),Symbol ('MuMu' ))*Integer (1 )/(Symbol ('t' )-Symbol ('Mass_Me' )**Integer (2 ))**Integer (2 )*Symbol ('ee' )**Integer (4 )*Integer (1 )*Symbol ('Mass_Me' )**Integer (2 )*Symbol ('u' )+Integer (12 )*Function ('spincorrelation' )(Symbol ('p4' ),Symbol ('MuMu' ),Symbol ('MuMu' ))*Integer (1 )/(Symbol ('t' )-Symbol ('Mass_Me' )**Integer (2 ))**Integer (2 )*Symbol ('ee' )**Integer (4 )*Integer (1 )*Symbol ('Mass_Me' )**Integer (2 )*Symbol ('t' )+Integer (8 )*Function ('spincorrelation' )(Symbol ('p4' ),Symbol ('MuMu' ),Symbol ('MuMu' ))*Integer (1 )/(Symbol ('t' )-Symbol ('Mass_Me' )**Integer (2 ))**Integer (2 )*Symbol ('ee' )**Integer (4 )*Integer (1 )*Symbol ('Mass_Me' )**Integer (2 )*Symbol ('s' )-Integer (20 )*Function ('spincorrelation' )(Symbol ('p4' ),Symbol ('MuMu' ),Symbol ('MuMu' ))*Integer (1 )/(Symbol ('t' )-Symbol ('Mass_Me' )**Integer (2 ))**Integer (2 )*Symbol ('ee' )**Integer (4 )*Integer (1 )*Symbol ('Mass_Me' )**Integer (4 )-Integer (4 )*Function ('spincorrelation' )(Symbol ('p4' ),Symbol ('MuMu' ),Symbol ('MuNu' ))*Function ('P' )(Symbol ('MuMu' ),Symbol ('p1' )-Symbol ('p3' ))*Function ('P' )(Symbol ('MuNu' ),Symbol ('p1' )-Symbol ('p3' ))*Integer (1 )/(Symbol ('t' )-Symbol ('Mass_Me' )**Integer (2 ))**Integer (2 )*Symbol ('ee' )**Integer (4 )*Integer (1 )*Symbol ('s' )+Integer (8 )*Function ('spincorrelation' )(Symbol ('p4' ),Symbol ('MuMu' ),Symbol ('MuNu' ))*Function ('P' )(Symbol ('MuMu' ),Symbol ('p1' )-Symbol ('p3' ))*Function ('P' )(Symbol ('MuNu' ),Symbol ('p1' )-Symbol ('p3' ))*Integer (1 )/(Symbol ('t' )-Symbol ('Mass_Me' )**Integer (2 ))**Integer (2 )*Symbol ('ee' )**Integer (4 )*Integer (1 )*Symbol ('Mass_Me' )**Integer (2 )-Integer (8 )*Function ('spincorrelation' )(Symbol ('p4' ),Symbol ('MuMu' ),Symbol ('MuNu' ))*Function ('P' )(Symbol ('MuMu' ),Symbol ('p1' )-Symbol ('p3' ))*Function ('P' )(Symbol ('MuNu' ),Symbol ('p1' ))*Integer (1 )/(Symbol ('t' )-Symbol ('Mass_Me' )**Integer (2 ))**Integer (2 )*Symbol ('ee' )**Integer (4 )*Integer (1 )*Symbol ('Mass_Me' )**Integer (2 )+Integer (4 )*Function ('spincorrelation' )(Symbol ('p4' ),Symbol ('MuMu' ),Symbol ('MuNu' ))*Function ('P' )(Symbol ('MuMu' ),Symbol ('p1' ))*Function ('P' )(Symbol ('MuNu' ),Symbol ('p1' )-Symbol ('p3' ))*Integer (1 )/(Symbol ('t' )-Symbol ('Mass_Me' )**Integer (2 ))**Integer (2 )*Symbol ('ee' )**Integer (4 )*Integer (1 )*Symbol ('u' )+Integer (4 )*Function ('spincorrelation' )(Symbol ('p4' ),Symbol ('MuMu' ),Symbol ('MuNu' ))*Function ('P' )(Symbol ('MuMu' ),Symbol ('p1' ))*Function ('P' )(Symbol ('MuNu' ),Symbol ('p1' )-Symbol ('p3' ))*Integer (1 )/(Symbol ('t' )-Symbol ('Mass_Me' )**Integer (2 ))**Integer (2 )*Symbol ('ee' )**Integer (4 )*Integer (1 )*Symbol ('s' )-Integer (4 )*Function ('spincorrelation' )(Symbol ('p4' ),Symbol ('MuMu' ),Symbol ('MuNu' ))*Function ('P' )(Symbol ('MuMu' ),Symbol ('p1' ))*Function ('P' )(Symbol ('MuNu' ),Symbol ('p1' )-Symbol ('p3' ))*Integer (1 )/(Symbol ('t' )-Symbol ('Mass_Me' )**Integer (2 ))**Integer (2 )*Symbol ('ee' )**Integer (4 )*Integer (1 )*Symbol ('Mass_Me' )**Integer (2 )+Integer (8 )*Function ('spincorrelation' )(Symbol ('p4' ),Symbol ('MuMu' ),Symbol ('MuNu' ))*Function ('P' )(Symbol ('MuMu' ),Symbol ('p2' ))*Function ('P' )(Symbol ('MuNu' ),Symbol ('p1' )-Symbol ('p3' ))*Integer (1 )/(Symbol ('t' )-Symbol ('Mass_Me' )**Integer (2 ))**Integer (2 )*Symbol ('ee' )**Integer (4 )*Integer (1 )*Symbol ('t' )-Integer (24 )*Function ('spincorrelation' )(Symbol ('p4' ),Symbol ('MuMu' ),Symbol ('MuNu' ))*Function ('P' )(Symbol ('MuMu' ),Symbol ('p2' ))*Function ('P' )(Symbol ('MuNu' ),Symbol ('p1' )-Symbol ('p3' ))*Integer (1 )/(Symbol ('t' )-Symbol ('Mass_Me' )**Integer (2 ))**Integer (2 )*Symbol ('ee' )**Integer (4 )*Integer (1 )*Symbol ('Mass_Me' )**Integer (2 )-Integer (8 )*Function ('spincorrelation' )(Symbol ('p4' ),Symbol ('MuMu' ),Symbol ('MuNu' ))*Function ('P' )(Symbol ('MuMu' ),Symbol ('p2' ))*Function ('P' )(Symbol ('MuNu' ),Symbol ('p1' ))*Integer (1 )/(Symbol ('t' )-Symbol ('Mass_Me' )**Integer (2 ))**Integer (2 )*Symbol ('ee' )**Integer (4 )*Integer (1 )*Symbol ('t' )+Integer (8 )*Function ('spincorrelation' )(Symbol ('p4' ),Symbol ('MuMu' ),Symbol ('MuNu' ))*Function ('P' )(Symbol ('MuMu' ),Symbol ('p2' ))*Function ('P' )(Symbol ('MuNu' ),Symbol ('p1' ))*Integer (1 )/(Symbol ('t' )-Symbol ('Mass_Me' )**Integer (2 ))**Integer (2 )*Symbol ('ee' )**Integer (4 )*Integer (1 )*Symbol ('Mass_Me' )**Integer (2 )+Integer (8 )*Function ('spincorrelation' )(Symbol ('p4' ),Symbol ('MuMu' ),Symbol ('N1_' )?)*Function ('P' )(Symbol ('MuMu' ),Symbol ('p1' )-Symbol ('p3' ))*Function ('P' )(Symbol ('N1_' )?,Symbol ('p1' ))*Integer (1 )/(Symbol ('t' )-Symbol ('Mass_Me' )**Integer (2 ))**Integer (2 )*Symbol ('ee' )**Integer (4 )*Integer (1 )*Symbol ('Mass_Me' )**Integer (2 )+Integer (8 )*Function ('spincorrelation' )(Symbol ('p4' ),Symbol ('MuMu' ),Symbol ('N1_' )?)*Function ('P' )(Symbol ('MuMu' ),Symbol ('p1' )-Symbol ('p3' ))*Function ('P' )(Symbol ('N1_' )?,Symbol ('p2' ))*Integer (1 )/(Symbol ('t' )-Symbol ('Mass_Me' )**Integer (2 ))**Integer (2 )*Symbol ('ee' )**Integer (4 )*Integer (1 )*Symbol ('t' )+Integer (8 )*Function ('spincorrelation' )(Symbol ('p4' ),Symbol ('MuMu' ),Symbol ('N1_' )?)*Function ('P' )(Symbol ('MuMu' ),Symbol ('p1' )-Symbol ('p3' ))*Function ('P' )(Symbol ('N1_' )?,Symbol ('p2' ))*Integer (1 )/(Symbol ('t' )-Symbol ('Mass_Me' )**Integer (2 ))**Integer (2 )*Symbol ('ee' )**Integer (4 )*Integer (1 )*Symbol ('Mass_Me' )**Integer (2 )-Integer (8 )*Function ('spincorrelation' )(Symbol ('p4' ),Symbol ('MuMu' ),Symbol ('N1_' )?)*Function ('P' )(Symbol ('MuMu' ),Symbol ('p1' ))*Function ('P' )(Symbol ('N1_' )?,Symbol ('p2' ))*Integer (1 )/(Symbol ('t' )-Symbol ('Mass_Me' )**Integer (2 ))**Integer (2 )*Symbol ('ee' )**Integer (4 )*Integer (1 )*Symbol ('t' )+Integer (8 )*Function ('spincorrelation' )(Symbol ('p4' ),Symbol ('MuMu' ),Symbol ('N1_' )?)*Function ('P' )(Symbol ('MuMu' ),Symbol ('p1' ))*Function ('P' )(Symbol ('N1_' )?,Symbol ('p2' ))*Integer (1 )/(Symbol ('t' )-Symbol ('Mass_Me' )**Integer (2 ))**Integer (2 )*Symbol ('ee' )**Integer (4 )*Integer (1 )*Symbol ('Mass_Me' )**Integer (2 )-Integer (32 )*Function ('spincorrelation' )(Symbol ('p4' ),Symbol ('MuMu' ),Symbol ('N20_' )?)*Function ('P' )(Symbol ('MuMu' ),Symbol ('p1' )-Symbol ('p3' ))*Function ('P' )(Symbol ('N20_' )?,Symbol ('p2' ))*Integer (1 )/(Symbol ('t' )-Symbol ('Mass_Me' )**Integer (2 ))**Integer (2 )*Symbol ('ee' )**Integer (4 )*Integer (1 )*Symbol ('Mass_Me' )**Integer (2 )-Integer (8 )*Function ('spincorrelation' )(Symbol ('p4' ),Symbol ('N1_' )?,Symbol ('MuNu' ))*Function ('P' )(Symbol ('MuNu' ),Symbol ('p1' )-Symbol ('p3' ))*Function ('P' )(Symbol ('N1_' )?,Symbol ('p1' ))*Integer (1 )/(Symbol ('t' )-Symbol ('Mass_Me' )**Integer (2 ))**Integer (2 )*Symbol ('ee' )**Integer (4 )*Integer (1 )*Symbol ('Mass_Me' )**Integer (2 )\u001b[0m\n\u001b[0m                                                                                                                                                                                                                                                                                                                                                                                                                                                                                     ^\u001b[0m\n\u001b[0;31mSyntaxError\u001b[0m\u001b[0;31m:\u001b[0m invalid syntax\n"
     ]
    }
   ],
   "source": [
    "sympy.parse_expr(rr.replace(\"Mom_\", \"\")\n",
    "        .replace(\".\", \"_\")\n",
    "        .replace(\"PREFACTOR\", \"1\")\n",
    "        .replace(\"^\", \"**\")\n",
    "        .replace(\"mss\", \"s\")\n",
    "        .replace(\"msu\", \"u\")\n",
    "        .replace(\"mst\", \"t\"))"
   ]
  },
  {
   "cell_type": "code",
   "execution_count": null,
   "id": "22b49918-da91-4e1f-8b41-a80fe3024b7a",
   "metadata": {},
   "outputs": [],
   "source": []
  }
 ],
 "metadata": {
  "kernelspec": {
   "display_name": "Python 3 (ipykernel)",
   "language": "python",
   "name": "python3"
  },
  "language_info": {
   "codemirror_mode": {
    "name": "ipython",
    "version": 3
   },
   "file_extension": ".py",
   "mimetype": "text/x-python",
   "name": "python",
   "nbconvert_exporter": "python",
   "pygments_lexer": "ipython3",
   "version": "3.11.9"
  }
 },
 "nbformat": 4,
 "nbformat_minor": 5
}
