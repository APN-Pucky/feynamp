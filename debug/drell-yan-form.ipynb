{
 "cells": [
  {
   "cell_type": "code",
   "execution_count": 1,
   "id": "789c8fed",
   "metadata": {},
   "outputs": [],
   "source": [
    "from feynml.feynmandiagram import FeynmanDiagram\n",
    "from feynml.feynml import FeynML, Head, Meta\n",
    "from feynml.leg import Leg\n",
    "from feynml.momentum import Momentum\n",
    "from feynml.propagator import Propagator\n",
    "from feynml.vertex import Vertex"
   ]
  },
  {
   "cell_type": "code",
   "execution_count": 2,
   "id": "79f700be",
   "metadata": {},
   "outputs": [],
   "source": [
    "v1 = Vertex()\n",
    "v2 = Vertex()\n",
    "\n",
    "fd = FeynmanDiagram().add(\n",
    "    v1,v2,\n",
    "    Propagator(pdgid=21).connect(v1,v2),\n",
    "    Leg(pdgid=1).with_target(v1).with_incoming().with_momentum(Momentum(name=\"p_a\")).with_color('red'),\n",
    "    Leg(pdgid=-1).with_target(v1).with_incoming().with_momentum(Momentum(name=\"p_b\")),\n",
    "    Leg(pdgid=2).with_target(v2).with_outgoing().with_momentum(Momentum(name=\"k_a\")),\n",
    "    Leg(pdgid=-2).with_target(v2).with_outgoing().with_momentum(Momentum(name=\"k_b\")),\n",
    "    \n",
    ")\n"
   ]
  },
  {
   "cell_type": "code",
   "execution_count": 3,
   "id": "a0362586-da23-4653-891a-f19fb0a4d699",
   "metadata": {},
   "outputs": [
    {
     "name": "stdout",
     "output_type": "stream",
     "text": [
      "Momentum(name='+p_a+p_b', px=None, py=None, pz=None, e=None)\n"
     ]
    }
   ],
   "source": [
    "from feynamp.momentum import *\n",
    "set_missing_momenta(fd)\n",
    "print(fd.propagators[0].momentum)"
   ]
  },
  {
   "cell_type": "code",
   "execution_count": 4,
   "id": "309766d2",
   "metadata": {},
   "outputs": [
    {
     "data": {
      "image/png": "[encoded data removed]",
      "text/plain": [
       "<wand.image.Image: 4051dd3 'PDF' (394x394)>"
      ]
     },
     "metadata": {},
     "output_type": "display_data"
    }
   ],
   "source": [
    "fd"
   ]
  },
  {
   "cell_type": "code",
   "execution_count": 5,
   "id": "3439439d",
   "metadata": {},
   "outputs": [],
   "source": [
    "from feynmodel.interface.ufo import load_ufo_model\n",
    "fm = load_ufo_model(\"ufo_sm\")"
   ]
  },
  {
   "cell_type": "code",
   "execution_count": 6,
   "id": "913f38ba",
   "metadata": {},
   "outputs": [
    {
     "data": {
      "text/plain": [
       "250"
      ]
     },
     "execution_count": 6,
     "metadata": {},
     "output_type": "execute_result"
    }
   ],
   "source": [
    "fm.vertices[0].particles[0].pdg_code"
   ]
  },
  {
   "cell_type": "code",
   "execution_count": 7,
   "id": "49b04b2e",
   "metadata": {},
   "outputs": [
    {
     "data": {
      "text/plain": [
       "[Propagator(id='Propagator11', pdgid=21, name='g', type='gluon', particle=<Particle: name=\"g\", pdgid=21, mass=0.0 MeV>, style=cssutils.css.CSSStyleDeclaration(cssText=''), clazz=None, label=None, momentum=Momentum(name='+p_a+p_b', px=None, py=None, pz=None, e=None), source='Vertex8', target='Vertex9'),\n",
       " Leg(id='Leg12', pdgid=1, name='d', type='fermion', particle=<Particle: name=\"d\", pdgid=1, mass=4.67 + 0.50 - 0.20 MeV>, style=cssutils.css.CSSStyleDeclaration(cssText='color: red'), clazz=None, label=None, momentum=Momentum(name='p_a', px=None, py=None, pz=None, e=None), target='Vertex8', x=None, y=None, z=None, sense='incoming', external=None),\n",
       " Leg(id='Leg13', pdgid=-1, name='d~', type='anti fermion', particle=<Particle: name=\"d~\", pdgid=-1, mass=4.67 + 0.50 - 0.20 MeV>, style=cssutils.css.CSSStyleDeclaration(cssText=''), clazz=None, label=None, momentum=Momentum(name='p_b', px=None, py=None, pz=None, e=None), target='Vertex8', x=None, y=None, z=None, sense='incoming', external=None)]"
      ]
     },
     "execution_count": 7,
     "metadata": {},
     "output_type": "execute_result"
    }
   ],
   "source": [
    "fd.get_connections(v1)"
   ]
  },
  {
   "cell_type": "code",
   "execution_count": 8,
   "id": "7002b144",
   "metadata": {},
   "outputs": [],
   "source": [
    "import feynamp as fp"
   ]
  },
  {
   "cell_type": "code",
   "execution_count": 9,
   "id": "596184a0",
   "metadata": {},
   "outputs": [],
   "source": [
    "vv2 = fp.find_vertex_in_model(fd,v2,fm)"
   ]
  },
  {
   "cell_type": "code",
   "execution_count": 10,
   "id": "9735c085",
   "metadata": {},
   "outputs": [],
   "source": [
    "vv1 = fp.find_vertex_in_model(fd,v1,fm)"
   ]
  },
  {
   "cell_type": "code",
   "execution_count": 11,
   "id": "30071c9c",
   "metadata": {},
   "outputs": [
    {
     "data": {
      "text/plain": [
       "['T(3,2,1)']"
      ]
     },
     "execution_count": 11,
     "metadata": {},
     "output_type": "execute_result"
    }
   ],
   "source": [
    "vv1.color"
   ]
  },
  {
   "cell_type": "code",
   "execution_count": 12,
   "id": "0c689db1",
   "metadata": {},
   "outputs": [
    {
     "data": {
      "text/plain": [
       "{(0, 0): GC_11}"
      ]
     },
     "execution_count": 12,
     "metadata": {},
     "output_type": "execute_result"
    }
   ],
   "source": [
    "vv1.couplings"
   ]
  },
  {
   "cell_type": "code",
   "execution_count": 13,
   "id": "bfa87af9",
   "metadata": {},
   "outputs": [
    {
     "data": {
      "text/plain": [
       "-3"
      ]
     },
     "execution_count": 13,
     "metadata": {},
     "output_type": "execute_result"
    }
   ],
   "source": [
    "vv1.particles[0].color"
   ]
  },
  {
   "cell_type": "code",
   "execution_count": 14,
   "id": "e3c8532e",
   "metadata": {},
   "outputs": [
    {
     "data": {
      "text/plain": [
       "[('complex(0,1)*G',\n",
       "  'T(GluPropagator11,ColLeg13,ColLeg12)',\n",
       "  'Gamma(MuPropagator11,SpinLeg13,SpinLeg12)')]"
      ]
     },
     "execution_count": 14,
     "metadata": {},
     "output_type": "execute_result"
    }
   ],
   "source": [
    "fp.get_vertex_math(fd,v1,fm)"
   ]
  },
  {
   "cell_type": "code",
   "execution_count": 15,
   "id": "5f2e2feb",
   "metadata": {},
   "outputs": [
    {
     "data": {
      "text/plain": [
       "[('complex(0,1)*G',\n",
       "  'T(GluPropagator11,ColLeg14,ColLeg15)',\n",
       "  'Gamma(MuPropagator11,SpinLeg14,SpinLeg15)')]"
      ]
     },
     "execution_count": 15,
     "metadata": {},
     "output_type": "execute_result"
    }
   ],
   "source": [
    "fp.get_vertex_math(fd,v2,fm)"
   ]
  },
  {
   "cell_type": "code",
   "execution_count": 16,
   "id": "cffc9f01-f8d1-4524-8260-fceabba4647e",
   "metadata": {},
   "outputs": [],
   "source": [
    "cfd = fd.conjugated()"
   ]
  },
  {
   "cell_type": "code",
   "execution_count": 17,
   "id": "2dcce502",
   "metadata": {},
   "outputs": [
    {
     "data": {
      "text/plain": [
       "[('complex(0,1)*G',\n",
       "  'T(GluPropagator26,ColLeg22,ColLeg23)',\n",
       "  'Gamma(MuPropagator26,SpinLeg22,SpinLeg23)')]"
      ]
     },
     "execution_count": 17,
     "metadata": {},
     "output_type": "execute_result"
    }
   ],
   "source": [
    "\n",
    "fp.get_vertex_math(cfd,cfd.vertices[0],fm)"
   ]
  },
  {
   "cell_type": "code",
   "execution_count": 18,
   "id": "1963cecb-dc6b-4583-be4c-6359d392469c",
   "metadata": {},
   "outputs": [
    {
     "data": {
      "image/png": "[encoded data removed]",
      "text/plain": [
       "<wand.image.Image: 4051dd3 'PDF' (394x394)>"
      ]
     },
     "metadata": {},
     "output_type": "display_data"
    }
   ],
   "source": [
    "fd"
   ]
  },
  {
   "cell_type": "code",
   "execution_count": 19,
   "id": "53e7e122",
   "metadata": {},
   "outputs": [
    {
     "data": {
      "image/png": "[encoded data removed]",
      "text/plain": [
       "<wand.image.Image: 43d8204 'PDF' (394x394)>"
      ]
     },
     "metadata": {},
     "output_type": "display_data"
    }
   ],
   "source": [
    "cfd"
   ]
  },
  {
   "cell_type": "code",
   "execution_count": 20,
   "id": "84c197c0",
   "metadata": {},
   "outputs": [
    {
     "data": {
      "text/plain": [
       "'Denom(+Mom_p_a+Mom_p_b,ZERO)'"
      ]
     },
     "execution_count": 20,
     "metadata": {},
     "output_type": "execute_result"
    }
   ],
   "source": [
    "fp.get_propagator_math(fd,fd.propagators[0],fm)"
   ]
  },
  {
   "cell_type": "code",
   "execution_count": null,
   "id": "619e71ce-251f-4cb2-bd11-2fdfd5ceb6a1",
   "metadata": {},
   "outputs": [],
   "source": []
  },
  {
   "cell_type": "code",
   "execution_count": 21,
   "id": "e2ab6e2c-55d1-43cd-8b90-bf52ed73e090",
   "metadata": {},
   "outputs": [
    {
     "data": {
      "text/plain": [
       "'complex(0,1)*G*T(GluPropagator11,ColLeg13,ColLeg12)*Gamma(MuPropagator11,SpinLeg13,SpinLeg12) * complex(0,1)*G*T(GluPropagator11,ColLeg14,ColLeg15)*Gamma(MuPropagator11,SpinLeg14,SpinLeg15) * VC(ColLeg12,Mom_p_a)*u(SpinLeg12,Mom_p_a) * VC(ColLeg13,Mom_p_b)*v(SpinLeg13,Mom_p_b) * VC(ColLeg14,Mom_k_a)*u_bar(SpinLeg14,Mom_k_a) * VC(ColLeg15,Mom_k_b)*v_bar(SpinLeg15,Mom_k_b) * Denom(+Mom_p_a+Mom_p_b,ZERO)'"
      ]
     },
     "execution_count": 21,
     "metadata": {},
     "output_type": "execute_result"
    }
   ],
   "source": [
    "a=fp.feynman_diagram_to_string(fd,fm)\n",
    "a"
   ]
  },
  {
   "cell_type": "code",
   "execution_count": 22,
   "id": "73b373af-8988-4328-995f-2e1229f837bb",
   "metadata": {},
   "outputs": [
    {
     "data": {
      "text/plain": [
       "'complex(0,1)*G*T(GluPropagator26,ColLeg22,ColLeg23)*Gamma(MuPropagator26,SpinLeg22,SpinLeg23) * complex(0,1)*G*T(GluPropagator26,ColLeg25,ColLeg24)*Gamma(MuPropagator26,SpinLeg25,SpinLeg24) * VC(ColLeg22,Mom_p_a)*u_bar(SpinLeg22,Mom_p_a) * VC(ColLeg23,Mom_p_b)*v_bar(SpinLeg23,Mom_p_b) * VC(ColLeg24,Mom_k_a)*u(SpinLeg24,Mom_k_a) * VC(ColLeg25,Mom_k_b)*v(SpinLeg25,Mom_k_b) * Denom(+Mom_p_a+Mom_p_b,ZERO)'"
      ]
     },
     "execution_count": 22,
     "metadata": {},
     "output_type": "execute_result"
    }
   ],
   "source": [
    "b=fp.feynman_diagram_to_string(cfd,fm)\n",
    "b"
   ]
  },
  {
   "cell_type": "code",
   "execution_count": 23,
   "id": "94a8c4de-f8b1-422f-aa0a-bdf9eabca218",
   "metadata": {},
   "outputs": [],
   "source": [
    "from feynamp.form.color import *"
   ]
  },
  {
   "cell_type": "code",
   "execution_count": 24,
   "id": "b90e61aa-caa7-4332-8463-40e2297fbf2c",
   "metadata": {},
   "outputs": [
    {
     "data": {
      "text/plain": [
       "'1/2*df(ColLeg22,ColLeg25)*df(ColLeg23,ColLeg24)*Denom(Mom_p_a+Mom_p_b,0)*Gamma(MuPropagator26,SpinLeg22,SpinLeg23)*Gamma(MuPropagator26,SpinLeg25,SpinLeg24)*u(SpinLeg24,Mom_k_a)*v(SpinLeg25,Mom_k_b)*ubar(SpinLeg22,Mom_p_a)*vbar(SpinLeg23,Mom_p_b)*VC(ColLeg22,Mom_p_a)*VC(ColLeg23,Mom_p_b)*VC(ColLeg25,Mom_k_b)*VC(ColLeg24,Mom_k_a)*G^2*Nc^-1-1/2*df(ColLeg22,ColLeg24)*df(ColLeg23,ColLeg25)*Denom(Mom_p_a+Mom_p_b,0)*Gamma(MuPropagator26,SpinLeg22,SpinLeg23)*Gamma(MuPropagator26,SpinLeg25,SpinLeg24)*u(SpinLeg24,Mom_k_a)*v(SpinLeg25,Mom_k_b)*ubar(SpinLeg22,Mom_p_a)*vbar(SpinLeg23,Mom_p_b)*VC(ColLeg22,Mom_p_a)*VC(ColLeg23,Mom_p_b)*VC(ColLeg25,Mom_k_b)*VC(ColLeg24,Mom_k_a)*G^2'"
      ]
     },
     "execution_count": 24,
     "metadata": {},
     "output_type": "execute_result"
    }
   ],
   "source": [
    "cb= apply_color(b)\n",
    "cb"
   ]
  },
  {
   "cell_type": "code",
   "execution_count": 25,
   "id": "c0fe5cf7-7e3b-47ab-b60f-b5727d87dee8",
   "metadata": {},
   "outputs": [
    {
     "data": {
      "text/plain": [
       "'1/2*df(ColLeg13,ColLeg14)*df(ColLeg12,ColLeg15)*Denom(Mom_p_a+Mom_p_b,0)*Gamma(MuPropagator11,SpinLeg13,SpinLeg12)*Gamma(MuPropagator11,SpinLeg14,SpinLeg15)*u(SpinLeg12,Mom_p_a)*v(SpinLeg13,Mom_p_b)*ubar(SpinLeg14,Mom_k_a)*vbar(SpinLeg15,Mom_k_b)*VC(ColLeg13,Mom_p_b)*VC(ColLeg12,Mom_p_a)*VC(ColLeg14,Mom_k_a)*VC(ColLeg15,Mom_k_b)*G^2*Nc^-1-1/2*df(ColLeg13,ColLeg15)*df(ColLeg12,ColLeg14)*Denom(Mom_p_a+Mom_p_b,0)*Gamma(MuPropagator11,SpinLeg13,SpinLeg12)*Gamma(MuPropagator11,SpinLeg14,SpinLeg15)*u(SpinLeg12,Mom_p_a)*v(SpinLeg13,Mom_p_b)*ubar(SpinLeg14,Mom_k_a)*vbar(SpinLeg15,Mom_k_b)*VC(ColLeg13,Mom_p_b)*VC(ColLeg12,Mom_p_a)*VC(ColLeg14,Mom_k_a)*VC(ColLeg15,Mom_k_b)*G^2'"
      ]
     },
     "execution_count": 25,
     "metadata": {},
     "output_type": "execute_result"
    }
   ],
   "source": [
    "ca = apply_color(a)\n",
    "ca"
   ]
  },
  {
   "cell_type": "code",
   "execution_count": 26,
   "id": "d5c7c46c-2f20-462c-8fe1-a665d840cd13",
   "metadata": {},
   "outputs": [
    {
     "data": {
      "text/plain": [
       "'1/2*Denom(Mom_p_a+Mom_p_b,0)^2*Gamma(MuPropagator11,SpinLeg13,SpinLeg12)*Gamma(MuPropagator11,SpinLeg14,SpinLeg15)*Gamma(MuPropagator26,SpinLeg22,SpinLeg23)*Gamma(MuPropagator26,SpinLeg25,SpinLeg24)*u(SpinLeg12,Mom_p_a)*u(SpinLeg24,Mom_k_a)*v(SpinLeg13,Mom_p_b)*v(SpinLeg25,Mom_k_b)*ubar(SpinLeg14,Mom_k_a)*ubar(SpinLeg22,Mom_p_a)*vbar(SpinLeg15,Mom_k_b)*vbar(SpinLeg23,Mom_p_b)*G^4*Nc*Cf'"
      ]
     },
     "execution_count": 26,
     "metadata": {},
     "output_type": "execute_result"
    }
   ],
   "source": [
    "m2c = apply_color(f\"({ca})*({cb})\")\n",
    "m2c"
   ]
  },
  {
   "cell_type": "code",
   "execution_count": 27,
   "id": "eb2e0de7-7c03-42bd-bace-338fbb9afafb",
   "metadata": {},
   "outputs": [
    {
     "data": {
      "text/plain": [
       "'8*P(MuPropagator11,Mom_p_a)*P(MuPropagator11,Mom_k_a)*P(MuPropagator26,Mom_p_b)*P(MuPropagator26,Mom_k_b)*Denom(Mom_p_a+Mom_p_b,0)^2*G^4*Nc*Cf+8*P(MuPropagator11,Mom_p_a)*P(MuPropagator11,Mom_k_b)*P(MuPropagator26,Mom_p_b)*P(MuPropagator26,Mom_k_a)*Denom(Mom_p_a+Mom_p_b,0)^2*G^4*Nc*Cf+8*P(MuPropagator11,Mom_p_b)*P(MuPropagator11,Mom_k_a)*P(MuPropagator26,Mom_p_a)*P(MuPropagator26,Mom_k_b)*Denom(Mom_p_a+Mom_p_b,0)^2*G^4*Nc*Cf+8*P(MuPropagator11,Mom_p_b)*P(MuPropagator11,Mom_k_b)*P(MuPropagator26,Mom_p_a)*P(MuPropagator26,Mom_k_a)*Denom(Mom_p_a+Mom_p_b,0)^2*G^4*Nc*Cf-16*P(MuPropagator26,Mom_p_a)*P(MuPropagator26,Mom_p_b)*P(N1_?,Mom_k_a)^2*P(N2_?,Mom_k_b)^2*Denom(Mom_p_a+Mom_p_b,0)^2*G^4*Nc*Cf-16*P(MuPropagator26,Mom_p_a)*P(MuPropagator26,Mom_p_b)*P(N1_?,Mom_k_a)*P(N1_?,Mom_k_b)*Denom(Mom_p_a+Mom_p_b,0)^2*G^4*Nc*Cf-16*P(MuPropagator26,Mom_k_a)*P(MuPropagator26,Mom_k_b)*P(N1_?,Mom_p_a)^2*P(N2_?,Mom_p_b)^2*Denom(Mom_p_a+Mom_p_b,0)^2*G^4*Nc*Cf-16*P(MuPropagator26,Mom_k_a)*P(MuPropagator26,Mom_k_b)*P(N1_?,Mom_p_a)*P(N1_?,Mom_p_b)*Denom(Mom_p_a+Mom_p_b,0)^2*G^4*Nc*Cf+32*P(N1_?,Mom_p_a)^2*P(N2_?,Mom_p_b)^2*P(N3_?,Mom_k_a)*P(N3_?,Mom_k_b)*Denom(Mom_p_a+Mom_p_b,0)^2*G^4*Nc*Cf+32*P(N1_?,Mom_p_a)^2*P(N2_?,Mom_k_a)^2*P(N3_?,Mom_p_b)^2*P(N4_?,Mom_k_b)^2*Denom(Mom_p_a+Mom_p_b,0)^2*G^4*Nc*Cf+32*P(N1_?,Mom_p_a)*P(N1_?,Mom_p_b)*P(N2_?,Mom_k_a)*P(N2_?,Mom_k_b)*Denom(Mom_p_a+Mom_p_b,0)^2*G^4*Nc*Cf+32*P(N1_?,Mom_k_a)^2*P(N2_?,Mom_p_a)*P(N2_?,Mom_p_b)*P(N3_?,Mom_k_b)^2*Denom(Mom_p_a+Mom_p_b,0)^2*G^4*Nc*Cf'"
      ]
     },
     "execution_count": 27,
     "metadata": {},
     "output_type": "execute_result"
    }
   ],
   "source": [
    "from feynamp.form.lorentz import *\n",
    "m2cd= apply_gammas(m2c)\n",
    "m2cd"
   ]
  },
  {
   "cell_type": "code",
   "execution_count": 28,
   "id": "db056471-8226-44b9-bd88-99dc20d95e1b",
   "metadata": {},
   "outputs": [
    {
     "name": "stdout",
     "output_type": "stream",
     "text": [
      "32*Denom(Mom_p_a+Mom_p_b,0)^2*Mom_p_a.Mom_p_a*Mom_k_a.Mom_k_a*Mom_p_b.Mom_p_b*Mom_k_b.Mom_k_b*G^4*Nc*Cf+16*Denom(Mom_p_a+Mom_p_b,0)^2*Mom_p_a.Mom_p_a*Mom_k_a.Mom_k_b*Mom_p_b.Mom_p_b*G^4*Nc*Cf+16*Denom(Mom_p_a+Mom_p_b,0)^2*Mom_p_a.Mom_k_a*Mom_p_b.Mom_k_b*G^4*Nc*Cf+16*Denom(Mom_p_a+Mom_p_b,0)^2*Mom_p_a.Mom_p_b*Mom_k_a.Mom_k_a*Mom_k_b.Mom_k_b*G^4*Nc*Cf+16*Denom(Mom_p_a+Mom_p_b,0)^2*Mom_p_a.Mom_k_b*Mom_k_a.Mom_p_b*G^4*Nc*Cf\n",
      "\n",
      "32*Den(Mom_p_a.Mom_p_a+2*Mom_p_a.Mom_p_b+Mom_p_b.Mom_p_b)^2*Mom_p_a.Mom_p_a*Mom_p_b.Mom_p_b*Mom_k_a.Mom_k_a*Mom_k_b.Mom_k_b*G^4*Nc*Cf+16*Den(Mom_p_a.Mom_p_a+2*Mom_p_a.Mom_p_b+Mom_p_b.Mom_p_b)^2*Mom_p_a.Mom_p_a*Mom_p_b.Mom_p_b*Mom_k_a.Mom_k_b*G^4*Nc*Cf+16*Den(Mom_p_a.Mom_p_a+2*Mom_p_a.Mom_p_b+Mom_p_b.Mom_p_b)^2*Mom_p_a.Mom_p_b*Mom_k_a.Mom_k_a*Mom_k_b.Mom_k_b*G^4*Nc*Cf+16*Den(Mom_p_a.Mom_p_a+2*Mom_p_a.Mom_p_b+Mom_p_b.Mom_p_b)^2*Mom_p_a.Mom_k_a*Mom_p_b.Mom_k_b*G^4*Nc*Cf+16*Den(Mom_p_a.Mom_p_a+2*Mom_p_a.Mom_p_b+Mom_p_b.Mom_p_b)^2*Mom_p_a.Mom_k_b*Mom_p_b.Mom_k_a*G^4*Nc*Cf\n"
     ]
    }
   ],
   "source": [
    "import feynamp.form.momentum as m\n",
    "import importlib\n",
    "importlib.reload(m)\n",
    "m2cdm = m.apply_momenta(m2cd)\n",
    "print(m2cdm)\n",
    "print()\n",
    "m2cdmd = m.apply_denominators(m2cdm)\n",
    "print(m2cdmd)"
   ]
  },
  {
   "cell_type": "code",
   "execution_count": 29,
   "id": "caa47e32-e768-4913-996f-d6493fd694bc",
   "metadata": {},
   "outputs": [
    {
     "data": {
      "text/plain": [
       "'16*Den(Mom_p_a.Mom_p_a+2*Mom_p_a.Mom_p_b+Mom_p_b.Mom_p_b)^2*Mom_p_a.Mom_k_a*Mom_p_b.Mom_k_b*G^4*Nc*Cf+16*Den(Mom_p_a.Mom_p_a+2*Mom_p_a.Mom_p_b+Mom_p_b.Mom_p_b)^2*Mom_p_a.Mom_k_b*Mom_p_b.Mom_k_a*G^4*Nc*Cf'"
      ]
     },
     "execution_count": 29,
     "metadata": {},
     "output_type": "execute_result"
    }
   ],
   "source": [
    "import feynamp.form.momentum as m\n",
    "import importlib\n",
    "importlib.reload(m)\n",
    "r= m.apply_onshell(fd,fm,m2cdmd)\n",
    "r"
   ]
  },
  {
   "cell_type": "code",
   "execution_count": 30,
   "id": "5730d2bf-0e7a-47f6-b75c-4147f2333259",
   "metadata": {},
   "outputs": [
    {
     "data": {
      "text/plain": [
       "'4*Den(Mom_p_a.Mom_p_a+2*Mom_p_a.Mom_p_b+Mom_p_b.Mom_p_b)^2*G^4*Nc*Cf*msu^2+4*Den(Mom_p_a.Mom_p_a+2*Mom_p_a.Mom_p_b+Mom_p_b.Mom_p_b)^2*G^4*Nc*Cf*mst^2'"
      ]
     },
     "execution_count": 30,
     "metadata": {},
     "output_type": "execute_result"
    }
   ],
   "source": [
    "import feynamp.form.momentum as m\n",
    "import importlib\n",
    "importlib.reload(m)\n",
    "rr= m.apply_mandelstamm_2_to_2(fd,fm,r)\n",
    "rr"
   ]
  },
  {
   "cell_type": "code",
   "execution_count": 31,
   "id": "93ba2f2d-249b-40de-bc71-658d72da986d",
   "metadata": {},
   "outputs": [
    {
     "data": {
      "text/plain": [
       "'4*1/(mss)^2*G^4*Nc*Cf*msu^2+4*1/(mss)^2*G^4*Nc*Cf*mst^2'"
      ]
     },
     "execution_count": 31,
     "metadata": {},
     "output_type": "execute_result"
    }
   ],
   "source": [
    "import feynamp.form.momentum as m\n",
    "from  feynamp.form.momentum import * \n",
    "import importlib\n",
    "importlib.reload(m)\n",
    "rrr= m.apply_den(rr,fd,fm,get_onshell(fd,fm) + get_mandelstamm_2_to_2(fd,fm,replace_u=True))\n",
    "rrr"
   ]
  },
  {
   "cell_type": "code",
   "execution_count": null,
   "id": "d6a180db-a0b3-4a0d-9d7f-5c185767566b",
   "metadata": {},
   "outputs": [],
   "source": []
  },
  {
   "cell_type": "code",
   "execution_count": 32,
   "id": "af3a675c-6bc8-432c-8c94-33763d323fec",
   "metadata": {},
   "outputs": [],
   "source": [
    "from sympy.parsing.sympy_parser import parse_expr\n",
    "from sympy import *\n",
    "ret =simplify(parse_expr(rrr.replace(\"Mom_\",\"\").replace(\".\",\"_\").replace(\"^\",\"**\")\n",
    "                    .replace(\"mss\",\"s\")\n",
    "                   .replace(\"msu\",\"u\")\n",
    "                   .replace(\"mst\",\"t\")))"
   ]
  },
  {
   "cell_type": "code",
   "execution_count": 33,
   "id": "a6feba15-0307-4815-960b-3c2a000ae3c6",
   "metadata": {},
   "outputs": [
    {
     "data": {
      "text/latex": [
       "$\\displaystyle \\frac{4 G^{4} \\left(t^{2} + u^{2}\\right)}{9 s^{2}}$"
      ],
      "text/plain": [
       "4*G**4*(t**2 + u**2)/(9*s**2)"
      ]
     },
     "execution_count": 33,
     "metadata": {},
     "output_type": "execute_result"
    }
   ],
   "source": [
    "ret = simplify(ret.subs(\"Nc\",\"3\").subs(\"Cf\",\"4/3\"))/2/2/3/3 # average spins and colors\n",
    "ret"
   ]
  },
  {
   "cell_type": "code",
   "execution_count": null,
   "id": "5d045f7e-192f-4205-a582-1d71ccfcb191",
   "metadata": {},
   "outputs": [],
   "source": []
  },
  {
   "cell_type": "code",
   "execution_count": 34,
   "id": "e6d68b1f-447b-4c84-bb49-cb44bee7af2c",
   "metadata": {},
   "outputs": [
    {
     "data": {
      "text/latex": [
       "$\\displaystyle \\frac{4 G^{4} \\left(t^{2} + u^{2}\\right)}{9 s^{2}}$"
      ],
      "text/plain": [
       "4*G**4*(t**2 + u**2)/(9*s**2)"
      ]
     },
     "execution_count": 34,
     "metadata": {},
     "output_type": "execute_result"
    }
   ],
   "source": [
    "# Ellis stirling and weber QCD and collider physics Tab 7.1\n",
    "# https://feyncalc.github.io/FeynCalcExamplesMD/QCD/Tree/QiQibar-QjQjbar\n",
    "from sympy.parsing.sympy_parser import parse_expr\n",
    "from sympy import *\n",
    "expected = simplify(parse_expr(\"4*G**4*(t**2+u**2)/(9 *s**2)\"))#.subs(\"s\",\"t+u\")\n",
    "expected"
   ]
  },
  {
   "cell_type": "code",
   "execution_count": 35,
   "id": "9a34bc31-c177-4923-8767-f5a15d9cfb51",
   "metadata": {},
   "outputs": [
    {
     "data": {
      "text/plain": [
       "True"
      ]
     },
     "execution_count": 35,
     "metadata": {},
     "output_type": "execute_result"
    }
   ],
   "source": [
    "# comapre\n",
    "ret.equals(expected)"
   ]
  },
  {
   "cell_type": "code",
   "execution_count": null,
   "id": "b8b4230e-9688-449d-8be7-05c83cc59381",
   "metadata": {},
   "outputs": [],
   "source": []
  }
 ],
 "metadata": {
  "kernelspec": {
   "display_name": "Python 3 (ipykernel)",
   "language": "python",
   "name": "python3"
  },
  "language_info": {
   "codemirror_mode": {
    "name": "ipython",
    "version": 3
   },
   "file_extension": ".py",
   "mimetype": "text/x-python",
   "name": "python",
   "nbconvert_exporter": "python",
   "pygments_lexer": "ipython3",
   "version": "3.11.4"
  }
 },
 "nbformat": 4,
 "nbformat_minor": 5
}
