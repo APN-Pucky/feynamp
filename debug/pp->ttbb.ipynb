{
 "cells": [
  {
   "cell_type": "code",
   "execution_count": null,
   "id": "23a4bcd2-6a97-4113-af65-a240cbaf3967",
   "metadata": {},
   "outputs": [],
   "source": [
    "from pyqgraf import qgraf, model\n",
    "from feynml.interface.qgraf import style"
   ]
  },
  {
   "cell_type": "code",
   "execution_count": null,
   "id": "f814bcaf-eae5-418e-a1ed-8dc79d3c217a",
   "metadata": {},
   "outputs": [],
   "source": [
    "from feynmodel.interface.ufo import load_ufo_model\n",
    "from feynmodel.interface.qgraf import feynmodel_to_qgraf\n",
    "fm = load_ufo_model(\"ufo_sm\")\n",
    "fm.remove_object(fm.get_particle(\"G0\"))\n",
    "fm.remove_object(fm.get_particle(\"W+\"))\n",
    "fm.remove_object(fm.get_particle(\"G+\"))\n",
    "#fm.remove_object(fm.get_particle(\"G-\"))\n",
    "fm.remove_object(fm.get_particle(\"Z\"))\n",
    "fm.remove_object(fm.get_particle(\"a\"))\n",
    "fm.remove_object(fm.get_particle(\"H\"))"
   ]
  },
  {
   "cell_type": "code",
   "execution_count": null,
   "id": "e64bc4bd-6fae-454d-a3f4-d3b507e2e474",
   "metadata": {},
   "outputs": [],
   "source": [
    "\n",
    "qfm = feynmodel_to_qgraf(fm, True, False)\n",
    "#fm.particles"
   ]
  },
  {
   "cell_type": "code",
   "execution_count": null,
   "id": "641809a5-9e0b-478a-bb59-0a47f0621f8b",
   "metadata": {},
   "outputs": [],
   "source": [
    "fm.get_particle(\"G+\")"
   ]
  },
  {
   "cell_type": "code",
   "execution_count": null,
   "id": "9d8386f6-444f-4f32-8673-293d05d28ac4",
   "metadata": {},
   "outputs": [],
   "source": [
    "%%time\n",
    "qgraf.install()\n",
    "xml_string = qgraf.run(\"u[p1], u_bar[p2]\",\n",
    "                       \"t[p3], t_bar[p4], b[p5], b_bar[p6]\",\n",
    "                       loops=0,\n",
    "                       loop_momentum=\"l\",\n",
    "                       model = qfm,\n",
    "                       style=style\n",
    "                      )\n",
    "print(xml_string)"
   ]
  },
  {
   "cell_type": "code",
   "execution_count": null,
   "id": "374aeb59-3984-406d-be72-3809c9fb710f",
   "metadata": {},
   "outputs": [],
   "source": [
    "from xsdata.formats.dataclass.parsers import XmlParser\n",
    "from pyfeyn2.feynmandiagram import FeynML\n",
    "\n",
    "parser = XmlParser()\n",
    "fml = parser.from_string(xml_string, FeynML)\n",
    "len(fml.diagrams)"
   ]
  },
  {
   "cell_type": "code",
   "execution_count": null,
   "id": "c8bc943e-34e9-4f84-84b7-222f92fa2ef0",
   "metadata": {},
   "outputs": [],
   "source": [
    "#fml"
   ]
  },
  {
   "cell_type": "code",
   "execution_count": null,
   "id": "2d73f61d-5bdd-4460-911e-1c67f2343558",
   "metadata": {},
   "outputs": [],
   "source": [
    "%time\n",
    "from feynamp.form import compute_squared\n",
    "ret=compute_squared(fml.diagrams, fm, colorcorrelated=False)"
   ]
  },
  {
   "cell_type": "code",
   "execution_count": null,
   "id": "62d5480c-bc77-419c-b03d-93921af83223",
   "metadata": {},
   "outputs": [],
   "source": [
    "symbols = []\n",
    "for r in ret:\n",
    "    symbols += list(r[1].free_symbols)\n",
    "sss= set(symbols)\n",
    "ss = \",\".join([str(s) for s in sss])\n",
    "import sympy\n",
    "exec(f\"{ss} = sympy.symbols(\\\"{ss}\\\")\")\n",
    "for r in tqdm.tqdm(ret):\n",
    "    exec(f\"{r[0]}={r[1]}\")"
   ]
  },
  {
   "cell_type": "code",
   "execution_count": null,
   "id": "4f327be7-9cea-498e-8ca7-34479310179c",
   "metadata": {},
   "outputs": [],
   "source": [
    "TMP"
   ]
  },
  {
   "cell_type": "code",
   "execution_count": null,
   "id": "c27e4f91-d7d7-4246-94c4-cd7d53968e4e",
   "metadata": {},
   "outputs": [],
   "source": [
    "G"
   ]
  },
  {
   "cell_type": "code",
   "execution_count": null,
   "id": "5bee9698-5078-4a1c-b281-5f98bdd223f5",
   "metadata": {},
   "outputs": [],
   "source": [
    "%%time\n",
    "import tqdm\n",
    "start = ret[-1][0]\n",
    "for r in tqdm.tqdm(ret[::-1]):\n",
    "    #print(r[0],\"=>\",r[1])\n",
    "    start = start.subs(r[0],r[1])\n",
    "start"
   ]
  },
  {
   "cell_type": "code",
   "execution_count": null,
   "id": "03efa492-4a21-4d1a-8003-36a377f9ad3d",
   "metadata": {},
   "outputs": [],
   "source": [
    "xml_string = qgraf.run(\"g[p1], g[p2]\",\n",
    "                       \"t[p3], t_bar[p4], b[p5], b_bar[p6], g[p7]\",\n",
    "                       loops=0,\n",
    "                       loop_momentum=\"l\",\n",
    "                       model = qfm,\n",
    "                       style=style\n",
    "                      )"
   ]
  },
  {
   "cell_type": "code",
   "execution_count": null,
   "id": "a42a45b2-2caf-4e5d-bde1-7f04d0c8f3b2",
   "metadata": {},
   "outputs": [],
   "source": [
    "from xsdata.formats.dataclass.parsers import XmlParser\n",
    "from pyfeyn2.feynmandiagram import FeynML\n",
    "\n",
    "parser = XmlParser()\n",
    "fml = parser.from_string(xml_string, FeynML)\n",
    "len(fml.diagrams)"
   ]
  },
  {
   "cell_type": "code",
   "execution_count": null,
   "id": "f3915b12-36a8-4ba7-9ca6-0a18f9095aae",
   "metadata": {},
   "outputs": [],
   "source": [
    "#fml"
   ]
  },
  {
   "cell_type": "code",
   "execution_count": null,
   "id": "3bf30cb6-c36b-4abe-b8f7-4eb569e4edcf",
   "metadata": {},
   "outputs": [],
   "source": [
    "%time\n",
    "from feynamp.form import compute_squared\n",
    "compute_squared(fml.diagrams, fm, colorcorrelated=False)"
   ]
  },
  {
   "cell_type": "code",
   "execution_count": null,
   "id": "b2ac5dd6-f8eb-4ddd-b0f0-22657b85ceb6",
   "metadata": {},
   "outputs": [],
   "source": []
  }
 ],
 "metadata": {
  "kernelspec": {
   "display_name": "Python 3 (ipykernel)",
   "language": "python",
   "name": "python3"
  },
  "language_info": {
   "codemirror_mode": {
    "name": "ipython",
    "version": 3
   },
   "file_extension": ".py",
   "mimetype": "text/x-python",
   "name": "python",
   "nbconvert_exporter": "python",
   "pygments_lexer": "ipython3",
   "version": "3.11.9"
  }
 },
 "nbformat": 4,
 "nbformat_minor": 5
}
