{
 "cells": [
  {
   "cell_type": "code",
   "execution_count": 1,
   "id": "6a60189b-e7d5-478e-811d-634b571c06cb",
   "metadata": {},
   "outputs": [
    {
     "name": "stdout",
     "output_type": "stream",
     "text": [
      "\n",
      "\tPlease cite the following papers if you use this code:\n",
      "\n",
      "      [1] Automatic Feynman graph generation J. Comput. Phys. 105 (1993) 279--289 https://doi.org/10.1006/jcph.1993.1074\n",
      "\n",
      "      [2] Abusing Qgraf Nucl. Instrum. Methods Phys. Res. A 559 (2006) 220--223 https://doi.org/10.1016/j.nima.2005.11.151\n",
      "\n",
      "      [3] Feynman graph generation and propagator mixing, I Comput. Phys. Commun. 269 (2021) 108103 https://doi.org/10.1016/j.cpc.2021.108103\n",
      "\n",
      "\t\n"
     ]
    }
   ],
   "source": [
    "import logging\n",
    "\n",
    "import equation_database.isbn_9780511628788 as ref\n",
    "import sympy\n",
    "from feynml.interface.qgraf import style\n",
    "from feynmodel.interface.qgraf import feynmodel_to_qgraf\n",
    "from feynmodel.interface.ufo import load_ufo_model\n",
    "from pyfeyn2.feynmandiagram import FeynML\n",
    "from pyqgraf import qgraf\n",
    "from xsdata.formats.dataclass.parsers import XmlParser\n",
    "\n",
    "from feynamp.form import compute_squared\n",
    "\n",
    "logger = logging.getLogger(\"feynamp\")\n",
    "logger.setLevel(logging.DEBUG)"
   ]
  },
  {
   "cell_type": "code",
   "execution_count": 2,
   "id": "79ee9c01-3e18-4158-ac8f-0e9c0b38227e",
   "metadata": {},
   "outputs": [
    {
     "data": {
      "image/png": "[encoded data removed]",
      "text/plain": [
       "<wand.image.Image: 5173e21 'PDF' (394x395)>"
      ]
     },
     "metadata": {},
     "output_type": "display_data"
    }
   ],
   "source": [
    "    fm = load_ufo_model(\"ufo_sm\")\n",
    "    qfm = feynmodel_to_qgraf(fm, True, False)\n",
    "\n",
    "    qgraf.install()\n",
    "    xml_string = qgraf.run(\n",
    "        \"e_minus[p1], e_plus[p2]\",\n",
    "        \"gamma[p3], gamma[p4]\",\n",
    "        loops=0,\n",
    "        loop_momentum=\"l\",\n",
    "        model=qfm,\n",
    "        style=style,\n",
    "    )\n",
    "\n",
    "    parser = XmlParser()\n",
    "    fml = parser.from_string(xml_string, FeynML)\n",
    "    fds = [fml.diagrams[\n",
    "           0\n",
    "           \n",
    "          ]]\n",
    "    fds[0]"
   ]
  },
  {
   "cell_type": "code",
   "execution_count": 3,
   "id": "0e48952a-3e88-401f-a4fc-1289c36aa9d2",
   "metadata": {},
   "outputs": [
    {
     "name": "stderr",
     "output_type": "stream",
     "text": [
      "INFO:feynamp:v.color=['1']\n",
      "INFO:feynamp:v.lorentz=[FFV1]\n",
      "DEBUG:feynamp:lor='Gamma(3,2,1)'\n",
      "DEBUG:feynamp:vertex_math=[('-(ee*complex(0,1))', '1', 'Gamma(MuOut1,SpinOutProp1,SpinIn1)')]\n",
      "INFO:feynamp:v.color=['1']\n",
      "INFO:feynamp:v.lorentz=[FFV1]\n",
      "DEBUG:feynamp:lor='Gamma(3,2,1)'\n",
      "DEBUG:feynamp:vertex_math=[('-(ee*complex(0,1))', '1', 'Gamma(MuOut2,SpinIn2,SpinInProp1)')]\n",
      "DEBUG:feynamp:ret='((-(ee*complex(0,1)))*(1)*(Gamma(MuOut1,SpinOutProp1,SpinIn1))) * ((-(ee*complex(0,1)))*(1)*(Gamma(MuOut2,SpinIn2,SpinInProp1))) * (u(SpinIn1,Mom_p1)) * (v(SpinIn2,Mom_p2)) * (eps_star(MuOut1,PolOut1,Mom_p3)*VPol(PolOut1,Mom_p3)) * (eps_star(MuOut2,PolOut2,Mom_p4)*VPol(PolOut2,Mom_p4)) * (complex(0,1)*(P(Mu12,Mom_p1-Mom_p3)*Gamma(Mu12,SpinInProp1,SpinOutProp1) + Mass_Me*GammaId(SpinInProp1,SpinOutProp1))*Denom(Mom_p1-Mom_p3,Mass_Me)) * '\n",
      "INFO:feynamp:v.color=['1']\n",
      "INFO:feynamp:v.lorentz=[FFV1]\n",
      "DEBUG:feynamp:lor='Gamma(3,2,1)'\n",
      "DEBUG:feynamp:vertex_math=[('-(ee*complex(0,1))', '1', 'Gamma(MuLeg17,SpinLeg15,SpinInPropagator19)')]\n",
      "INFO:feynamp:v.color=['1']\n",
      "INFO:feynamp:v.lorentz=[FFV1]\n",
      "DEBUG:feynamp:lor='Gamma(3,2,1)'\n",
      "DEBUG:feynamp:vertex_math=[('-(ee*complex(0,1))', '1', 'Gamma(MuLeg18,SpinOutPropagator19,SpinLeg16)')]\n",
      "DEBUG:feynamp:ret='((-(ee*complex(0,1)))*(1)*(Gamma(MuLeg17,SpinLeg15,SpinInPropagator19))) * ((-(ee*complex(0,1)))*(1)*(Gamma(MuLeg18,SpinOutPropagator19,SpinLeg16))) * (u_bar(SpinLeg15,Mom_p1)) * (v_bar(SpinLeg16,Mom_p2)) * (eps(MuLeg17,PolLeg17,Mom_p3)*VPol(PolLeg17,Mom_p3)) * (eps(MuLeg18,PolLeg18,Mom_p4)*VPol(PolLeg18,Mom_p4)) * (complex(0,1)*(P(Mu24,Mom_p1-Mom_p3)*Gamma(Mu24,SpinInPropagator19,SpinOutPropagator19) + Mass_Me*GammaId(SpinInPropagator19,SpinOutPropagator19))*Denom(Mom_p1-Mom_p3,Mass_Me)) * '\n",
      "DEBUG:feynamp:lst_fd1=['((-(ee*complex(0,1)))*(1)*(Gamma(MuOut1,SpinOutProp1,SpinIn1))) * ((-(ee*complex(0,1)))*(1)*(Gamma(MuOut2,SpinIn2,SpinInProp1))) * (u(SpinIn1,Mom_p1)) * (v(SpinIn2,Mom_p2)) * (eps_star(MuOut1,PolOut1,Mom_p3)*VPol(PolOut1,Mom_p3)) * (eps_star(MuOut2,PolOut2,Mom_p4)*VPol(PolOut2,Mom_p4)) * (complex(0,1)*(P(Mu12,Mom_p1-Mom_p3)*Gamma(Mu12,SpinInProp1,SpinOutProp1) + Mass_Me*GammaId(SpinInProp1,SpinOutProp1))*Denom(Mom_p1-Mom_p3,Mass_Me))']\n",
      "DEBUG:feynamp:lst_fd2=['((-(ee*complex(0,-1)))*(1)*(Gamma(MuLeg17,SpinLeg15,SpinInPropagator19))) * ((-(ee*complex(0,-1)))*(1)*(Gamma(MuLeg18,SpinOutPropagator19,SpinLeg16))) * (u_bar(SpinLeg15,Mom_p1)) * (v_bar(SpinLeg16,Mom_p2)) * (eps(MuLeg17,PolLeg17,Mom_p3)*VPol(PolLeg17,Mom_p3)) * (eps(MuLeg18,PolLeg18,Mom_p4)*VPol(PolLeg18,Mom_p4)) * (complex(0,-1)*(P(Mu24,Mom_p1-Mom_p3)*Gamma(Mu24,SpinInPropagator19,SpinOutPropagator19) + Mass_Me*GammaId(SpinInPropagator19,SpinOutPropagator19))*Denom(Mom_p1-Mom_p3,Mass_Me))']\n",
      "DEBUG:feynamp:ferm_fac=1\n",
      "DEBUG:feynamp:s2=['(((-(ee*complex(0,1)))*(1)*(Gamma(MuOut1,SpinOutProp1,SpinIn1))) * ((-(ee*complex(0,1)))*(1)*(Gamma(MuOut2,SpinIn2,SpinInProp1))) * (u(SpinIn1,Mom_p1)) * (v(SpinIn2,Mom_p2)) * (eps_star(MuOut1,PolOut1,Mom_p3)*VPol(PolOut1,Mom_p3)) * (eps_star(MuOut2,PolOut2,Mom_p4)*VPol(PolOut2,Mom_p4)) * (complex(0,1)*(P(Mu12,Mom_p1-Mom_p3)*Gamma(Mu12,SpinInProp1,SpinOutProp1) + Mass_Me*GammaId(SpinInProp1,SpinOutProp1))*Denom(Mom_p1-Mom_p3,Mass_Me)))*(((-(ee*complex(0,-1)))*(1)*(Gamma(MuLeg17,SpinLeg15,SpinInPropagator19))) * ((-(ee*complex(0,-1)))*(1)*(Gamma(MuLeg18,SpinOutPropagator19,SpinLeg16))) * (u_bar(SpinLeg15,Mom_p1)) * (v_bar(SpinLeg16,Mom_p2)) * (eps(MuLeg17,PolLeg17,Mom_p3)*VPol(PolLeg17,Mom_p3)) * (eps(MuLeg18,PolLeg18,Mom_p4)*VPol(PolLeg18,Mom_p4)) * (complex(0,-1)*(P(Mu24,Mom_p1-Mom_p3)*Gamma(Mu24,SpinInPropagator19,SpinOutPropagator19) + Mass_Me*GammaId(SpinInPropagator19,SpinOutPropagator19))*Denom(Mom_p1-Mom_p3,Mass_Me)))*PREFACTOR*1']\n"
     ]
    },
    {
     "data": {
      "application/vnd.jupyter.widget-view+json": {
       "model_id": "25f0d431dc074e8a8e2fa341d7a4b122",
       "version_major": 2,
       "version_minor": 0
      },
      "text/plain": [
       "QUEUEING TASKS | :   0%|          | 0/1 [00:00<?, ?it/s]"
      ]
     },
     "metadata": {},
     "output_type": "display_data"
    },
    {
     "data": {
      "application/vnd.jupyter.widget-view+json": {
       "model_id": "808d41fcf9934231b9a0467130455d86",
       "version_major": 2,
       "version_minor": 0
      },
      "text/plain": [
       "PROCESSING TASKS | :   0%|          | 0/1 [00:00<?, ?it/s]"
      ]
     },
     "metadata": {},
     "output_type": "display_data"
    },
    {
     "data": {
      "application/vnd.jupyter.widget-view+json": {
       "model_id": "1bdb85bca0ba4733ae119c177bdeba5e",
       "version_major": 2,
       "version_minor": 0
      },
      "text/plain": [
       "COLLECTING RESULTS | :   0%|          | 0/1 [00:00<?, ?it/s]"
      ]
     },
     "metadata": {},
     "output_type": "display_data"
    },
    {
     "name": "stderr",
     "output_type": "stream",
     "text": [
      "DEBUG:feynamp:pol_sums: \n",
      "    repeat;\n",
      "    id VPol(Polb?,Moma?) * VPol(Pold?,Moma?) = d_(Polb,Pold);\n",
      "    endrepeat;\n",
      "    \n",
      "    id epsstar(Muc?,Polb?,Mom_p3) * eps(Mul?,Polb?,Mom_p3) = -Metric(Mul,Muc);\n",
      "    \n",
      "    id epsstar(Muc?,Polb?,Mom_p4) * eps(Mul?,Polb?,Mom_p4) = -Metric(Mul,Muc);\n",
      "    \n"
     ]
    },
    {
     "data": {
      "application/vnd.jupyter.widget-view+json": {
       "model_id": "a8d7b1cef35144c8addabb19f6971632",
       "version_major": 2,
       "version_minor": 0
      },
      "text/plain": [
       "QUEUEING TASKS | :   0%|          | 0/1 [00:00<?, ?it/s]"
      ]
     },
     "metadata": {},
     "output_type": "display_data"
    },
    {
     "data": {
      "application/vnd.jupyter.widget-view+json": {
       "model_id": "9ebeffe172944ced9a36ba0edb3d2009",
       "version_major": 2,
       "version_minor": 0
      },
      "text/plain": [
       "PROCESSING TASKS | :   0%|          | 0/1 [00:00<?, ?it/s]"
      ]
     },
     "metadata": {},
     "output_type": "display_data"
    },
    {
     "data": {
      "application/vnd.jupyter.widget-view+json": {
       "model_id": "eaa27bc877374c0b95a1b1df339bb410",
       "version_major": 2,
       "version_minor": 0
      },
      "text/plain": [
       "COLLECTING RESULTS | :   0%|          | 0/1 [00:00<?, ?it/s]"
      ]
     },
     "metadata": {},
     "output_type": "display_data"
    },
    {
     "name": "stderr",
     "output_type": "stream",
     "text": [
      "DEBUG:feynamp:rs='(8*Den(-Mass_Me^2+Mom_p1.Mom_p1-2*Mom_p1.Mom_p3+Mom_p3.Mom_p3)^2*ee^4*PREFACTOR*ms_t*ms_u-24*Den(-Mass_Me^2+Mom_p1.Mom_p1-2*Mom_p1.Mom_p3+Mom_p3.Mom_p3)^2*ee^4*PREFACTOR*Mass_Me^2*ms_u-40*Den(-Mass_Me^2+Mom_p1.Mom_p1-2*Mom_p1.Mom_p3+Mom_p3.Mom_p3)^2*ee^4*PREFACTOR*Mass_Me^2*ms_t-16*Den(-Mass_Me^2+Mom_p1.Mom_p1-2*Mom_p1.Mom_p3+Mom_p3.Mom_p3)^2*ee^4*PREFACTOR*Mass_Me^2*ms_s+24*Den(-Mass_Me^2+Mom_p1.Mom_p1-2*Mom_p1.Mom_p3+Mom_p3.Mom_p3)^2*ee^4*PREFACTOR*Mass_Me^4)'\n"
     ]
    },
    {
     "data": {
      "application/vnd.jupyter.widget-view+json": {
       "model_id": "a1455d95c76d44769d1f1c9337f33450",
       "version_major": 2,
       "version_minor": 0
      },
      "text/plain": [
       "QUEUEING TASKS | :   0%|          | 0/1 [00:00<?, ?it/s]"
      ]
     },
     "metadata": {},
     "output_type": "display_data"
    },
    {
     "data": {
      "application/vnd.jupyter.widget-view+json": {
       "model_id": "604e5fdf0af848c382abb96da551d814",
       "version_major": 2,
       "version_minor": 0
      },
      "text/plain": [
       "PROCESSING TASKS | :   0%|          | 0/1 [00:00<?, ?it/s]"
      ]
     },
     "metadata": {},
     "output_type": "display_data"
    },
    {
     "data": {
      "application/vnd.jupyter.widget-view+json": {
       "model_id": "ab19e713d85b4f2ca2e02d7c76a341f0",
       "version_major": 2,
       "version_minor": 0
      },
      "text/plain": [
       "COLLECTING RESULTS | :   0%|          | 0/1 [00:00<?, ?it/s]"
      ]
     },
     "metadata": {},
     "output_type": "display_data"
    },
    {
     "name": "stderr",
     "output_type": "stream",
     "text": [
      "DEBUG:feynamp:rr='(8*1/(ms_t-Mass_Me^2)^2*ee^4*PREFACTOR*ms_t*ms_u-24*1/(ms_t-Mass_Me^2)^2*ee^4*PREFACTOR*Mass_Me^2*ms_u-40*1/(ms_t-Mass_Me^2)^2*ee^4*PREFACTOR*Mass_Me^2*ms_t-16*1/(ms_t-Mass_Me^2)^2*ee^4*PREFACTOR*Mass_Me^2*ms_s+24*1/(ms_t-Mass_Me^2)^2*ee^4*PREFACTOR*Mass_Me^4)'\n",
      "DEBUG:feynamp:get_color_average():['1', '1']\n",
      "DEBUG:feynamp:get_spin_average():['1/2', '1/2']\n"
     ]
    },
    {
     "data": {
      "text/latex": [
       "$\\displaystyle \\frac{2 ee^{4} \\cdot \\left(3 Mass_{Me}^{4} - 2 Mass_{Me}^{2} ms_{s} - 5 Mass_{Me}^{2} ms_{t} - 3 Mass_{Me}^{2} ms_{u} + ms_{t} ms_{u}\\right)}{\\left(Mass_{Me}^{2} - ms_{t}\\right)^{2}}$"
      ],
      "text/plain": [
       "2*ee**4*(3*Mass_Me**4 - 2*Mass_Me**2*ms_s - 5*Mass_Me**2*ms_t - 3*Mass_Me**2*ms_u + ms_t*ms_u)/(Mass_Me**2 - ms_t)**2"
      ]
     },
     "execution_count": 3,
     "metadata": {},
     "output_type": "execute_result"
    }
   ],
   "source": [
    "born = compute_squared(fds, fm, colorcorrelated=False)\n",
    "born"
   ]
  },
  {
   "cell_type": "code",
   "execution_count": 4,
   "id": "69bf175f-fb3c-4e0a-aadd-9b235cf236df",
   "metadata": {},
   "outputs": [
    {
     "name": "stderr",
     "output_type": "stream",
     "text": [
      "INFO:feynamp:v.color=['1']\n",
      "INFO:feynamp:v.lorentz=[FFV1]\n",
      "DEBUG:feynamp:lor='Gamma(3,2,1)'\n",
      "DEBUG:feynamp:vertex_math=[('-(ee*complex(0,1))', '1', 'Gamma(MuOut1,SpinOutProp1,SpinIn1)')]\n",
      "INFO:feynamp:v.color=['1']\n",
      "INFO:feynamp:v.lorentz=[FFV1]\n",
      "DEBUG:feynamp:lor='Gamma(3,2,1)'\n",
      "DEBUG:feynamp:vertex_math=[('-(ee*complex(0,1))', '1', 'Gamma(MuOut2,SpinIn2,SpinInProp1)')]\n",
      "DEBUG:feynamp:ret='((-(ee*complex(0,1)))*(1)*(Gamma(MuOut1,SpinOutProp1,SpinIn1))) * ((-(ee*complex(0,1)))*(1)*(Gamma(MuOut2,SpinIn2,SpinInProp1))) * (u(SpinIn1,Mom_p1)) * (v(SpinIn2,Mom_p2)) * (eps_star(MuOut1,PolOut1,Mom_p3)*VPol(PolOut1,Mom_p3)) * (eps_star(MuOut2,PolOut2,Mom_p4)*VPol(PolOut2,Mom_p4)) * (complex(0,1)*(P(Mu29,Mom_p1-Mom_p3)*Gamma(Mu29,SpinInProp1,SpinOutProp1) + Mass_Me*GammaId(SpinInProp1,SpinOutProp1))*Denom(Mom_p1-Mom_p3,Mass_Me)) * '\n",
      "INFO:feynamp:v.color=['1']\n",
      "INFO:feynamp:v.lorentz=[FFV1]\n",
      "DEBUG:feynamp:lor='Gamma(3,2,1)'\n",
      "DEBUG:feynamp:vertex_math=[('-(ee*complex(0,1))', '1', 'Gamma(MuLeg34,SpinLeg32,SpinInPropagator36)')]\n",
      "INFO:feynamp:v.color=['1']\n",
      "INFO:feynamp:v.lorentz=[FFV1]\n",
      "DEBUG:feynamp:lor='Gamma(3,2,1)'\n",
      "DEBUG:feynamp:vertex_math=[('-(ee*complex(0,1))', '1', 'Gamma(MuLeg35,SpinOutPropagator36,SpinLeg33)')]\n",
      "DEBUG:feynamp:ret='((-(ee*complex(0,1)))*(1)*(Gamma(MuLeg34,SpinLeg32,SpinInPropagator36))) * ((-(ee*complex(0,1)))*(1)*(Gamma(MuLeg35,SpinOutPropagator36,SpinLeg33))) * (u_bar(SpinLeg32,Mom_p1)) * (v_bar(SpinLeg33,Mom_p2)) * (eps(MuLeg34,PolLeg34,Mom_p3)*VPol(PolLeg34,Mom_p3)) * (eps(MuLeg35,PolLeg35,Mom_p4)*VPol(PolLeg35,Mom_p4)) * (complex(0,1)*(P(Mu41,Mom_p1-Mom_p3)*Gamma(Mu41,SpinInPropagator36,SpinOutPropagator36) + Mass_Me*GammaId(SpinInPropagator36,SpinOutPropagator36))*Denom(Mom_p1-Mom_p3,Mass_Me)) * '\n",
      "DEBUG:feynamp:lst_fd1=['((-(ee*complex(0,1)))*(1)*(Gamma(MuOut1,SpinOutProp1,SpinIn1))) * ((-(ee*complex(0,1)))*(1)*(Gamma(MuOut2,SpinIn2,SpinInProp1))) * (u(SpinIn1,Mom_p1)) * (v(SpinIn2,Mom_p2)) * (eps_star(MuOut1,PolOut1,Mom_p3)*VPol(PolOut1,Mom_p3)) * (eps_star(MuOut2,PolOut2,Mom_p4)*VPol(PolOut2,Mom_p4)) * (complex(0,1)*(P(Mu29,Mom_p1-Mom_p3)*Gamma(Mu29,SpinInProp1,SpinOutProp1) + Mass_Me*GammaId(SpinInProp1,SpinOutProp1))*Denom(Mom_p1-Mom_p3,Mass_Me))']\n",
      "DEBUG:feynamp:lst_fd2=['((-(ee*complex(0,-1)))*(1)*(Gamma(MuLeg34,SpinLeg32,SpinInPropagator36))) * ((-(ee*complex(0,-1)))*(1)*(Gamma(MuLeg35,SpinOutPropagator36,SpinLeg33))) * (u_bar(SpinLeg32,Mom_p1)) * (v_bar(SpinLeg33,Mom_p2)) * (eps(MuLeg34,PolLeg34,Mom_p3)*VPol(PolLeg34,Mom_p3)) * (eps(MuLeg35,PolLeg35,Mom_p4)*VPol(PolLeg35,Mom_p4)) * (complex(0,-1)*(P(Mu41,Mom_p1-Mom_p3)*Gamma(Mu41,SpinInPropagator36,SpinOutPropagator36) + Mass_Me*GammaId(SpinInPropagator36,SpinOutPropagator36))*Denom(Mom_p1-Mom_p3,Mass_Me))']\n",
      "DEBUG:feynamp:ferm_fac=1\n",
      "DEBUG:feynamp:s2=['(((-(ee*complex(0,1)))*(1)*(Gamma(MuOut1,SpinOutProp1,SpinIn1))) * ((-(ee*complex(0,1)))*(1)*(Gamma(MuOut2,SpinIn2,SpinInProp1))) * (u(SpinIn1,Mom_p1)) * (v(SpinIn2,Mom_p2)) * (eps_star(MuOut1,PolOut1,Mom_p3)*VPol(PolOut1,Mom_p3)) * (eps_star(MuOut2,PolOut2,Mom_p4)*VPol(PolOut2,Mom_p4)) * (complex(0,1)*(P(Mu29,Mom_p1-Mom_p3)*Gamma(Mu29,SpinInProp1,SpinOutProp1) + Mass_Me*GammaId(SpinInProp1,SpinOutProp1))*Denom(Mom_p1-Mom_p3,Mass_Me)))*(((-(ee*complex(0,-1)))*(1)*(Gamma(MuLeg34,SpinLeg32,SpinInPropagator36))) * ((-(ee*complex(0,-1)))*(1)*(Gamma(MuLeg35,SpinOutPropagator36,SpinLeg33))) * (u_bar(SpinLeg32,Mom_p1)) * (v_bar(SpinLeg33,Mom_p2)) * (eps(MuLeg34,PolLeg34,Mom_p3)*VPol(PolLeg34,Mom_p3)) * (eps(MuLeg35,PolLeg35,Mom_p4)*VPol(PolLeg35,Mom_p4)) * (complex(0,-1)*(P(Mu41,Mom_p1-Mom_p3)*Gamma(Mu41,SpinInPropagator36,SpinOutPropagator36) + Mass_Me*GammaId(SpinInPropagator36,SpinOutPropagator36))*Denom(Mom_p1-Mom_p3,Mass_Me)))*PREFACTOR*1']\n"
     ]
    },
    {
     "data": {
      "application/vnd.jupyter.widget-view+json": {
       "model_id": "6feb015e52c54360824cf2b3909d01df",
       "version_major": 2,
       "version_minor": 0
      },
      "text/plain": [
       "QUEUEING TASKS | :   0%|          | 0/1 [00:00<?, ?it/s]"
      ]
     },
     "metadata": {},
     "output_type": "display_data"
    },
    {
     "data": {
      "application/vnd.jupyter.widget-view+json": {
       "model_id": "dc87356e7f55453d9c0decf3fe0bf733",
       "version_major": 2,
       "version_minor": 0
      },
      "text/plain": [
       "PROCESSING TASKS | :   0%|          | 0/1 [00:00<?, ?it/s]"
      ]
     },
     "metadata": {},
     "output_type": "display_data"
    },
    {
     "data": {
      "application/vnd.jupyter.widget-view+json": {
       "model_id": "9110fa12e43b49dcb321f767b9adc961",
       "version_major": 2,
       "version_minor": 0
      },
      "text/plain": [
       "COLLECTING RESULTS | :   0%|          | 0/1 [00:00<?, ?it/s]"
      ]
     },
     "metadata": {},
     "output_type": "display_data"
    },
    {
     "name": "stderr",
     "output_type": "stream",
     "text": [
      "DEBUG:feynamp:pol_sums: \n",
      "        id VPol(PolOut1,Mom_p3)*VPol(PolN7?,Mom_p3)*VPol(PolOut2,Mom_p4)*VPol(PolN8?,Mom_p4) = (\n",
      "spincorrelation(Mom_p3,scMuMu,scMuNu)*eps(MuMu,PolOut1,Mom_p3)*epsstar(MuNu,PolN7,Mom_p3)*d_(PolOut2,PolN8)+\n",
      "spincorrelation(Mom_p4,scMuMu,scMuNu)*eps(MuMu,PolOut2,Mom_p4)*epsstar(MuNu,PolN8,Mom_p4)*d_(PolOut1,PolN7));\n",
      "        \n",
      "    id epsstar(Muc?,Polb?,Mom_p3) * eps(Mul?,Polb?,Mom_p3) = -Metric(Mul,Muc);\n",
      "    \n",
      "    id epsstar(Muc?,Polb?,Mom_p4) * eps(Mul?,Polb?,Mom_p4) = -Metric(Mul,Muc);\n",
      "    \n"
     ]
    },
    {
     "name": "stdout",
     "output_type": "stream",
     "text": [
      "pol_sums='\\n        id VPol(PolOut1,Mom_p3)*VPol(PolN7?,Mom_p3)*VPol(PolOut2,Mom_p4)*VPol(PolN8?,Mom_p4) = (\\nspincorrelation(Mom_p3,scMuMu,scMuNu)*eps(MuMu,PolOut1,Mom_p3)*epsstar(MuNu,PolN7,Mom_p3)*d_(PolOut2,PolN8)+\\nspincorrelation(Mom_p4,scMuMu,scMuNu)*eps(MuMu,PolOut2,Mom_p4)*epsstar(MuNu,PolN8,Mom_p4)*d_(PolOut1,PolN7));\\n        '\n"
     ]
    },
    {
     "data": {
      "application/vnd.jupyter.widget-view+json": {
       "model_id": "e806c708d30c4231887b180b2ab26ca2",
       "version_major": 2,
       "version_minor": 0
      },
      "text/plain": [
       "QUEUEING TASKS | :   0%|          | 0/1 [00:00<?, ?it/s]"
      ]
     },
     "metadata": {},
     "output_type": "display_data"
    },
    {
     "data": {
      "application/vnd.jupyter.widget-view+json": {
       "model_id": "0ee841c9bb8d48b094d58346bd55cc5c",
       "version_major": 2,
       "version_minor": 0
      },
      "text/plain": [
       "PROCESSING TASKS | :   0%|          | 0/1 [00:00<?, ?it/s]"
      ]
     },
     "metadata": {},
     "output_type": "display_data"
    },
    {
     "data": {
      "application/vnd.jupyter.widget-view+json": {
       "model_id": "68c1120533a7495bbf486009d19aae1d",
       "version_major": 2,
       "version_minor": 0
      },
      "text/plain": [
       "COLLECTING RESULTS | :   0%|          | 0/1 [00:00<?, ?it/s]"
      ]
     },
     "metadata": {},
     "output_type": "display_data"
    },
    {
     "name": "stderr",
     "output_type": "stream",
     "text": [
      "DEBUG:feynamp:rs='(8*spincorrelation(Mom_p3,scMuMu,scMuNu)*P(MuMu,Mom_p1-Mom_p3)*P(MuNu,Mom_p1)*Den(-Mass_Me^2+Mom_p1.Mom_p1-2*Mom_p1.Mom_p3+Mom_p3.Mom_p3)^2*ee^4*PREFACTOR*ms_u+8*spincorrelation(Mom_p3,scMuMu,scMuNu)*P(MuMu,Mom_p1-Mom_p3)*P(MuNu,Mom_p1)*Den(-Mass_Me^2+Mom_p1.Mom_p1-2*Mom_p1.Mom_p3+Mom_p3.Mom_p3)^2*ee^4*PREFACTOR*ms_s+8*spincorrelation(Mom_p3,scMuMu,scMuNu)*P(MuMu,Mom_p1-Mom_p3)*P(MuNu,Mom_p1)*Den(-Mass_Me^2+Mom_p1.Mom_p1-2*Mom_p1.Mom_p3+Mom_p3.Mom_p3)^2*ee^4*PREFACTOR*Mass_Me^2+8*spincorrelation(Mom_p3,scMuMu,scMuNu)*P(MuMu,Mom_p1)*P(MuNu,Mom_p1-Mom_p3)*Den(-Mass_Me^2+Mom_p1.Mom_p1-2*Mom_p1.Mom_p3+Mom_p3.Mom_p3)^2*ee^4*PREFACTOR*ms_u+8*spincorrelation(Mom_p3,scMuMu,scMuNu)*P(MuMu,Mom_p1)*P(MuNu,Mom_p1-Mom_p3)*Den(-Mass_Me^2+Mom_p1.Mom_p1-2*Mom_p1.Mom_p3+Mom_p3.Mom_p3)^2*ee^4*PREFACTOR*ms_s+8*spincorrelation(Mom_p3,scMuMu,scMuNu)*P(MuMu,Mom_p1)*P(MuNu,Mom_p1-Mom_p3)*Den(-Mass_Me^2+Mom_p1.Mom_p1-2*Mom_p1.Mom_p3+Mom_p3.Mom_p3)^2*ee^4*PREFACTOR*Mass_Me^2-8*spincorrelation(Mom_p3,scMuMu,scMuNu)*P(MuMu,Mom_p1)*P(MuNu,Mom_p2)*Den(-Mass_Me^2+Mom_p1.Mom_p1-2*Mom_p1.Mom_p3+Mom_p3.Mom_p3)^2*ee^4*PREFACTOR*ms_t+8*spincorrelation(Mom_p3,scMuMu,scMuNu)*P(MuMu,Mom_p1)*P(MuNu,Mom_p2)*Den(-Mass_Me^2+Mom_p1.Mom_p1-2*Mom_p1.Mom_p3+Mom_p3.Mom_p3)^2*ee^4*PREFACTOR*Mass_Me^2-8*spincorrelation(Mom_p3,scMuMu,scMuNu)*P(MuMu,Mom_p2)*P(MuNu,Mom_p1)*Den(-Mass_Me^2+Mom_p1.Mom_p1-2*Mom_p1.Mom_p3+Mom_p3.Mom_p3)^2*ee^4*PREFACTOR*ms_t+8*spincorrelation(Mom_p3,scMuMu,scMuNu)*P(MuMu,Mom_p2)*P(MuNu,Mom_p1)*Den(-Mass_Me^2+Mom_p1.Mom_p1-2*Mom_p1.Mom_p3+Mom_p3.Mom_p3)^2*ee^4*PREFACTOR*Mass_Me^2-4*spincorrelation(Mom_p3,scMuMu,scMuNu)*Den(-Mass_Me^2+Mom_p1.Mom_p1-2*Mom_p1.Mom_p3+Mom_p3.Mom_p3)^2*d_(MuMu,MuNu)*ee^4*PREFACTOR*ms_t*ms_u+4*spincorrelation(Mom_p3,scMuMu,scMuNu)*Den(-Mass_Me^2+Mom_p1.Mom_p1-2*Mom_p1.Mom_p3+Mom_p3.Mom_p3)^2*d_(MuMu,MuNu)*ee^4*PREFACTOR*Mass_Me^2*ms_u+4*spincorrelation(Mom_p3,scMuMu,scMuNu)*Den(-Mass_Me^2+Mom_p1.Mom_p1-2*Mom_p1.Mom_p3+Mom_p3.Mom_p3)^2*d_(MuMu,MuNu)*ee^4*PREFACTOR*Mass_Me^2*ms_t-4*spincorrelation(Mom_p3,scMuMu,scMuNu)*Den(-Mass_Me^2+Mom_p1.Mom_p1-2*Mom_p1.Mom_p3+Mom_p3.Mom_p3)^2*d_(MuMu,MuNu)*ee^4*PREFACTOR*Mass_Me^4+8*spincorrelation(Mom_p4,scMuMu,scMuNu)*P(MuMu,Mom_p1-Mom_p3)*P(MuNu,Mom_p2)*Den(-Mass_Me^2+Mom_p1.Mom_p1-2*Mom_p1.Mom_p3+Mom_p3.Mom_p3)^2*ee^4*PREFACTOR*ms_t-24*spincorrelation(Mom_p4,scMuMu,scMuNu)*P(MuMu,Mom_p1-Mom_p3)*P(MuNu,Mom_p2)*Den(-Mass_Me^2+Mom_p1.Mom_p1-2*Mom_p1.Mom_p3+Mom_p3.Mom_p3)^2*ee^4*PREFACTOR*Mass_Me^2-8*spincorrelation(Mom_p4,scMuMu,scMuNu)*P(MuMu,Mom_p1)*P(MuNu,Mom_p2)*Den(-Mass_Me^2+Mom_p1.Mom_p1-2*Mom_p1.Mom_p3+Mom_p3.Mom_p3)^2*ee^4*PREFACTOR*ms_t+8*spincorrelation(Mom_p4,scMuMu,scMuNu)*P(MuMu,Mom_p1)*P(MuNu,Mom_p2)*Den(-Mass_Me^2+Mom_p1.Mom_p1-2*Mom_p1.Mom_p3+Mom_p3.Mom_p3)^2*ee^4*PREFACTOR*Mass_Me^2+8*spincorrelation(Mom_p4,scMuMu,scMuNu)*P(MuMu,Mom_p2)*P(MuNu,Mom_p1-Mom_p3)*Den(-Mass_Me^2+Mom_p1.Mom_p1-2*Mom_p1.Mom_p3+Mom_p3.Mom_p3)^2*ee^4*PREFACTOR*ms_t-24*spincorrelation(Mom_p4,scMuMu,scMuNu)*P(MuMu,Mom_p2)*P(MuNu,Mom_p1-Mom_p3)*Den(-Mass_Me^2+Mom_p1.Mom_p1-2*Mom_p1.Mom_p3+Mom_p3.Mom_p3)^2*ee^4*PREFACTOR*Mass_Me^2-8*spincorrelation(Mom_p4,scMuMu,scMuNu)*P(MuMu,Mom_p2)*P(MuNu,Mom_p1)*Den(-Mass_Me^2+Mom_p1.Mom_p1-2*Mom_p1.Mom_p3+Mom_p3.Mom_p3)^2*ee^4*PREFACTOR*ms_t+8*spincorrelation(Mom_p4,scMuMu,scMuNu)*P(MuMu,Mom_p2)*P(MuNu,Mom_p1)*Den(-Mass_Me^2+Mom_p1.Mom_p1-2*Mom_p1.Mom_p3+Mom_p3.Mom_p3)^2*ee^4*PREFACTOR*Mass_Me^2-4*spincorrelation(Mom_p4,scMuMu,scMuNu)*Den(-Mass_Me^2+Mom_p1.Mom_p1-2*Mom_p1.Mom_p3+Mom_p3.Mom_p3)^2*d_(MuMu,MuNu)*ee^4*PREFACTOR*ms_t*ms_u+12*spincorrelation(Mom_p4,scMuMu,scMuNu)*Den(-Mass_Me^2+Mom_p1.Mom_p1-2*Mom_p1.Mom_p3+Mom_p3.Mom_p3)^2*d_(MuMu,MuNu)*ee^4*PREFACTOR*Mass_Me^2*ms_u+12*spincorrelation(Mom_p4,scMuMu,scMuNu)*Den(-Mass_Me^2+Mom_p1.Mom_p1-2*Mom_p1.Mom_p3+Mom_p3.Mom_p3)^2*d_(MuMu,MuNu)*ee^4*PREFACTOR*Mass_Me^2*ms_t+8*spincorrelation(Mom_p4,scMuMu,scMuNu)*Den(-Mass_Me^2+Mom_p1.Mom_p1-2*Mom_p1.Mom_p3+Mom_p3.Mom_p3)^2*d_(MuMu,MuNu)*ee^4*PREFACTOR*Mass_Me^2*ms_s-20*spincorrelation(Mom_p4,scMuMu,scMuNu)*Den(-Mass_Me^2+Mom_p1.Mom_p1-2*Mom_p1.Mom_p3+Mom_p3.Mom_p3)^2*d_(MuMu,MuNu)*ee^4*PREFACTOR*Mass_Me^4)'\n"
     ]
    },
    {
     "data": {
      "application/vnd.jupyter.widget-view+json": {
       "model_id": "4dd70c63711544de84b4e37b3accf6b9",
       "version_major": 2,
       "version_minor": 0
      },
      "text/plain": [
       "QUEUEING TASKS | :   0%|          | 0/1 [00:00<?, ?it/s]"
      ]
     },
     "metadata": {},
     "output_type": "display_data"
    },
    {
     "data": {
      "application/vnd.jupyter.widget-view+json": {
       "model_id": "f718a43e0a2b4d7bb4e58d5e706a0fd4",
       "version_major": 2,
       "version_minor": 0
      },
      "text/plain": [
       "PROCESSING TASKS | :   0%|          | 0/1 [00:00<?, ?it/s]"
      ]
     },
     "metadata": {},
     "output_type": "display_data"
    },
    {
     "data": {
      "application/vnd.jupyter.widget-view+json": {
       "model_id": "5b102c9325034db79fc1c89bcd5fe1f9",
       "version_major": 2,
       "version_minor": 0
      },
      "text/plain": [
       "COLLECTING RESULTS | :   0%|          | 0/1 [00:00<?, ?it/s]"
      ]
     },
     "metadata": {},
     "output_type": "display_data"
    },
    {
     "name": "stderr",
     "output_type": "stream",
     "text": [
      "DEBUG:feynamp:rr='(8*spincorrelation(Mom_p3,scMuMu,scMuNu)*P(MuMu,Mom_p1-Mom_p3)*P(MuNu,Mom_p1)*1/(ms_t-Mass_Me^2)^2*ee^4*PREFACTOR*ms_u+8*spincorrelation(Mom_p3,scMuMu,scMuNu)*P(MuMu,Mom_p1-Mom_p3)*P(MuNu,Mom_p1)*1/(ms_t-Mass_Me^2)^2*ee^4*PREFACTOR*ms_s+8*spincorrelation(Mom_p3,scMuMu,scMuNu)*P(MuMu,Mom_p1-Mom_p3)*P(MuNu,Mom_p1)*1/(ms_t-Mass_Me^2)^2*ee^4*PREFACTOR*Mass_Me^2+8*spincorrelation(Mom_p3,scMuMu,scMuNu)*P(MuMu,Mom_p1)*P(MuNu,Mom_p1-Mom_p3)*1/(ms_t-Mass_Me^2)^2*ee^4*PREFACTOR*ms_u+8*spincorrelation(Mom_p3,scMuMu,scMuNu)*P(MuMu,Mom_p1)*P(MuNu,Mom_p1-Mom_p3)*1/(ms_t-Mass_Me^2)^2*ee^4*PREFACTOR*ms_s+8*spincorrelation(Mom_p3,scMuMu,scMuNu)*P(MuMu,Mom_p1)*P(MuNu,Mom_p1-Mom_p3)*1/(ms_t-Mass_Me^2)^2*ee^4*PREFACTOR*Mass_Me^2-8*spincorrelation(Mom_p3,scMuMu,scMuNu)*P(MuMu,Mom_p1)*P(MuNu,Mom_p2)*1/(ms_t-Mass_Me^2)^2*ee^4*PREFACTOR*ms_t+8*spincorrelation(Mom_p3,scMuMu,scMuNu)*P(MuMu,Mom_p1)*P(MuNu,Mom_p2)*1/(ms_t-Mass_Me^2)^2*ee^4*PREFACTOR*Mass_Me^2-8*spincorrelation(Mom_p3,scMuMu,scMuNu)*P(MuMu,Mom_p2)*P(MuNu,Mom_p1)*1/(ms_t-Mass_Me^2)^2*ee^4*PREFACTOR*ms_t+8*spincorrelation(Mom_p3,scMuMu,scMuNu)*P(MuMu,Mom_p2)*P(MuNu,Mom_p1)*1/(ms_t-Mass_Me^2)^2*ee^4*PREFACTOR*Mass_Me^2-4*spincorrelation(Mom_p3,scMuMu,scMuNu)*1/(ms_t-Mass_Me^2)^2*d_(MuMu,MuNu)*ee^4*PREFACTOR*ms_t*ms_u+4*spincorrelation(Mom_p3,scMuMu,scMuNu)*1/(ms_t-Mass_Me^2)^2*d_(MuMu,MuNu)*ee^4*PREFACTOR*Mass_Me^2*ms_u+4*spincorrelation(Mom_p3,scMuMu,scMuNu)*1/(ms_t-Mass_Me^2)^2*d_(MuMu,MuNu)*ee^4*PREFACTOR*Mass_Me^2*ms_t-4*spincorrelation(Mom_p3,scMuMu,scMuNu)*1/(ms_t-Mass_Me^2)^2*d_(MuMu,MuNu)*ee^4*PREFACTOR*Mass_Me^4+8*spincorrelation(Mom_p4,scMuMu,scMuNu)*P(MuMu,Mom_p1-Mom_p3)*P(MuNu,Mom_p2)*1/(ms_t-Mass_Me^2)^2*ee^4*PREFACTOR*ms_t-24*spincorrelation(Mom_p4,scMuMu,scMuNu)*P(MuMu,Mom_p1-Mom_p3)*P(MuNu,Mom_p2)*1/(ms_t-Mass_Me^2)^2*ee^4*PREFACTOR*Mass_Me^2-8*spincorrelation(Mom_p4,scMuMu,scMuNu)*P(MuMu,Mom_p1)*P(MuNu,Mom_p2)*1/(ms_t-Mass_Me^2)^2*ee^4*PREFACTOR*ms_t+8*spincorrelation(Mom_p4,scMuMu,scMuNu)*P(MuMu,Mom_p1)*P(MuNu,Mom_p2)*1/(ms_t-Mass_Me^2)^2*ee^4*PREFACTOR*Mass_Me^2+8*spincorrelation(Mom_p4,scMuMu,scMuNu)*P(MuMu,Mom_p2)*P(MuNu,Mom_p1-Mom_p3)*1/(ms_t-Mass_Me^2)^2*ee^4*PREFACTOR*ms_t-24*spincorrelation(Mom_p4,scMuMu,scMuNu)*P(MuMu,Mom_p2)*P(MuNu,Mom_p1-Mom_p3)*1/(ms_t-Mass_Me^2)^2*ee^4*PREFACTOR*Mass_Me^2-8*spincorrelation(Mom_p4,scMuMu,scMuNu)*P(MuMu,Mom_p2)*P(MuNu,Mom_p1)*1/(ms_t-Mass_Me^2)^2*ee^4*PREFACTOR*ms_t+8*spincorrelation(Mom_p4,scMuMu,scMuNu)*P(MuMu,Mom_p2)*P(MuNu,Mom_p1)*1/(ms_t-Mass_Me^2)^2*ee^4*PREFACTOR*Mass_Me^2-4*spincorrelation(Mom_p4,scMuMu,scMuNu)*1/(ms_t-Mass_Me^2)^2*d_(MuMu,MuNu)*ee^4*PREFACTOR*ms_t*ms_u+12*spincorrelation(Mom_p4,scMuMu,scMuNu)*1/(ms_t-Mass_Me^2)^2*d_(MuMu,MuNu)*ee^4*PREFACTOR*Mass_Me^2*ms_u+12*spincorrelation(Mom_p4,scMuMu,scMuNu)*1/(ms_t-Mass_Me^2)^2*d_(MuMu,MuNu)*ee^4*PREFACTOR*Mass_Me^2*ms_t+8*spincorrelation(Mom_p4,scMuMu,scMuNu)*1/(ms_t-Mass_Me^2)^2*d_(MuMu,MuNu)*ee^4*PREFACTOR*Mass_Me^2*ms_s-20*spincorrelation(Mom_p4,scMuMu,scMuNu)*1/(ms_t-Mass_Me^2)^2*d_(MuMu,MuNu)*ee^4*PREFACTOR*Mass_Me^4)'\n",
      "DEBUG:feynamp:get_color_average():['1', '1']\n",
      "DEBUG:feynamp:get_spin_average():['1/2', '1/2']\n"
     ]
    },
    {
     "data": {
      "text/latex": [
       "$\\displaystyle \\frac{ee^{4} \\left(- Mass_{Me}^{4} d_{}{\\left(MuMu,MuNu \\right)} \\operatorname{spincorrelation}{\\left(Mom_{p3},scMuMu,scMuNu \\right)} - 5 Mass_{Me}^{4} d_{}{\\left(MuMu,MuNu \\right)} \\operatorname{spincorrelation}{\\left(Mom_{p4},scMuMu,scMuNu \\right)} + 2 Mass_{Me}^{2} ms_{s} d_{}{\\left(MuMu,MuNu \\right)} \\operatorname{spincorrelation}{\\left(Mom_{p4},scMuMu,scMuNu \\right)} + Mass_{Me}^{2} ms_{t} d_{}{\\left(MuMu,MuNu \\right)} \\operatorname{spincorrelation}{\\left(Mom_{p3},scMuMu,scMuNu \\right)} + 3 Mass_{Me}^{2} ms_{t} d_{}{\\left(MuMu,MuNu \\right)} \\operatorname{spincorrelation}{\\left(Mom_{p4},scMuMu,scMuNu \\right)} + Mass_{Me}^{2} ms_{u} d_{}{\\left(MuMu,MuNu \\right)} \\operatorname{spincorrelation}{\\left(Mom_{p3},scMuMu,scMuNu \\right)} + 3 Mass_{Me}^{2} ms_{u} d_{}{\\left(MuMu,MuNu \\right)} \\operatorname{spincorrelation}{\\left(Mom_{p4},scMuMu,scMuNu \\right)} + 2 Mass_{Me}^{2} P{\\left(MuMu,Mom_{p1} \\right)} P{\\left(MuNu,Mom_{p2} \\right)} \\operatorname{spincorrelation}{\\left(Mom_{p3},scMuMu,scMuNu \\right)} + 2 Mass_{Me}^{2} P{\\left(MuMu,Mom_{p1} \\right)} P{\\left(MuNu,Mom_{p2} \\right)} \\operatorname{spincorrelation}{\\left(Mom_{p4},scMuMu,scMuNu \\right)} + 2 Mass_{Me}^{2} P{\\left(MuMu,Mom_{p1} \\right)} P{\\left(MuNu,Mom_{p1} - Mom_{p3} \\right)} \\operatorname{spincorrelation}{\\left(Mom_{p3},scMuMu,scMuNu \\right)} + 2 Mass_{Me}^{2} P{\\left(MuMu,Mom_{p2} \\right)} P{\\left(MuNu,Mom_{p1} \\right)} \\operatorname{spincorrelation}{\\left(Mom_{p3},scMuMu,scMuNu \\right)} + 2 Mass_{Me}^{2} P{\\left(MuMu,Mom_{p2} \\right)} P{\\left(MuNu,Mom_{p1} \\right)} \\operatorname{spincorrelation}{\\left(Mom_{p4},scMuMu,scMuNu \\right)} - 6 Mass_{Me}^{2} P{\\left(MuMu,Mom_{p2} \\right)} P{\\left(MuNu,Mom_{p1} - Mom_{p3} \\right)} \\operatorname{spincorrelation}{\\left(Mom_{p4},scMuMu,scMuNu \\right)} + 2 Mass_{Me}^{2} P{\\left(MuMu,Mom_{p1} - Mom_{p3} \\right)} P{\\left(MuNu,Mom_{p1} \\right)} \\operatorname{spincorrelation}{\\left(Mom_{p3},scMuMu,scMuNu \\right)} - 6 Mass_{Me}^{2} P{\\left(MuMu,Mom_{p1} - Mom_{p3} \\right)} P{\\left(MuNu,Mom_{p2} \\right)} \\operatorname{spincorrelation}{\\left(Mom_{p4},scMuMu,scMuNu \\right)} + 2 ms_{s} P{\\left(MuMu,Mom_{p1} \\right)} P{\\left(MuNu,Mom_{p1} - Mom_{p3} \\right)} \\operatorname{spincorrelation}{\\left(Mom_{p3},scMuMu,scMuNu \\right)} + 2 ms_{s} P{\\left(MuMu,Mom_{p1} - Mom_{p3} \\right)} P{\\left(MuNu,Mom_{p1} \\right)} \\operatorname{spincorrelation}{\\left(Mom_{p3},scMuMu,scMuNu \\right)} - ms_{t} ms_{u} d_{}{\\left(MuMu,MuNu \\right)} \\operatorname{spincorrelation}{\\left(Mom_{p3},scMuMu,scMuNu \\right)} - ms_{t} ms_{u} d_{}{\\left(MuMu,MuNu \\right)} \\operatorname{spincorrelation}{\\left(Mom_{p4},scMuMu,scMuNu \\right)} - 2 ms_{t} P{\\left(MuMu,Mom_{p1} \\right)} P{\\left(MuNu,Mom_{p2} \\right)} \\operatorname{spincorrelation}{\\left(Mom_{p3},scMuMu,scMuNu \\right)} - 2 ms_{t} P{\\left(MuMu,Mom_{p1} \\right)} P{\\left(MuNu,Mom_{p2} \\right)} \\operatorname{spincorrelation}{\\left(Mom_{p4},scMuMu,scMuNu \\right)} - 2 ms_{t} P{\\left(MuMu,Mom_{p2} \\right)} P{\\left(MuNu,Mom_{p1} \\right)} \\operatorname{spincorrelation}{\\left(Mom_{p3},scMuMu,scMuNu \\right)} - 2 ms_{t} P{\\left(MuMu,Mom_{p2} \\right)} P{\\left(MuNu,Mom_{p1} \\right)} \\operatorname{spincorrelation}{\\left(Mom_{p4},scMuMu,scMuNu \\right)} + 2 ms_{t} P{\\left(MuMu,Mom_{p2} \\right)} P{\\left(MuNu,Mom_{p1} - Mom_{p3} \\right)} \\operatorname{spincorrelation}{\\left(Mom_{p4},scMuMu,scMuNu \\right)} + 2 ms_{t} P{\\left(MuMu,Mom_{p1} - Mom_{p3} \\right)} P{\\left(MuNu,Mom_{p2} \\right)} \\operatorname{spincorrelation}{\\left(Mom_{p4},scMuMu,scMuNu \\right)} + 2 ms_{u} P{\\left(MuMu,Mom_{p1} \\right)} P{\\left(MuNu,Mom_{p1} - Mom_{p3} \\right)} \\operatorname{spincorrelation}{\\left(Mom_{p3},scMuMu,scMuNu \\right)} + 2 ms_{u} P{\\left(MuMu,Mom_{p1} - Mom_{p3} \\right)} P{\\left(MuNu,Mom_{p1} \\right)} \\operatorname{spincorrelation}{\\left(Mom_{p3},scMuMu,scMuNu \\right)}\\right)}{\\left(Mass_{Me}^{2} - ms_{t}\\right)^{2}}$"
      ],
      "text/plain": [
       "ee**4*(-Mass_Me**4*d_(MuMu, MuNu)*spincorrelation(Mom_p3, scMuMu, scMuNu) - 5*Mass_Me**4*d_(MuMu, MuNu)*spincorrelation(Mom_p4, scMuMu, scMuNu) + 2*Mass_Me**2*ms_s*d_(MuMu, MuNu)*spincorrelation(Mom_p4, scMuMu, scMuNu) + Mass_Me**2*ms_t*d_(MuMu, MuNu)*spincorrelation(Mom_p3, scMuMu, scMuNu) + 3*Mass_Me**2*ms_t*d_(MuMu, MuNu)*spincorrelation(Mom_p4, scMuMu, scMuNu) + Mass_Me**2*ms_u*d_(MuMu, MuNu)*spincorrelation(Mom_p3, scMuMu, scMuNu) + 3*Mass_Me**2*ms_u*d_(MuMu, MuNu)*spincorrelation(Mom_p4, scMuMu, scMuNu) + 2*Mass_Me**2*P(MuMu, Mom_p1)*P(MuNu, Mom_p2)*spincorrelation(Mom_p3, scMuMu, scMuNu) + 2*Mass_Me**2*P(MuMu, Mom_p1)*P(MuNu, Mom_p2)*spincorrelation(Mom_p4, scMuMu, scMuNu) + 2*Mass_Me**2*P(MuMu, Mom_p1)*P(MuNu, Mom_p1 - Mom_p3)*spincorrelation(Mom_p3, scMuMu, scMuNu) + 2*Mass_Me**2*P(MuMu, Mom_p2)*P(MuNu, Mom_p1)*spincorrelation(Mom_p3, scMuMu, scMuNu) + 2*Mass_Me**2*P(MuMu, Mom_p2)*P(MuNu, Mom_p1)*spincorrelation(Mom_p4, scMuMu, scMuNu) - 6*Mass_Me**2*P(MuMu, Mom_p2)*P(MuNu, Mom_p1 - Mom_p3)*spincorrelation(Mom_p4, scMuMu, scMuNu) + 2*Mass_Me**2*P(MuMu, Mom_p1 - Mom_p3)*P(MuNu, Mom_p1)*spincorrelation(Mom_p3, scMuMu, scMuNu) - 6*Mass_Me**2*P(MuMu, Mom_p1 - Mom_p3)*P(MuNu, Mom_p2)*spincorrelation(Mom_p4, scMuMu, scMuNu) + 2*ms_s*P(MuMu, Mom_p1)*P(MuNu, Mom_p1 - Mom_p3)*spincorrelation(Mom_p3, scMuMu, scMuNu) + 2*ms_s*P(MuMu, Mom_p1 - Mom_p3)*P(MuNu, Mom_p1)*spincorrelation(Mom_p3, scMuMu, scMuNu) - ms_t*ms_u*d_(MuMu, MuNu)*spincorrelation(Mom_p3, scMuMu, scMuNu) - ms_t*ms_u*d_(MuMu, MuNu)*spincorrelation(Mom_p4, scMuMu, scMuNu) - 2*ms_t*P(MuMu, Mom_p1)*P(MuNu, Mom_p2)*spincorrelation(Mom_p3, scMuMu, scMuNu) - 2*ms_t*P(MuMu, Mom_p1)*P(MuNu, Mom_p2)*spincorrelation(Mom_p4, scMuMu, scMuNu) - 2*ms_t*P(MuMu, Mom_p2)*P(MuNu, Mom_p1)*spincorrelation(Mom_p3, scMuMu, scMuNu) - 2*ms_t*P(MuMu, Mom_p2)*P(MuNu, Mom_p1)*spincorrelation(Mom_p4, scMuMu, scMuNu) + 2*ms_t*P(MuMu, Mom_p2)*P(MuNu, Mom_p1 - Mom_p3)*spincorrelation(Mom_p4, scMuMu, scMuNu) + 2*ms_t*P(MuMu, Mom_p1 - Mom_p3)*P(MuNu, Mom_p2)*spincorrelation(Mom_p4, scMuMu, scMuNu) + 2*ms_u*P(MuMu, Mom_p1)*P(MuNu, Mom_p1 - Mom_p3)*spincorrelation(Mom_p3, scMuMu, scMuNu) + 2*ms_u*P(MuMu, Mom_p1 - Mom_p3)*P(MuNu, Mom_p1)*spincorrelation(Mom_p3, scMuMu, scMuNu))/(Mass_Me**2 - ms_t)**2"
      ]
     },
     "execution_count": 4,
     "metadata": {},
     "output_type": "execute_result"
    }
   ],
   "source": [
    "sc = compute_squared(fds, fm, spincorrelated=True)\n",
    "sc"
   ]
  },
  {
   "cell_type": "code",
   "execution_count": 5,
   "id": "fbc910e7-52de-4bc1-9564-3f399d513982",
   "metadata": {},
   "outputs": [
    {
     "data": {
      "text/latex": [
       "$\\displaystyle \\frac{\\frac{Mass_{Me}^{4} d_{}{\\left(MuMu,MuNu \\right)} \\operatorname{spincorrelation}{\\left(Mom_{p3},scMuMu,scMuNu \\right)}}{2} + \\frac{5 Mass_{Me}^{4} d_{}{\\left(MuMu,MuNu \\right)} \\operatorname{spincorrelation}{\\left(Mom_{p4},scMuMu,scMuNu \\right)}}{2} - Mass_{Me}^{2} ms_{s} d_{}{\\left(MuMu,MuNu \\right)} \\operatorname{spincorrelation}{\\left(Mom_{p4},scMuMu,scMuNu \\right)} - \\frac{Mass_{Me}^{2} ms_{t} d_{}{\\left(MuMu,MuNu \\right)} \\operatorname{spincorrelation}{\\left(Mom_{p3},scMuMu,scMuNu \\right)}}{2} - \\frac{3 Mass_{Me}^{2} ms_{t} d_{}{\\left(MuMu,MuNu \\right)} \\operatorname{spincorrelation}{\\left(Mom_{p4},scMuMu,scMuNu \\right)}}{2} - \\frac{Mass_{Me}^{2} ms_{u} d_{}{\\left(MuMu,MuNu \\right)} \\operatorname{spincorrelation}{\\left(Mom_{p3},scMuMu,scMuNu \\right)}}{2} - \\frac{3 Mass_{Me}^{2} ms_{u} d_{}{\\left(MuMu,MuNu \\right)} \\operatorname{spincorrelation}{\\left(Mom_{p4},scMuMu,scMuNu \\right)}}{2} - Mass_{Me}^{2} P{\\left(MuMu,Mom_{p1} \\right)} P{\\left(MuNu,Mom_{p2} \\right)} \\operatorname{spincorrelation}{\\left(Mom_{p3},scMuMu,scMuNu \\right)} - Mass_{Me}^{2} P{\\left(MuMu,Mom_{p1} \\right)} P{\\left(MuNu,Mom_{p2} \\right)} \\operatorname{spincorrelation}{\\left(Mom_{p4},scMuMu,scMuNu \\right)} - Mass_{Me}^{2} P{\\left(MuMu,Mom_{p1} \\right)} P{\\left(MuNu,Mom_{p1} - Mom_{p3} \\right)} \\operatorname{spincorrelation}{\\left(Mom_{p3},scMuMu,scMuNu \\right)} - Mass_{Me}^{2} P{\\left(MuMu,Mom_{p2} \\right)} P{\\left(MuNu,Mom_{p1} \\right)} \\operatorname{spincorrelation}{\\left(Mom_{p3},scMuMu,scMuNu \\right)} - Mass_{Me}^{2} P{\\left(MuMu,Mom_{p2} \\right)} P{\\left(MuNu,Mom_{p1} \\right)} \\operatorname{spincorrelation}{\\left(Mom_{p4},scMuMu,scMuNu \\right)} + 3 Mass_{Me}^{2} P{\\left(MuMu,Mom_{p2} \\right)} P{\\left(MuNu,Mom_{p1} - Mom_{p3} \\right)} \\operatorname{spincorrelation}{\\left(Mom_{p4},scMuMu,scMuNu \\right)} - Mass_{Me}^{2} P{\\left(MuMu,Mom_{p1} - Mom_{p3} \\right)} P{\\left(MuNu,Mom_{p1} \\right)} \\operatorname{spincorrelation}{\\left(Mom_{p3},scMuMu,scMuNu \\right)} + 3 Mass_{Me}^{2} P{\\left(MuMu,Mom_{p1} - Mom_{p3} \\right)} P{\\left(MuNu,Mom_{p2} \\right)} \\operatorname{spincorrelation}{\\left(Mom_{p4},scMuMu,scMuNu \\right)} - ms_{s} P{\\left(MuMu,Mom_{p1} \\right)} P{\\left(MuNu,Mom_{p1} - Mom_{p3} \\right)} \\operatorname{spincorrelation}{\\left(Mom_{p3},scMuMu,scMuNu \\right)} - ms_{s} P{\\left(MuMu,Mom_{p1} - Mom_{p3} \\right)} P{\\left(MuNu,Mom_{p1} \\right)} \\operatorname{spincorrelation}{\\left(Mom_{p3},scMuMu,scMuNu \\right)} + \\frac{ms_{t} ms_{u} d_{}{\\left(MuMu,MuNu \\right)} \\operatorname{spincorrelation}{\\left(Mom_{p3},scMuMu,scMuNu \\right)}}{2} + \\frac{ms_{t} ms_{u} d_{}{\\left(MuMu,MuNu \\right)} \\operatorname{spincorrelation}{\\left(Mom_{p4},scMuMu,scMuNu \\right)}}{2} + ms_{t} P{\\left(MuMu,Mom_{p1} \\right)} P{\\left(MuNu,Mom_{p2} \\right)} \\operatorname{spincorrelation}{\\left(Mom_{p3},scMuMu,scMuNu \\right)} + ms_{t} P{\\left(MuMu,Mom_{p1} \\right)} P{\\left(MuNu,Mom_{p2} \\right)} \\operatorname{spincorrelation}{\\left(Mom_{p4},scMuMu,scMuNu \\right)} + ms_{t} P{\\left(MuMu,Mom_{p2} \\right)} P{\\left(MuNu,Mom_{p1} \\right)} \\operatorname{spincorrelation}{\\left(Mom_{p3},scMuMu,scMuNu \\right)} + ms_{t} P{\\left(MuMu,Mom_{p2} \\right)} P{\\left(MuNu,Mom_{p1} \\right)} \\operatorname{spincorrelation}{\\left(Mom_{p4},scMuMu,scMuNu \\right)} - ms_{t} P{\\left(MuMu,Mom_{p2} \\right)} P{\\left(MuNu,Mom_{p1} - Mom_{p3} \\right)} \\operatorname{spincorrelation}{\\left(Mom_{p4},scMuMu,scMuNu \\right)} - ms_{t} P{\\left(MuMu,Mom_{p1} - Mom_{p3} \\right)} P{\\left(MuNu,Mom_{p2} \\right)} \\operatorname{spincorrelation}{\\left(Mom_{p4},scMuMu,scMuNu \\right)} - ms_{u} P{\\left(MuMu,Mom_{p1} \\right)} P{\\left(MuNu,Mom_{p1} - Mom_{p3} \\right)} \\operatorname{spincorrelation}{\\left(Mom_{p3},scMuMu,scMuNu \\right)} - ms_{u} P{\\left(MuMu,Mom_{p1} - Mom_{p3} \\right)} P{\\left(MuNu,Mom_{p1} \\right)} \\operatorname{spincorrelation}{\\left(Mom_{p3},scMuMu,scMuNu \\right)}}{- 3 Mass_{Me}^{4} + 2 Mass_{Me}^{2} ms_{s} + 5 Mass_{Me}^{2} ms_{t} + 3 Mass_{Me}^{2} ms_{u} - ms_{t} ms_{u}}$"
      ],
      "text/plain": [
       "(Mass_Me**4*d_(MuMu, MuNu)*spincorrelation(Mom_p3, scMuMu, scMuNu)/2 + 5*Mass_Me**4*d_(MuMu, MuNu)*spincorrelation(Mom_p4, scMuMu, scMuNu)/2 - Mass_Me**2*ms_s*d_(MuMu, MuNu)*spincorrelation(Mom_p4, scMuMu, scMuNu) - Mass_Me**2*ms_t*d_(MuMu, MuNu)*spincorrelation(Mom_p3, scMuMu, scMuNu)/2 - 3*Mass_Me**2*ms_t*d_(MuMu, MuNu)*spincorrelation(Mom_p4, scMuMu, scMuNu)/2 - Mass_Me**2*ms_u*d_(MuMu, MuNu)*spincorrelation(Mom_p3, scMuMu, scMuNu)/2 - 3*Mass_Me**2*ms_u*d_(MuMu, MuNu)*spincorrelation(Mom_p4, scMuMu, scMuNu)/2 - Mass_Me**2*P(MuMu, Mom_p1)*P(MuNu, Mom_p2)*spincorrelation(Mom_p3, scMuMu, scMuNu) - Mass_Me**2*P(MuMu, Mom_p1)*P(MuNu, Mom_p2)*spincorrelation(Mom_p4, scMuMu, scMuNu) - Mass_Me**2*P(MuMu, Mom_p1)*P(MuNu, Mom_p1 - Mom_p3)*spincorrelation(Mom_p3, scMuMu, scMuNu) - Mass_Me**2*P(MuMu, Mom_p2)*P(MuNu, Mom_p1)*spincorrelation(Mom_p3, scMuMu, scMuNu) - Mass_Me**2*P(MuMu, Mom_p2)*P(MuNu, Mom_p1)*spincorrelation(Mom_p4, scMuMu, scMuNu) + 3*Mass_Me**2*P(MuMu, Mom_p2)*P(MuNu, Mom_p1 - Mom_p3)*spincorrelation(Mom_p4, scMuMu, scMuNu) - Mass_Me**2*P(MuMu, Mom_p1 - Mom_p3)*P(MuNu, Mom_p1)*spincorrelation(Mom_p3, scMuMu, scMuNu) + 3*Mass_Me**2*P(MuMu, Mom_p1 - Mom_p3)*P(MuNu, Mom_p2)*spincorrelation(Mom_p4, scMuMu, scMuNu) - ms_s*P(MuMu, Mom_p1)*P(MuNu, Mom_p1 - Mom_p3)*spincorrelation(Mom_p3, scMuMu, scMuNu) - ms_s*P(MuMu, Mom_p1 - Mom_p3)*P(MuNu, Mom_p1)*spincorrelation(Mom_p3, scMuMu, scMuNu) + ms_t*ms_u*d_(MuMu, MuNu)*spincorrelation(Mom_p3, scMuMu, scMuNu)/2 + ms_t*ms_u*d_(MuMu, MuNu)*spincorrelation(Mom_p4, scMuMu, scMuNu)/2 + ms_t*P(MuMu, Mom_p1)*P(MuNu, Mom_p2)*spincorrelation(Mom_p3, scMuMu, scMuNu) + ms_t*P(MuMu, Mom_p1)*P(MuNu, Mom_p2)*spincorrelation(Mom_p4, scMuMu, scMuNu) + ms_t*P(MuMu, Mom_p2)*P(MuNu, Mom_p1)*spincorrelation(Mom_p3, scMuMu, scMuNu) + ms_t*P(MuMu, Mom_p2)*P(MuNu, Mom_p1)*spincorrelation(Mom_p4, scMuMu, scMuNu) - ms_t*P(MuMu, Mom_p2)*P(MuNu, Mom_p1 - Mom_p3)*spincorrelation(Mom_p4, scMuMu, scMuNu) - ms_t*P(MuMu, Mom_p1 - Mom_p3)*P(MuNu, Mom_p2)*spincorrelation(Mom_p4, scMuMu, scMuNu) - ms_u*P(MuMu, Mom_p1)*P(MuNu, Mom_p1 - Mom_p3)*spincorrelation(Mom_p3, scMuMu, scMuNu) - ms_u*P(MuMu, Mom_p1 - Mom_p3)*P(MuNu, Mom_p1)*spincorrelation(Mom_p3, scMuMu, scMuNu))/(-3*Mass_Me**4 + 2*Mass_Me**2*ms_s + 5*Mass_Me**2*ms_t + 3*Mass_Me**2*ms_u - ms_t*ms_u)"
      ]
     },
     "execution_count": 5,
     "metadata": {},
     "output_type": "execute_result"
    }
   ],
   "source": [
    "(sc/born).simplify()"
   ]
  },
  {
   "cell_type": "code",
   "execution_count": 6,
   "id": "308d7707-7091-455e-bb19-843484bcb219",
   "metadata": {},
   "outputs": [],
   "source": [
    "from feynamp.test.spincorrelation import assert_spincorrelation\n",
    "\n",
    "assert_spincorrelation(sc/born,fds,fm)"
   ]
  },
  {
   "cell_type": "code",
   "execution_count": null,
   "id": "22b49918-da91-4e1f-8b41-a80fe3024b7a",
   "metadata": {},
   "outputs": [],
   "source": []
  }
 ],
 "metadata": {
  "kernelspec": {
   "display_name": "Python 3 (ipykernel)",
   "language": "python",
   "name": "python3"
  },
  "language_info": {
   "codemirror_mode": {
    "name": "ipython",
    "version": 3
   },
   "file_extension": ".py",
   "mimetype": "text/x-python",
   "name": "python",
   "nbconvert_exporter": "python",
   "pygments_lexer": "ipython3",
   "version": "3.11.9"
  }
 },
 "nbformat": 4,
 "nbformat_minor": 5
}
